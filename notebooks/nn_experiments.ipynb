{
 "cells": [
  {
   "cell_type": "code",
   "execution_count": 1,
   "id": "initial_id",
   "metadata": {
    "execution": {
     "iopub.execute_input": "2025-03-15T09:41:44.174742Z",
     "iopub.status.busy": "2025-03-15T09:41:44.173534Z",
     "iopub.status.idle": "2025-03-15T09:41:44.432091Z",
     "shell.execute_reply": "2025-03-15T09:41:44.431241Z",
     "shell.execute_reply.started": "2025-03-15T09:41:44.174703Z"
    },
    "tags": [],
    "ExecuteTime": {
     "end_time": "2025-05-13T01:11:59.952139Z",
     "start_time": "2025-05-13T01:11:57.526314Z"
    }
   },
   "outputs": [],
   "source": [
    "import numpy as np\n",
    "import pandas as pd\n",
    "import joblib\n",
    "import os\n",
    "import random\n",
    "from tqdm import tqdm\n",
    "from IPython.core.display_functions import clear_output\n",
    "\n",
    "random.seed(5)\n",
    "np.random.seed(5)\n",
    "\n",
    "# Визуализация\n",
    "import matplotlib.pyplot as plt\n",
    "\n",
    "# Torch\n",
    "os.environ['CUDA_LAUNCH_BLOCKING'] = '1'\n",
    "os.environ['TORCH_USE_CUDA_DSA'] = \"1\"\n",
    "import torch\n",
    "from torch import nn\n",
    "import torch.nn.functional as F\n",
    "from torch.utils.data import Dataset\n",
    "from torch.utils.data import DataLoader\n",
    "\n",
    "# Метрики\n",
    "from sklearn.metrics import (r2_score,\n",
    "                             mean_squared_error as MSE,\n",
    "                             mean_absolute_error as MAE)\n",
    "# Разделение выборок\n",
    "from sklearn.model_selection import train_test_split\n",
    "from sklearn.preprocessing import (OrdinalEncoder,\n",
    "                                   OneHotEncoder,\n",
    "                                   StandardScaler)\n",
    "# Создание пайплайна\n",
    "from sklearn.compose import make_column_transformer\n",
    "\n",
    "DATA_PATH = '../data'\n",
    "MODEL_PATH = '../models/'"
   ]
  },
  {
   "cell_type": "markdown",
   "id": "55722875c92a966a",
   "metadata": {},
   "source": [
    "## Загрузка и подготовка данных"
   ]
  },
  {
   "cell_type": "code",
   "execution_count": 2,
   "id": "9047e7c0795f8c2e",
   "metadata": {
    "collapsed": false,
    "execution": {
     "iopub.execute_input": "2025-03-15T09:41:44.434799Z",
     "iopub.status.busy": "2025-03-15T09:41:44.433691Z",
     "iopub.status.idle": "2025-03-15T09:41:48.197023Z",
     "shell.execute_reply": "2025-03-15T09:41:48.195997Z",
     "shell.execute_reply.started": "2025-03-15T09:41:44.434760Z"
    },
    "tags": [],
    "ExecuteTime": {
     "end_time": "2025-05-13T01:12:00.730159Z",
     "start_time": "2025-05-13T01:11:59.953145Z"
    }
   },
   "outputs": [
    {
     "name": "stdout",
     "output_type": "stream",
     "text": [
      "train (122898, 50), test (40966, 50)\n"
     ]
    }
   ],
   "source": [
    "# Загрузим датасет.\n",
    "# Зададим типы данных в колонках.\n",
    "dtypes_of_data = {\n",
    "    'car_make': 'category',\n",
    "    'car_model': 'category',\n",
    "    'car_gen': 'category',\n",
    "    'car_type': 'category',\n",
    "    'car_compl': 'object',\n",
    "    #'ann_date':datetime64[ns],\n",
    "    'car_price': float,\n",
    "    'ann_city': 'category',\n",
    "    'avail': 'category',\n",
    "    'year': int,\n",
    "    'mileage': float,\n",
    "    'color': 'category',\n",
    "    'eng_size': float,\n",
    "    'eng_power': int,\n",
    "    'eng_type': 'category',\n",
    "    'pow_resrv': int,\n",
    "    'options': 'object',\n",
    "    'transmission': 'category',\n",
    "    'drive': 'category',\n",
    "    'st_wheel': 'category',\n",
    "    'count_owner': int,\n",
    "    'original_pts': 'category',\n",
    "    'state_mark': 'category',\n",
    "    'class_auto': 'category',\n",
    "    'door_count': int,\n",
    "    'long': int,\n",
    "    'width': int,\n",
    "    'height': int,\n",
    "    'clearence': int,\n",
    "    'v_tank': int,\n",
    "    'curb_weight': int,\n",
    "    'front_brakes': 'category',\n",
    "    'rear_brakes': 'category',\n",
    "    'max_speed': int,\n",
    "    'acceleration': float,\n",
    "    'fuel_cons': float,\n",
    "    'fuel_brand': 'category',\n",
    "    'engine_loc1': 'category',\n",
    "    'engine_loc2': 'category',\n",
    "    'turbocharg': 'category',\n",
    "    'max_torq': int,\n",
    "    'cyl_count': int,\n",
    "    'seat_count': int,\n",
    "    'v_bag': int,\n",
    "    'acc_capacity': int,\n",
    "    'age': int,\n",
    "    'age_mod': float,\n",
    "    'mileage_mod': float,\n",
    "    'acceleration_mod': float,\n",
    "    'cyl_count_mod': float\n",
    "}\n",
    "try:\n",
    "    train_all = pd.read_csv(os.path.join(DATA_PATH, 'processed_train.csv'),\n",
    "                            dtype=dtypes_of_data, parse_dates=['ann_date'])\n",
    "    test = pd.read_csv(os.path.join(DATA_PATH, 'processed_test.csv'),\n",
    "                       dtype=dtypes_of_data, parse_dates=['ann_date'])\n",
    "except:\n",
    "    print('Changed directory for model to current directory')\n",
    "    train_all = pd.read_csv('processed_train.csv',\n",
    "                            dtype=dtypes_of_data, parse_dates=['ann_date'])\n",
    "    test = pd.read_csv('processed_test.csv',\n",
    "                       dtype=dtypes_of_data, parse_dates=['ann_date'])\n",
    "print(f'train {train_all.shape}, test {test.shape}')"
   ]
  },
  {
   "cell_type": "code",
   "execution_count": 3,
   "id": "7e7faea3897def1d",
   "metadata": {
    "collapsed": false,
    "execution": {
     "iopub.execute_input": "2025-03-15T09:41:48.199311Z",
     "iopub.status.busy": "2025-03-15T09:41:48.198043Z",
     "iopub.status.idle": "2025-03-15T09:41:48.359929Z",
     "shell.execute_reply": "2025-03-15T09:41:48.359173Z",
     "shell.execute_reply.started": "2025-03-15T09:41:48.199272Z"
    },
    "tags": [],
    "ExecuteTime": {
     "end_time": "2025-05-13T01:12:00.773970Z",
     "start_time": "2025-05-13T01:12:00.731167Z"
    }
   },
   "outputs": [],
   "source": [
    "# Уменьшим избыточную разрядность чисел\n",
    "fcols = train_all.select_dtypes('floating').columns\n",
    "icols = train_all.select_dtypes('integer').columns\n",
    "train_all[fcols] = train_all[fcols].apply(pd.to_numeric, downcast='float')\n",
    "train_all[icols] = train_all[icols].apply(pd.to_numeric, downcast='integer')\n",
    "test[fcols] = test[fcols].apply(pd.to_numeric, downcast='float')\n",
    "test[icols] = test[icols].apply(pd.to_numeric, downcast='integer')"
   ]
  },
  {
   "cell_type": "code",
   "execution_count": 4,
   "id": "6d2f8d0fe4538dec",
   "metadata": {
    "collapsed": false,
    "execution": {
     "iopub.execute_input": "2025-03-15T09:41:48.362976Z",
     "iopub.status.busy": "2025-03-15T09:41:48.361868Z",
     "iopub.status.idle": "2025-03-15T09:41:48.430Z",
     "shell.execute_reply": "2025-03-15T09:41:48.429244Z",
     "shell.execute_reply.started": "2025-03-15T09:41:48.362939Z"
    },
    "tags": [],
    "ExecuteTime": {
     "end_time": "2025-05-13T01:12:00.800136Z",
     "start_time": "2025-05-13T01:12:00.774978Z"
    }
   },
   "outputs": [
    {
     "name": "stdout",
     "output_type": "stream",
     "text": [
      "<class 'pandas.core.frame.DataFrame'>\n",
      "RangeIndex: 122898 entries, 0 to 122897\n",
      "Data columns (total 50 columns):\n",
      " #   Column            Non-Null Count   Dtype         \n",
      "---  ------            --------------   -----         \n",
      " 0   car_make          122898 non-null  category      \n",
      " 1   car_model         122898 non-null  category      \n",
      " 2   car_gen           122898 non-null  category      \n",
      " 3   car_type          122898 non-null  category      \n",
      " 4   car_compl         122898 non-null  object        \n",
      " 5   car_price         122898 non-null  float32       \n",
      " 6   ann_city          122898 non-null  category      \n",
      " 7   avail             122898 non-null  category      \n",
      " 8   year              122898 non-null  int16         \n",
      " 9   mileage           122898 non-null  float32       \n",
      " 10  color             122898 non-null  category      \n",
      " 11  eng_size          122898 non-null  float32       \n",
      " 12  eng_power         122898 non-null  int16         \n",
      " 13  eng_type          122898 non-null  category      \n",
      " 14  pow_resrv         122898 non-null  int16         \n",
      " 15  options           122898 non-null  object        \n",
      " 16  transmission      122898 non-null  category      \n",
      " 17  drive             122898 non-null  category      \n",
      " 18  st_wheel          122898 non-null  category      \n",
      " 19  count_owner       122898 non-null  int8          \n",
      " 20  original_pts      122898 non-null  category      \n",
      " 21  state_mark        122898 non-null  category      \n",
      " 22  class_auto        122898 non-null  category      \n",
      " 23  door_count        122898 non-null  int8          \n",
      " 24  long              122898 non-null  int16         \n",
      " 25  width             122898 non-null  int16         \n",
      " 26  height            122898 non-null  int16         \n",
      " 27  v_tank            122898 non-null  int16         \n",
      " 28  curb_weight       122898 non-null  int16         \n",
      " 29  front_brakes      122898 non-null  category      \n",
      " 30  rear_brakes       122898 non-null  category      \n",
      " 31  max_speed         122898 non-null  int16         \n",
      " 32  acceleration      122898 non-null  float32       \n",
      " 33  fuel_cons         122898 non-null  float32       \n",
      " 34  fuel_brand        122898 non-null  category      \n",
      " 35  engine_loc1       122898 non-null  category      \n",
      " 36  engine_loc2       122898 non-null  category      \n",
      " 37  turbocharg        122898 non-null  category      \n",
      " 38  max_torq          122898 non-null  int16         \n",
      " 39  cyl_count         122898 non-null  int8          \n",
      " 40  seat_count        122898 non-null  int8          \n",
      " 41  clearence         122898 non-null  int16         \n",
      " 42  v_bag             122898 non-null  int16         \n",
      " 43  acc_capacity      122898 non-null  int16         \n",
      " 44  age               122898 non-null  int8          \n",
      " 45  age_mod           122898 non-null  float32       \n",
      " 46  mileage_mod       122898 non-null  float32       \n",
      " 47  acceleration_mod  122898 non-null  float32       \n",
      " 48  cyl_count_mod     122898 non-null  float32       \n",
      " 49  ann_date          122898 non-null  datetime64[ns]\n",
      "dtypes: category(20), datetime64[ns](1), float32(9), int16(13), int8(5), object(2)\n",
      "memory usage: 13.7+ MB\n"
     ]
    }
   ],
   "source": [
    "# Рассмотрим общие сведения\n",
    "train_all.info()"
   ]
  },
  {
   "cell_type": "code",
   "execution_count": 5,
   "id": "f24e6092724992c8",
   "metadata": {
    "collapsed": false,
    "execution": {
     "iopub.execute_input": "2025-03-15T09:41:48.431527Z",
     "iopub.status.busy": "2025-03-15T09:41:48.430852Z",
     "iopub.status.idle": "2025-03-15T09:41:48.470226Z",
     "shell.execute_reply": "2025-03-15T09:41:48.469326Z",
     "shell.execute_reply.started": "2025-03-15T09:41:48.431500Z"
    },
    "tags": [],
    "ExecuteTime": {
     "end_time": "2025-05-13T01:12:00.814514Z",
     "start_time": "2025-05-13T01:12:00.801145Z"
    }
   },
   "outputs": [
    {
     "name": "stdout",
     "output_type": "stream",
     "text": [
      "<class 'pandas.core.frame.DataFrame'>\n",
      "RangeIndex: 40966 entries, 0 to 40965\n",
      "Data columns (total 50 columns):\n",
      " #   Column            Non-Null Count  Dtype         \n",
      "---  ------            --------------  -----         \n",
      " 0   car_make          40966 non-null  category      \n",
      " 1   car_model         40966 non-null  category      \n",
      " 2   car_gen           40966 non-null  category      \n",
      " 3   car_type          40966 non-null  category      \n",
      " 4   car_compl         40966 non-null  object        \n",
      " 5   car_price         40966 non-null  float32       \n",
      " 6   ann_city          40966 non-null  category      \n",
      " 7   avail             40966 non-null  category      \n",
      " 8   year              40966 non-null  int16         \n",
      " 9   mileage           40966 non-null  float32       \n",
      " 10  color             40966 non-null  category      \n",
      " 11  eng_size          40966 non-null  float32       \n",
      " 12  eng_power         40966 non-null  int16         \n",
      " 13  eng_type          40966 non-null  category      \n",
      " 14  pow_resrv         40966 non-null  int16         \n",
      " 15  options           40966 non-null  object        \n",
      " 16  transmission      40966 non-null  category      \n",
      " 17  drive             40966 non-null  category      \n",
      " 18  st_wheel          40966 non-null  category      \n",
      " 19  count_owner       40966 non-null  int8          \n",
      " 20  original_pts      40966 non-null  category      \n",
      " 21  state_mark        40966 non-null  category      \n",
      " 22  class_auto        40966 non-null  category      \n",
      " 23  door_count        40966 non-null  int8          \n",
      " 24  long              40966 non-null  int16         \n",
      " 25  width             40966 non-null  int16         \n",
      " 26  height            40966 non-null  int16         \n",
      " 27  v_tank            40966 non-null  int16         \n",
      " 28  curb_weight       40966 non-null  int16         \n",
      " 29  front_brakes      40966 non-null  category      \n",
      " 30  rear_brakes       40966 non-null  category      \n",
      " 31  max_speed         40966 non-null  int16         \n",
      " 32  acceleration      40966 non-null  float32       \n",
      " 33  fuel_cons         40966 non-null  float32       \n",
      " 34  fuel_brand        40966 non-null  category      \n",
      " 35  engine_loc1       40966 non-null  category      \n",
      " 36  engine_loc2       40966 non-null  category      \n",
      " 37  turbocharg        40966 non-null  category      \n",
      " 38  max_torq          40966 non-null  int16         \n",
      " 39  cyl_count         40966 non-null  int8          \n",
      " 40  seat_count        40966 non-null  int8          \n",
      " 41  clearence         40966 non-null  int16         \n",
      " 42  v_bag             40966 non-null  int16         \n",
      " 43  acc_capacity      40966 non-null  int16         \n",
      " 44  age               40966 non-null  int8          \n",
      " 45  age_mod           40966 non-null  float32       \n",
      " 46  mileage_mod       40966 non-null  float32       \n",
      " 47  acceleration_mod  40966 non-null  float32       \n",
      " 48  cyl_count_mod     40966 non-null  float32       \n",
      " 49  ann_date          40966 non-null  datetime64[ns]\n",
      "dtypes: category(20), datetime64[ns](1), float32(9), int16(13), int8(5), object(2)\n",
      "memory usage: 4.6+ MB\n"
     ]
    }
   ],
   "source": [
    "# Рассмотрим общие сведения\n",
    "test.info()"
   ]
  },
  {
   "cell_type": "markdown",
   "id": "7ba18aea51bac9f0",
   "metadata": {},
   "source": [
    "## Метрики качества"
   ]
  },
  {
   "cell_type": "markdown",
   "id": "d80ef355084ec571",
   "metadata": {},
   "source": [
    "Для информации о качестве моделей будем рассчитывать R2, MSE, MAE."
   ]
  },
  {
   "cell_type": "markdown",
   "id": "6f3af8e706675cf3",
   "metadata": {},
   "source": [
    "Возьмём в качестве дополнительной метрики долю верно спрогнозированных цен, при этом ошибка недопрогноза и перепрогноза будет учитываться по-разному:\n",
    "- по недопрогнозов учитываем те прогнозы, которые в пределах отклонения under_est,\n",
    "- по перепрогнозам - те прогнозы, которые в пределах отклонения over_est.  \n",
    "Т.е. среди всех предсказанных цен на авто посчитаем долю прогнозов, отличающихся от реальных цен на эти авто не более чем на `under_est`% в сторону уменьшения и не более чем на `over_est`% в сторону увеличения."
   ]
  },
  {
   "cell_type": "code",
   "execution_count": 6,
   "id": "778e7a20e84dd028",
   "metadata": {
    "collapsed": false,
    "execution": {
     "iopub.execute_input": "2025-03-15T09:41:48.471552Z",
     "iopub.status.busy": "2025-03-15T09:41:48.471099Z",
     "iopub.status.idle": "2025-03-15T09:41:48.483690Z",
     "shell.execute_reply": "2025-03-15T09:41:48.482944Z",
     "shell.execute_reply.started": "2025-03-15T09:41:48.471518Z"
    },
    "tags": [],
    "ExecuteTime": {
     "end_time": "2025-05-13T01:12:00.818259Z",
     "start_time": "2025-05-13T01:12:00.815575Z"
    }
   },
   "outputs": [],
   "source": [
    "def good_prediction_part(y_true, y_pred, under_est=0.05, over_est=0.10):\n",
    "    deviations = y_pred / y_true\n",
    "\n",
    "    result = (((deviations - 1 <= over_est) & (deviations > 1)).sum() +\n",
    "              ((1 - deviations <= under_est) & (deviations < 1)).sum()) / len(y_true)\n",
    "\n",
    "    return result"
   ]
  },
  {
   "cell_type": "code",
   "execution_count": 39,
   "id": "8115c8555d5ec67",
   "metadata": {
    "collapsed": false,
    "execution": {
     "iopub.execute_input": "2025-03-15T09:41:48.485026Z",
     "iopub.status.busy": "2025-03-15T09:41:48.484546Z",
     "iopub.status.idle": "2025-03-15T09:41:48.495815Z",
     "shell.execute_reply": "2025-03-15T09:41:48.495153Z",
     "shell.execute_reply.started": "2025-03-15T09:41:48.484992Z"
    },
    "tags": [],
    "ExecuteTime": {
     "end_time": "2025-05-13T01:41:51.242274Z",
     "start_time": "2025-05-13T01:41:51.237612Z"
    }
   },
   "outputs": [],
   "source": [
    "def print_metrics(y_train, y_test, train_pred, test_pred, log_y=False):\n",
    "    if log_y:\n",
    "        test_pred = np.exp(test_pred)\n",
    "        train_pred = np.exp(train_pred)\n",
    "\n",
    "    print('Обучающая выборка')\n",
    "    print(f'{\"R2\": <40} {r2_score(y_train, train_pred): .5}')\n",
    "    print(f'{\"MSE\": <40} {MSE(y_train, train_pred): .5}')\n",
    "    print(f'{\"MAE\": <40} {MAE(y_train, train_pred): .5}')\n",
    "    print(f'{\"Доля предсказаний 0,95-1,1 от цены\": <40} {good_prediction_part(y_train, train_pred): .5}')\n",
    "    print('Тестовая выборка')\n",
    "    print(f'{\"R2\": <40} {r2_score(y_test, test_pred): .5}')\n",
    "    print(f'{\"MSE\": <40} {MSE(y_test, test_pred): .5}')\n",
    "    print(f'{\"MAE\": <40} {MAE(y_test, test_pred): .5}')\n",
    "    print(f'{\"Доля предсказаний 0,95-1,1 от цены\": <40} {good_prediction_part(y_test, test_pred): .5}')"
   ]
  },
  {
   "cell_type": "markdown",
   "id": "bc1736c79717931f",
   "metadata": {},
   "source": [
    "## Подготовка данных"
   ]
  },
  {
   "cell_type": "code",
   "execution_count": 8,
   "id": "9547e66466e33561",
   "metadata": {
    "collapsed": false,
    "execution": {
     "iopub.execute_input": "2025-03-15T09:41:48.498096Z",
     "iopub.status.busy": "2025-03-15T09:41:48.496722Z",
     "iopub.status.idle": "2025-03-15T09:41:48.512212Z",
     "shell.execute_reply": "2025-03-15T09:41:48.511273Z",
     "shell.execute_reply.started": "2025-03-15T09:41:48.498055Z"
    },
    "ExecuteTime": {
     "end_time": "2025-05-13T01:12:00.826791Z",
     "start_time": "2025-05-13T01:12:00.822845Z"
    }
   },
   "outputs": [],
   "source": [
    "# Список признаков\n",
    "X = ['car_make', 'car_model', 'car_gen', 'car_type', 'car_compl',\n",
    "     'ann_city', 'avail', 'year', 'mileage', 'color',\n",
    "     'eng_size', 'eng_power', 'eng_type', 'pow_resrv', 'options',\n",
    "     'transmission', 'drive', 'st_wheel', 'count_owner', 'original_pts',\n",
    "     'state_mark', 'class_auto', 'door_count', 'long', 'width', 'height',\n",
    "     'v_tank', 'curb_weight', 'front_brakes', 'rear_brakes', 'max_speed',\n",
    "     'acceleration', 'fuel_cons', 'fuel_brand', 'engine_loc1', 'engine_loc2',\n",
    "     'turbocharg', 'max_torq', 'cyl_count', 'seat_count', 'clearence',\n",
    "     'v_bag', 'acc_capacity', 'age', 'age_mod', 'mileage_mod',\n",
    "     'acceleration_mod', 'cyl_count_mod']\n",
    "\n",
    "# Целевая переменная\n",
    "y = 'car_price'"
   ]
  },
  {
   "cell_type": "code",
   "execution_count": 9,
   "id": "85a7ab9a3ef0a899",
   "metadata": {
    "collapsed": false,
    "execution": {
     "iopub.execute_input": "2025-03-15T09:41:48.514465Z",
     "iopub.status.busy": "2025-03-15T09:41:48.513378Z",
     "iopub.status.idle": "2025-03-15T09:41:48.542983Z",
     "shell.execute_reply": "2025-03-15T09:41:48.541970Z",
     "shell.execute_reply.started": "2025-03-15T09:41:48.514426Z"
    },
    "ExecuteTime": {
     "end_time": "2025-05-13T01:12:00.847125Z",
     "start_time": "2025-05-13T01:12:00.827798Z"
    }
   },
   "outputs": [
    {
     "data": {
      "text/plain": "['year',\n 'mileage',\n 'eng_size',\n 'eng_power',\n 'pow_resrv',\n 'count_owner',\n 'door_count',\n 'long',\n 'width',\n 'height',\n 'v_tank',\n 'curb_weight',\n 'max_speed',\n 'acceleration',\n 'fuel_cons',\n 'max_torq',\n 'cyl_count',\n 'seat_count',\n 'clearence',\n 'v_bag',\n 'acc_capacity',\n 'age',\n 'age_mod',\n 'mileage_mod',\n 'acceleration_mod',\n 'cyl_count_mod']"
     },
     "execution_count": 9,
     "metadata": {},
     "output_type": "execute_result"
    }
   ],
   "source": [
    "# Составим список числовых признаков\n",
    "num_features = (\n",
    "    train_all[X].select_dtypes(\n",
    "        exclude=['object', 'category']\n",
    "    ).columns.to_list()\n",
    ")\n",
    "num_features"
   ]
  },
  {
   "cell_type": "code",
   "execution_count": 10,
   "id": "e012dc47fcc40d3d",
   "metadata": {
    "collapsed": false,
    "execution": {
     "iopub.execute_input": "2025-03-15T09:41:48.546645Z",
     "iopub.status.busy": "2025-03-15T09:41:48.545689Z",
     "iopub.status.idle": "2025-03-15T09:41:48.571054Z",
     "shell.execute_reply": "2025-03-15T09:41:48.570142Z",
     "shell.execute_reply.started": "2025-03-15T09:41:48.546606Z"
    },
    "ExecuteTime": {
     "end_time": "2025-05-13T01:12:00.863056Z",
     "start_time": "2025-05-13T01:12:00.848135Z"
    }
   },
   "outputs": [
    {
     "data": {
      "text/plain": "['car_make',\n 'car_model',\n 'car_gen',\n 'car_type',\n 'ann_city',\n 'avail',\n 'color',\n 'eng_type',\n 'transmission',\n 'drive',\n 'st_wheel',\n 'original_pts',\n 'state_mark',\n 'class_auto',\n 'front_brakes',\n 'rear_brakes',\n 'fuel_brand',\n 'engine_loc1',\n 'engine_loc2',\n 'turbocharg']"
     },
     "execution_count": 10,
     "metadata": {},
     "output_type": "execute_result"
    }
   ],
   "source": [
    "# Составим список категориальных признаков\n",
    "cat_features = train_all[X].select_dtypes(include=['category']).columns.to_list()\n",
    "cat_features"
   ]
  },
  {
   "cell_type": "code",
   "outputs": [],
   "source": [
    "# Выделим выборку для валидации\n",
    "train, val = train_test_split(train_all, test_size=0.2)"
   ],
   "metadata": {
    "collapsed": false,
    "ExecuteTime": {
     "end_time": "2025-05-13T01:12:00.890430Z",
     "start_time": "2025-05-13T01:12:00.864062Z"
    }
   },
   "id": "3330003cef1f77fa",
   "execution_count": 11
  },
  {
   "cell_type": "code",
   "execution_count": 12,
   "id": "9afed57fdcde5e53",
   "metadata": {
    "collapsed": false,
    "execution": {
     "iopub.execute_input": "2025-03-15T09:41:48.573198Z",
     "iopub.status.busy": "2025-03-15T09:41:48.572080Z",
     "iopub.status.idle": "2025-03-15T09:41:48.591950Z",
     "shell.execute_reply": "2025-03-15T09:41:48.591270Z",
     "shell.execute_reply.started": "2025-03-15T09:41:48.573168Z"
    },
    "ExecuteTime": {
     "end_time": "2025-05-13T01:12:00.925868Z",
     "start_time": "2025-05-13T01:12:00.891439Z"
    }
   },
   "outputs": [],
   "source": [
    "y_train_all = train_all[y].copy()\n",
    "y_train = train[y].copy()\n",
    "y_val = val[y].copy()\n",
    "X_train_all = train_all[cat_features + num_features].copy()\n",
    "X_train = train[cat_features + num_features].copy()\n",
    "X_val = val[cat_features + num_features].copy()\n",
    "y_test = test[y].copy()\n",
    "X_test = test[cat_features + num_features].copy()"
   ]
  },
  {
   "cell_type": "code",
   "execution_count": 13,
   "id": "b4fc2e33a105c2e8",
   "metadata": {
    "collapsed": false,
    "execution": {
     "iopub.execute_input": "2025-03-15T09:41:48.593690Z",
     "iopub.status.busy": "2025-03-15T09:41:48.592815Z",
     "iopub.status.idle": "2025-03-15T09:41:48.603761Z",
     "shell.execute_reply": "2025-03-15T09:41:48.603142Z",
     "shell.execute_reply.started": "2025-03-15T09:41:48.593654Z"
    },
    "ExecuteTime": {
     "end_time": "2025-05-13T01:12:00.929752Z",
     "start_time": "2025-05-13T01:12:00.926874Z"
    }
   },
   "outputs": [
    {
     "name": "stdout",
     "output_type": "stream",
     "text": [
      "X_train (98318, 46), y_train (98318,)\n",
      "X_val (24580, 46), y_val (24580,)\n",
      "X_test (40966, 46), y_test (40966,)\n"
     ]
    }
   ],
   "source": [
    "# Проверим размерность\n",
    "print(f\"X_train {X_train.shape}, y_train {y_train.shape}\")\n",
    "print(f\"X_val {X_val.shape}, y_val {y_val.shape}\")\n",
    "print(f\"X_test {X_test.shape}, y_test {y_test.shape}\")"
   ]
  },
  {
   "cell_type": "markdown",
   "source": [
    "Признаки будем обрабатывать следующим образом:\n",
    "- категоиальные с количеством категорий более 20 будем кодировать с помощью эмбеддингов (обучаемые слои в нейронной сети), для чего предварительно закодируем признаки LabelEncoder,\n",
    "- категориальные с количеством категорий до 20 включительно будем кодировать OHE,  \n",
    "- числовые будем масштабировать StandardScaler."
   ],
   "metadata": {
    "collapsed": false
   },
   "id": "b4d5758b729cfdf0"
  },
  {
   "cell_type": "code",
   "outputs": [
    {
     "data": {
      "text/plain": "car_make         196\ncar_model       1775\ncar_gen          367\ncar_type          26\nann_city        3804\navail              3\ncolor             16\neng_type           9\ntransmission       4\ndrive              3\nst_wheel           2\noriginal_pts       3\nstate_mark        23\nclass_auto         9\nfront_brakes       3\nrear_brakes        3\nfuel_brand         8\nengine_loc1        4\nengine_loc2        3\nturbocharg         3\ndtype: int64"
     },
     "execution_count": 14,
     "metadata": {},
     "output_type": "execute_result"
    }
   ],
   "source": [
    "# Посмотрим на количество категорий\n",
    "train[cat_features].nunique().T"
   ],
   "metadata": {
    "collapsed": false,
    "ExecuteTime": {
     "end_time": "2025-05-13T01:12:00.946013Z",
     "start_time": "2025-05-13T01:12:00.930761Z"
    }
   },
   "id": "e67acc9b4fb7bce9",
   "execution_count": 14
  },
  {
   "cell_type": "code",
   "outputs": [],
   "source": [
    "max_num_of_categories = train[cat_features].nunique().T.max()"
   ],
   "metadata": {
    "collapsed": false,
    "ExecuteTime": {
     "end_time": "2025-05-13T01:12:00.960417Z",
     "start_time": "2025-05-13T01:12:00.946013Z"
    }
   },
   "id": "cf8667d8ec526a75",
   "execution_count": 15
  },
  {
   "cell_type": "code",
   "outputs": [
    {
     "data": {
      "text/plain": "(['car_make', 'car_model', 'car_gen', 'car_type', 'ann_city', 'state_mark'],\n ['avail',\n  'color',\n  'eng_type',\n  'transmission',\n  'drive',\n  'st_wheel',\n  'original_pts',\n  'class_auto',\n  'front_brakes',\n  'rear_brakes',\n  'fuel_brand',\n  'engine_loc1',\n  'engine_loc2',\n  'turbocharg'])"
     },
     "execution_count": 16,
     "metadata": {},
     "output_type": "execute_result"
    }
   ],
   "source": [
    "# Выделим списки признаков для разной обработки\n",
    "cat_features_to_embed = train[cat_features].nunique().T[train[cat_features].nunique().T > 20].index.to_list()\n",
    "cat_features_to_OHE = train[cat_features].nunique().T[train[cat_features].nunique().T <= 20].index.to_list()\n",
    "cat_features_to_embed, cat_features_to_OHE"
   ],
   "metadata": {
    "collapsed": false,
    "ExecuteTime": {
     "end_time": "2025-05-13T01:12:01.007657Z",
     "start_time": "2025-05-13T01:12:00.960417Z"
    }
   },
   "id": "25f6509d228d3ee7",
   "execution_count": 16
  },
  {
   "cell_type": "code",
   "outputs": [
    {
     "data": {
      "text/plain": "ColumnTransformer(remainder='passthrough',\n                  transformers=[('ordinalencoder',\n                                 OrdinalEncoder(handle_unknown='use_encoded_value',\n                                                unknown_value=-1),\n                                 ['car_make', 'car_model', 'car_gen',\n                                  'car_type', 'ann_city', 'state_mark']),\n                                ('onehotencoder',\n                                 OneHotEncoder(drop='first',\n                                               handle_unknown='ignore',\n                                               sparse_output=False),\n                                 ['avail', 'color', 'eng_type', 'transmission',\n                                  'driv...\n                                ('standardscaler', StandardScaler(),\n                                 ['year', 'mileage', 'eng_size', 'eng_power',\n                                  'pow_resrv', 'count_owner', 'door_count',\n                                  'long', 'width', 'height', 'v_tank',\n                                  'curb_weight', 'max_speed', 'acceleration',\n                                  'fuel_cons', 'max_torq', 'cyl_count',\n                                  'seat_count', 'clearence', 'v_bag',\n                                  'acc_capacity', 'age', 'age_mod',\n                                  'mileage_mod', 'acceleration_mod',\n                                  'cyl_count_mod'])],\n                  verbose_feature_names_out=False)",
      "text/html": "<style>#sk-container-id-1 {\n  /* Definition of color scheme common for light and dark mode */\n  --sklearn-color-text: #000;\n  --sklearn-color-text-muted: #666;\n  --sklearn-color-line: gray;\n  /* Definition of color scheme for unfitted estimators */\n  --sklearn-color-unfitted-level-0: #fff5e6;\n  --sklearn-color-unfitted-level-1: #f6e4d2;\n  --sklearn-color-unfitted-level-2: #ffe0b3;\n  --sklearn-color-unfitted-level-3: chocolate;\n  /* Definition of color scheme for fitted estimators */\n  --sklearn-color-fitted-level-0: #f0f8ff;\n  --sklearn-color-fitted-level-1: #d4ebff;\n  --sklearn-color-fitted-level-2: #b3dbfd;\n  --sklearn-color-fitted-level-3: cornflowerblue;\n\n  /* Specific color for light theme */\n  --sklearn-color-text-on-default-background: var(--sg-text-color, var(--theme-code-foreground, var(--jp-content-font-color1, black)));\n  --sklearn-color-background: var(--sg-background-color, var(--theme-background, var(--jp-layout-color0, white)));\n  --sklearn-color-border-box: var(--sg-text-color, var(--theme-code-foreground, var(--jp-content-font-color1, black)));\n  --sklearn-color-icon: #696969;\n\n  @media (prefers-color-scheme: dark) {\n    /* Redefinition of color scheme for dark theme */\n    --sklearn-color-text-on-default-background: var(--sg-text-color, var(--theme-code-foreground, var(--jp-content-font-color1, white)));\n    --sklearn-color-background: var(--sg-background-color, var(--theme-background, var(--jp-layout-color0, #111)));\n    --sklearn-color-border-box: var(--sg-text-color, var(--theme-code-foreground, var(--jp-content-font-color1, white)));\n    --sklearn-color-icon: #878787;\n  }\n}\n\n#sk-container-id-1 {\n  color: var(--sklearn-color-text);\n}\n\n#sk-container-id-1 pre {\n  padding: 0;\n}\n\n#sk-container-id-1 input.sk-hidden--visually {\n  border: 0;\n  clip: rect(1px 1px 1px 1px);\n  clip: rect(1px, 1px, 1px, 1px);\n  height: 1px;\n  margin: -1px;\n  overflow: hidden;\n  padding: 0;\n  position: absolute;\n  width: 1px;\n}\n\n#sk-container-id-1 div.sk-dashed-wrapped {\n  border: 1px dashed var(--sklearn-color-line);\n  margin: 0 0.4em 0.5em 0.4em;\n  box-sizing: border-box;\n  padding-bottom: 0.4em;\n  background-color: var(--sklearn-color-background);\n}\n\n#sk-container-id-1 div.sk-container {\n  /* jupyter's `normalize.less` sets `[hidden] { display: none; }`\n     but bootstrap.min.css set `[hidden] { display: none !important; }`\n     so we also need the `!important` here to be able to override the\n     default hidden behavior on the sphinx rendered scikit-learn.org.\n     See: https://github.com/scikit-learn/scikit-learn/issues/21755 */\n  display: inline-block !important;\n  position: relative;\n}\n\n#sk-container-id-1 div.sk-text-repr-fallback {\n  display: none;\n}\n\ndiv.sk-parallel-item,\ndiv.sk-serial,\ndiv.sk-item {\n  /* draw centered vertical line to link estimators */\n  background-image: linear-gradient(var(--sklearn-color-text-on-default-background), var(--sklearn-color-text-on-default-background));\n  background-size: 2px 100%;\n  background-repeat: no-repeat;\n  background-position: center center;\n}\n\n/* Parallel-specific style estimator block */\n\n#sk-container-id-1 div.sk-parallel-item::after {\n  content: \"\";\n  width: 100%;\n  border-bottom: 2px solid var(--sklearn-color-text-on-default-background);\n  flex-grow: 1;\n}\n\n#sk-container-id-1 div.sk-parallel {\n  display: flex;\n  align-items: stretch;\n  justify-content: center;\n  background-color: var(--sklearn-color-background);\n  position: relative;\n}\n\n#sk-container-id-1 div.sk-parallel-item {\n  display: flex;\n  flex-direction: column;\n}\n\n#sk-container-id-1 div.sk-parallel-item:first-child::after {\n  align-self: flex-end;\n  width: 50%;\n}\n\n#sk-container-id-1 div.sk-parallel-item:last-child::after {\n  align-self: flex-start;\n  width: 50%;\n}\n\n#sk-container-id-1 div.sk-parallel-item:only-child::after {\n  width: 0;\n}\n\n/* Serial-specific style estimator block */\n\n#sk-container-id-1 div.sk-serial {\n  display: flex;\n  flex-direction: column;\n  align-items: center;\n  background-color: var(--sklearn-color-background);\n  padding-right: 1em;\n  padding-left: 1em;\n}\n\n\n/* Toggleable style: style used for estimator/Pipeline/ColumnTransformer box that is\nclickable and can be expanded/collapsed.\n- Pipeline and ColumnTransformer use this feature and define the default style\n- Estimators will overwrite some part of the style using the `sk-estimator` class\n*/\n\n/* Pipeline and ColumnTransformer style (default) */\n\n#sk-container-id-1 div.sk-toggleable {\n  /* Default theme specific background. It is overwritten whether we have a\n  specific estimator or a Pipeline/ColumnTransformer */\n  background-color: var(--sklearn-color-background);\n}\n\n/* Toggleable label */\n#sk-container-id-1 label.sk-toggleable__label {\n  cursor: pointer;\n  display: flex;\n  width: 100%;\n  margin-bottom: 0;\n  padding: 0.5em;\n  box-sizing: border-box;\n  text-align: center;\n  align-items: start;\n  justify-content: space-between;\n  gap: 0.5em;\n}\n\n#sk-container-id-1 label.sk-toggleable__label .caption {\n  font-size: 0.6rem;\n  font-weight: lighter;\n  color: var(--sklearn-color-text-muted);\n}\n\n#sk-container-id-1 label.sk-toggleable__label-arrow:before {\n  /* Arrow on the left of the label */\n  content: \"▸\";\n  float: left;\n  margin-right: 0.25em;\n  color: var(--sklearn-color-icon);\n}\n\n#sk-container-id-1 label.sk-toggleable__label-arrow:hover:before {\n  color: var(--sklearn-color-text);\n}\n\n/* Toggleable content - dropdown */\n\n#sk-container-id-1 div.sk-toggleable__content {\n  max-height: 0;\n  max-width: 0;\n  overflow: hidden;\n  text-align: left;\n  /* unfitted */\n  background-color: var(--sklearn-color-unfitted-level-0);\n}\n\n#sk-container-id-1 div.sk-toggleable__content.fitted {\n  /* fitted */\n  background-color: var(--sklearn-color-fitted-level-0);\n}\n\n#sk-container-id-1 div.sk-toggleable__content pre {\n  margin: 0.2em;\n  border-radius: 0.25em;\n  color: var(--sklearn-color-text);\n  /* unfitted */\n  background-color: var(--sklearn-color-unfitted-level-0);\n}\n\n#sk-container-id-1 div.sk-toggleable__content.fitted pre {\n  /* unfitted */\n  background-color: var(--sklearn-color-fitted-level-0);\n}\n\n#sk-container-id-1 input.sk-toggleable__control:checked~div.sk-toggleable__content {\n  /* Expand drop-down */\n  max-height: 200px;\n  max-width: 100%;\n  overflow: auto;\n}\n\n#sk-container-id-1 input.sk-toggleable__control:checked~label.sk-toggleable__label-arrow:before {\n  content: \"▾\";\n}\n\n/* Pipeline/ColumnTransformer-specific style */\n\n#sk-container-id-1 div.sk-label input.sk-toggleable__control:checked~label.sk-toggleable__label {\n  color: var(--sklearn-color-text);\n  background-color: var(--sklearn-color-unfitted-level-2);\n}\n\n#sk-container-id-1 div.sk-label.fitted input.sk-toggleable__control:checked~label.sk-toggleable__label {\n  background-color: var(--sklearn-color-fitted-level-2);\n}\n\n/* Estimator-specific style */\n\n/* Colorize estimator box */\n#sk-container-id-1 div.sk-estimator input.sk-toggleable__control:checked~label.sk-toggleable__label {\n  /* unfitted */\n  background-color: var(--sklearn-color-unfitted-level-2);\n}\n\n#sk-container-id-1 div.sk-estimator.fitted input.sk-toggleable__control:checked~label.sk-toggleable__label {\n  /* fitted */\n  background-color: var(--sklearn-color-fitted-level-2);\n}\n\n#sk-container-id-1 div.sk-label label.sk-toggleable__label,\n#sk-container-id-1 div.sk-label label {\n  /* The background is the default theme color */\n  color: var(--sklearn-color-text-on-default-background);\n}\n\n/* On hover, darken the color of the background */\n#sk-container-id-1 div.sk-label:hover label.sk-toggleable__label {\n  color: var(--sklearn-color-text);\n  background-color: var(--sklearn-color-unfitted-level-2);\n}\n\n/* Label box, darken color on hover, fitted */\n#sk-container-id-1 div.sk-label.fitted:hover label.sk-toggleable__label.fitted {\n  color: var(--sklearn-color-text);\n  background-color: var(--sklearn-color-fitted-level-2);\n}\n\n/* Estimator label */\n\n#sk-container-id-1 div.sk-label label {\n  font-family: monospace;\n  font-weight: bold;\n  display: inline-block;\n  line-height: 1.2em;\n}\n\n#sk-container-id-1 div.sk-label-container {\n  text-align: center;\n}\n\n/* Estimator-specific */\n#sk-container-id-1 div.sk-estimator {\n  font-family: monospace;\n  border: 1px dotted var(--sklearn-color-border-box);\n  border-radius: 0.25em;\n  box-sizing: border-box;\n  margin-bottom: 0.5em;\n  /* unfitted */\n  background-color: var(--sklearn-color-unfitted-level-0);\n}\n\n#sk-container-id-1 div.sk-estimator.fitted {\n  /* fitted */\n  background-color: var(--sklearn-color-fitted-level-0);\n}\n\n/* on hover */\n#sk-container-id-1 div.sk-estimator:hover {\n  /* unfitted */\n  background-color: var(--sklearn-color-unfitted-level-2);\n}\n\n#sk-container-id-1 div.sk-estimator.fitted:hover {\n  /* fitted */\n  background-color: var(--sklearn-color-fitted-level-2);\n}\n\n/* Specification for estimator info (e.g. \"i\" and \"?\") */\n\n/* Common style for \"i\" and \"?\" */\n\n.sk-estimator-doc-link,\na:link.sk-estimator-doc-link,\na:visited.sk-estimator-doc-link {\n  float: right;\n  font-size: smaller;\n  line-height: 1em;\n  font-family: monospace;\n  background-color: var(--sklearn-color-background);\n  border-radius: 1em;\n  height: 1em;\n  width: 1em;\n  text-decoration: none !important;\n  margin-left: 0.5em;\n  text-align: center;\n  /* unfitted */\n  border: var(--sklearn-color-unfitted-level-1) 1pt solid;\n  color: var(--sklearn-color-unfitted-level-1);\n}\n\n.sk-estimator-doc-link.fitted,\na:link.sk-estimator-doc-link.fitted,\na:visited.sk-estimator-doc-link.fitted {\n  /* fitted */\n  border: var(--sklearn-color-fitted-level-1) 1pt solid;\n  color: var(--sklearn-color-fitted-level-1);\n}\n\n/* On hover */\ndiv.sk-estimator:hover .sk-estimator-doc-link:hover,\n.sk-estimator-doc-link:hover,\ndiv.sk-label-container:hover .sk-estimator-doc-link:hover,\n.sk-estimator-doc-link:hover {\n  /* unfitted */\n  background-color: var(--sklearn-color-unfitted-level-3);\n  color: var(--sklearn-color-background);\n  text-decoration: none;\n}\n\ndiv.sk-estimator.fitted:hover .sk-estimator-doc-link.fitted:hover,\n.sk-estimator-doc-link.fitted:hover,\ndiv.sk-label-container:hover .sk-estimator-doc-link.fitted:hover,\n.sk-estimator-doc-link.fitted:hover {\n  /* fitted */\n  background-color: var(--sklearn-color-fitted-level-3);\n  color: var(--sklearn-color-background);\n  text-decoration: none;\n}\n\n/* Span, style for the box shown on hovering the info icon */\n.sk-estimator-doc-link span {\n  display: none;\n  z-index: 9999;\n  position: relative;\n  font-weight: normal;\n  right: .2ex;\n  padding: .5ex;\n  margin: .5ex;\n  width: min-content;\n  min-width: 20ex;\n  max-width: 50ex;\n  color: var(--sklearn-color-text);\n  box-shadow: 2pt 2pt 4pt #999;\n  /* unfitted */\n  background: var(--sklearn-color-unfitted-level-0);\n  border: .5pt solid var(--sklearn-color-unfitted-level-3);\n}\n\n.sk-estimator-doc-link.fitted span {\n  /* fitted */\n  background: var(--sklearn-color-fitted-level-0);\n  border: var(--sklearn-color-fitted-level-3);\n}\n\n.sk-estimator-doc-link:hover span {\n  display: block;\n}\n\n/* \"?\"-specific style due to the `<a>` HTML tag */\n\n#sk-container-id-1 a.estimator_doc_link {\n  float: right;\n  font-size: 1rem;\n  line-height: 1em;\n  font-family: monospace;\n  background-color: var(--sklearn-color-background);\n  border-radius: 1rem;\n  height: 1rem;\n  width: 1rem;\n  text-decoration: none;\n  /* unfitted */\n  color: var(--sklearn-color-unfitted-level-1);\n  border: var(--sklearn-color-unfitted-level-1) 1pt solid;\n}\n\n#sk-container-id-1 a.estimator_doc_link.fitted {\n  /* fitted */\n  border: var(--sklearn-color-fitted-level-1) 1pt solid;\n  color: var(--sklearn-color-fitted-level-1);\n}\n\n/* On hover */\n#sk-container-id-1 a.estimator_doc_link:hover {\n  /* unfitted */\n  background-color: var(--sklearn-color-unfitted-level-3);\n  color: var(--sklearn-color-background);\n  text-decoration: none;\n}\n\n#sk-container-id-1 a.estimator_doc_link.fitted:hover {\n  /* fitted */\n  background-color: var(--sklearn-color-fitted-level-3);\n}\n</style><div id=\"sk-container-id-1\" class=\"sk-top-container\"><div class=\"sk-text-repr-fallback\"><pre>ColumnTransformer(remainder=&#x27;passthrough&#x27;,\n                  transformers=[(&#x27;ordinalencoder&#x27;,\n                                 OrdinalEncoder(handle_unknown=&#x27;use_encoded_value&#x27;,\n                                                unknown_value=-1),\n                                 [&#x27;car_make&#x27;, &#x27;car_model&#x27;, &#x27;car_gen&#x27;,\n                                  &#x27;car_type&#x27;, &#x27;ann_city&#x27;, &#x27;state_mark&#x27;]),\n                                (&#x27;onehotencoder&#x27;,\n                                 OneHotEncoder(drop=&#x27;first&#x27;,\n                                               handle_unknown=&#x27;ignore&#x27;,\n                                               sparse_output=False),\n                                 [&#x27;avail&#x27;, &#x27;color&#x27;, &#x27;eng_type&#x27;, &#x27;transmission&#x27;,\n                                  &#x27;driv...\n                                (&#x27;standardscaler&#x27;, StandardScaler(),\n                                 [&#x27;year&#x27;, &#x27;mileage&#x27;, &#x27;eng_size&#x27;, &#x27;eng_power&#x27;,\n                                  &#x27;pow_resrv&#x27;, &#x27;count_owner&#x27;, &#x27;door_count&#x27;,\n                                  &#x27;long&#x27;, &#x27;width&#x27;, &#x27;height&#x27;, &#x27;v_tank&#x27;,\n                                  &#x27;curb_weight&#x27;, &#x27;max_speed&#x27;, &#x27;acceleration&#x27;,\n                                  &#x27;fuel_cons&#x27;, &#x27;max_torq&#x27;, &#x27;cyl_count&#x27;,\n                                  &#x27;seat_count&#x27;, &#x27;clearence&#x27;, &#x27;v_bag&#x27;,\n                                  &#x27;acc_capacity&#x27;, &#x27;age&#x27;, &#x27;age_mod&#x27;,\n                                  &#x27;mileage_mod&#x27;, &#x27;acceleration_mod&#x27;,\n                                  &#x27;cyl_count_mod&#x27;])],\n                  verbose_feature_names_out=False)</pre><b>In a Jupyter environment, please rerun this cell to show the HTML representation or trust the notebook. <br />On GitHub, the HTML representation is unable to render, please try loading this page with nbviewer.org.</b></div><div class=\"sk-container\" hidden><div class=\"sk-item sk-dashed-wrapped\"><div class=\"sk-label-container\"><div class=\"sk-label  sk-toggleable\"><input class=\"sk-toggleable__control sk-hidden--visually\" id=\"sk-estimator-id-1\" type=\"checkbox\" ><label for=\"sk-estimator-id-1\" class=\"sk-toggleable__label  sk-toggleable__label-arrow\"><div><div>ColumnTransformer</div></div><div><a class=\"sk-estimator-doc-link \" rel=\"noreferrer\" target=\"_blank\" href=\"https://scikit-learn.org/1.6/modules/generated/sklearn.compose.ColumnTransformer.html\">?<span>Documentation for ColumnTransformer</span></a><span class=\"sk-estimator-doc-link \">i<span>Not fitted</span></span></div></label><div class=\"sk-toggleable__content \"><pre>ColumnTransformer(remainder=&#x27;passthrough&#x27;,\n                  transformers=[(&#x27;ordinalencoder&#x27;,\n                                 OrdinalEncoder(handle_unknown=&#x27;use_encoded_value&#x27;,\n                                                unknown_value=-1),\n                                 [&#x27;car_make&#x27;, &#x27;car_model&#x27;, &#x27;car_gen&#x27;,\n                                  &#x27;car_type&#x27;, &#x27;ann_city&#x27;, &#x27;state_mark&#x27;]),\n                                (&#x27;onehotencoder&#x27;,\n                                 OneHotEncoder(drop=&#x27;first&#x27;,\n                                               handle_unknown=&#x27;ignore&#x27;,\n                                               sparse_output=False),\n                                 [&#x27;avail&#x27;, &#x27;color&#x27;, &#x27;eng_type&#x27;, &#x27;transmission&#x27;,\n                                  &#x27;driv...\n                                (&#x27;standardscaler&#x27;, StandardScaler(),\n                                 [&#x27;year&#x27;, &#x27;mileage&#x27;, &#x27;eng_size&#x27;, &#x27;eng_power&#x27;,\n                                  &#x27;pow_resrv&#x27;, &#x27;count_owner&#x27;, &#x27;door_count&#x27;,\n                                  &#x27;long&#x27;, &#x27;width&#x27;, &#x27;height&#x27;, &#x27;v_tank&#x27;,\n                                  &#x27;curb_weight&#x27;, &#x27;max_speed&#x27;, &#x27;acceleration&#x27;,\n                                  &#x27;fuel_cons&#x27;, &#x27;max_torq&#x27;, &#x27;cyl_count&#x27;,\n                                  &#x27;seat_count&#x27;, &#x27;clearence&#x27;, &#x27;v_bag&#x27;,\n                                  &#x27;acc_capacity&#x27;, &#x27;age&#x27;, &#x27;age_mod&#x27;,\n                                  &#x27;mileage_mod&#x27;, &#x27;acceleration_mod&#x27;,\n                                  &#x27;cyl_count_mod&#x27;])],\n                  verbose_feature_names_out=False)</pre></div> </div></div><div class=\"sk-parallel\"><div class=\"sk-parallel-item\"><div class=\"sk-item\"><div class=\"sk-label-container\"><div class=\"sk-label  sk-toggleable\"><input class=\"sk-toggleable__control sk-hidden--visually\" id=\"sk-estimator-id-2\" type=\"checkbox\" ><label for=\"sk-estimator-id-2\" class=\"sk-toggleable__label  sk-toggleable__label-arrow\"><div><div>ordinalencoder</div></div></label><div class=\"sk-toggleable__content \"><pre>[&#x27;car_make&#x27;, &#x27;car_model&#x27;, &#x27;car_gen&#x27;, &#x27;car_type&#x27;, &#x27;ann_city&#x27;, &#x27;state_mark&#x27;]</pre></div> </div></div><div class=\"sk-serial\"><div class=\"sk-item\"><div class=\"sk-estimator  sk-toggleable\"><input class=\"sk-toggleable__control sk-hidden--visually\" id=\"sk-estimator-id-3\" type=\"checkbox\" ><label for=\"sk-estimator-id-3\" class=\"sk-toggleable__label  sk-toggleable__label-arrow\"><div><div>OrdinalEncoder</div></div><div><a class=\"sk-estimator-doc-link \" rel=\"noreferrer\" target=\"_blank\" href=\"https://scikit-learn.org/1.6/modules/generated/sklearn.preprocessing.OrdinalEncoder.html\">?<span>Documentation for OrdinalEncoder</span></a></div></label><div class=\"sk-toggleable__content \"><pre>OrdinalEncoder(handle_unknown=&#x27;use_encoded_value&#x27;, unknown_value=-1)</pre></div> </div></div></div></div></div><div class=\"sk-parallel-item\"><div class=\"sk-item\"><div class=\"sk-label-container\"><div class=\"sk-label  sk-toggleable\"><input class=\"sk-toggleable__control sk-hidden--visually\" id=\"sk-estimator-id-4\" type=\"checkbox\" ><label for=\"sk-estimator-id-4\" class=\"sk-toggleable__label  sk-toggleable__label-arrow\"><div><div>onehotencoder</div></div></label><div class=\"sk-toggleable__content \"><pre>[&#x27;avail&#x27;, &#x27;color&#x27;, &#x27;eng_type&#x27;, &#x27;transmission&#x27;, &#x27;drive&#x27;, &#x27;st_wheel&#x27;, &#x27;original_pts&#x27;, &#x27;class_auto&#x27;, &#x27;front_brakes&#x27;, &#x27;rear_brakes&#x27;, &#x27;fuel_brand&#x27;, &#x27;engine_loc1&#x27;, &#x27;engine_loc2&#x27;, &#x27;turbocharg&#x27;]</pre></div> </div></div><div class=\"sk-serial\"><div class=\"sk-item\"><div class=\"sk-estimator  sk-toggleable\"><input class=\"sk-toggleable__control sk-hidden--visually\" id=\"sk-estimator-id-5\" type=\"checkbox\" ><label for=\"sk-estimator-id-5\" class=\"sk-toggleable__label  sk-toggleable__label-arrow\"><div><div>OneHotEncoder</div></div><div><a class=\"sk-estimator-doc-link \" rel=\"noreferrer\" target=\"_blank\" href=\"https://scikit-learn.org/1.6/modules/generated/sklearn.preprocessing.OneHotEncoder.html\">?<span>Documentation for OneHotEncoder</span></a></div></label><div class=\"sk-toggleable__content \"><pre>OneHotEncoder(drop=&#x27;first&#x27;, handle_unknown=&#x27;ignore&#x27;, sparse_output=False)</pre></div> </div></div></div></div></div><div class=\"sk-parallel-item\"><div class=\"sk-item\"><div class=\"sk-label-container\"><div class=\"sk-label  sk-toggleable\"><input class=\"sk-toggleable__control sk-hidden--visually\" id=\"sk-estimator-id-6\" type=\"checkbox\" ><label for=\"sk-estimator-id-6\" class=\"sk-toggleable__label  sk-toggleable__label-arrow\"><div><div>standardscaler</div></div></label><div class=\"sk-toggleable__content \"><pre>[&#x27;year&#x27;, &#x27;mileage&#x27;, &#x27;eng_size&#x27;, &#x27;eng_power&#x27;, &#x27;pow_resrv&#x27;, &#x27;count_owner&#x27;, &#x27;door_count&#x27;, &#x27;long&#x27;, &#x27;width&#x27;, &#x27;height&#x27;, &#x27;v_tank&#x27;, &#x27;curb_weight&#x27;, &#x27;max_speed&#x27;, &#x27;acceleration&#x27;, &#x27;fuel_cons&#x27;, &#x27;max_torq&#x27;, &#x27;cyl_count&#x27;, &#x27;seat_count&#x27;, &#x27;clearence&#x27;, &#x27;v_bag&#x27;, &#x27;acc_capacity&#x27;, &#x27;age&#x27;, &#x27;age_mod&#x27;, &#x27;mileage_mod&#x27;, &#x27;acceleration_mod&#x27;, &#x27;cyl_count_mod&#x27;]</pre></div> </div></div><div class=\"sk-serial\"><div class=\"sk-item\"><div class=\"sk-estimator  sk-toggleable\"><input class=\"sk-toggleable__control sk-hidden--visually\" id=\"sk-estimator-id-7\" type=\"checkbox\" ><label for=\"sk-estimator-id-7\" class=\"sk-toggleable__label  sk-toggleable__label-arrow\"><div><div>StandardScaler</div></div><div><a class=\"sk-estimator-doc-link \" rel=\"noreferrer\" target=\"_blank\" href=\"https://scikit-learn.org/1.6/modules/generated/sklearn.preprocessing.StandardScaler.html\">?<span>Documentation for StandardScaler</span></a></div></label><div class=\"sk-toggleable__content \"><pre>StandardScaler()</pre></div> </div></div></div></div></div><div class=\"sk-parallel-item\"><div class=\"sk-item\"><div class=\"sk-label-container\"><div class=\"sk-label  sk-toggleable\"><input class=\"sk-toggleable__control sk-hidden--visually\" id=\"sk-estimator-id-8\" type=\"checkbox\" ><label for=\"sk-estimator-id-8\" class=\"sk-toggleable__label  sk-toggleable__label-arrow\"><div><div>remainder</div></div></label><div class=\"sk-toggleable__content \"><pre></pre></div> </div></div><div class=\"sk-serial\"><div class=\"sk-item\"><div class=\"sk-estimator  sk-toggleable\"><input class=\"sk-toggleable__control sk-hidden--visually\" id=\"sk-estimator-id-9\" type=\"checkbox\" ><label for=\"sk-estimator-id-9\" class=\"sk-toggleable__label  sk-toggleable__label-arrow\"><div><div>passthrough</div></div></label><div class=\"sk-toggleable__content \"><pre>passthrough</pre></div> </div></div></div></div></div></div></div></div></div>"
     },
     "execution_count": 17,
     "metadata": {},
     "output_type": "execute_result"
    }
   ],
   "source": [
    "# Определим набор преобразований столбцов\n",
    "col_transformer = make_column_transformer(\n",
    "    (\n",
    "        OrdinalEncoder(\n",
    "            handle_unknown='use_encoded_value',\n",
    "            unknown_value=-1\n",
    "        ),\n",
    "        cat_features_to_embed\n",
    "    ),\n",
    "    (\n",
    "        OneHotEncoder(\n",
    "            handle_unknown='ignore',\n",
    "            drop='first',\n",
    "            sparse_output=False\n",
    "        ),\n",
    "        cat_features_to_OHE\n",
    "    ),\n",
    "    (\n",
    "        StandardScaler(),\n",
    "        num_features\n",
    "    ), remainder='passthrough',\n",
    "    verbose_feature_names_out=False\n",
    ")\n",
    "col_transformer.set_output(transform='pandas')"
   ],
   "metadata": {
    "collapsed": false,
    "ExecuteTime": {
     "end_time": "2025-05-13T01:12:01.018497Z",
     "start_time": "2025-05-13T01:12:01.008664Z"
    }
   },
   "id": "ff65a8601526b9ce",
   "execution_count": 17
  },
  {
   "cell_type": "code",
   "outputs": [],
   "source": [
    "# Обозначим размеры эмбеддингов для признаков (чем больше категорий - тем длиннее)\n",
    "# ['car_make', 'car_model', 'car_gen', 'car_type', 'ann_city', 'state_mark']\n",
    "embed_dims = [4, 16, 8, 2, 32, 2]"
   ],
   "metadata": {
    "collapsed": false,
    "ExecuteTime": {
     "end_time": "2025-05-13T01:12:01.021716Z",
     "start_time": "2025-05-13T01:12:01.019504Z"
    }
   },
   "id": "8af600adb736086c",
   "execution_count": 18
  },
  {
   "cell_type": "code",
   "outputs": [
    {
     "name": "stdout",
     "output_type": "stream",
     "text": [
      "X_train (98318, 91), y_train (98318,)\n",
      "X_val (24580, 91), y_val (24580,)\n"
     ]
    }
   ],
   "source": [
    "# Обучим трансформер и применим к обучающей выборке\n",
    "col_transformer.fit(X_train)\n",
    "X_train = col_transformer.transform(X_train)\n",
    "# Обученный трансформер применим к валидационной выборке\n",
    "X_val = col_transformer.transform(X_val)\n",
    "# Проверим размерность\n",
    "print(f\"X_train {X_train.shape}, y_train {y_train.shape}\")\n",
    "print(f\"X_val {X_val.shape}, y_val {y_val.shape}\")"
   ],
   "metadata": {
    "collapsed": false,
    "ExecuteTime": {
     "end_time": "2025-05-13T01:12:01.696987Z",
     "start_time": "2025-05-13T01:12:01.022725Z"
    }
   },
   "id": "ff957048a270ce67",
   "execution_count": 19
  },
  {
   "cell_type": "markdown",
   "id": "272b98bebd187827",
   "metadata": {},
   "source": [
    "### Эксперименты с нейронной сетью"
   ]
  },
  {
   "cell_type": "code",
   "outputs": [
    {
     "data": {
      "text/plain": "device(type='cuda', index=0)"
     },
     "execution_count": 20,
     "metadata": {},
     "output_type": "execute_result"
    }
   ],
   "source": [
    "# Выберем device для вычислений\n",
    "if torch.cuda.is_available():\n",
    "    device = torch.device(\"cuda:0\")\n",
    "else:\n",
    "    device = torch.device(\"cpu\")\n",
    "device"
   ],
   "metadata": {
    "collapsed": false,
    "ExecuteTime": {
     "end_time": "2025-05-13T01:12:01.723817Z",
     "start_time": "2025-05-13T01:12:01.697996Z"
    }
   },
   "id": "7b69a06f2734a18e",
   "execution_count": 20
  },
  {
   "cell_type": "code",
   "outputs": [],
   "source": [
    "# Создадим класс для датасета\n",
    "class CarPriceDataset(Dataset):\n",
    "    def __init__(self, X, y, embed_features):\n",
    "        \"\"\"\n",
    "            X: DataFrame с признаками после преобразования\n",
    "            y: Целевая переменная (цена)\n",
    "            embed_features: Список признаков для эмбеддинга\n",
    "        \"\"\"\n",
    "        # Числовые признаки (в том числе после OHE) преобразуем в тензор\n",
    "        self.X_num = torch.FloatTensor(\n",
    "            X.drop(columns=embed_features).values\n",
    "        )\n",
    "\n",
    "        # Целевую переменную преобразуем в тензор\n",
    "        self.y = torch.FloatTensor(y.values).unsqueeze(1)\n",
    "\n",
    "        # Категориальные признаки (убедимся, что индексы в допустимых пределах)\n",
    "        self.X_embed = torch.stack([\n",
    "            torch.LongTensor(X[feat].values)\n",
    "            for feat in embed_features\n",
    "        ], dim=1)\n",
    "\n",
    "    def __len__(self):\n",
    "        return len(self.y)\n",
    "\n",
    "    def __getitem__(self, idx):\n",
    "        return (\n",
    "            self.X_num[idx],  # Числовые признаки\n",
    "            self.X_embed[idx],  # Все embed-признаки вместе\n",
    "            self.y[idx]  # Целевая переменная\n",
    "        )\n",
    "\n",
    "\n",
    "# Создаем датасеты\n",
    "train_dataset = CarPriceDataset(X_train, y_train, embed_features=cat_features_to_embed)\n",
    "val_dataset = CarPriceDataset(X_val, y_val, embed_features=cat_features_to_embed)\n",
    "\n",
    "# Параметры загрузки\n",
    "batch_size = 1024\n",
    "num_workers = 0\n",
    "to_use_pin_memory = (device.type == 'cuda')\n",
    "\n",
    "# Создаём генераторы батчей\n",
    "# для трейна\n",
    "train_loader = DataLoader(\n",
    "    train_dataset,\n",
    "    batch_size=batch_size,\n",
    "    shuffle=True,\n",
    "    num_workers=num_workers,\n",
    "    pin_memory=to_use_pin_memory\n",
    "    # так быстрее, но нельзя уйти в swap (часть данных система тащит на диск, если оперативки не хватает)\n",
    ")\n",
    "# для валидации\n",
    "val_loader = DataLoader(\n",
    "    val_dataset,\n",
    "    batch_size=batch_size,\n",
    "    shuffle=False,\n",
    "    num_workers=num_workers,\n",
    "    pin_memory=to_use_pin_memory\n",
    ")"
   ],
   "metadata": {
    "collapsed": false,
    "ExecuteTime": {
     "end_time": "2025-05-13T01:12:01.765931Z",
     "start_time": "2025-05-13T01:12:01.724828Z"
    }
   },
   "id": "88a4a4b138612aea",
   "execution_count": 21
  },
  {
   "cell_type": "code",
   "outputs": [],
   "source": [
    "# Создадим класс сети\n",
    "class CarPriceModel(nn.Module):\n",
    "    def __init__(self, num_numeric_features, embed_features, embed_dims, category_sizes):\n",
    "        \"\"\"\n",
    "            num_numeric_features: общее количество числовых признаков (исходные числовые + после OHE)\n",
    "            embed_features: список имен признаков для эмбеддинга\n",
    "            embed_dims: список размерностей эмбеддингов\n",
    "            category_sizes: список размеров категорий (кол-во уникальных значений)\n",
    "        \"\"\"\n",
    "        super().__init__()\n",
    "\n",
    "        # Создаем Embedding слои\n",
    "        # Добавляем +1 к количеству эмбеддингов для неизвестных категорий (значение -1)\n",
    "        self.embed_layers = nn.ModuleList([\n",
    "            nn.Embedding(num_embeddings=size + 1, embedding_dim=dim)\n",
    "            for size, dim in zip(category_sizes, embed_dims)\n",
    "        ])\n",
    "\n",
    "        # Расчёт общего размера входа\n",
    "        total_features = num_numeric_features + sum(embed_dims)\n",
    "\n",
    "        # Основная сеть\n",
    "        self.net = nn.Sequential(\n",
    "            nn.Linear(total_features, 256),\n",
    "            nn.BatchNorm1d(256),\n",
    "            nn.ReLU(inplace=True),\n",
    "\n",
    "            nn.Linear(256, 128),\n",
    "            nn.Dropout(0.2),\n",
    "            nn.ReLU(inplace=True),\n",
    "\n",
    "            nn.Linear(128, 64),\n",
    "            nn.Dropout(0.2),\n",
    "            nn.ReLU(inplace=True),\n",
    "\n",
    "            nn.Linear(64, 32),\n",
    "            nn.Dropout(0.2),\n",
    "            nn.ReLU(inplace=True),\n",
    "\n",
    "            # Выходной слой с ReLU (чтоб цены были не отрицательными)\n",
    "            nn.Linear(32, 1),\n",
    "            nn.ReLU(inplace=True)\n",
    "        )\n",
    "\n",
    "        # Инициализация весов\n",
    "        for layer in self.net:\n",
    "            if isinstance(layer, nn.Linear):\n",
    "                nn.init.kaiming_normal_(layer.weight, mode='fan_in', nonlinearity='relu')\n",
    "                if layer.bias is not None:\n",
    "                    nn.init.constant_(layer.bias, 0)\n",
    "\n",
    "    def forward(self, x_num, x_embed):\n",
    "        # Преобразуем -1 в последний индекс эмбеддинга\n",
    "        # За счёт broadcasting тензор растягивается в размер заменяемого\n",
    "        # и замена -1 в каждом столбце происходит на свой индекс\n",
    "        x_embed = torch.where(\n",
    "            x_embed == -1,\n",
    "            torch.tensor([emb.num_embeddings - 1 for emb in self.embed_layers]).to(x_embed.device),\n",
    "            x_embed\n",
    "        )\n",
    "        # Обработка эмбеддингов\n",
    "        embedded = [\n",
    "            embed_layer(x_embed[:, i])\n",
    "            for i, embed_layer in enumerate(self.embed_layers)\n",
    "        ]\n",
    "        # Конкатенация всех признаков\n",
    "        x = torch.cat([x_num] + embedded, dim=1)\n",
    "\n",
    "        return self.net(x)"
   ],
   "metadata": {
    "collapsed": false,
    "ExecuteTime": {
     "end_time": "2025-05-13T01:12:01.772747Z",
     "start_time": "2025-05-13T01:12:01.766941Z"
    }
   },
   "id": "baaa5e9c313f3a05",
   "execution_count": 22
  },
  {
   "cell_type": "code",
   "outputs": [],
   "source": [
    "# Функция для контроля процесса обучения и валидации\n",
    "def plot_losses(train_losses, train_metrics, val_losses, val_metrics):\n",
    "    \"\"\"\n",
    "    Plot losses and metrics while training\n",
    "      - train_losses: sequence of train losses\n",
    "      - train_metrics: sequence of train MSE values\n",
    "      - val_losses: sequence of validation losses\n",
    "      - val_metrics: sequence of validation MSE values\n",
    "    \"\"\"\n",
    "    clear_output()\n",
    "    fig, axs = plt.subplots(1, 2, figsize=(15, 5))\n",
    "    axs[0].plot(range(1, len(train_losses) + 1), train_losses, label=\"train\")\n",
    "    axs[0].plot(range(1, len(val_losses) + 1), val_losses, label=\"val\")\n",
    "    axs[1].plot(range(1, len(train_metrics) + 1), train_metrics, label=\"train\")\n",
    "    axs[1].plot(range(1, len(val_metrics) + 1), val_metrics, label=\"val\")\n",
    "\n",
    "    if max(train_losses) / min(train_losses) > 10:\n",
    "        axs[0].set_yscale(\"log\")\n",
    "\n",
    "    if max(train_metrics) / min(train_metrics) > 10:\n",
    "        axs[0].set_yscale(\"log\")\n",
    "\n",
    "    for ax in axs:\n",
    "        ax.set_xlabel(\"epoch\")\n",
    "        ax.legend()\n",
    "\n",
    "    axs[0].set_ylabel(\"MSE loss\")\n",
    "    axs[1].set_ylabel(\"R2\")\n",
    "    plt.show()"
   ],
   "metadata": {
    "collapsed": false,
    "ExecuteTime": {
     "end_time": "2025-05-13T01:12:01.777281Z",
     "start_time": "2025-05-13T01:12:01.772747Z"
    }
   },
   "id": "465ab37a680ded91",
   "execution_count": 23
  },
  {
   "cell_type": "code",
   "execution_count": 33,
   "id": "23f1d74f28fbb1b0",
   "metadata": {
    "collapsed": false,
    "scrolled": true,
    "tags": [],
    "ExecuteTime": {
     "end_time": "2025-05-13T01:19:58.381779Z",
     "start_time": "2025-05-13T01:19:58.374325Z"
    }
   },
   "outputs": [],
   "source": [
    "def train_and_validate(\n",
    "        model,\n",
    "        optimizer,\n",
    "        criterion,\n",
    "        metric,\n",
    "        train_loader,\n",
    "        val_loader,\n",
    "        num_epochs,\n",
    "        y_train,\n",
    "        y_val,\n",
    "        verbose=True,\n",
    "):\n",
    "    \"\"\"\n",
    "    Train and validate neural network\n",
    "      - model: neural network to train\n",
    "      - optimizer: optimizer chained to a model\n",
    "      - criterion: loss function class\n",
    "      - metric: function to measure MSE taking neural networks predictions\n",
    "                 and ground truth labels\n",
    "      - train_loader: DataLoader with train set\n",
    "      - val_loader: DataLoader with validation set\n",
    "      - num_epochs: number of epochs to train\n",
    "      - verbose: whether to plot metrics during training\n",
    "    Returns:\n",
    "      - train_mse: training MSE over the last epoch\n",
    "      - val_mse: validation MSE after the last epoch\n",
    "      - y_train: target train,\n",
    "      - y_val: target val (test)     \n",
    "    \"\"\"\n",
    "    train_losses, val_losses = [], []\n",
    "    train_metrics, val_metrics = [], []\n",
    "    device = next(model.parameters()).device\n",
    "\n",
    "    # Вычисляем общую дисперсию для R2\n",
    "    y_train_np = y_train.values if hasattr(y_train, 'values') else y_train\n",
    "    total_variance = np.sum((y_train_np - np.mean(y_train_np)) ** 2)\n",
    "\n",
    "    y_val_np = y_val.values if hasattr(y_val, 'values') else y_val\n",
    "    total_var_val = np.sum((y_val_np - np.mean(y_val_np)) ** 2)\n",
    "\n",
    "    for epoch in range(1, num_epochs + 1):\n",
    "        model.train()\n",
    "        epoch_train_loss = 0\n",
    "        pbar = (\n",
    "            tqdm(train_loader, desc=f\"Training {epoch}/{num_epochs}\")\n",
    "            if verbose\n",
    "            else train_loader\n",
    "        )\n",
    "\n",
    "        for i, (x_num, x_embed, y_batch) in enumerate(pbar, 1):  # берём батч из загрузчика обучающих батчей\n",
    "            x_num = x_num.to(device, non_blocking=False)\n",
    "            x_embed = x_embed.to(device, non_blocking=False)\n",
    "            y_batch = y_batch.to(device, non_blocking=False)\n",
    "            y_pred = model(x_num, x_embed)  # делаем предсказания\n",
    "            loss = criterion(y_pred, y_batch)  # считаем лосс\n",
    "            loss.backward()  # считаем градиенты обратным проходом\n",
    "            optimizer.step()  # обновляем параметры сети\n",
    "            optimizer.zero_grad(  # обнуляем (или set to None) посчитанные градиенты параметров\n",
    "                set_to_none=True)  #set_to_none ускоряет, т.к. не присваивает всем элементам 0,\n",
    "            # а делает None весь тензор, не поэлементно, но если на градиенты есть планы, то лучше обнулять\n",
    "\n",
    "            with torch.no_grad():  # запрещаем фреймворку считать градиенты по параметрам где не требуется\n",
    "                predictions = y_pred.cpu().numpy()\n",
    "                metric_value = metric(predictions, y_batch.cpu().numpy())\n",
    "                # кросс энтропия в Torch усредняет по батчу (по умолчанию, но это\n",
    "                # настраивается), чтоб получить сумму лосса, умножаем на размер батча\n",
    "                epoch_train_loss += loss.item() * x_num.shape[0]\n",
    "\n",
    "            if verbose and i % 100 == 0:\n",
    "                pbar.set_postfix({\"MSE loss\": loss.item(), \"R2\": metric_value})  # По батчам\n",
    "\n",
    "        train_losses += [epoch_train_loss / len(train_loader.dataset)]\n",
    "        train_metrics += [1 - epoch_train_loss / total_variance]\n",
    "        # Валидация\n",
    "        model.eval()\n",
    "        epoch_val_loss = 0\n",
    "        val_pbar = (\n",
    "            tqdm(val_loader, desc=f\"Validating {epoch}/{num_epochs}\")\n",
    "            if verbose\n",
    "            else val_loader\n",
    "        )\n",
    "\n",
    "        for i, (x_num, x_embed, y_batch) in enumerate(val_pbar,\n",
    "                                                      1):  # берём батч из загрузчика валидационных батчей        \n",
    "            with torch.no_grad():  # запрещаем фреймворку считать градиенты по параметрам где не требуется\n",
    "                x_num = x_num.to(device, non_blocking=False)\n",
    "                x_embed = x_embed.to(device, non_blocking=False)\n",
    "                y_batch = y_batch.to(device, non_blocking=False)\n",
    "                y_pred = model(x_num, x_embed)  # делаем предсказания\n",
    "                loss = criterion(y_pred, y_batch)  # считаем лосс\n",
    "                epoch_val_loss += loss.item() * x_num.shape[0]\n",
    "\n",
    "                if verbose and i % 100 == 0:\n",
    "                    pbar.set_postfix({\"Val MSE loss\": loss.item()})  # По батчам\n",
    "\n",
    "        val_losses += [epoch_val_loss / len(val_loader.dataset)]\n",
    "        val_metrics += [1 - epoch_val_loss / total_var_val]\n",
    "\n",
    "        if verbose:\n",
    "            print(f\"Epoch {epoch}: Train Loss: {train_losses[-1]:.4f}, Val Loss: {val_losses[-1]:.4f}\")\n",
    "            print(f\"Train R2: {train_metrics[-1]:.4f}, Val R2: {val_metrics[-1]:.4f}\")\n",
    "            plot_losses(train_losses, train_metrics, val_losses, val_metrics)\n",
    "\n",
    "    return train_metrics[-1], val_metrics[-1]"
   ]
  },
  {
   "cell_type": "code",
   "outputs": [],
   "source": [
    "# Вычисляем размеры категорий\n",
    "category_sizes = [\n",
    "    int(X_train[feat].max() + 1)  # +1 потому что индексы с 0\n",
    "    for feat in cat_features_to_embed\n",
    "]"
   ],
   "metadata": {
    "collapsed": false,
    "ExecuteTime": {
     "end_time": "2025-05-13T01:12:01.789759Z",
     "start_time": "2025-05-13T01:12:01.785612Z"
    }
   },
   "id": "3ad5735d78649990",
   "execution_count": 25
  },
  {
   "cell_type": "code",
   "outputs": [],
   "source": [
    "# Инициализация модели\n",
    "model = CarPriceModel(\n",
    "    num_numeric_features=X_train.drop(columns=cat_features_to_embed).shape[1],\n",
    "    embed_features=cat_features_to_embed,\n",
    "    embed_dims=embed_dims,\n",
    "    category_sizes=category_sizes\n",
    ").to(device)"
   ],
   "metadata": {
    "collapsed": false,
    "ExecuteTime": {
     "end_time": "2025-05-13T01:12:01.905596Z",
     "start_time": "2025-05-13T01:12:01.789759Z"
    }
   },
   "id": "ffc52249fb9893a7",
   "execution_count": 26
  },
  {
   "cell_type": "code",
   "execution_count": 45,
   "id": "7878f5ea1c6ee9d8",
   "metadata": {
    "collapsed": false,
    "execution": {
     "iopub.execute_input": "2025-03-11T23:31:38.606957Z",
     "iopub.status.busy": "2025-03-11T23:31:38.605826Z",
     "iopub.status.idle": "2025-03-11T23:31:49.200211Z",
     "shell.execute_reply": "2025-03-11T23:31:49.198835Z",
     "shell.execute_reply.started": "2025-03-11T23:31:38.606919Z"
    }
   },
   "outputs": [
    {
     "data": {
      "text/plain": "<Figure size 1500x500 with 2 Axes>",
      "image/png": "[encoded data removed]"
     },
     "metadata": {},
     "output_type": "display_data"
    },
    {
     "data": {
      "text/plain": "(0.7613349147929538, 0.8530386054920839)"
     },
     "execution_count": 45,
     "metadata": {},
     "output_type": "execute_result"
    }
   ],
   "source": [
    "# Обучим модель\n",
    "train_and_validate(\n",
    "    model=model,\n",
    "    optimizer=torch.optim.Adam(model.parameters(), lr=5e-5,\n",
    "                               fused=True),  # fused=True даёт ускорение, нововведение в Torch\n",
    "    criterion=torch.nn.MSELoss(),\n",
    "    metric=lambda pred, y: r2_score(y, pred),\n",
    "    train_loader=train_loader,\n",
    "    val_loader=val_loader,\n",
    "    num_epochs=30,\n",
    "    y_train=y_train,\n",
    "    y_val=y_val,\n",
    "    verbose=True\n",
    ")"
   ]
  },
  {
   "cell_type": "markdown",
   "source": [
    "Обучим на всей выборке для обучения"
   ],
   "metadata": {
    "collapsed": false
   },
   "id": "efdac775bbfbb45e"
  },
  {
   "cell_type": "code",
   "outputs": [
    {
     "name": "stdout",
     "output_type": "stream",
     "text": [
      "X_train (122898, 91), y_train (122898,)\n",
      "X_test (40966, 91), y_test (40966,)\n"
     ]
    }
   ],
   "source": [
    "# Обучим трансформер и применим к обучающей выборке\n",
    "col_transformer.fit(X_train_all)\n",
    "X_train_all = col_transformer.transform(X_train_all)\n",
    "# Обученный трансформер применим к тестовой выборке\n",
    "X_test = col_transformer.transform(X_test)\n",
    "# Проверим размерность\n",
    "print(f\"X_train {X_train_all.shape}, y_train {y_train_all.shape}\")\n",
    "print(f\"X_test {X_test.shape}, y_test {y_test.shape}\")"
   ],
   "metadata": {
    "collapsed": false,
    "ExecuteTime": {
     "end_time": "2025-05-13T01:14:17.111502Z",
     "start_time": "2025-05-13T01:14:17.108218Z"
    }
   },
   "id": "aa2bf5e665c12e5a",
   "execution_count": 28
  },
  {
   "cell_type": "code",
   "outputs": [],
   "source": [
    "# Вычисляем размеры категорий\n",
    "category_sizes = [\n",
    "    int(X_train_all[feat].max() + 1)  # +1 потому что индексы с 0\n",
    "    for feat in cat_features_to_embed\n",
    "]"
   ],
   "metadata": {
    "collapsed": false,
    "ExecuteTime": {
     "end_time": "2025-05-13T01:14:47.288817Z",
     "start_time": "2025-05-13T01:14:47.283902Z"
    }
   },
   "id": "95d6684da656f656",
   "execution_count": 29
  },
  {
   "cell_type": "code",
   "outputs": [],
   "source": [
    "# Инициализация модели\n",
    "model = CarPriceModel(\n",
    "    num_numeric_features=X_train_all.drop(columns=cat_features_to_embed).shape[1],\n",
    "    embed_features=cat_features_to_embed,\n",
    "    embed_dims=embed_dims,\n",
    "    category_sizes=category_sizes\n",
    ").to(device)"
   ],
   "metadata": {
    "collapsed": false,
    "ExecuteTime": {
     "end_time": "2025-05-13T01:15:05.949407Z",
     "start_time": "2025-05-13T01:15:05.930881Z"
    }
   },
   "id": "dfcceaac85881f4f",
   "execution_count": 30
  },
  {
   "cell_type": "code",
   "outputs": [],
   "source": [
    "# Создаем датасеты\n",
    "train_all_dataset = CarPriceDataset(X_train_all, y_train_all, embed_features=cat_features_to_embed)\n",
    "test_dataset = CarPriceDataset(X_test, y_test, embed_features=cat_features_to_embed)\n",
    "\n",
    "# Параметры загрузки\n",
    "batch_size = 1024\n",
    "num_workers = 0\n",
    "to_use_pin_memory = (device.type == 'cuda')\n",
    "\n",
    "# Создаём генераторы батчей\n",
    "# для трейна\n",
    "train_all_loader = DataLoader(\n",
    "    train_all_dataset,\n",
    "    batch_size=batch_size,\n",
    "    shuffle=True,\n",
    "    num_workers=num_workers,\n",
    "    pin_memory=to_use_pin_memory\n",
    "    # так быстрее, но нельзя уйти в swap (часть данных система тащит на диск, если оперативки не хватает)\n",
    ")\n",
    "\n",
    "# для теста\n",
    "test_loader = DataLoader(\n",
    "    test_dataset,\n",
    "    batch_size=batch_size,\n",
    "    shuffle=False,\n",
    "    num_workers=num_workers,\n",
    "    pin_memory=to_use_pin_memory\n",
    ")"
   ],
   "metadata": {
    "collapsed": false,
    "ExecuteTime": {
     "end_time": "2025-05-13T01:16:59.074603Z",
     "start_time": "2025-05-13T01:16:59.028335Z"
    }
   },
   "id": "4068cf4217b53407",
   "execution_count": 32
  },
  {
   "cell_type": "code",
   "outputs": [
    {
     "data": {
      "text/plain": "<Figure size 1500x500 with 2 Axes>",
      "image/png": "[encoded data removed]"
     },
     "metadata": {},
     "output_type": "display_data"
    },
    {
     "data": {
      "text/plain": "(0.7359536757856642, 0.8514144893094058)"
     },
     "execution_count": 34,
     "metadata": {},
     "output_type": "execute_result"
    }
   ],
   "source": [
    "# Обучим модель\n",
    "train_and_validate(\n",
    "    model=model,\n",
    "    optimizer=torch.optim.Adam(model.parameters(), lr=5e-5,\n",
    "                               fused=True),  # fused=True даёт ускорение, нововведение в Torch\n",
    "    criterion=torch.nn.MSELoss(),\n",
    "    metric=lambda pred, y: r2_score(y, pred),\n",
    "    train_loader=train_all_loader,\n",
    "    val_loader=test_loader,\n",
    "    num_epochs=30,\n",
    "    y_train=y_train_all,\n",
    "    y_val=y_test,\n",
    "    verbose=True\n",
    ")"
   ],
   "metadata": {
    "collapsed": false
   },
   "id": "18d3c100309866d2",
   "execution_count": 34
  },
  {
   "cell_type": "code",
   "outputs": [],
   "source": [
    "# Получение предсказаний\n",
    "model.eval()\n",
    "y_pred_train = np.array([])\n",
    "for i, (x_num, x_embed, y_batch) in enumerate(train_loader, 1):  # берём батч из загрузчика обучающих батчей        \n",
    "    with torch.no_grad():\n",
    "        x_num = x_num.to(device, non_blocking=False)\n",
    "        x_embed = x_embed.to(device, non_blocking=False)\n",
    "        y_batch = y_batch.to(device, non_blocking=False)\n",
    "        y_pred = model(x_num, x_embed)  # делаем предсказания\n",
    "        y_pred_train = np.concatenate([y_pred_train, y_pred.cpu().numpy().flatten()])\n",
    "\n",
    "y_pred_test = np.array([])\n",
    "for i, (x_num, x_embed, y_batch) in enumerate(test_loader, 1):  # берём батч из загрузчика тестовых батчей        \n",
    "with torch.no_grad():\n",
    "    x_num = x_num.to(device, non_blocking=False)\n",
    "    x_embed = x_embed.to(device, non_blocking=False)\n",
    "    y_batch = y_batch.to(device, non_blocking=False)\n",
    "    y_pred = model(x_num, x_embed)  # делаем предсказания\n",
    "    y_pred_test = np.concatenate([y_pred_test, y_pred.cpu().numpy().flatten()])"
   ],
   "metadata": {
    "collapsed": false,
    "ExecuteTime": {
     "end_time": "2025-05-13T01:39:20.883038Z",
     "start_time": "2025-05-13T01:39:18.636940Z"
    }
   },
   "id": "442e06940bad15f1",
   "execution_count": 38
  },
  {
   "cell_type": "code",
   "execution_count": 42,
   "id": "600de03afd472c31",
   "metadata": {
    "collapsed": false,
    "execution": {
     "iopub.execute_input": "2025-03-11T23:31:55.555294Z",
     "iopub.status.busy": "2025-03-11T23:31:55.553842Z",
     "iopub.status.idle": "2025-03-11T23:31:56.310393Z",
     "shell.execute_reply": "2025-03-11T23:31:56.309286Z",
     "shell.execute_reply.started": "2025-03-11T23:31:55.555236Z"
    },
    "ExecuteTime": {
     "end_time": "2025-05-13T01:42:40.900985Z",
     "start_time": "2025-05-13T01:42:40.892134Z"
    }
   },
   "outputs": [
    {
     "name": "stdout",
     "output_type": "stream",
     "text": [
      "Обучающая выборка\n",
      "R2                                       -0.58392\n",
      "MSE                                       48.779\n",
      "MAE                                       2.4365\n",
      "Доля предсказаний 0,95-1,1 от цены        0.03594\n",
      "Тестовая выборка\n",
      "R2                                        0.85141\n",
      "MSE                                       3.669\n",
      "MAE                                       0.57607\n",
      "Доля предсказаний 0,95-1,1 от цены        0.11422\n"
     ]
    }
   ],
   "source": [
    "# Вычислим метрики\n",
    "print_metrics(y_train=y_train_all,\n",
    "              y_test=y_test,\n",
    "              train_pred=y_pred_train,\n",
    "              test_pred=y_pred_test,\n",
    "              log_y=False)"
   ]
  },
  {
   "cell_type": "markdown",
   "source": [
    "Улучшить метрики по сравнению с классическими и бустинговыми моделями не удалось. Возможно, требуется больше эпох. Остановимся на данном этапе на бустинговых моделях, которые дали лучшие результаты."
   ],
   "metadata": {
    "collapsed": false
   },
   "id": "40d730213a165e4b"
  }
 ],
 "metadata": {
  "kernelspec": {
   "display_name": "DataSphere Kernel",
   "language": "python",
   "name": "python3"
  },
  "language_info": {
   "codemirror_mode": {
    "name": "ipython",
    "version": 3
   },
   "file_extension": ".py",
   "mimetype": "text/x-python",
   "name": "python",
   "nbconvert_exporter": "python",
   "pygments_lexer": "ipython3",
   "version": "3.10.12"
  }
 },
 "nbformat": 4,
 "nbformat_minor": 5
}
