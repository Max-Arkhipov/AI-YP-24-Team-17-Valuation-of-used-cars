{
 "cells": [
  {
   "cell_type": "code",
   "execution_count": 1,
   "id": "initial_id",
   "metadata": {
    "ExecuteTime": {
     "end_time": "2025-03-06T18:58:36.250589Z",
     "start_time": "2025-03-06T18:58:35.206441Z"
    },
    "collapsed": true,
    "jupyter": {
     "outputs_hidden": true
    }
   },
   "outputs": [],
   "source": [
    "import pandas as pd\n",
    "import joblib\n",
    "import os\n",
    "import numpy as np\n",
    "import random\n",
    "random.seed(5)\n",
    "np.random.seed(5)\n",
    "\n",
    "# Визуализация\n",
    "import matplotlib.pyplot as plt\n",
    "\n",
    "# Модели\n",
    "from sklearn.linear_model import LinearRegression\n",
    "from sklearn.linear_model import Lasso\n",
    "from sklearn.linear_model import ElasticNet\n",
    "from sklearn.linear_model import Ridge\n",
    "\n",
    "# Метрики\n",
    "from sklearn.metrics import (r2_score,\n",
    "                             mean_squared_error as MSE,\n",
    "                             mean_absolute_error as MAE)\n",
    "\n",
    "# Создание пайплайна\n",
    "from sklearn.compose import make_column_transformer\n",
    "from sklearn.pipeline import make_pipeline\n",
    "\n",
    "# Масштабирование и кодирование признаков\n",
    "from sklearn.preprocessing import (StandardScaler,\n",
    "                                   OneHotEncoder,\n",
    "                                   PolynomialFeatures)\n",
    "\n",
    "# Подбор гиперпараметров\n",
    "from sklearn.model_selection import GridSearchCV\n",
    "\n",
    "DATA_PATH = '../data'\n",
    "MODEL_PATH = '../models/'"
   ]
  },
  {
   "cell_type": "markdown",
   "id": "55722875c92a966a",
   "metadata": {},
   "source": [
    "## Загрузка и подготовка данных"
   ]
  },
  {
   "cell_type": "code",
   "execution_count": 2,
   "id": "9047e7c0795f8c2e",
   "metadata": {
    "ExecuteTime": {
     "end_time": "2025-03-06T18:58:37.366103Z",
     "start_time": "2025-03-06T18:58:36.251590Z"
    },
    "collapsed": false
   },
   "outputs": [
    {
     "name": "stdout",
     "output_type": "stream",
     "text": [
      "train (122898, 50), test (40966, 50)\n"
     ]
    }
   ],
   "source": [
    "# Загрузим датасет.\n",
    "# Зададим типы данных в колонках.\n",
    "dtypes_of_data = {\n",
    "            'car_make':'category',\n",
    "            'car_model':'category',\n",
    "            'car_gen':'category',\n",
    "            'car_type':'category',\n",
    "            'car_compl':'object',\n",
    "            #'ann_date':datetime64[ns],\n",
    "            'car_price':float,\n",
    "            'ann_city':'category',\n",
    "            'avail':'category',\n",
    "            'year':int,\n",
    "            'mileage':float,\n",
    "            'color':'category',\n",
    "            'eng_size':float,\n",
    "            'eng_power':int,\n",
    "            'eng_type':'category',\n",
    "            'pow_resrv':int,\n",
    "            'options':'object',\n",
    "            'transmission':'category',\n",
    "            'drive':'category',\n",
    "            'st_wheel':'category',\n",
    "            'count_owner':int,\n",
    "            'original_pts':'category',\n",
    "            'state_mark':'category',\n",
    "            'class_auto':'category',\n",
    "            'door_count':int,\n",
    "            'long':int,\n",
    "            'width':int,\n",
    "            'height':int,\n",
    "            'clearence':int,\n",
    "            'v_tank':int,\n",
    "            'curb_weight':int,\n",
    "            'front_brakes':'category',\n",
    "            'rear_brakes':'category',\n",
    "            'max_speed':int,\n",
    "            'acceleration':float,\n",
    "            'fuel_cons':float,\n",
    "            'fuel_brand':'category',\n",
    "            'engine_loc1':'category',\n",
    "            'engine_loc2':'category',\n",
    "            'turbocharg':'category',\n",
    "            'max_torq':int,\n",
    "            'cyl_count':int,\n",
    "            'seat_count':int,\n",
    "            'v_bag':int,\n",
    "            'acc_capacity':int,\n",
    "            'age':int,\n",
    "            'age_mod':float,\n",
    "            'mileage_mod': float,\n",
    "            'acceleration_mod': float,\n",
    "            'cyl_count_mod': float            \n",
    "        }\n",
    "try:\n",
    "    train = pd.read_csv(os.path.join(DATA_PATH, 'processed_train.csv'),\n",
    "                   dtype=dtypes_of_data, parse_dates=['ann_date'])\n",
    "    test = pd.read_csv(os.path.join(DATA_PATH, 'processed_test.csv'),\n",
    "               dtype=dtypes_of_data, parse_dates=['ann_date'])\n",
    "except:\n",
    "    print('Changed directory for model to current directory')\n",
    "    train = pd.read_csv('processed_train.csv',\n",
    "                   dtype=dtypes_of_data, parse_dates=['ann_date'])\n",
    "    test = pd.read_csv('processed_test.csv',\n",
    "               dtype=dtypes_of_data, parse_dates=['ann_date'])\n",
    "print(f'train {train.shape}, test {test.shape}')"
   ]
  },
  {
   "cell_type": "code",
   "execution_count": 3,
   "id": "7e7faea3897def1d",
   "metadata": {
    "ExecuteTime": {
     "end_time": "2025-03-06T18:58:37.426844Z",
     "start_time": "2025-03-06T18:58:37.367103Z"
    },
    "collapsed": false
   },
   "outputs": [],
   "source": [
    "# Уменьшим избыточную разрядность чисел\n",
    "fcols = train.select_dtypes('floating').columns\n",
    "icols = train.select_dtypes('integer').columns\n",
    "train[fcols] = train[fcols].apply(pd.to_numeric, downcast='float')\n",
    "train[icols] = train[icols].apply(pd.to_numeric, downcast='integer')\n",
    "test[fcols] = test[fcols].apply(pd.to_numeric, downcast='float')\n",
    "test[icols] = test[icols].apply(pd.to_numeric, downcast='integer')"
   ]
  },
  {
   "cell_type": "code",
   "execution_count": 4,
   "id": "6d2f8d0fe4538dec",
   "metadata": {
    "ExecuteTime": {
     "end_time": "2025-03-06T18:58:37.452387Z",
     "start_time": "2025-03-06T18:58:37.426844Z"
    },
    "collapsed": false
   },
   "outputs": [
    {
     "name": "stdout",
     "output_type": "stream",
     "text": [
      "<class 'pandas.core.frame.DataFrame'>\n",
      "RangeIndex: 122898 entries, 0 to 122897\n",
      "Data columns (total 50 columns):\n",
      " #   Column            Non-Null Count   Dtype         \n",
      "---  ------            --------------   -----         \n",
      " 0   car_make          122898 non-null  category      \n",
      " 1   car_model         122898 non-null  category      \n",
      " 2   car_gen           122898 non-null  category      \n",
      " 3   car_type          122898 non-null  category      \n",
      " 4   car_compl         122898 non-null  object        \n",
      " 5   car_price         122898 non-null  float32       \n",
      " 6   ann_city          122898 non-null  category      \n",
      " 7   avail             122898 non-null  category      \n",
      " 8   year              122898 non-null  int16         \n",
      " 9   mileage           122898 non-null  float32       \n",
      " 10  color             122898 non-null  category      \n",
      " 11  eng_size          122898 non-null  float32       \n",
      " 12  eng_power         122898 non-null  int16         \n",
      " 13  eng_type          122898 non-null  category      \n",
      " 14  pow_resrv         122898 non-null  int16         \n",
      " 15  options           122898 non-null  object        \n",
      " 16  transmission      122898 non-null  category      \n",
      " 17  drive             122898 non-null  category      \n",
      " 18  st_wheel          122898 non-null  category      \n",
      " 19  count_owner       122898 non-null  int8          \n",
      " 20  original_pts      122898 non-null  category      \n",
      " 21  state_mark        122898 non-null  category      \n",
      " 22  class_auto        122898 non-null  category      \n",
      " 23  door_count        122898 non-null  int8          \n",
      " 24  long              122898 non-null  int16         \n",
      " 25  width             122898 non-null  int16         \n",
      " 26  height            122898 non-null  int16         \n",
      " 27  v_tank            122898 non-null  int16         \n",
      " 28  curb_weight       122898 non-null  int16         \n",
      " 29  front_brakes      122898 non-null  category      \n",
      " 30  rear_brakes       122898 non-null  category      \n",
      " 31  max_speed         122898 non-null  int16         \n",
      " 32  acceleration      122898 non-null  float32       \n",
      " 33  fuel_cons         122898 non-null  float32       \n",
      " 34  fuel_brand        122898 non-null  category      \n",
      " 35  engine_loc1       122898 non-null  category      \n",
      " 36  engine_loc2       122898 non-null  category      \n",
      " 37  turbocharg        122898 non-null  category      \n",
      " 38  max_torq          122898 non-null  int16         \n",
      " 39  cyl_count         122898 non-null  int8          \n",
      " 40  seat_count        122898 non-null  int8          \n",
      " 41  clearence         122898 non-null  int16         \n",
      " 42  v_bag             122898 non-null  int16         \n",
      " 43  acc_capacity      122898 non-null  int16         \n",
      " 44  age               122898 non-null  int8          \n",
      " 45  age_mod           122898 non-null  float32       \n",
      " 46  mileage_mod       122898 non-null  float32       \n",
      " 47  acceleration_mod  122898 non-null  float32       \n",
      " 48  cyl_count_mod     122898 non-null  float32       \n",
      " 49  ann_date          122898 non-null  datetime64[ns]\n",
      "dtypes: category(20), datetime64[ns](1), float32(9), int16(13), int8(5), object(2)\n",
      "memory usage: 13.7+ MB\n"
     ]
    }
   ],
   "source": [
    "# Рассмотрим общие сведения\n",
    "train.info()"
   ]
  },
  {
   "cell_type": "code",
   "execution_count": 5,
   "id": "f24e6092724992c8",
   "metadata": {
    "ExecuteTime": {
     "end_time": "2025-03-06T18:58:37.469669Z",
     "start_time": "2025-03-06T18:58:37.453386Z"
    },
    "collapsed": false
   },
   "outputs": [
    {
     "name": "stdout",
     "output_type": "stream",
     "text": [
      "<class 'pandas.core.frame.DataFrame'>\n",
      "RangeIndex: 40966 entries, 0 to 40965\n",
      "Data columns (total 50 columns):\n",
      " #   Column            Non-Null Count  Dtype         \n",
      "---  ------            --------------  -----         \n",
      " 0   car_make          40966 non-null  category      \n",
      " 1   car_model         40966 non-null  category      \n",
      " 2   car_gen           40966 non-null  category      \n",
      " 3   car_type          40966 non-null  category      \n",
      " 4   car_compl         40966 non-null  object        \n",
      " 5   car_price         40966 non-null  float32       \n",
      " 6   ann_city          40966 non-null  category      \n",
      " 7   avail             40966 non-null  category      \n",
      " 8   year              40966 non-null  int16         \n",
      " 9   mileage           40966 non-null  float32       \n",
      " 10  color             40966 non-null  category      \n",
      " 11  eng_size          40966 non-null  float32       \n",
      " 12  eng_power         40966 non-null  int16         \n",
      " 13  eng_type          40966 non-null  category      \n",
      " 14  pow_resrv         40966 non-null  int16         \n",
      " 15  options           40966 non-null  object        \n",
      " 16  transmission      40966 non-null  category      \n",
      " 17  drive             40966 non-null  category      \n",
      " 18  st_wheel          40966 non-null  category      \n",
      " 19  count_owner       40966 non-null  int8          \n",
      " 20  original_pts      40966 non-null  category      \n",
      " 21  state_mark        40966 non-null  category      \n",
      " 22  class_auto        40966 non-null  category      \n",
      " 23  door_count        40966 non-null  int8          \n",
      " 24  long              40966 non-null  int16         \n",
      " 25  width             40966 non-null  int16         \n",
      " 26  height            40966 non-null  int16         \n",
      " 27  v_tank            40966 non-null  int16         \n",
      " 28  curb_weight       40966 non-null  int16         \n",
      " 29  front_brakes      40966 non-null  category      \n",
      " 30  rear_brakes       40966 non-null  category      \n",
      " 31  max_speed         40966 non-null  int16         \n",
      " 32  acceleration      40966 non-null  float32       \n",
      " 33  fuel_cons         40966 non-null  float32       \n",
      " 34  fuel_brand        40966 non-null  category      \n",
      " 35  engine_loc1       40966 non-null  category      \n",
      " 36  engine_loc2       40966 non-null  category      \n",
      " 37  turbocharg        40966 non-null  category      \n",
      " 38  max_torq          40966 non-null  int16         \n",
      " 39  cyl_count         40966 non-null  int8          \n",
      " 40  seat_count        40966 non-null  int8          \n",
      " 41  clearence         40966 non-null  int16         \n",
      " 42  v_bag             40966 non-null  int16         \n",
      " 43  acc_capacity      40966 non-null  int16         \n",
      " 44  age               40966 non-null  int8          \n",
      " 45  age_mod           40966 non-null  float32       \n",
      " 46  mileage_mod       40966 non-null  float32       \n",
      " 47  acceleration_mod  40966 non-null  float32       \n",
      " 48  cyl_count_mod     40966 non-null  float32       \n",
      " 49  ann_date          40966 non-null  datetime64[ns]\n",
      "dtypes: category(20), datetime64[ns](1), float32(9), int16(13), int8(5), object(2)\n",
      "memory usage: 4.6+ MB\n"
     ]
    }
   ],
   "source": [
    "# Рассмотрим общие сведения\n",
    "test.info()"
   ]
  },
  {
   "cell_type": "markdown",
   "id": "7ba18aea51bac9f0",
   "metadata": {},
   "source": [
    "## Метрики качества"
   ]
  },
  {
   "cell_type": "markdown",
   "id": "d80ef355084ec571",
   "metadata": {},
   "source": [
    "Для информации о качестве моделей будем рассчитывать R2, MSE, MAE."
   ]
  },
  {
   "cell_type": "markdown",
   "id": "6f3af8e706675cf3",
   "metadata": {},
   "source": [
    "Возьмём в качестве дополнительной метрики долю верно спрогнозированных цен, при этом ошибка недопрогноза и перепрогноза будет учитываться по-разному:\n",
    "- по недопрогнозов учитываем те прогнозы, которые в пределах отклонения under_est,\n",
    "- по перепрогнозам - те прогнозы, которые в пределах отклонения over_est.  \n",
    "Т.е. среди всех предсказанных цен на авто посчитаем долю прогнозов, отличающихся от реальных цен на эти авто не более чем на `under_est` в сторону уменьшения и не более чем на `over_est` в сторону увеличения."
   ]
  },
  {
   "cell_type": "code",
   "execution_count": 6,
   "id": "778e7a20e84dd028",
   "metadata": {
    "ExecuteTime": {
     "end_time": "2025-03-06T18:58:37.472581Z",
     "start_time": "2025-03-06T18:58:37.469669Z"
    },
    "collapsed": false
   },
   "outputs": [],
   "source": [
    "def good_prediction_part(y_true, y_pred, under_est=0.05, over_est=0.10):\n",
    "    deviations = y_pred / y_true\n",
    "\n",
    "    result = (((deviations - 1 <= over_est) & (deviations > 1)).sum() +\n",
    "              ((1 - deviations <= under_est) & (deviations < 1)).sum()) / len(y_true)\n",
    "\n",
    "    return result"
   ]
  },
  {
   "cell_type": "code",
   "execution_count": 7,
   "id": "8115c8555d5ec67",
   "metadata": {
    "ExecuteTime": {
     "end_time": "2025-03-06T18:58:37.476607Z",
     "start_time": "2025-03-06T18:58:37.472581Z"
    },
    "collapsed": false
   },
   "outputs": [],
   "source": [
    "def print_metrics(model, y_train, y_test, X_train, X_test, log_y=False):\n",
    "    test_pred = model.predict(X_test)\n",
    "    train_pred = model.predict(X_train)\n",
    "    if log_y:\n",
    "        test_pred = np.exp(test_pred)\n",
    "        train_pred = np.exp(train_pred)\n",
    "        \n",
    "    print('Обучающая выборка')\n",
    "    print(f'{\"R2\": <40} {r2_score(y_train, train_pred): .5}')\n",
    "    print(f'{\"MSE\": <40} {MSE(y_train, train_pred): .5}')\n",
    "    print(f'{\"MAE\": <40} {MAE(y_train, train_pred): .5}')\n",
    "    print(f'{\"Доля предсказаний 0,95-1,1 от цены\": <40} {good_prediction_part(y_train, train_pred): .5}')\n",
    "    print('Тестовая выборка')\n",
    "    print(f'{\"R2\": <40} {r2_score(y_test, test_pred): .5}')\n",
    "    print(f'{\"MSE\": <40} {MSE(y_test, test_pred): .5}')\n",
    "    print(f'{\"MAE\": <40} {MAE(y_test, test_pred): .5}')\n",
    "    print(f'{\"Доля предсказаний 0,95-1,1 от цены\": <40} {good_prediction_part(y_test, test_pred): .5}')"
   ]
  },
  {
   "cell_type": "markdown",
   "id": "bc1736c79717931f",
   "metadata": {},
   "source": [
    "## Модели на числовых признаках"
   ]
  },
  {
   "cell_type": "code",
   "execution_count": 8,
   "id": "9547e66466e33561",
   "metadata": {
    "ExecuteTime": {
     "end_time": "2025-03-06T18:58:37.479719Z",
     "start_time": "2025-03-06T18:58:37.476607Z"
    },
    "collapsed": false
   },
   "outputs": [],
   "source": [
    "# Список признаков\n",
    "X = ['car_make', 'car_model', 'car_gen', 'car_type', 'car_compl',\n",
    "       'ann_city', 'avail', 'year', 'mileage', 'color',\n",
    "       'eng_size', 'eng_power', 'eng_type', 'pow_resrv', 'options',\n",
    "       'transmission', 'drive', 'st_wheel', 'count_owner', 'original_pts',\n",
    "       'state_mark', 'class_auto', 'door_count', 'long', 'width', 'height',\n",
    "       'v_tank', 'curb_weight', 'front_brakes', 'rear_brakes', 'max_speed',\n",
    "       'acceleration', 'fuel_cons', 'fuel_brand', 'engine_loc1', 'engine_loc2',\n",
    "       'turbocharg', 'max_torq', 'cyl_count', 'seat_count', 'clearence',\n",
    "       'v_bag', 'acc_capacity', 'age', 'age_mod', 'mileage_mod',\n",
    "       'acceleration_mod', 'cyl_count_mod']\n",
    "\n",
    "# Целевая переменная\n",
    "y = 'car_price'"
   ]
  },
  {
   "cell_type": "code",
   "execution_count": 9,
   "id": "85a7ab9a3ef0a899",
   "metadata": {
    "ExecuteTime": {
     "end_time": "2025-03-06T18:58:37.501795Z",
     "start_time": "2025-03-06T18:58:37.479719Z"
    },
    "collapsed": false
   },
   "outputs": [
    {
     "data": {
      "text/plain": [
       "['year',\n",
       " 'mileage',\n",
       " 'eng_size',\n",
       " 'eng_power',\n",
       " 'pow_resrv',\n",
       " 'count_owner',\n",
       " 'door_count',\n",
       " 'long',\n",
       " 'width',\n",
       " 'height',\n",
       " 'v_tank',\n",
       " 'curb_weight',\n",
       " 'max_speed',\n",
       " 'acceleration',\n",
       " 'fuel_cons',\n",
       " 'max_torq',\n",
       " 'cyl_count',\n",
       " 'seat_count',\n",
       " 'clearence',\n",
       " 'v_bag',\n",
       " 'acc_capacity',\n",
       " 'age',\n",
       " 'age_mod',\n",
       " 'mileage_mod',\n",
       " 'acceleration_mod',\n",
       " 'cyl_count_mod']"
      ]
     },
     "execution_count": 9,
     "metadata": {},
     "output_type": "execute_result"
    }
   ],
   "source": [
    "# Составим список числовых признаков\n",
    "num_features = (\n",
    "    train[X].select_dtypes(\n",
    "    exclude=['object', 'category']\n",
    "    ).columns.to_list()\n",
    ")\n",
    "num_features"
   ]
  },
  {
   "cell_type": "code",
   "execution_count": 10,
   "id": "e012dc47fcc40d3d",
   "metadata": {
    "ExecuteTime": {
     "end_time": "2025-03-06T18:58:37.517838Z",
     "start_time": "2025-03-06T18:58:37.501795Z"
    },
    "collapsed": false
   },
   "outputs": [
    {
     "data": {
      "text/plain": [
       "['car_make',\n",
       " 'car_model',\n",
       " 'car_gen',\n",
       " 'car_type',\n",
       " 'ann_city',\n",
       " 'avail',\n",
       " 'color',\n",
       " 'eng_type',\n",
       " 'transmission',\n",
       " 'drive',\n",
       " 'st_wheel',\n",
       " 'original_pts',\n",
       " 'state_mark',\n",
       " 'class_auto',\n",
       " 'front_brakes',\n",
       " 'rear_brakes',\n",
       " 'fuel_brand',\n",
       " 'engine_loc1',\n",
       " 'engine_loc2',\n",
       " 'turbocharg']"
      ]
     },
     "execution_count": 10,
     "metadata": {},
     "output_type": "execute_result"
    }
   ],
   "source": [
    "# Составим список категориальных признаков\n",
    "cat_features = train[X].select_dtypes(include=['category']).columns.to_list()\n",
    "cat_features"
   ]
  },
  {
   "cell_type": "code",
   "execution_count": 11,
   "id": "9afed57fdcde5e53",
   "metadata": {
    "ExecuteTime": {
     "end_time": "2025-03-06T18:58:37.538623Z",
     "start_time": "2025-03-06T18:58:37.517838Z"
    },
    "collapsed": false
   },
   "outputs": [],
   "source": [
    "y_train = train[y].copy()\n",
    "X_train_num = train[num_features].copy()\n",
    "y_test = test[y].copy()\n",
    "X_test_num = test[num_features].copy()"
   ]
  },
  {
   "cell_type": "code",
   "execution_count": 12,
   "id": "b4fc2e33a105c2e8",
   "metadata": {
    "ExecuteTime": {
     "end_time": "2025-03-06T18:58:37.542177Z",
     "start_time": "2025-03-06T18:58:37.538623Z"
    },
    "collapsed": false
   },
   "outputs": [
    {
     "data": {
      "text/plain": [
       "((122898, 26), (122898,))"
      ]
     },
     "execution_count": 12,
     "metadata": {},
     "output_type": "execute_result"
    }
   ],
   "source": [
    "# Проверим размерность\n",
    "X_train_num.shape, y_train.shape"
   ]
  },
  {
   "cell_type": "code",
   "execution_count": 13,
   "id": "3ebe073ba1ade716",
   "metadata": {
    "ExecuteTime": {
     "end_time": "2025-03-06T18:58:37.545577Z",
     "start_time": "2025-03-06T18:58:37.542177Z"
    },
    "collapsed": false
   },
   "outputs": [
    {
     "data": {
      "text/plain": [
       "((40966, 26), (40966,))"
      ]
     },
     "execution_count": 13,
     "metadata": {},
     "output_type": "execute_result"
    }
   ],
   "source": [
    "# Проверим размерность\n",
    "X_test_num.shape, y_test.shape"
   ]
  },
  {
   "cell_type": "code",
   "execution_count": 14,
   "id": "347061771f8a12b5",
   "metadata": {
    "ExecuteTime": {
     "end_time": "2025-03-06T18:58:37.549602Z",
     "start_time": "2025-03-06T18:58:37.547598Z"
    },
    "collapsed": false
   },
   "outputs": [],
   "source": [
    "# Определим набор преобразований столбцов\n",
    "col_transformer = make_column_transformer(\n",
    "    (\n",
    "        StandardScaler(),\n",
    "        num_features\n",
    "    ),\n",
    "    remainder='passthrough',\n",
    "    verbose_feature_names_out=True\n",
    ")"
   ]
  },
  {
   "cell_type": "markdown",
   "id": "272b98bebd187827",
   "metadata": {},
   "source": [
    "### Линейная регрессия"
   ]
  },
  {
   "cell_type": "code",
   "execution_count": 15,
   "id": "d2c88dc14ccd57f3",
   "metadata": {
    "ExecuteTime": {
     "end_time": "2025-03-06T18:58:37.730246Z",
     "start_time": "2025-03-06T18:58:37.549602Z"
    },
    "collapsed": false
   },
   "outputs": [
    {
     "name": "stdout",
     "output_type": "stream",
     "text": [
      "Обучающая выборка\n",
      "R2                                        0.41713\n",
      "MSE                                       17.95\n",
      "MAE                                       1.4264\n",
      "Доля предсказаний 0,95-1,1 от цены        0.052409\n",
      "Тестовая выборка\n",
      "R2                                        0.46549\n",
      "MSE                                       13.199\n",
      "MAE                                       1.4049\n",
      "Доля предсказаний 0,95-1,1 от цены        0.051164\n"
     ]
    }
   ],
   "source": [
    "# Пайплайн обработки данных и обучения Линейной регрессии\n",
    "lr_pl = make_pipeline(col_transformer, LinearRegression())\n",
    "# Обучим модель\n",
    "lr_pl.fit(X_train_num, y_train)\n",
    "\n",
    "# Вычислим метрики\n",
    "print_metrics(model=lr_pl,\n",
    "              y_train=y_train,\n",
    "              y_test=y_test,\n",
    "              X_train=X_train_num,\n",
    "              X_test=X_test_num)\n",
    "\n",
    "# Сохраним модель\n",
    "try:\n",
    "    _ = joblib.dump(lr_pl,\n",
    "                    os.path.join(MODEL_PATH, 'lr_pl.pkl'),\n",
    "                    compress=0)\n",
    "except:\n",
    "    print('Changed directory for model to current directory')\n",
    "    _ = joblib.dump(lr_pl,\n",
    "                    'lr_pl.pkl',\n",
    "                    compress=0)"
   ]
  },
  {
   "cell_type": "markdown",
   "id": "21b67b8df3a14b59",
   "metadata": {},
   "source": [
    "### Линейная регрессия (Lasso)"
   ]
  },
  {
   "cell_type": "code",
   "execution_count": 16,
   "id": "2062c64bc309cab1",
   "metadata": {
    "ExecuteTime": {
     "end_time": "2025-03-06T18:58:44.297072Z",
     "start_time": "2025-03-06T18:58:37.730246Z"
    },
    "collapsed": false
   },
   "outputs": [
    {
     "name": "stdout",
     "output_type": "stream",
     "text": [
      "Fitting 4 folds for each of 20 candidates, totalling 80 fits\n",
      "best_score: 0.4106066823005676\n",
      "best_params: {'lasso__alpha': np.float64(0.1)}\n"
     ]
    }
   ],
   "source": [
    "# Пайплайн обработки данных и обучения модели Lasso\n",
    "lasso_pl = make_pipeline(col_transformer, Lasso())\n",
    "\n",
    "\n",
    "param_grid_lasso = {\n",
    "    'lasso__alpha': np.linspace(0.1, 10, 20)\n",
    "}\n",
    "gs_lasso_pl = GridSearchCV(\n",
    "                           lasso_pl,\n",
    "                           param_grid=param_grid_lasso,\n",
    "                           scoring='r2',\n",
    "                           cv=4,\n",
    "                           n_jobs=-1,\n",
    "                           pre_dispatch=6,\n",
    "                           verbose=3,\n",
    "                           error_score='raise'\n",
    ")\n",
    "\n",
    "gs_lasso_pl.fit(X_train_num, y_train)\n",
    "\n",
    "# лучшее значение R2 на кросс-валидации\n",
    "print(f'best_score: {gs_lasso_pl.best_score_}')\n",
    "# лучшие гиперпараметры\n",
    "print(f'best_params: {gs_lasso_pl.best_params_}')\n",
    "# Сохраним модель\n",
    "try:\n",
    "    _ = joblib.dump(gs_lasso_pl.best_estimator_,\n",
    "                    os.path.join(MODEL_PATH, 'gs_lasso_pl.pkl'),\n",
    "                    compress=0)\n",
    "except:\n",
    "    print('Changed directory for model to current directory')\n",
    "    _ = joblib.dump(gs_lasso_pl.best_estimator_,\n",
    "                    'gs_lasso_pl.pkl',\n",
    "                    compress=0)"
   ]
  },
  {
   "cell_type": "code",
   "execution_count": 17,
   "id": "5e417b64740d2912",
   "metadata": {
    "ExecuteTime": {
     "end_time": "2025-03-06T18:58:44.345946Z",
     "start_time": "2025-03-06T18:58:44.298075Z"
    },
    "collapsed": false
   },
   "outputs": [
    {
     "name": "stdout",
     "output_type": "stream",
     "text": [
      "Обучающая выборка\n",
      "R2                                        0.39904\n",
      "MSE                                       18.507\n",
      "MAE                                       1.2716\n",
      "Доля предсказаний 0,95-1,1 от цены        0.065436\n",
      "Тестовая выборка\n",
      "R2                                        0.44734\n",
      "MSE                                       13.647\n",
      "MAE                                       1.2549\n",
      "Доля предсказаний 0,95-1,1 от цены        0.06503\n"
     ]
    }
   ],
   "source": [
    "# Вычислим метрики\n",
    "print_metrics(model=gs_lasso_pl.best_estimator_,\n",
    "              y_train=y_train,\n",
    "              y_test=y_test,\n",
    "              X_train=X_train_num,\n",
    "              X_test=X_test_num)"
   ]
  },
  {
   "cell_type": "markdown",
   "id": "62d7ccfbbcbfe8a0",
   "metadata": {},
   "source": [
    "### ElasticNet"
   ]
  },
  {
   "cell_type": "code",
   "execution_count": 18,
   "id": "aecd35767ff1e4cc",
   "metadata": {
    "ExecuteTime": {
     "end_time": "2025-03-06T18:59:01.511221Z",
     "start_time": "2025-03-06T18:58:44.346950Z"
    },
    "collapsed": false
   },
   "outputs": [
    {
     "name": "stdout",
     "output_type": "stream",
     "text": [
      "Fitting 4 folds for each of 200 candidates, totalling 800 fits\n",
      "best_score: 0.4148121476173401\n",
      "best_params: {'elasticnet__alpha': np.float64(0.1), 'elasticnet__l1_ratio': np.float64(0.1)}\n"
     ]
    }
   ],
   "source": [
    "# Пайплайн обработки данных и обучения модели ElasticNet\n",
    "elnet_pl = make_pipeline(col_transformer, ElasticNet())\n",
    "\n",
    "param_grid_elnet = {\n",
    "    'elasticnet__alpha': np.linspace(0.1, 10, 20),\n",
    "    'elasticnet__l1_ratio': np.linspace(0.1, 1, 10),\n",
    "}\n",
    "gs_elnet_pl = GridSearchCV(\n",
    "                           elnet_pl,\n",
    "                           param_grid=param_grid_elnet,\n",
    "                           scoring='r2',\n",
    "                           cv=4,\n",
    "                           n_jobs=-1,\n",
    "                           verbose=3,\n",
    "                           error_score='raise'\n",
    ")\n",
    "\n",
    "gs_elnet_pl.fit(X_train_num, y_train)\n",
    "\n",
    "# лучшее значение R2 на кросс-валидации\n",
    "print(f'best_score: {gs_elnet_pl.best_score_}')\n",
    "# лучшие гиперпараметры\n",
    "print(f'best_params: {gs_elnet_pl.best_params_}')\n",
    "# Сохраним модель\n",
    "try:\n",
    "    _ = joblib.dump(gs_elnet_pl.best_estimator_,\n",
    "                    os.path.join(MODEL_PATH, 'gs_elnet_pl.pkl'),\n",
    "                    compress=0)\n",
    "except:\n",
    "    print('Changed directory for model to current directory')\n",
    "    _ = joblib.dump(gs_elnet_pl.best_estimator_,\n",
    "                    'gs_elnet_pl.pkl',\n",
    "                    compress=0)"
   ]
  },
  {
   "cell_type": "code",
   "execution_count": 19,
   "id": "d4f876c14db6008e",
   "metadata": {
    "ExecuteTime": {
     "end_time": "2025-03-06T18:59:01.552398Z",
     "start_time": "2025-03-06T18:59:01.512225Z"
    },
    "collapsed": false
   },
   "outputs": [
    {
     "name": "stdout",
     "output_type": "stream",
     "text": [
      "Обучающая выборка\n",
      "R2                                        0.40276\n",
      "MSE                                       18.393\n",
      "MAE                                       1.2976\n",
      "Доля предсказаний 0,95-1,1 от цены        0.061742\n",
      "Тестовая выборка\n",
      "R2                                        0.45031\n",
      "MSE                                       13.573\n",
      "MAE                                       1.2816\n",
      "Доля предсказаний 0,95-1,1 от цены        0.063955\n"
     ]
    }
   ],
   "source": [
    "# Вычислим метрики\n",
    "print_metrics(model=gs_elnet_pl.best_estimator_,\n",
    "              y_train=y_train,\n",
    "              y_test=y_test,\n",
    "              X_train=X_train_num,\n",
    "              X_test=X_test_num)"
   ]
  },
  {
   "cell_type": "markdown",
   "id": "66fe2dcd5b7e2769",
   "metadata": {},
   "source": [
    "### Ridge"
   ]
  },
  {
   "cell_type": "code",
   "execution_count": 20,
   "id": "4b6de5f706a47121",
   "metadata": {
    "ExecuteTime": {
     "end_time": "2025-03-06T18:59:03.193441Z",
     "start_time": "2025-03-06T18:59:01.552398Z"
    },
    "collapsed": false
   },
   "outputs": [
    {
     "name": "stdout",
     "output_type": "stream",
     "text": [
      "Fitting 4 folds for each of 20 candidates, totalling 80 fits\n",
      "best_score: 0.42410334944725037\n",
      "best_params: {'ridge__alpha': np.float64(10.0)}\n"
     ]
    }
   ],
   "source": [
    "# Пайплайн обработки данных и обучения линейной модели\n",
    "ridge_pl = make_pipeline(col_transformer, Ridge())\n",
    "\n",
    "param_grid_ridge = {\n",
    "    'ridge__alpha': np.linspace(0.1, 10, 20)\n",
    "}\n",
    "gs_ridge_pl = GridSearchCV(\n",
    "                           ridge_pl,\n",
    "                           param_grid=param_grid_ridge,\n",
    "                           scoring='r2',\n",
    "                           cv=4,\n",
    "                           n_jobs=-1,\n",
    "                           verbose=3,\n",
    "                           error_score='raise'\n",
    ")\n",
    "\n",
    "gs_ridge_pl.fit(X_train_num, y_train)\n",
    "\n",
    "# лучшее значение R2 на кросс-валидации\n",
    "print(f'best_score: {gs_ridge_pl.best_score_}')\n",
    "# лучшие гиперпараметры\n",
    "print(f'best_params: {gs_ridge_pl.best_params_}')\n",
    "# Сохраним модель\n",
    "try:\n",
    "    _ = joblib.dump(gs_ridge_pl.best_estimator_,\n",
    "                    os.path.join(MODEL_PATH, 'gs_ridge_pl.pkl'),\n",
    "                    compress=0)\n",
    "except:\n",
    "    print('Changed directory for model to current directory')\n",
    "    _ = joblib.dump(gs_ridge_pl.best_estimator_,\n",
    "                    'gs_ridge_pl.pkl',\n",
    "                    compress=0)"
   ]
  },
  {
   "cell_type": "code",
   "execution_count": 21,
   "id": "5d881ccf0da11100",
   "metadata": {
    "ExecuteTime": {
     "end_time": "2025-03-06T18:59:03.235364Z",
     "start_time": "2025-03-06T18:59:03.193441Z"
    },
    "collapsed": false
   },
   "outputs": [
    {
     "name": "stdout",
     "output_type": "stream",
     "text": [
      "Обучающая выборка\n",
      "R2                                        0.41718\n",
      "MSE                                       17.949\n",
      "MAE                                       1.4259\n",
      "Доля предсказаний 0,95-1,1 от цены        0.052426\n",
      "Тестовая выборка\n",
      "R2                                        0.46551\n",
      "MSE                                       13.198\n",
      "MAE                                       1.4043\n",
      "Доля предсказаний 0,95-1,1 от цены        0.051213\n"
     ]
    }
   ],
   "source": [
    "# Вычислим метрики\n",
    "print_metrics(model=gs_ridge_pl.best_estimator_,\n",
    "              y_train=y_train,\n",
    "              y_test=y_test,\n",
    "              X_train=X_train_num,\n",
    "              X_test=X_test_num)"
   ]
  },
  {
   "cell_type": "markdown",
   "id": "1c9c26f1fea98ffa",
   "metadata": {},
   "source": [
    "Качество моделей только на числовых признаках невысокое."
   ]
  },
  {
   "cell_type": "markdown",
   "id": "7658aa94a5c6f792",
   "metadata": {},
   "source": [
    "## Модели на всех признаках"
   ]
  },
  {
   "cell_type": "code",
   "execution_count": 22,
   "id": "a7c3e23b3f2b9da4",
   "metadata": {
    "ExecuteTime": {
     "end_time": "2025-03-06T18:59:03.249212Z",
     "start_time": "2025-03-06T18:59:03.235364Z"
    },
    "collapsed": false
   },
   "outputs": [],
   "source": [
    "X_train = train[cat_features + num_features]\n",
    "X_test = test[cat_features + num_features]"
   ]
  },
  {
   "cell_type": "code",
   "execution_count": 23,
   "id": "166c27d2a10397",
   "metadata": {
    "ExecuteTime": {
     "end_time": "2025-03-06T18:59:03.252216Z",
     "start_time": "2025-03-06T18:59:03.249212Z"
    },
    "collapsed": false
   },
   "outputs": [],
   "source": [
    "# Обновим набор преобразований столбцов\n",
    "col_transformer = make_column_transformer(\n",
    "    (\n",
    "        OneHotEncoder(handle_unknown='ignore',\n",
    "                      drop='first',\n",
    "                      dtype='int16',\n",
    "                      sparse_output=True),\n",
    "        cat_features\n",
    "    ),\n",
    "    (\n",
    "        StandardScaler(),\n",
    "        num_features\n",
    "    ),\n",
    "    remainder='passthrough',\n",
    "    verbose_feature_names_out=True\n",
    ")"
   ]
  },
  {
   "cell_type": "markdown",
   "id": "fbb620bb7933dd52",
   "metadata": {},
   "source": [
    "### Линейная регрессия"
   ]
  },
  {
   "cell_type": "code",
   "execution_count": 24,
   "id": "e645f38f42ba06ad",
   "metadata": {
    "ExecuteTime": {
     "end_time": "2025-03-06T18:59:32.853489Z",
     "start_time": "2025-03-06T18:59:03.252216Z"
    },
    "collapsed": false
   },
   "outputs": [
    {
     "name": "stderr",
     "output_type": "stream",
     "text": [
      "D:\\YandexDisk-Dmitry\\HSE\\valuation_of_used_cars\\venv\\Lib\\site-packages\\sklearn\\preprocessing\\_encoders.py:246: UserWarning: Found unknown categories in columns [0, 1, 2, 3, 4] during transform. These unknown categories will be encoded as all zeros\n",
      "  warnings.warn(\n"
     ]
    },
    {
     "name": "stdout",
     "output_type": "stream",
     "text": [
      "Обучающая выборка\n",
      "R2                                        0.91671\n",
      "MSE                                       2.565\n",
      "MAE                                       0.68146\n",
      "Доля предсказаний 0,95-1,1 от цены        0.14636\n",
      "Тестовая выборка\n",
      "R2                                        0.84564\n",
      "MSE                                       3.8116\n",
      "MAE                                       0.73195\n",
      "Доля предсказаний 0,95-1,1 от цены        0.12833\n"
     ]
    }
   ],
   "source": [
    "# Пайплайн обработки данных и обучения Линейной регрессии\n",
    "lr_pl_ext = make_pipeline(col_transformer, LinearRegression())\n",
    "# Обучим модель\n",
    "lr_pl_ext.fit(X_train, y_train)\n",
    "\n",
    "# Вычислим метрики\n",
    "print_metrics(model=lr_pl_ext,\n",
    "              y_train=y_train,\n",
    "              y_test=y_test,\n",
    "              X_train=X_train,\n",
    "              X_test=X_test)\n",
    "\n",
    "# Сохраним модель\n",
    "try:\n",
    "    _ = joblib.dump(lr_pl_ext,\n",
    "                    os.path.join(MODEL_PATH, 'lr_pl_ext.pkl'),\n",
    "                    compress=0)\n",
    "except:\n",
    "    print('Changed directory for model to current directory')\n",
    "    _ = joblib.dump(lr_pl_ext,\n",
    "                    'lr_pl_ext.pkl',\n",
    "                    compress=0)"
   ]
  },
  {
   "cell_type": "markdown",
   "id": "d00c2d6e6aac737d",
   "metadata": {},
   "source": [
    "### Линейная регрессия (Lasso)"
   ]
  },
  {
   "cell_type": "code",
   "execution_count": 25,
   "id": "c525bfa089afa60e",
   "metadata": {
    "ExecuteTime": {
     "end_time": "2025-03-06T19:15:03.130199Z",
     "start_time": "2025-03-06T18:59:32.853489Z"
    },
    "collapsed": false
   },
   "outputs": [
    {
     "name": "stdout",
     "output_type": "stream",
     "text": [
      "Fitting 4 folds for each of 20 candidates, totalling 80 fits\n",
      "best_score: 0.4134744554758072\n",
      "best_params: {'lasso__alpha': np.float64(0.1)}\n"
     ]
    },
    {
     "name": "stderr",
     "output_type": "stream",
     "text": [
      "D:\\YandexDisk-Dmitry\\HSE\\valuation_of_used_cars\\venv\\Lib\\site-packages\\sklearn\\linear_model\\_coordinate_descent.py:656: ConvergenceWarning: Objective did not converge. You might want to increase the number of iterations. Duality gap: 1071.87890625, tolerance: 378.48016357421875\n",
      "  model = cd_fast.sparse_enet_coordinate_descent(\n"
     ]
    }
   ],
   "source": [
    "# Пайплайн обработки данных и обучения модели Lasso\n",
    "lasso_pl_ext = make_pipeline(col_transformer, Lasso())\n",
    "\n",
    "\n",
    "param_grid_lasso = {\n",
    "    'lasso__alpha': np.linspace(0.1, 10, 20)\n",
    "}\n",
    "gs_lasso_pl_ext = GridSearchCV(\n",
    "                           lasso_pl_ext,\n",
    "                           param_grid=param_grid_lasso,\n",
    "                           scoring='r2',\n",
    "                           cv=4,\n",
    "                           n_jobs=-1,\n",
    "                           verbose=3,\n",
    "                           error_score='raise'\n",
    ")\n",
    "\n",
    "gs_lasso_pl_ext.fit(X_train, y_train)\n",
    "\n",
    "# лучшее значение R2 на кросс-валидации\n",
    "print(f'best_score: {gs_lasso_pl_ext.best_score_}')\n",
    "# лучшие гиперпараметры\n",
    "print(f'best_params: {gs_lasso_pl_ext.best_params_}')\n",
    "# Сохраним модель\n",
    "try:\n",
    "    _ = joblib.dump(gs_lasso_pl_ext.best_estimator_,\n",
    "                    os.path.join(MODEL_PATH, 'gs_lasso_pl_ext.pkl'),\n",
    "                    compress=0)\n",
    "except:\n",
    "    print('Changed directory for model to current directory')\n",
    "    _ = joblib.dump(gs_lasso_pl_ext.best_estimator_,\n",
    "                    'gs_lasso_pl_ext.pkl',\n",
    "                    compress=0)"
   ]
  },
  {
   "cell_type": "code",
   "execution_count": 26,
   "id": "f4ac02c9107a0a65",
   "metadata": {
    "ExecuteTime": {
     "end_time": "2025-03-06T19:15:03.782654Z",
     "start_time": "2025-03-06T19:15:03.131201Z"
    },
    "collapsed": false
   },
   "outputs": [
    {
     "name": "stderr",
     "output_type": "stream",
     "text": [
      "D:\\YandexDisk-Dmitry\\HSE\\valuation_of_used_cars\\venv\\Lib\\site-packages\\sklearn\\preprocessing\\_encoders.py:246: UserWarning: Found unknown categories in columns [0, 1, 2, 3, 4] during transform. These unknown categories will be encoded as all zeros\n",
      "  warnings.warn(\n"
     ]
    },
    {
     "name": "stdout",
     "output_type": "stream",
     "text": [
      "Обучающая выборка\n",
      "R2                                        0.40183\n",
      "MSE                                       18.421\n",
      "MAE                                       1.2542\n",
      "Доля предсказаний 0,95-1,1 от цены        0.068675\n",
      "Тестовая выборка\n",
      "R2                                        0.45073\n",
      "MSE                                       13.563\n",
      "MAE                                       1.2377\n",
      "Доля предсказаний 0,95-1,1 от цены        0.068716\n"
     ]
    }
   ],
   "source": [
    "# Вычислим метрики\n",
    "print_metrics(model=gs_lasso_pl_ext.best_estimator_,\n",
    "              y_train=y_train,\n",
    "              y_test=y_test,\n",
    "              X_train=X_train,\n",
    "              X_test=X_test)"
   ]
  },
  {
   "cell_type": "markdown",
   "id": "1cc95e4c017f10c6",
   "metadata": {},
   "source": [
    "### ElasticNet"
   ]
  },
  {
   "cell_type": "code",
   "execution_count": 27,
   "id": "472005573851b5c",
   "metadata": {
    "ExecuteTime": {
     "end_time": "2025-03-06T19:39:06.751204Z",
     "start_time": "2025-03-06T19:15:03.783690Z"
    },
    "collapsed": false
   },
   "outputs": [
    {
     "name": "stdout",
     "output_type": "stream",
     "text": [
      "Fitting 4 folds for each of 200 candidates, totalling 800 fits\n",
      "best_score: 0.4380565285682678\n",
      "best_params: {'elasticnet__alpha': np.float64(0.1), 'elasticnet__l1_ratio': np.float64(0.1)}\n"
     ]
    },
    {
     "name": "stderr",
     "output_type": "stream",
     "text": [
      "D:\\YandexDisk-Dmitry\\HSE\\valuation_of_used_cars\\venv\\Lib\\site-packages\\sklearn\\linear_model\\_coordinate_descent.py:656: ConvergenceWarning: Objective did not converge. You might want to increase the number of iterations. Duality gap: 14664.01953125, tolerance: 378.48016357421875\n",
      "  model = cd_fast.sparse_enet_coordinate_descent(\n"
     ]
    }
   ],
   "source": [
    "# Пайплайн обработки данных и обучения модели ElastiNet\n",
    "elnet_pl_ext = make_pipeline(col_transformer, ElasticNet())\n",
    "\n",
    "param_grid_elnet = {\n",
    "    'elasticnet__alpha': np.linspace(0.1, 10, 20),\n",
    "    'elasticnet__l1_ratio': np.linspace(0.1, 1, 10),\n",
    "}\n",
    "gs_elnet_pl_ext = GridSearchCV(\n",
    "                           elnet_pl_ext,\n",
    "                           param_grid=param_grid_elnet,\n",
    "                           scoring='r2',\n",
    "                           cv=4,\n",
    "                           n_jobs=-1,\n",
    "                           verbose=3,\n",
    "                           error_score='raise'\n",
    ")\n",
    "\n",
    "gs_elnet_pl_ext.fit(X_train, y_train)\n",
    "\n",
    "# лучшее значение R2 на кросс-валидации\n",
    "print(f'best_score: {gs_elnet_pl_ext.best_score_}')\n",
    "# лучшие гиперпараметры\n",
    "print(f'best_params: {gs_elnet_pl_ext.best_params_}')\n",
    "# Сохраним модель\n",
    "try:\n",
    "    _ = joblib.dump(gs_elnet_pl_ext.best_estimator_,\n",
    "                    os.path.join(MODEL_PATH, 'gs_elnet_pl_ext.pkl'),\n",
    "                    compress=0)\n",
    "except:\n",
    "    print('Changed directory for model to current directory')\n",
    "    _ = joblib.dump(gs_elnet_pl_ext.best_estimator_,\n",
    "                    'gs_elnet_pl_ext.pkl',\n",
    "                    compress=0)"
   ]
  },
  {
   "cell_type": "code",
   "execution_count": 28,
   "id": "817ddedc24b98464",
   "metadata": {
    "ExecuteTime": {
     "end_time": "2025-03-06T19:39:07.410038Z",
     "start_time": "2025-03-06T19:39:06.751204Z"
    },
    "collapsed": false
   },
   "outputs": [
    {
     "name": "stderr",
     "output_type": "stream",
     "text": [
      "D:\\YandexDisk-Dmitry\\HSE\\valuation_of_used_cars\\venv\\Lib\\site-packages\\sklearn\\preprocessing\\_encoders.py:246: UserWarning: Found unknown categories in columns [0, 1, 2, 3, 4] during transform. These unknown categories will be encoded as all zeros\n",
      "  warnings.warn(\n"
     ]
    },
    {
     "name": "stdout",
     "output_type": "stream",
     "text": [
      "Обучающая выборка\n",
      "R2                                        0.42526\n",
      "MSE                                       17.7\n",
      "MAE                                       1.2378\n",
      "Доля предсказаний 0,95-1,1 от цены        0.064362\n",
      "Тестовая выборка\n",
      "R2                                        0.4766\n",
      "MSE                                       12.924\n",
      "MAE                                       1.2208\n",
      "Доля предсказаний 0,95-1,1 от цены        0.066592\n"
     ]
    }
   ],
   "source": [
    "# Вычислим метрики\n",
    "print_metrics(model=gs_elnet_pl_ext.best_estimator_,\n",
    "              y_train=y_train,\n",
    "              y_test=y_test,\n",
    "              X_train=X_train,\n",
    "              X_test=X_test)"
   ]
  },
  {
   "cell_type": "markdown",
   "id": "f5d42e92b5abd19e",
   "metadata": {},
   "source": [
    "### Ridge"
   ]
  },
  {
   "cell_type": "code",
   "execution_count": 29,
   "id": "f0f371526f0ad2f5",
   "metadata": {
    "ExecuteTime": {
     "end_time": "2025-03-06T19:40:47.647606Z",
     "start_time": "2025-03-06T19:39:07.411040Z"
    },
    "collapsed": false
   },
   "outputs": [
    {
     "name": "stdout",
     "output_type": "stream",
     "text": [
      "Fitting 4 folds for each of 20 candidates, totalling 80 fits\n",
      "best_score: 0.7838857173919678\n",
      "best_params: {'ridge__alpha': np.float64(0.6210526315789474)}\n"
     ]
    }
   ],
   "source": [
    "# Пайплайн обработки данных и обучения линейной модели\n",
    "ridge_pl_ext = make_pipeline(col_transformer, Ridge())\n",
    "\n",
    "param_grid_ridge = {\n",
    "    'ridge__alpha': np.linspace(0.1, 10, 20)\n",
    "}\n",
    "gs_ridge_pl_ext = GridSearchCV(\n",
    "                           ridge_pl_ext,\n",
    "                           param_grid=param_grid_ridge,\n",
    "                           scoring='r2',\n",
    "                           cv=4,\n",
    "                           n_jobs=-1,\n",
    "                           verbose=3,\n",
    "                           error_score='raise'\n",
    ")\n",
    "\n",
    "gs_ridge_pl_ext.fit(X_train, y_train)\n",
    "\n",
    "# лучшее значение R2 на кросс-валидации\n",
    "print(f'best_score: {gs_ridge_pl_ext.best_score_}')\n",
    "# лучшие гиперпараметры\n",
    "print(f'best_params: {gs_ridge_pl_ext.best_params_}')\n",
    "# Сохраним модель\n",
    "try:\n",
    "    _ = joblib.dump(gs_ridge_pl_ext.best_estimator_,\n",
    "                    os.path.join(MODEL_PATH, 'gs_ridge_pl_ext.pkl'),\n",
    "                    compress=0)\n",
    "except:\n",
    "    print('Changed directory for model to current directory')\n",
    "    _ = joblib.dump(gs_ridge_pl_ext.best_estimator_,\n",
    "                    'gs_ridge_pl_ext.pkl',\n",
    "                    compress=0)"
   ]
  },
  {
   "cell_type": "code",
   "execution_count": 30,
   "id": "4ce0bc6a099ed3ee",
   "metadata": {
    "ExecuteTime": {
     "end_time": "2025-03-06T19:40:48.327774Z",
     "start_time": "2025-03-06T19:40:47.648610Z"
    },
    "collapsed": false
   },
   "outputs": [
    {
     "name": "stderr",
     "output_type": "stream",
     "text": [
      "D:\\YandexDisk-Dmitry\\HSE\\valuation_of_used_cars\\venv\\Lib\\site-packages\\sklearn\\preprocessing\\_encoders.py:246: UserWarning: Found unknown categories in columns [0, 1, 2, 3, 4] during transform. These unknown categories will be encoded as all zeros\n",
      "  warnings.warn(\n"
     ]
    },
    {
     "name": "stdout",
     "output_type": "stream",
     "text": [
      "Обучающая выборка\n",
      "R2                                        0.90548\n",
      "MSE                                       2.911\n",
      "MAE                                       0.70724\n",
      "Доля предсказаний 0,95-1,1 от цены        0.1282\n",
      "Тестовая выборка\n",
      "R2                                        0.84874\n",
      "MSE                                       3.735\n",
      "MAE                                       0.7405\n",
      "Доля предсказаний 0,95-1,1 от цены        0.12374\n"
     ]
    }
   ],
   "source": [
    "# Вычислим метрики\n",
    "print_metrics(model=gs_ridge_pl_ext.best_estimator_,\n",
    "              y_train=y_train,\n",
    "              y_test=y_test,\n",
    "              X_train=X_train,\n",
    "              X_test=X_test)"
   ]
  },
  {
   "cell_type": "markdown",
   "id": "c38b997f719a638",
   "metadata": {},
   "source": [
    "## Попробуем улучшить модель"
   ]
  },
  {
   "cell_type": "markdown",
   "id": "97cb59826486d24e",
   "metadata": {},
   "source": [
    "Добавим полиномиальные признаки, уменьшим количество категорий категориальных признаков при OHE кодировании."
   ]
  },
  {
   "cell_type": "code",
   "execution_count": 31,
   "id": "54d00dca92b8c6f3",
   "metadata": {
    "ExecuteTime": {
     "end_time": "2025-03-06T19:40:48.631064Z",
     "start_time": "2025-03-06T19:40:48.327774Z"
    },
    "collapsed": false
   },
   "outputs": [
    {
     "data": {
      "text/html": [
       "<div>\n",
       "<style scoped>\n",
       "    .dataframe tbody tr th:only-of-type {\n",
       "        vertical-align: middle;\n",
       "    }\n",
       "\n",
       "    .dataframe tbody tr th {\n",
       "        vertical-align: top;\n",
       "    }\n",
       "\n",
       "    .dataframe thead th {\n",
       "        text-align: right;\n",
       "    }\n",
       "</style>\n",
       "<table border=\"1\" class=\"dataframe\">\n",
       "  <thead>\n",
       "    <tr style=\"text-align: right;\">\n",
       "      <th></th>\n",
       "      <th>car_make</th>\n",
       "      <th>car_model</th>\n",
       "      <th>car_gen</th>\n",
       "      <th>car_type</th>\n",
       "      <th>ann_city</th>\n",
       "      <th>avail</th>\n",
       "      <th>color</th>\n",
       "      <th>eng_type</th>\n",
       "      <th>transmission</th>\n",
       "      <th>drive</th>\n",
       "      <th>...</th>\n",
       "      <th>age_mod^2</th>\n",
       "      <th>age_mod mileage_mod</th>\n",
       "      <th>age_mod acceleration_mod</th>\n",
       "      <th>age_mod cyl_count_mod</th>\n",
       "      <th>mileage_mod^2</th>\n",
       "      <th>mileage_mod acceleration_mod</th>\n",
       "      <th>mileage_mod cyl_count_mod</th>\n",
       "      <th>acceleration_mod^2</th>\n",
       "      <th>acceleration_mod cyl_count_mod</th>\n",
       "      <th>cyl_count_mod^2</th>\n",
       "    </tr>\n",
       "  </thead>\n",
       "  <tbody>\n",
       "    <tr>\n",
       "      <th>0</th>\n",
       "      <td>Volkswagen</td>\n",
       "      <td>Tiguan</td>\n",
       "      <td>I</td>\n",
       "      <td>Внедорожник 5 дв.</td>\n",
       "      <td>Видное</td>\n",
       "      <td>В наличии</td>\n",
       "      <td>белый</td>\n",
       "      <td>Бензин</td>\n",
       "      <td>автоматическая</td>\n",
       "      <td>полный</td>\n",
       "      <td>...</td>\n",
       "      <td>3.741657</td>\n",
       "      <td>3.769554</td>\n",
       "      <td>6.086247</td>\n",
       "      <td>1.547469</td>\n",
       "      <td>3.797658</td>\n",
       "      <td>6.131624</td>\n",
       "      <td>1.559006</td>\n",
       "      <td>9.900000</td>\n",
       "      <td>2.517141</td>\n",
       "      <td>0.64</td>\n",
       "    </tr>\n",
       "    <tr>\n",
       "      <th>1</th>\n",
       "      <td>Chevrolet</td>\n",
       "      <td>Captiva</td>\n",
       "      <td>I</td>\n",
       "      <td>Внедорожник 5 дв.</td>\n",
       "      <td>Лида</td>\n",
       "      <td>В наличии</td>\n",
       "      <td>золотистый</td>\n",
       "      <td>Дизель</td>\n",
       "      <td>механическая</td>\n",
       "      <td>полный</td>\n",
       "      <td>...</td>\n",
       "      <td>4.123105</td>\n",
       "      <td>4.133709</td>\n",
       "      <td>6.885907</td>\n",
       "      <td>1.624434</td>\n",
       "      <td>4.144341</td>\n",
       "      <td>6.903616</td>\n",
       "      <td>1.628612</td>\n",
       "      <td>11.500000</td>\n",
       "      <td>2.712932</td>\n",
       "      <td>0.64</td>\n",
       "    </tr>\n",
       "    <tr>\n",
       "      <th>2</th>\n",
       "      <td>Porsche</td>\n",
       "      <td>Cayenne</td>\n",
       "      <td>I Рестайлинг</td>\n",
       "      <td>Внедорожник 5 дв.</td>\n",
       "      <td>Ставрополь</td>\n",
       "      <td>В наличии</td>\n",
       "      <td>чёрный</td>\n",
       "      <td>Бензин</td>\n",
       "      <td>автоматическая</td>\n",
       "      <td>полный</td>\n",
       "      <td>...</td>\n",
       "      <td>4.123105</td>\n",
       "      <td>3.842984</td>\n",
       "      <td>4.585612</td>\n",
       "      <td>129.954758</td>\n",
       "      <td>3.581894</td>\n",
       "      <td>4.274068</td>\n",
       "      <td>121.125710</td>\n",
       "      <td>5.100000</td>\n",
       "      <td>144.532349</td>\n",
       "      <td>4096.00</td>\n",
       "    </tr>\n",
       "    <tr>\n",
       "      <th>3</th>\n",
       "      <td>Chevrolet</td>\n",
       "      <td>Lacetti</td>\n",
       "      <td>I</td>\n",
       "      <td>Хэтчбек 5 дв.</td>\n",
       "      <td>Санкт-Петербург</td>\n",
       "      <td>В наличии</td>\n",
       "      <td>серый</td>\n",
       "      <td>Бензин</td>\n",
       "      <td>механическая</td>\n",
       "      <td>передний</td>\n",
       "      <td>...</td>\n",
       "      <td>4.358899</td>\n",
       "      <td>4.108764</td>\n",
       "      <td>4.835552</td>\n",
       "      <td>1.670238</td>\n",
       "      <td>3.872983</td>\n",
       "      <td>4.558065</td>\n",
       "      <td>1.574392</td>\n",
       "      <td>5.364328</td>\n",
       "      <td>1.852882</td>\n",
       "      <td>0.64</td>\n",
       "    </tr>\n",
       "    <tr>\n",
       "      <th>4</th>\n",
       "      <td>Lada (ВАЗ)</td>\n",
       "      <td>Granta</td>\n",
       "      <td>I Рестайлинг</td>\n",
       "      <td>Седан</td>\n",
       "      <td>Шелковская</td>\n",
       "      <td>В наличии</td>\n",
       "      <td>белый</td>\n",
       "      <td>Бензин</td>\n",
       "      <td>механическая</td>\n",
       "      <td>передний</td>\n",
       "      <td>...</td>\n",
       "      <td>0.000000</td>\n",
       "      <td>0.000000</td>\n",
       "      <td>0.000000</td>\n",
       "      <td>0.000000</td>\n",
       "      <td>2.059767</td>\n",
       "      <td>5.917435</td>\n",
       "      <td>1.148151</td>\n",
       "      <td>17.000000</td>\n",
       "      <td>3.298485</td>\n",
       "      <td>0.64</td>\n",
       "    </tr>\n",
       "  </tbody>\n",
       "</table>\n",
       "<p>5 rows × 372 columns</p>\n",
       "</div>"
      ],
      "text/plain": [
       "     car_make car_model       car_gen           car_type         ann_city  \\\n",
       "0  Volkswagen    Tiguan            I   Внедорожник 5 дв.           Видное   \n",
       "1   Chevrolet   Captiva            I   Внедорожник 5 дв.             Лида   \n",
       "2     Porsche   Cayenne  I Рестайлинг  Внедорожник 5 дв.       Ставрополь   \n",
       "3   Chevrolet   Lacetti            I       Хэтчбек 5 дв.  Санкт-Петербург   \n",
       "4  Lada (ВАЗ)    Granta  I Рестайлинг              Седан       Шелковская   \n",
       "\n",
       "       avail       color eng_type    transmission     drive  ... age_mod^2  \\\n",
       "0  В наличии       белый   Бензин  автоматическая    полный  ...  3.741657   \n",
       "1  В наличии  золотистый   Дизель    механическая    полный  ...  4.123105   \n",
       "2  В наличии      чёрный   Бензин  автоматическая    полный  ...  4.123105   \n",
       "3  В наличии       серый   Бензин    механическая  передний  ...  4.358899   \n",
       "4  В наличии       белый   Бензин    механическая  передний  ...  0.000000   \n",
       "\n",
       "  age_mod mileage_mod age_mod acceleration_mod age_mod cyl_count_mod  \\\n",
       "0            3.769554                 6.086247              1.547469   \n",
       "1            4.133709                 6.885907              1.624434   \n",
       "2            3.842984                 4.585612            129.954758   \n",
       "3            4.108764                 4.835552              1.670238   \n",
       "4            0.000000                 0.000000              0.000000   \n",
       "\n",
       "  mileage_mod^2 mileage_mod acceleration_mod mileage_mod cyl_count_mod  \\\n",
       "0      3.797658                     6.131624                  1.559006   \n",
       "1      4.144341                     6.903616                  1.628612   \n",
       "2      3.581894                     4.274068                121.125710   \n",
       "3      3.872983                     4.558065                  1.574392   \n",
       "4      2.059767                     5.917435                  1.148151   \n",
       "\n",
       "  acceleration_mod^2 acceleration_mod cyl_count_mod cyl_count_mod^2  \n",
       "0           9.900000                       2.517141            0.64  \n",
       "1          11.500000                       2.712932            0.64  \n",
       "2           5.100000                     144.532349         4096.00  \n",
       "3           5.364328                       1.852882            0.64  \n",
       "4          17.000000                       3.298485            0.64  \n",
       "\n",
       "[5 rows x 372 columns]"
      ]
     },
     "execution_count": 31,
     "metadata": {},
     "output_type": "execute_result"
    }
   ],
   "source": [
    "# Создадим преобразователь признаков\n",
    "pf = PolynomialFeatures(degree = 2)\n",
    "\n",
    "# Обучим и преобразуем обучающую выборку\n",
    "X_poly = pf.fit_transform(X_train[num_features])\n",
    "X_poly = pd.DataFrame(X_poly,\n",
    "                      index = X_train.index,\n",
    "                      columns = pf.get_feature_names_out())\n",
    "X_train_poly = pd.concat([X_train, X_poly], axis=1).drop(columns=num_features)\n",
    "X_train_poly.head()"
   ]
  },
  {
   "cell_type": "code",
   "execution_count": 32,
   "id": "8038595b7afc3bd0",
   "metadata": {
    "ExecuteTime": {
     "end_time": "2025-03-06T19:40:48.739059Z",
     "start_time": "2025-03-06T19:40:48.632068Z"
    },
    "collapsed": false
   },
   "outputs": [
    {
     "data": {
      "text/html": [
       "<div>\n",
       "<style scoped>\n",
       "    .dataframe tbody tr th:only-of-type {\n",
       "        vertical-align: middle;\n",
       "    }\n",
       "\n",
       "    .dataframe tbody tr th {\n",
       "        vertical-align: top;\n",
       "    }\n",
       "\n",
       "    .dataframe thead th {\n",
       "        text-align: right;\n",
       "    }\n",
       "</style>\n",
       "<table border=\"1\" class=\"dataframe\">\n",
       "  <thead>\n",
       "    <tr style=\"text-align: right;\">\n",
       "      <th></th>\n",
       "      <th>car_make</th>\n",
       "      <th>car_model</th>\n",
       "      <th>car_gen</th>\n",
       "      <th>car_type</th>\n",
       "      <th>ann_city</th>\n",
       "      <th>avail</th>\n",
       "      <th>color</th>\n",
       "      <th>eng_type</th>\n",
       "      <th>transmission</th>\n",
       "      <th>drive</th>\n",
       "      <th>...</th>\n",
       "      <th>age_mod^2</th>\n",
       "      <th>age_mod mileage_mod</th>\n",
       "      <th>age_mod acceleration_mod</th>\n",
       "      <th>age_mod cyl_count_mod</th>\n",
       "      <th>mileage_mod^2</th>\n",
       "      <th>mileage_mod acceleration_mod</th>\n",
       "      <th>mileage_mod cyl_count_mod</th>\n",
       "      <th>acceleration_mod^2</th>\n",
       "      <th>acceleration_mod cyl_count_mod</th>\n",
       "      <th>cyl_count_mod^2</th>\n",
       "    </tr>\n",
       "  </thead>\n",
       "  <tbody>\n",
       "    <tr>\n",
       "      <th>0</th>\n",
       "      <td>Citroen</td>\n",
       "      <td>C3</td>\n",
       "      <td>I</td>\n",
       "      <td>Хэтчбек 5 дв.</td>\n",
       "      <td>Ставрополь</td>\n",
       "      <td>В наличии</td>\n",
       "      <td>серый</td>\n",
       "      <td>Бензин</td>\n",
       "      <td>автоматическая</td>\n",
       "      <td>передний</td>\n",
       "      <td>...</td>\n",
       "      <td>4.472136</td>\n",
       "      <td>3.760603</td>\n",
       "      <td>8.897011</td>\n",
       "      <td>1.691794</td>\n",
       "      <td>3.162278</td>\n",
       "      <td>7.481464</td>\n",
       "      <td>1.422624</td>\n",
       "      <td>17.699999</td>\n",
       "      <td>3.365709</td>\n",
       "      <td>0.64</td>\n",
       "    </tr>\n",
       "    <tr>\n",
       "      <th>1</th>\n",
       "      <td>Chevrolet</td>\n",
       "      <td>Aveo</td>\n",
       "      <td>I</td>\n",
       "      <td>Седан</td>\n",
       "      <td>Бахчисарай</td>\n",
       "      <td>В наличии</td>\n",
       "      <td>синий</td>\n",
       "      <td>Бензин</td>\n",
       "      <td>механическая</td>\n",
       "      <td>передний</td>\n",
       "      <td>...</td>\n",
       "      <td>4.358899</td>\n",
       "      <td>4.259205</td>\n",
       "      <td>8.608210</td>\n",
       "      <td>1.670238</td>\n",
       "      <td>4.161791</td>\n",
       "      <td>8.411328</td>\n",
       "      <td>1.632038</td>\n",
       "      <td>17.000000</td>\n",
       "      <td>3.298485</td>\n",
       "      <td>0.64</td>\n",
       "    </tr>\n",
       "    <tr>\n",
       "      <th>2</th>\n",
       "      <td>Lada (ВАЗ)</td>\n",
       "      <td>2109</td>\n",
       "      <td>1987-2006</td>\n",
       "      <td>Хэтчбек 5 дв.</td>\n",
       "      <td>Канск</td>\n",
       "      <td>В наличии</td>\n",
       "      <td>зелёный</td>\n",
       "      <td>Бензин</td>\n",
       "      <td>механическая</td>\n",
       "      <td>передний</td>\n",
       "      <td>...</td>\n",
       "      <td>5.000000</td>\n",
       "      <td>4.029068</td>\n",
       "      <td>9.219544</td>\n",
       "      <td>1.788854</td>\n",
       "      <td>3.246678</td>\n",
       "      <td>7.429235</td>\n",
       "      <td>1.441483</td>\n",
       "      <td>17.000000</td>\n",
       "      <td>3.298485</td>\n",
       "      <td>0.64</td>\n",
       "    </tr>\n",
       "    <tr>\n",
       "      <th>3</th>\n",
       "      <td>SEAT</td>\n",
       "      <td>Cordoba</td>\n",
       "      <td>II Рестайлинг</td>\n",
       "      <td>Седан</td>\n",
       "      <td>Нерюнгри</td>\n",
       "      <td>В наличии</td>\n",
       "      <td>серый</td>\n",
       "      <td>Бензин</td>\n",
       "      <td>механическая</td>\n",
       "      <td>передний</td>\n",
       "      <td>...</td>\n",
       "      <td>4.123105</td>\n",
       "      <td>3.511547</td>\n",
       "      <td>6.548305</td>\n",
       "      <td>1.624434</td>\n",
       "      <td>2.990697</td>\n",
       "      <td>5.577029</td>\n",
       "      <td>1.383491</td>\n",
       "      <td>10.400000</td>\n",
       "      <td>2.579922</td>\n",
       "      <td>0.64</td>\n",
       "    </tr>\n",
       "    <tr>\n",
       "      <th>4</th>\n",
       "      <td>Lada (ВАЗ)</td>\n",
       "      <td>2111</td>\n",
       "      <td>1997-2014</td>\n",
       "      <td>Универсал 5 дв.</td>\n",
       "      <td>Можайск</td>\n",
       "      <td>В наличии</td>\n",
       "      <td>серебристый</td>\n",
       "      <td>Бензин</td>\n",
       "      <td>механическая</td>\n",
       "      <td>передний</td>\n",
       "      <td>...</td>\n",
       "      <td>4.472136</td>\n",
       "      <td>4.129287</td>\n",
       "      <td>8.719307</td>\n",
       "      <td>1.691794</td>\n",
       "      <td>3.812722</td>\n",
       "      <td>8.050856</td>\n",
       "      <td>1.562096</td>\n",
       "      <td>17.000000</td>\n",
       "      <td>3.298485</td>\n",
       "      <td>0.64</td>\n",
       "    </tr>\n",
       "  </tbody>\n",
       "</table>\n",
       "<p>5 rows × 372 columns</p>\n",
       "</div>"
      ],
      "text/plain": [
       "     car_make car_model        car_gen         car_type    ann_city  \\\n",
       "0     Citroen        C3             I     Хэтчбек 5 дв.  Ставрополь   \n",
       "1   Chevrolet      Aveo             I             Седан  Бахчисарай   \n",
       "2  Lada (ВАЗ)      2109     1987-2006     Хэтчбек 5 дв.       Канск   \n",
       "3        SEAT   Cordoba  II Рестайлинг            Седан    Нерюнгри   \n",
       "4  Lada (ВАЗ)      2111     1997-2014   Универсал 5 дв.     Можайск   \n",
       "\n",
       "       avail        color eng_type    transmission     drive  ... age_mod^2  \\\n",
       "0  В наличии        серый   Бензин  автоматическая  передний  ...  4.472136   \n",
       "1  В наличии        синий   Бензин    механическая  передний  ...  4.358899   \n",
       "2  В наличии      зелёный   Бензин    механическая  передний  ...  5.000000   \n",
       "3  В наличии        серый   Бензин    механическая  передний  ...  4.123105   \n",
       "4  В наличии  серебристый   Бензин    механическая  передний  ...  4.472136   \n",
       "\n",
       "  age_mod mileage_mod age_mod acceleration_mod age_mod cyl_count_mod  \\\n",
       "0            3.760603                 8.897011              1.691794   \n",
       "1            4.259205                 8.608210              1.670238   \n",
       "2            4.029068                 9.219544              1.788854   \n",
       "3            3.511547                 6.548305              1.624434   \n",
       "4            4.129287                 8.719307              1.691794   \n",
       "\n",
       "  mileage_mod^2 mileage_mod acceleration_mod mileage_mod cyl_count_mod  \\\n",
       "0      3.162278                     7.481464                  1.422624   \n",
       "1      4.161791                     8.411328                  1.632038   \n",
       "2      3.246678                     7.429235                  1.441483   \n",
       "3      2.990697                     5.577029                  1.383491   \n",
       "4      3.812722                     8.050856                  1.562096   \n",
       "\n",
       "  acceleration_mod^2 acceleration_mod cyl_count_mod cyl_count_mod^2  \n",
       "0          17.699999                       3.365709            0.64  \n",
       "1          17.000000                       3.298485            0.64  \n",
       "2          17.000000                       3.298485            0.64  \n",
       "3          10.400000                       2.579922            0.64  \n",
       "4          17.000000                       3.298485            0.64  \n",
       "\n",
       "[5 rows x 372 columns]"
      ]
     },
     "execution_count": 32,
     "metadata": {},
     "output_type": "execute_result"
    }
   ],
   "source": [
    "# Преобразуем тестовую выборку\n",
    "X_poly = pf.transform(X_test[num_features])\n",
    "X_poly = pd.DataFrame(X_poly,\n",
    "                      index = X_test.index,\n",
    "                      columns = pf.get_feature_names_out())\n",
    "X_test_poly = pd.concat([X_test, X_poly], axis=1).drop(columns=num_features)\n",
    "X_test_poly.head()"
   ]
  },
  {
   "cell_type": "code",
   "execution_count": 33,
   "id": "14c2dcc6547ae8ba",
   "metadata": {
    "ExecuteTime": {
     "end_time": "2025-03-06T19:40:49.017579Z",
     "start_time": "2025-03-06T19:40:48.739059Z"
    },
    "collapsed": false
   },
   "outputs": [],
   "source": [
    "# Уменьшим избыточную разрядность чисел\n",
    "fcols = X_train_poly.select_dtypes('float').columns\n",
    "icols = X_train_poly.select_dtypes('integer').columns\n",
    "\n",
    "X_train_poly[fcols] = X_train_poly[fcols].apply(pd.to_numeric, downcast='float')\n",
    "X_train_poly[icols] = X_train_poly[icols].apply(pd.to_numeric, downcast='integer')\n",
    "X_test_poly[fcols] = X_test_poly[fcols].apply(pd.to_numeric, downcast='float')\n",
    "X_test_poly[icols] = X_test_poly[icols].apply(pd.to_numeric, downcast='integer')"
   ]
  },
  {
   "cell_type": "code",
   "execution_count": 34,
   "id": "bc1941be4582423",
   "metadata": {
    "ExecuteTime": {
     "end_time": "2025-03-06T19:40:49.155240Z",
     "start_time": "2025-03-06T19:40:49.017579Z"
    },
    "collapsed": false
   },
   "outputs": [
    {
     "data": {
      "text/plain": [
       "['1',\n",
       " 'year^2',\n",
       " 'year mileage',\n",
       " 'year eng_size',\n",
       " 'year eng_power',\n",
       " 'year pow_resrv',\n",
       " 'year count_owner',\n",
       " 'year door_count',\n",
       " 'year long',\n",
       " 'year width',\n",
       " 'year height',\n",
       " 'year v_tank',\n",
       " 'year curb_weight',\n",
       " 'year max_speed',\n",
       " 'year acceleration',\n",
       " 'year fuel_cons',\n",
       " 'year max_torq',\n",
       " 'year cyl_count',\n",
       " 'year seat_count',\n",
       " 'year clearence',\n",
       " 'year v_bag',\n",
       " 'year acc_capacity',\n",
       " 'year age',\n",
       " 'year age_mod',\n",
       " 'year mileage_mod',\n",
       " 'year acceleration_mod',\n",
       " 'year cyl_count_mod',\n",
       " 'mileage^2',\n",
       " 'mileage eng_size',\n",
       " 'mileage eng_power',\n",
       " 'mileage pow_resrv',\n",
       " 'mileage count_owner',\n",
       " 'mileage door_count',\n",
       " 'mileage long',\n",
       " 'mileage width',\n",
       " 'mileage height',\n",
       " 'mileage v_tank',\n",
       " 'mileage curb_weight',\n",
       " 'mileage max_speed',\n",
       " 'mileage acceleration',\n",
       " 'mileage fuel_cons',\n",
       " 'mileage max_torq',\n",
       " 'mileage cyl_count',\n",
       " 'mileage seat_count',\n",
       " 'mileage clearence',\n",
       " 'mileage v_bag',\n",
       " 'mileage acc_capacity',\n",
       " 'mileage age',\n",
       " 'mileage age_mod',\n",
       " 'mileage mileage_mod',\n",
       " 'mileage acceleration_mod',\n",
       " 'mileage cyl_count_mod',\n",
       " 'eng_size^2',\n",
       " 'eng_size eng_power',\n",
       " 'eng_size pow_resrv',\n",
       " 'eng_size count_owner',\n",
       " 'eng_size door_count',\n",
       " 'eng_size long',\n",
       " 'eng_size width',\n",
       " 'eng_size height',\n",
       " 'eng_size v_tank',\n",
       " 'eng_size curb_weight',\n",
       " 'eng_size max_speed',\n",
       " 'eng_size acceleration',\n",
       " 'eng_size fuel_cons',\n",
       " 'eng_size max_torq',\n",
       " 'eng_size cyl_count',\n",
       " 'eng_size seat_count',\n",
       " 'eng_size clearence',\n",
       " 'eng_size v_bag',\n",
       " 'eng_size acc_capacity',\n",
       " 'eng_size age',\n",
       " 'eng_size age_mod',\n",
       " 'eng_size mileage_mod',\n",
       " 'eng_size acceleration_mod',\n",
       " 'eng_size cyl_count_mod',\n",
       " 'eng_power^2',\n",
       " 'eng_power pow_resrv',\n",
       " 'eng_power count_owner',\n",
       " 'eng_power door_count',\n",
       " 'eng_power long',\n",
       " 'eng_power width',\n",
       " 'eng_power height',\n",
       " 'eng_power v_tank',\n",
       " 'eng_power curb_weight',\n",
       " 'eng_power max_speed',\n",
       " 'eng_power acceleration',\n",
       " 'eng_power fuel_cons',\n",
       " 'eng_power max_torq',\n",
       " 'eng_power cyl_count',\n",
       " 'eng_power seat_count',\n",
       " 'eng_power clearence',\n",
       " 'eng_power v_bag',\n",
       " 'eng_power acc_capacity',\n",
       " 'eng_power age',\n",
       " 'eng_power age_mod',\n",
       " 'eng_power mileage_mod',\n",
       " 'eng_power acceleration_mod',\n",
       " 'eng_power cyl_count_mod',\n",
       " 'pow_resrv^2',\n",
       " 'pow_resrv count_owner',\n",
       " 'pow_resrv door_count',\n",
       " 'pow_resrv long',\n",
       " 'pow_resrv width',\n",
       " 'pow_resrv height',\n",
       " 'pow_resrv v_tank',\n",
       " 'pow_resrv curb_weight',\n",
       " 'pow_resrv max_speed',\n",
       " 'pow_resrv acceleration',\n",
       " 'pow_resrv fuel_cons',\n",
       " 'pow_resrv max_torq',\n",
       " 'pow_resrv cyl_count',\n",
       " 'pow_resrv seat_count',\n",
       " 'pow_resrv clearence',\n",
       " 'pow_resrv v_bag',\n",
       " 'pow_resrv acc_capacity',\n",
       " 'pow_resrv age',\n",
       " 'pow_resrv age_mod',\n",
       " 'pow_resrv mileage_mod',\n",
       " 'pow_resrv acceleration_mod',\n",
       " 'pow_resrv cyl_count_mod',\n",
       " 'count_owner^2',\n",
       " 'count_owner door_count',\n",
       " 'count_owner long',\n",
       " 'count_owner width',\n",
       " 'count_owner height',\n",
       " 'count_owner v_tank',\n",
       " 'count_owner curb_weight',\n",
       " 'count_owner max_speed',\n",
       " 'count_owner acceleration',\n",
       " 'count_owner fuel_cons',\n",
       " 'count_owner max_torq',\n",
       " 'count_owner cyl_count',\n",
       " 'count_owner seat_count',\n",
       " 'count_owner clearence',\n",
       " 'count_owner v_bag',\n",
       " 'count_owner acc_capacity',\n",
       " 'count_owner age',\n",
       " 'count_owner age_mod',\n",
       " 'count_owner mileage_mod',\n",
       " 'count_owner acceleration_mod',\n",
       " 'count_owner cyl_count_mod',\n",
       " 'door_count^2',\n",
       " 'door_count long',\n",
       " 'door_count width',\n",
       " 'door_count height',\n",
       " 'door_count v_tank',\n",
       " 'door_count curb_weight',\n",
       " 'door_count max_speed',\n",
       " 'door_count acceleration',\n",
       " 'door_count fuel_cons',\n",
       " 'door_count max_torq',\n",
       " 'door_count cyl_count',\n",
       " 'door_count seat_count',\n",
       " 'door_count clearence',\n",
       " 'door_count v_bag',\n",
       " 'door_count acc_capacity',\n",
       " 'door_count age',\n",
       " 'door_count age_mod',\n",
       " 'door_count mileage_mod',\n",
       " 'door_count acceleration_mod',\n",
       " 'door_count cyl_count_mod',\n",
       " 'long^2',\n",
       " 'long width',\n",
       " 'long height',\n",
       " 'long v_tank',\n",
       " 'long curb_weight',\n",
       " 'long max_speed',\n",
       " 'long acceleration',\n",
       " 'long fuel_cons',\n",
       " 'long max_torq',\n",
       " 'long cyl_count',\n",
       " 'long seat_count',\n",
       " 'long clearence',\n",
       " 'long v_bag',\n",
       " 'long acc_capacity',\n",
       " 'long age',\n",
       " 'long age_mod',\n",
       " 'long mileage_mod',\n",
       " 'long acceleration_mod',\n",
       " 'long cyl_count_mod',\n",
       " 'width^2',\n",
       " 'width height',\n",
       " 'width v_tank',\n",
       " 'width curb_weight',\n",
       " 'width max_speed',\n",
       " 'width acceleration',\n",
       " 'width fuel_cons',\n",
       " 'width max_torq',\n",
       " 'width cyl_count',\n",
       " 'width seat_count',\n",
       " 'width clearence',\n",
       " 'width v_bag',\n",
       " 'width acc_capacity',\n",
       " 'width age',\n",
       " 'width age_mod',\n",
       " 'width mileage_mod',\n",
       " 'width acceleration_mod',\n",
       " 'width cyl_count_mod',\n",
       " 'height^2',\n",
       " 'height v_tank',\n",
       " 'height curb_weight',\n",
       " 'height max_speed',\n",
       " 'height acceleration',\n",
       " 'height fuel_cons',\n",
       " 'height max_torq',\n",
       " 'height cyl_count',\n",
       " 'height seat_count',\n",
       " 'height clearence',\n",
       " 'height v_bag',\n",
       " 'height acc_capacity',\n",
       " 'height age',\n",
       " 'height age_mod',\n",
       " 'height mileage_mod',\n",
       " 'height acceleration_mod',\n",
       " 'height cyl_count_mod',\n",
       " 'v_tank^2',\n",
       " 'v_tank curb_weight',\n",
       " 'v_tank max_speed',\n",
       " 'v_tank acceleration',\n",
       " 'v_tank fuel_cons',\n",
       " 'v_tank max_torq',\n",
       " 'v_tank cyl_count',\n",
       " 'v_tank seat_count',\n",
       " 'v_tank clearence',\n",
       " 'v_tank v_bag',\n",
       " 'v_tank acc_capacity',\n",
       " 'v_tank age',\n",
       " 'v_tank age_mod',\n",
       " 'v_tank mileage_mod',\n",
       " 'v_tank acceleration_mod',\n",
       " 'v_tank cyl_count_mod',\n",
       " 'curb_weight^2',\n",
       " 'curb_weight max_speed',\n",
       " 'curb_weight acceleration',\n",
       " 'curb_weight fuel_cons',\n",
       " 'curb_weight max_torq',\n",
       " 'curb_weight cyl_count',\n",
       " 'curb_weight seat_count',\n",
       " 'curb_weight clearence',\n",
       " 'curb_weight v_bag',\n",
       " 'curb_weight acc_capacity',\n",
       " 'curb_weight age',\n",
       " 'curb_weight age_mod',\n",
       " 'curb_weight mileage_mod',\n",
       " 'curb_weight acceleration_mod',\n",
       " 'curb_weight cyl_count_mod',\n",
       " 'max_speed^2',\n",
       " 'max_speed acceleration',\n",
       " 'max_speed fuel_cons',\n",
       " 'max_speed max_torq',\n",
       " 'max_speed cyl_count',\n",
       " 'max_speed seat_count',\n",
       " 'max_speed clearence',\n",
       " 'max_speed v_bag',\n",
       " 'max_speed acc_capacity',\n",
       " 'max_speed age',\n",
       " 'max_speed age_mod',\n",
       " 'max_speed mileage_mod',\n",
       " 'max_speed acceleration_mod',\n",
       " 'max_speed cyl_count_mod',\n",
       " 'acceleration^2',\n",
       " 'acceleration fuel_cons',\n",
       " 'acceleration max_torq',\n",
       " 'acceleration cyl_count',\n",
       " 'acceleration seat_count',\n",
       " 'acceleration clearence',\n",
       " 'acceleration v_bag',\n",
       " 'acceleration acc_capacity',\n",
       " 'acceleration age',\n",
       " 'acceleration age_mod',\n",
       " 'acceleration mileage_mod',\n",
       " 'acceleration acceleration_mod',\n",
       " 'acceleration cyl_count_mod',\n",
       " 'fuel_cons^2',\n",
       " 'fuel_cons max_torq',\n",
       " 'fuel_cons cyl_count',\n",
       " 'fuel_cons seat_count',\n",
       " 'fuel_cons clearence',\n",
       " 'fuel_cons v_bag',\n",
       " 'fuel_cons acc_capacity',\n",
       " 'fuel_cons age',\n",
       " 'fuel_cons age_mod',\n",
       " 'fuel_cons mileage_mod',\n",
       " 'fuel_cons acceleration_mod',\n",
       " 'fuel_cons cyl_count_mod',\n",
       " 'max_torq^2',\n",
       " 'max_torq cyl_count',\n",
       " 'max_torq seat_count',\n",
       " 'max_torq clearence',\n",
       " 'max_torq v_bag',\n",
       " 'max_torq acc_capacity',\n",
       " 'max_torq age',\n",
       " 'max_torq age_mod',\n",
       " 'max_torq mileage_mod',\n",
       " 'max_torq acceleration_mod',\n",
       " 'max_torq cyl_count_mod',\n",
       " 'cyl_count^2',\n",
       " 'cyl_count seat_count',\n",
       " 'cyl_count clearence',\n",
       " 'cyl_count v_bag',\n",
       " 'cyl_count acc_capacity',\n",
       " 'cyl_count age',\n",
       " 'cyl_count age_mod',\n",
       " 'cyl_count mileage_mod',\n",
       " 'cyl_count acceleration_mod',\n",
       " 'cyl_count cyl_count_mod',\n",
       " 'seat_count^2',\n",
       " 'seat_count clearence',\n",
       " 'seat_count v_bag',\n",
       " 'seat_count acc_capacity',\n",
       " 'seat_count age',\n",
       " 'seat_count age_mod',\n",
       " 'seat_count mileage_mod',\n",
       " 'seat_count acceleration_mod',\n",
       " 'seat_count cyl_count_mod',\n",
       " 'clearence^2',\n",
       " 'clearence v_bag',\n",
       " 'clearence acc_capacity',\n",
       " 'clearence age',\n",
       " 'clearence age_mod',\n",
       " 'clearence mileage_mod',\n",
       " 'clearence acceleration_mod',\n",
       " 'clearence cyl_count_mod',\n",
       " 'v_bag^2',\n",
       " 'v_bag acc_capacity',\n",
       " 'v_bag age',\n",
       " 'v_bag age_mod',\n",
       " 'v_bag mileage_mod',\n",
       " 'v_bag acceleration_mod',\n",
       " 'v_bag cyl_count_mod',\n",
       " 'acc_capacity^2',\n",
       " 'acc_capacity age',\n",
       " 'acc_capacity age_mod',\n",
       " 'acc_capacity mileage_mod',\n",
       " 'acc_capacity acceleration_mod',\n",
       " 'acc_capacity cyl_count_mod',\n",
       " 'age^2',\n",
       " 'age age_mod',\n",
       " 'age mileage_mod',\n",
       " 'age acceleration_mod',\n",
       " 'age cyl_count_mod',\n",
       " 'age_mod^2',\n",
       " 'age_mod mileage_mod',\n",
       " 'age_mod acceleration_mod',\n",
       " 'age_mod cyl_count_mod',\n",
       " 'mileage_mod^2',\n",
       " 'mileage_mod acceleration_mod',\n",
       " 'mileage_mod cyl_count_mod',\n",
       " 'acceleration_mod^2',\n",
       " 'acceleration_mod cyl_count_mod',\n",
       " 'cyl_count_mod^2']"
      ]
     },
     "execution_count": 34,
     "metadata": {},
     "output_type": "execute_result"
    }
   ],
   "source": [
    "# Обновим список числовых признаков\n",
    "num_features = (\n",
    "    X_train_poly.select_dtypes(\n",
    "    exclude=['object', 'category']\n",
    "    ).columns.to_list()\n",
    ")\n",
    "num_features"
   ]
  },
  {
   "cell_type": "code",
   "execution_count": 35,
   "id": "2d982699632dc2ca",
   "metadata": {
    "ExecuteTime": {
     "end_time": "2025-03-06T19:40:49.159734Z",
     "start_time": "2025-03-06T19:40:49.156308Z"
    },
    "collapsed": false
   },
   "outputs": [],
   "source": [
    "# Обновим набор преобразований столбцов\n",
    "col_transformer = make_column_transformer(\n",
    "    (\n",
    "        OneHotEncoder(handle_unknown='ignore',\n",
    "                      drop='first',\n",
    "                      dtype='int16',\n",
    "                      min_frequency=5,\n",
    "                      max_categories=150,\n",
    "                      sparse_output=True),\n",
    "        cat_features\n",
    "    ),\n",
    "    (\n",
    "        StandardScaler(),\n",
    "        num_features\n",
    "    ),\n",
    "    \n",
    "    remainder='passthrough',\n",
    "    verbose_feature_names_out=True\n",
    ")"
   ]
  },
  {
   "cell_type": "markdown",
   "id": "a580de32633772d",
   "metadata": {},
   "source": [
    "### Линейная регрессия"
   ]
  },
  {
   "cell_type": "code",
   "execution_count": 36,
   "id": "bf9c0d5acb45412d",
   "metadata": {
    "ExecuteTime": {
     "end_time": "2025-03-06T19:40:55.635431Z",
     "start_time": "2025-03-06T19:40:49.160737Z"
    },
    "collapsed": false
   },
   "outputs": [
    {
     "name": "stderr",
     "output_type": "stream",
     "text": [
      "D:\\YandexDisk-Dmitry\\HSE\\valuation_of_used_cars\\venv\\Lib\\site-packages\\sklearn\\preprocessing\\_encoders.py:246: UserWarning: Found unknown categories in columns [0, 1, 2, 3, 4] during transform. These unknown categories will be encoded as all zeros\n",
      "  warnings.warn(\n"
     ]
    },
    {
     "name": "stdout",
     "output_type": "stream",
     "text": [
      "Обучающая выборка\n",
      "R2                                        0.77047\n",
      "MSE                                       7.0686\n",
      "MAE                                       0.93242\n",
      "Доля предсказаний 0,95-1,1 от цены        0.096828\n",
      "Тестовая выборка\n",
      "R2                                        0.823\n",
      "MSE                                       4.3706\n",
      "MAE                                       0.91316\n",
      "Доля предсказаний 0,95-1,1 от цены        0.097203\n"
     ]
    }
   ],
   "source": [
    "# Пайплайн обработки данных и обучения Линейной регрессии\n",
    "lr_pl_poly = make_pipeline(col_transformer, LinearRegression())\n",
    "# Обучим модель\n",
    "lr_pl_poly.fit(X_train_poly, y_train)\n",
    "\n",
    "# Вычислим метрики\n",
    "print_metrics(model=lr_pl_poly,\n",
    "              y_train=y_train,\n",
    "              y_test=y_test,\n",
    "              X_train=X_train_poly,\n",
    "              X_test=X_test_poly)\n",
    "\n",
    "# Сохраним модель\n",
    "try:\n",
    "    _ = joblib.dump(lr_pl_poly,\n",
    "                    os.path.join(MODEL_PATH, 'lr_pl_poly.pkl'),\n",
    "                    compress=0)\n",
    "except:\n",
    "    print('Changed directory for model to current directory')\n",
    "    _ = joblib.dump(lr_pl_poly,\n",
    "                    'lr_pl_poly.pkl',\n",
    "                    compress=0)"
   ]
  },
  {
   "cell_type": "markdown",
   "id": "6e7a19fbe89fbb19",
   "metadata": {},
   "source": [
    "### Линейная регрессия (Lasso)"
   ]
  },
  {
   "cell_type": "code",
   "execution_count": 37,
   "id": "4cf1ceeeec137f42",
   "metadata": {
    "ExecuteTime": {
     "end_time": "2025-03-06T19:42:44.133553Z",
     "start_time": "2025-03-06T19:40:55.636433Z"
    },
    "collapsed": false
   },
   "outputs": [
    {
     "name": "stdout",
     "output_type": "stream",
     "text": [
      "Fitting 4 folds for each of 20 candidates, totalling 80 fits\n",
      "best_score: 0.6785060167312622\n",
      "best_params: {'lasso__alpha': np.float64(0.1)}\n"
     ]
    }
   ],
   "source": [
    "# Пайплайн обработки данных и обучения модели Lasso\n",
    "lasso_pl_poly = make_pipeline(col_transformer, Lasso())\n",
    "\n",
    "\n",
    "param_grid_lasso = {\n",
    "    'lasso__alpha': np.linspace(0.1, 10, 20)\n",
    "}\n",
    "gs_lasso_pl_poly = GridSearchCV(\n",
    "                           lasso_pl_poly,\n",
    "                           param_grid=param_grid_lasso,\n",
    "                           scoring='r2',\n",
    "                           cv=4,\n",
    "                           n_jobs=-1,\n",
    "                           verbose=3,\n",
    "                           error_score='raise',\n",
    "                           pre_dispatch=4\n",
    ")\n",
    "\n",
    "gs_lasso_pl_poly.fit(X_train_poly, y_train)\n",
    "\n",
    "# лучшее значение R2 на кросс-валидации\n",
    "print(f'best_score: {gs_lasso_pl_poly.best_score_}')\n",
    "# лучшие гиперпараметры\n",
    "print(f'best_params: {gs_lasso_pl_poly.best_params_}')\n",
    "# Сохраним модель\n",
    "try:\n",
    "    _ = joblib.dump(gs_lasso_pl_poly.best_estimator_,\n",
    "                    os.path.join(MODEL_PATH, 'gs_lasso_pl_poly.pkl'),\n",
    "                    compress=0)\n",
    "except:\n",
    "    print('Changed directory for model to current directory')\n",
    "    _ = joblib.dump(gs_lasso_pl_poly.best_estimator_,\n",
    "                    'gs_lasso_pl_poly.pkl',\n",
    "                    compress=0)"
   ]
  },
  {
   "cell_type": "code",
   "execution_count": 38,
   "id": "f8ec1d3820fe331",
   "metadata": {
    "ExecuteTime": {
     "end_time": "2025-03-06T19:42:45.392711Z",
     "start_time": "2025-03-06T19:42:44.134554Z"
    },
    "collapsed": false
   },
   "outputs": [
    {
     "name": "stderr",
     "output_type": "stream",
     "text": [
      "D:\\YandexDisk-Dmitry\\HSE\\valuation_of_used_cars\\venv\\Lib\\site-packages\\sklearn\\preprocessing\\_encoders.py:246: UserWarning: Found unknown categories in columns [0, 1, 2, 3, 4] during transform. These unknown categories will be encoded as all zeros\n",
      "  warnings.warn(\n"
     ]
    },
    {
     "name": "stdout",
     "output_type": "stream",
     "text": [
      "Обучающая выборка\n",
      "R2                                        0.68465\n",
      "MSE                                       9.7115\n",
      "MAE                                       0.85007\n",
      "Доля предсказаний 0,95-1,1 от цены        0.11387\n",
      "Тестовая выборка\n",
      "R2                                        0.75535\n",
      "MSE                                       6.0411\n",
      "MAE                                       0.82592\n",
      "Доля предсказаний 0,95-1,1 от цены        0.11165\n"
     ]
    }
   ],
   "source": [
    "# Вычислим метрики\n",
    "print_metrics(model=gs_lasso_pl_poly.best_estimator_,\n",
    "              y_train=y_train,\n",
    "              y_test=y_test,\n",
    "              X_train=X_train_poly,\n",
    "              X_test=X_test_poly)"
   ]
  },
  {
   "cell_type": "markdown",
   "id": "8d8df2856c364de7",
   "metadata": {},
   "source": [
    "### ElasticNet"
   ]
  },
  {
   "cell_type": "code",
   "execution_count": 39,
   "id": "79726c6704ddf5e9",
   "metadata": {
    "ExecuteTime": {
     "end_time": "2025-03-06T20:04:10.524058Z",
     "start_time": "2025-03-06T19:42:45.392711Z"
    },
    "collapsed": false
   },
   "outputs": [
    {
     "name": "stdout",
     "output_type": "stream",
     "text": [
      "Fitting 4 folds for each of 200 candidates, totalling 800 fits\n",
      "best_score: 0.7053008824586868\n",
      "best_params: {'elasticnet__alpha': np.float64(0.1), 'elasticnet__l1_ratio': np.float64(0.1)}\n"
     ]
    },
    {
     "name": "stderr",
     "output_type": "stream",
     "text": [
      "D:\\YandexDisk-Dmitry\\HSE\\valuation_of_used_cars\\venv\\Lib\\site-packages\\sklearn\\linear_model\\_coordinate_descent.py:695: ConvergenceWarning: Objective did not converge. You might want to increase the number of iterations, check the scale of the features or consider increasing regularisation. Duality gap: 6.137e+04, tolerance: 3.785e+02\n",
      "  model = cd_fast.enet_coordinate_descent(\n"
     ]
    }
   ],
   "source": [
    "# Пайплайн обработки данных и обучения модели ElasticNet\n",
    "elnet_pl_poly = make_pipeline(col_transformer, ElasticNet())\n",
    "\n",
    "param_grid_elnet = {\n",
    "    'elasticnet__alpha': np.linspace(0.1, 10, 20),\n",
    "    'elasticnet__l1_ratio': np.linspace(0.1, 1, 10),\n",
    "}\n",
    "gs_elnet_pl_poly = GridSearchCV(\n",
    "                           elnet_pl_poly,\n",
    "                           param_grid=param_grid_elnet,\n",
    "                           scoring='r2',\n",
    "                           cv=4,\n",
    "                           n_jobs=-1,\n",
    "                           verbose=3,\n",
    "                           error_score='raise',\n",
    "                           pre_dispatch=4\n",
    ")\n",
    "\n",
    "gs_elnet_pl_poly.fit(X_train_poly, y_train)\n",
    "\n",
    "# лучшее значение R2 на кросс-валидации\n",
    "print(f'best_score: {gs_elnet_pl_poly.best_score_}')\n",
    "# лучшие гиперпараметры\n",
    "print(f'best_params: {gs_elnet_pl_poly.best_params_}')\n",
    "# Сохраним модель\n",
    "try:\n",
    "    _ = joblib.dump(gs_elnet_pl_poly.best_estimator_,\n",
    "                    os.path.join(MODEL_PATH, 'gs_elnet_pl_poly.pkl'),\n",
    "                    compress=0)\n",
    "except:\n",
    "    print('Changed directory for model to current directory')\n",
    "    _ = joblib.dump(gs_elnet_pl_poly.best_estimator_,\n",
    "                    'gs_elnet_pl_poly.pkl',\n",
    "                    compress=0)"
   ]
  },
  {
   "cell_type": "code",
   "execution_count": 40,
   "id": "65ff435a7105642e",
   "metadata": {
    "ExecuteTime": {
     "end_time": "2025-03-06T20:04:11.807830Z",
     "start_time": "2025-03-06T20:04:10.525061Z"
    },
    "collapsed": false
   },
   "outputs": [
    {
     "name": "stderr",
     "output_type": "stream",
     "text": [
      "D:\\YandexDisk-Dmitry\\HSE\\valuation_of_used_cars\\venv\\Lib\\site-packages\\sklearn\\preprocessing\\_encoders.py:246: UserWarning: Found unknown categories in columns [0, 1, 2, 3, 4] during transform. These unknown categories will be encoded as all zeros\n",
      "  warnings.warn(\n"
     ]
    },
    {
     "name": "stdout",
     "output_type": "stream",
     "text": [
      "Обучающая выборка\n",
      "R2                                        0.7117\n",
      "MSE                                       8.8786\n",
      "MAE                                       0.72798\n",
      "Доля предсказаний 0,95-1,1 от цены        0.1365\n",
      "Тестовая выборка\n",
      "R2                                        0.78505\n",
      "MSE                                       5.3078\n",
      "MAE                                       0.70346\n",
      "Доля предсказаний 0,95-1,1 от цены        0.13484\n"
     ]
    }
   ],
   "source": [
    "# Вычислим метрики\n",
    "print_metrics(model=gs_elnet_pl_poly.best_estimator_,\n",
    "              y_train=y_train,\n",
    "              y_test=y_test,\n",
    "              X_train=X_train_poly,\n",
    "              X_test=X_test_poly)"
   ]
  },
  {
   "cell_type": "markdown",
   "id": "f9163e238eeaf81b",
   "metadata": {},
   "source": [
    "### Ridge"
   ]
  },
  {
   "cell_type": "code",
   "execution_count": 41,
   "id": "f691876626fc9c3f",
   "metadata": {
    "ExecuteTime": {
     "end_time": "2025-03-06T20:05:41.466898Z",
     "start_time": "2025-03-06T20:04:11.809852Z"
    },
    "collapsed": false
   },
   "outputs": [
    {
     "name": "stdout",
     "output_type": "stream",
     "text": [
      "Fitting 4 folds for each of 20 candidates, totalling 80 fits\n",
      "best_score: 0.8285246193408966\n",
      "best_params: {'ridge__alpha': np.float64(10.0)}\n"
     ]
    }
   ],
   "source": [
    "# Пайплайн обработки данных и обучения линейной модели\n",
    "ridge_pl_poly = make_pipeline(col_transformer, Ridge())\n",
    "\n",
    "param_grid_ridge = {\n",
    "    'ridge__alpha': np.linspace(0.1, 10, 20)\n",
    "}\n",
    "gs_ridge_pl_poly = GridSearchCV(\n",
    "                           ridge_pl_poly,\n",
    "                           param_grid=param_grid_ridge,\n",
    "                           scoring='r2',\n",
    "                           cv=4,\n",
    "                           n_jobs=-1,\n",
    "                           verbose=3,\n",
    "                           error_score='raise',\n",
    "                           pre_dispatch=4\n",
    ")\n",
    "\n",
    "gs_ridge_pl_poly.fit(X_train_poly, y_train)\n",
    "\n",
    "# лучшее значение R2 на кросс-валидации\n",
    "print(f'best_score: {gs_ridge_pl_poly.best_score_}')\n",
    "# лучшие гиперпараметры\n",
    "print(f'best_params: {gs_ridge_pl_poly.best_params_}')\n",
    "# Сохраним модель\n",
    "try:\n",
    "    _ = joblib.dump(gs_ridge_pl_poly.best_estimator_,\n",
    "                    os.path.join(MODEL_PATH, 'gs_ridge_pl_poly.pkl'),\n",
    "                    compress=0)\n",
    "except:\n",
    "    print('Changed directory for model to current directory')\n",
    "    _ = joblib.dump(gs_ridge_pl_poly.best_estimator_,\n",
    "                    'gs_ridge_pl_poly.pkl',\n",
    "                    compress=0)"
   ]
  },
  {
   "cell_type": "code",
   "execution_count": 42,
   "id": "92fe8cc50ef80184",
   "metadata": {
    "ExecuteTime": {
     "end_time": "2025-03-06T20:05:42.697758Z",
     "start_time": "2025-03-06T20:05:41.466898Z"
    },
    "collapsed": false
   },
   "outputs": [
    {
     "name": "stderr",
     "output_type": "stream",
     "text": [
      "D:\\YandexDisk-Dmitry\\HSE\\valuation_of_used_cars\\venv\\Lib\\site-packages\\sklearn\\preprocessing\\_encoders.py:246: UserWarning: Found unknown categories in columns [0, 1, 2, 3, 4] during transform. These unknown categories will be encoded as all zeros\n",
      "  warnings.warn(\n"
     ]
    },
    {
     "name": "stdout",
     "output_type": "stream",
     "text": [
      "Обучающая выборка\n",
      "R2                                        0.86194\n",
      "MSE                                       4.2517\n",
      "MAE                                       0.64577\n",
      "Доля предсказаний 0,95-1,1 от цены        0.14852\n",
      "Тестовая выборка\n",
      "R2                                        0.8838\n",
      "MSE                                       2.8693\n",
      "MAE                                       0.64329\n",
      "Доля предсказаний 0,95-1,1 от цены        0.14876\n"
     ]
    }
   ],
   "source": [
    "# Вычислим метрики\n",
    "print_metrics(model=gs_ridge_pl_poly.best_estimator_,\n",
    "              y_train=y_train,\n",
    "              y_test=y_test,\n",
    "              X_train=X_train_poly,\n",
    "              X_test=X_test_poly)"
   ]
  },
  {
   "cell_type": "markdown",
   "id": "6e4153711060cefb",
   "metadata": {},
   "source": [
    "## Логарифмируем целевую переменную"
   ]
  },
  {
   "cell_type": "code",
   "execution_count": 43,
   "id": "2bd1ba6150b18b54",
   "metadata": {
    "ExecuteTime": {
     "end_time": "2025-03-06T20:05:42.701212Z",
     "start_time": "2025-03-06T20:05:42.697758Z"
    },
    "collapsed": false
   },
   "outputs": [],
   "source": [
    "y_train_log = np.log(y_train)\n",
    "y_test_log = np.log(y_test)"
   ]
  },
  {
   "cell_type": "markdown",
   "id": "1683c37bf2105f07",
   "metadata": {},
   "source": [
    "### Линейная регрессия"
   ]
  },
  {
   "cell_type": "code",
   "execution_count": 44,
   "id": "69784608db1f9b48",
   "metadata": {
    "ExecuteTime": {
     "end_time": "2025-03-06T20:05:48.906059Z",
     "start_time": "2025-03-06T20:05:42.701212Z"
    },
    "collapsed": false
   },
   "outputs": [
    {
     "name": "stderr",
     "output_type": "stream",
     "text": [
      "D:\\YandexDisk-Dmitry\\HSE\\valuation_of_used_cars\\venv\\Lib\\site-packages\\sklearn\\preprocessing\\_encoders.py:246: UserWarning: Found unknown categories in columns [0, 1, 2, 3, 4] during transform. These unknown categories will be encoded as all zeros\n",
      "  warnings.warn(\n"
     ]
    },
    {
     "name": "stdout",
     "output_type": "stream",
     "text": [
      "Обучающая выборка\n",
      "R2                                       -0.99731\n",
      "MSE                                       61.51\n",
      "MAE                                       0.50429\n",
      "Доля предсказаний 0,95-1,1 от цены        0.23714\n",
      "Тестовая выборка\n",
      "R2                                        0.073337\n",
      "MSE                                       22.882\n",
      "MAE                                       0.48353\n",
      "Доля предсказаний 0,95-1,1 от цены        0.23258\n"
     ]
    }
   ],
   "source": [
    "# Пайплайн обработки данных и обучения Линейной регрессии\n",
    "lr_pl_poly_log = make_pipeline(col_transformer, LinearRegression())\n",
    "# Обучим модель\n",
    "lr_pl_poly_log.fit(X_train_poly, y_train_log)\n",
    "\n",
    "# Вычислим метрики\n",
    "print_metrics(model=lr_pl_poly_log,\n",
    "              y_train=y_train,\n",
    "              y_test=y_test,\n",
    "              X_train=X_train_poly,\n",
    "              X_test=X_test_poly,\n",
    "              log_y=True)\n",
    "\n",
    "# Сохраним модель\n",
    "try:\n",
    "    _ = joblib.dump(lr_pl_poly_log,\n",
    "                    os.path.join(MODEL_PATH, 'lr_pl_poly_log.pkl'),\n",
    "                    compress=0)\n",
    "except:\n",
    "    print('Changed directory for model to current directory')\n",
    "    _ = joblib.dump(lr_pl_poly_log,\n",
    "                    'lr_pl_poly_log.pkl',\n",
    "                    compress=0)"
   ]
  },
  {
   "cell_type": "markdown",
   "id": "d39cc47cc11fb305",
   "metadata": {},
   "source": [
    "### Линейная регрессия (Lasso)"
   ]
  },
  {
   "cell_type": "code",
   "execution_count": 45,
   "id": "6cbd1f91dbb86b7e",
   "metadata": {
    "ExecuteTime": {
     "end_time": "2025-03-06T20:07:29.952224Z",
     "start_time": "2025-03-06T20:05:48.906059Z"
    },
    "collapsed": false
   },
   "outputs": [
    {
     "name": "stdout",
     "output_type": "stream",
     "text": [
      "Fitting 4 folds for each of 20 candidates, totalling 80 fits\n",
      "best_score: 0.8348585963249207\n",
      "best_params: {'lasso__alpha': np.float64(0.1)}\n"
     ]
    }
   ],
   "source": [
    "# Пайплайн обработки данных и обучения модели Lasso\n",
    "lasso_pl_poly_log = make_pipeline(col_transformer, Lasso())\n",
    "\n",
    "param_grid_lasso = {\n",
    "    'lasso__alpha': np.linspace(0.1, 10, 20)\n",
    "}\n",
    "gs_lasso_pl_poly_log = GridSearchCV(\n",
    "                           lasso_pl_poly_log,\n",
    "                           param_grid=param_grid_lasso,\n",
    "                           scoring='r2',\n",
    "                           cv=4,\n",
    "                           n_jobs=-1,\n",
    "                           verbose=3,\n",
    "                           error_score='raise',\n",
    "                           pre_dispatch=4\n",
    ")\n",
    "\n",
    "gs_lasso_pl_poly_log.fit(X_train_poly, y_train_log)\n",
    "\n",
    "# лучшее значение R2 на кросс-валидации\n",
    "print(f'best_score: {gs_lasso_pl_poly_log.best_score_}')\n",
    "# лучшие гиперпараметры\n",
    "print(f'best_params: {gs_lasso_pl_poly_log.best_params_}')\n",
    "# Сохраним модель\n",
    "try:\n",
    "    _ = joblib.dump(gs_lasso_pl_poly_log.best_estimator_,\n",
    "                    os.path.join(MODEL_PATH, 'gs_lasso_pl_poly_log.pkl'),\n",
    "                    compress=0)\n",
    "except:\n",
    "    print('Changed directory for model to current directory')\n",
    "    _ = joblib.dump(gs_lasso_pl_poly_log.best_estimator_,\n",
    "                    'gs_lasso_pl_poly_log.pkl',\n",
    "                    compress=0)"
   ]
  },
  {
   "cell_type": "code",
   "execution_count": 46,
   "id": "bb3c188006127a29",
   "metadata": {
    "ExecuteTime": {
     "end_time": "2025-03-06T20:07:31.178069Z",
     "start_time": "2025-03-06T20:07:29.952224Z"
    },
    "collapsed": false
   },
   "outputs": [
    {
     "name": "stderr",
     "output_type": "stream",
     "text": [
      "D:\\YandexDisk-Dmitry\\HSE\\valuation_of_used_cars\\venv\\Lib\\site-packages\\sklearn\\preprocessing\\_encoders.py:246: UserWarning: Found unknown categories in columns [0, 1, 2, 3, 4] during transform. These unknown categories will be encoded as all zeros\n",
      "  warnings.warn(\n"
     ]
    },
    {
     "name": "stdout",
     "output_type": "stream",
     "text": [
      "Обучающая выборка\n",
      "R2                                        0.33944\n",
      "MSE                                       20.343\n",
      "MAE                                       0.78107\n",
      "Доля предсказаний 0,95-1,1 от цены        0.14165\n",
      "Тестовая выборка\n",
      "R2                                        0.39056\n",
      "MSE                                       15.049\n",
      "MAE                                       0.75938\n",
      "Доля предсказаний 0,95-1,1 от цены        0.14576\n"
     ]
    }
   ],
   "source": [
    "# Вычислим метрики\n",
    "print_metrics(model=gs_lasso_pl_poly_log.best_estimator_,\n",
    "              y_train=y_train,\n",
    "              y_test=y_test,\n",
    "              X_train=X_train_poly,\n",
    "              X_test=X_test_poly,\n",
    "              log_y=True)"
   ]
  },
  {
   "cell_type": "markdown",
   "id": "51f87d5c8a920653",
   "metadata": {},
   "source": [
    "### ElasticNet"
   ]
  },
  {
   "cell_type": "code",
   "execution_count": 47,
   "id": "51ffe2ef43bfe40d",
   "metadata": {
    "ExecuteTime": {
     "end_time": "2025-03-06T20:26:14.656128Z",
     "start_time": "2025-03-06T20:07:31.178069Z"
    },
    "collapsed": false
   },
   "outputs": [
    {
     "name": "stdout",
     "output_type": "stream",
     "text": [
      "Fitting 4 folds for each of 200 candidates, totalling 800 fits\n",
      "best_score: 0.8956638425588608\n",
      "best_params: {'elasticnet__alpha': np.float64(0.1), 'elasticnet__l1_ratio': np.float64(0.1)}\n"
     ]
    }
   ],
   "source": [
    "# Пайплайн обработки данных и обучения модели ElasticNet\n",
    "elnet_pl_poly_log = make_pipeline(col_transformer, ElasticNet())\n",
    "\n",
    "param_grid_elnet_log = {\n",
    "    'elasticnet__alpha': np.linspace(0.1, 10, 20),\n",
    "    'elasticnet__l1_ratio': np.linspace(0.1, 1, 10),\n",
    "}\n",
    "gs_elnet_pl_poly_log = GridSearchCV(\n",
    "                           elnet_pl_poly_log,\n",
    "                           param_grid=param_grid_elnet,\n",
    "                           scoring='r2',\n",
    "                           cv=4,\n",
    "                           n_jobs=-1,\n",
    "                           verbose=3,\n",
    "                           error_score='raise',\n",
    "                           pre_dispatch=4\n",
    ")\n",
    "\n",
    "gs_elnet_pl_poly_log.fit(X_train_poly, y_train_log)\n",
    "\n",
    "# лучшее значение R2 на кросс-валидации\n",
    "print(f'best_score: {gs_elnet_pl_poly_log.best_score_}')\n",
    "# лучшие гиперпараметры\n",
    "print(f'best_params: {gs_elnet_pl_poly_log.best_params_}')\n",
    "# Сохраним модель\n",
    "try:\n",
    "    _ = joblib.dump(gs_elnet_pl_poly_log.best_estimator_,\n",
    "                    os.path.join(MODEL_PATH, 'gs_elnet_pl_poly_log.pkl'),\n",
    "                    compress=0)\n",
    "except:\n",
    "    print('Changed directory for model to current directory')\n",
    "    _ = joblib.dump(gs_elnet_pl_poly_log.best_estimator_,\n",
    "                    'gs_elnet_pl_poly_log.pkl',\n",
    "                    compress=0)"
   ]
  },
  {
   "cell_type": "code",
   "execution_count": 48,
   "id": "f0c7af093f351851",
   "metadata": {
    "ExecuteTime": {
     "end_time": "2025-03-06T20:26:15.903039Z",
     "start_time": "2025-03-06T20:26:14.657132Z"
    },
    "collapsed": false
   },
   "outputs": [
    {
     "name": "stderr",
     "output_type": "stream",
     "text": [
      "D:\\YandexDisk-Dmitry\\HSE\\valuation_of_used_cars\\venv\\Lib\\site-packages\\sklearn\\preprocessing\\_encoders.py:246: UserWarning: Found unknown categories in columns [0, 1, 2, 3, 4] during transform. These unknown categories will be encoded as all zeros\n",
      "  warnings.warn(\n"
     ]
    },
    {
     "name": "stdout",
     "output_type": "stream",
     "text": [
      "Обучающая выборка\n",
      "R2                                        0.64526\n",
      "MSE                                       10.925\n",
      "MAE                                       0.5955\n",
      "Доля предсказаний 0,95-1,1 от цены        0.18015\n",
      "Тестовая выборка\n",
      "R2                                        0.70508\n",
      "MSE                                       7.2825\n",
      "MAE                                       0.57906\n",
      "Доля предсказаний 0,95-1,1 от цены        0.17969\n"
     ]
    }
   ],
   "source": [
    "# Вычислим метрики\n",
    "print_metrics(model=gs_elnet_pl_poly_log.best_estimator_,\n",
    "              y_train=y_train,\n",
    "              y_test=y_test,\n",
    "              X_train=X_train_poly,\n",
    "              X_test=X_test_poly,\n",
    "              log_y=True)"
   ]
  },
  {
   "cell_type": "markdown",
   "id": "c29a9593341a3b4f",
   "metadata": {},
   "source": [
    "### Ridge"
   ]
  },
  {
   "cell_type": "code",
   "execution_count": 49,
   "id": "633346471941f470",
   "metadata": {
    "ExecuteTime": {
     "end_time": "2025-03-06T20:28:16.298958Z",
     "start_time": "2025-03-06T20:26:15.904043Z"
    },
    "collapsed": false
   },
   "outputs": [
    {
     "name": "stdout",
     "output_type": "stream",
     "text": [
      "Fitting 4 folds for each of 20 candidates, totalling 80 fits\n",
      "best_score: 0.9420924633741379\n",
      "best_params: {'ridge__alpha': np.float64(3.2263157894736847)}\n"
     ]
    }
   ],
   "source": [
    "# Пайплайн обработки данных и обучения линейной модели\n",
    "ridge_pl_poly_log = make_pipeline(col_transformer, Ridge())\n",
    "\n",
    "param_grid_ridge = {\n",
    "    'ridge__alpha': np.linspace(0.1, 10, 20)\n",
    "}\n",
    "gs_ridge_pl_poly_log = GridSearchCV(\n",
    "                           ridge_pl_poly_log,\n",
    "                           param_grid=param_grid_ridge,\n",
    "                           scoring='r2',\n",
    "                           cv=4,\n",
    "                           n_jobs=-1,\n",
    "                           verbose=3,\n",
    "                           error_score='raise',\n",
    "                           pre_dispatch=3\n",
    ")\n",
    "\n",
    "gs_ridge_pl_poly_log.fit(X_train_poly, y_train_log)\n",
    "\n",
    "# лучшее значение R2 на кросс-валидации\n",
    "print(f'best_score: {gs_ridge_pl_poly_log.best_score_}')\n",
    "# лучшие гиперпараметры\n",
    "print(f'best_params: {gs_ridge_pl_poly_log.best_params_}')\n",
    "# Сохраним модель\n",
    "try:\n",
    "    _ = joblib.dump(gs_ridge_pl_poly_log.best_estimator_,\n",
    "                    os.path.join(MODEL_PATH, 'gs_ridge_pl_poly_log.pkl'),\n",
    "                    compress=0)\n",
    "except:\n",
    "    print('Changed directory for model to current directory')\n",
    "    _ = joblib.dump(gs_ridge_pl_poly_log.best_estimator_,\n",
    "                    'gs_ridge_pl_poly_log.pkl',\n",
    "                    compress=0)"
   ]
  },
  {
   "cell_type": "code",
   "execution_count": 50,
   "id": "ef19b6762b23ca21",
   "metadata": {
    "ExecuteTime": {
     "end_time": "2025-03-06T20:28:17.717937Z",
     "start_time": "2025-03-06T20:28:16.299962Z"
    },
    "collapsed": false
   },
   "outputs": [
    {
     "name": "stderr",
     "output_type": "stream",
     "text": [
      "D:\\YandexDisk-Dmitry\\HSE\\valuation_of_used_cars\\venv\\Lib\\site-packages\\sklearn\\preprocessing\\_encoders.py:246: UserWarning: Found unknown categories in columns [0, 1, 2, 3, 4] during transform. These unknown categories will be encoded as all zeros\n",
      "  warnings.warn(\n"
     ]
    },
    {
     "name": "stdout",
     "output_type": "stream",
     "text": [
      "Обучающая выборка\n",
      "R2                                        0.8241\n",
      "MSE                                       5.4171\n",
      "MAE                                       0.35504\n",
      "Доля предсказаний 0,95-1,1 от цены        0.30607\n",
      "Тестовая выборка\n",
      "R2                                        0.63152\n",
      "MSE                                       9.0989\n",
      "MAE                                       0.35264\n",
      "Доля предсказаний 0,95-1,1 от цены        0.30535\n"
     ]
    }
   ],
   "source": [
    "# Вычислим метрики\n",
    "print_metrics(model=gs_ridge_pl_poly_log.best_estimator_,\n",
    "              y_train=y_train,\n",
    "              y_test=y_test,\n",
    "              X_train=X_train_poly,\n",
    "              X_test=X_test_poly,\n",
    "              log_y=True)"
   ]
  },
  {
   "cell_type": "markdown",
   "id": "d3098d9bed3dbd34",
   "metadata": {},
   "source": [
    "Лучший результат среди рассмотренных линейных моделей показала регрессия с L2-регуляризациец на всех признаках и с логарифмированием целевой переменной."
   ]
  },
  {
   "cell_type": "markdown",
   "id": "b1ba7e4edb5110c5",
   "metadata": {},
   "source": [
    "## Важность признаков"
   ]
  },
  {
   "cell_type": "code",
   "execution_count": 51,
   "id": "402d015660b0517e",
   "metadata": {
    "ExecuteTime": {
     "end_time": "2025-03-06T20:38:16.851566Z",
     "start_time": "2025-03-06T20:38:16.635959Z"
    },
    "collapsed": false
   },
   "outputs": [
    {
     "data": {
      "image/png": "[encoded data removed]",
      "text/plain": [
       "<Figure size 1000x800 with 1 Axes>"
      ]
     },
     "metadata": {},
     "output_type": "display_data"
    }
   ],
   "source": [
    "# Проверим важность признаков с точки зрения лучшей модели\n",
    "importances = gs_ridge_pl_poly.best_estimator_['ridge'].coef_\n",
    "importances = pd.Series(\n",
    "    importances,\n",
    "    index=gs_ridge_pl_poly.best_estimator_['columntransformer'].get_feature_names_out()\n",
    ").sort_values()\n",
    "importances = importances[abs(importances)>5]\n",
    "# Построим диаграмму для наглядности\n",
    "plt.figure(figsize=(10, 8))\n",
    "plt.title('Важность признаков')\n",
    "plt.xlabel('Важность признака')\n",
    "plt.ylabel('Признак')\n",
    "plt.grid(color='gray', linewidth = 0.5, linestyle = '--')\n",
    "plt.barh(y=importances.index, width=importances)\n",
    "plt.show()"
   ]
  }
 ],
 "metadata": {
  "kernelspec": {
   "display_name": "DataSphere Kernel",
   "language": "python",
   "name": "python3"
  },
  "language_info": {
   "codemirror_mode": {
    "name": "ipython",
    "version": 3
   },
   "file_extension": ".py",
   "mimetype": "text/x-python",
   "name": "python",
   "nbconvert_exporter": "python",
   "pygments_lexer": "ipython3",
   "version": "3.10.12"
  }
 },
 "nbformat": 4,
 "nbformat_minor": 5
}
