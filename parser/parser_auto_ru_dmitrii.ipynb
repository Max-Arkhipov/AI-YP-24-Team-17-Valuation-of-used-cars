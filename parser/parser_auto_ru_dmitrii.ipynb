{
 "cells": [
  {
   "cell_type": "markdown",
   "metadata": {},
   "source": [
    "# Сбор данных"
   ]
  },
  {
   "cell_type": "code",
   "execution_count": 1,
   "metadata": {
    "ExecuteTime": {
     "end_time": "2024-12-11T20:54:06.463351Z",
     "start_time": "2024-12-11T20:54:05.857086Z"
    }
   },
   "outputs": [],
   "source": [
    "import requests\n",
    "from bs4 import BeautifulSoup\n",
    "from tqdm.notebook import tqdm\n",
    "import numpy as np\n",
    "import random\n",
    "from datetime import date\n",
    "import datetime\n",
    "import time\n",
    "import pandas as pd\n",
    "import os\n",
    "\n",
    "# константы\n",
    "RANDOM_STATE = 5\n",
    "DATA_PATH = '../data'\n",
    "COOCIE_NB = '_csrf_token=322d41e9006e0d84d35ea2ba160ffb0edcaf8bde6af076a0; suid=d5b39f92ec07e14b5ede65193afae8dd.b7a4c96080bd260714d8bcd31af9fb4a; autoruuid=g671fe5f02tuv4stgtm003ft6ufjgtuf.cf4d48bce1d92127b1dc5420a6c012d3; from=direct; autoru_sso_blocked=1; Session_id=3:1730143729.5.0.1729626845318:0EzFWw:1e52.1.2:1|1130000067438128.-1.0.3:1729626845|61:10026972.494636.G47KJoJnrGleXdU3AV1aAbBSOIE; sessar=1.1195.CiC4kiZ9xgGyA9EKYOSeDcPovH-CImZprpSTDFCpFXMUfQ.JxIZidV8vdomSfagoec4_A7vSfKJYsUeVx-hqv85aII; yandex_login=daboldyrev@edu.hse.ru; ys=udn.cDpkYWJvbGR5cmV2QGVkdS5oc2UucnU%3D#c_chck.1929241363; i=tlhDxtDyQeSf93G4Sd2jN8QeRk4YamYpZXEiLrhQS7CLpw0+5vhEzZB3fpv6+DoEc80kD0DF7VDIIgjCNuTIizOlOu8=; yandexuid=2160422051564510217; my=YwA=; L=Xy5fSWVnBHIJSEN2UVlaRQ5hWW9bXVoGIFYzOSssLABdEC9SECxcJxsSVytC.1729626845.15927.340609.84c416984beb9e0cf870a4d6f92acb61; mda2_beacon=1730143729098; sso_status=sso.passport.yandex.ru:synchronized; autoru_sso_redirect_blocked=1; _ym_uid=1684353637548378497; yaPassportTryAutologin=1; _ym_isad=2; autoru_sid=123729954%7C1730143739148.7776000.b4c5nf1yViUEOZ-QftLYSw.mUjU3EqWVT1cPoNPBDcE6l2ZGA5w6n6ifxDp-_Y12Pc; _yasc=+J+VIii3pr3WbEOhoe+sjg44LQZA886gpGdnqTZiAIEC+O3+kkAC+EqS5keXehajStIA; popups-popup-guess-the-car-shown-count=1; _ym_d=1730145169; count-visits=4; from_lifetime=1730145175566; layout-config={\"screen_height\":1080,\"screen_width\":1920,\"win_width\":334,\"win_height\":983}; cycada=Crddb5c+sUwEnCqwO6jVWnYzs+eP5+y9mEaD7l6eSdg='\n",
    "\n",
    "COOCIE_PC = '_ym_uid=1730325262421443420; _ym_isad=2; gdpr=0; _ym_visorc=b; spravka=dD0xNzMwMzI1Mjc3O2k9MTc4LjIzNC4xOS4yMDI7RD1GNjQ4OUE1NTVBQTBCMjE4MzAxOUU4RUREOTA1NkIyM0UxQTRGMTI1RDc0NTE1NTU1MzBEOTA4OUNFQzRBNDcwNzBFQjExRUU4QTVFNzUxNUUyNzRFNzFGOEE2REZFRDhCNzhCRUUzQkIzNjAwNjg0NkRGMDAxNUM1NkM2QjY0RkY3Qjg0RURDMUQ7dT0xNzMwMzI1Mjc3NDcwODA4MTA2O2g9ZmRkODI1Y2YzZjg1ZWI1MGFkMGU2NDRhMjExY2IzYjc=; suid=8ce6731f9a649540b81418dd7f7a116e.47f9f10efbd002c2a5df27708dee6294; _csrf_token=336e9598aa89701ea1d4a92ef74b8383aeb945805101384c; autoruuid=g6722ab1d22n1or4fd1vhlrpil0a28cb.27fdd35057ca4aa98e84995de580e2db; from=direct; autoru_sso_blocked=1; Session_id=3:1730325277.5.1.1661287478014:g-_qsg:7a.1.2:1|46441660.519755.2.2:519755|1130000067438128.-1.0.2:63503060.3:1724790538|61:10027023.161971.xI-XPxtAO96MYM_W4izayeiUh8Q; sessar=1.1195.CiAfLgyg5QFO9kv_v2Iwwkp6R5lIv6cePPCbuQfC79m-WA.NhwRXi6eFd_e185pyLkh8Ueus8HpDaU0f9XAxY7snJk; yandex_login=daboldyrev@edu.hse.ru; ys=udn.cDpkYWJvbGR5cmV2QGVkdS5oc2UucnU%3D#c_chck.2288135939; i=nzlq8Txl051mhytlolic3YKu6ZRZu7M23AglGQC2H6SChVI3I4dx9PEr/Dfs4y+y5EDaXVNKRdMgzgZN1dIUuL2Jc14=; yandexuid=8456723751661209048; L=AF8Ae2BiUUNFeWdaY0BiWHMBWQxYDglSIykrGSoFKgIoHhFWFCNAIBAtWhYf.1724955754.15868.39776.ae22e28e4e90f779e216b76750191ceb; mda2_beacon=1730325277687; sso_status=sso.passport.yandex.ru:synchronized; autoru_sso_redirect_blocked=1; crookie=Z1aKuGe6JLy4FKGXhIj3nnrehm9/YQjGl0VCNKR0jUKr7d2h3ivxaIYPu13wQXm619av9REd2gfP7/GSF9hkstsjJgk=; cmtchd=MTczMDMyNTI4MTY4NQ==; yaPassportTryAutologin=1; autoru_sid=123729954%7C1730325282210.7776000.jxWwPZ77fRVUIlfmhfmAtw.DItU0HaaGmmf9623BImFHi08A6jgdeS1mDF0pbX9qGc; popups-popup-guess-the-car-shown-count=1; _ym_d=1730325649; _yasc=pjX03g9KqviPlHjHOW4LvHXFlqUFi18/SLXJxQ60LnoY+pyRIcEArbgnLiJumj0F7zzKmA==; count-visits=5; from_lifetime=1730325650905; layout-config={\"screen_height\":900,\"screen_width\":1440,\"win_width\":876,\"win_height\":803}; cycada=Kx3ttLi+7hFZXHKh+gVBbnYzs+eP5+y9mEaD7l6eSdg='"
   ]
  },
  {
   "cell_type": "markdown",
   "metadata": {},
   "source": [
    "## Настройки для подключения к сайту"
   ]
  },
  {
   "cell_type": "markdown",
   "metadata": {},
   "source": [
    "Используем сведения из Headers при обращении к https://auto.ru/cars/used/ (зависят от браузера, компьютера), в том числе вводим cookies."
   ]
  },
  {
   "cell_type": "code",
   "execution_count": 3,
   "metadata": {
    "ExecuteTime": {
     "end_time": "2024-11-17T08:41:31.822833Z",
     "start_time": "2024-11-17T08:41:31.810410Z"
    }
   },
   "outputs": [],
   "source": [
    "# cookie = COOCIE_PC # с компьютера\n",
    "cookie = COOCIE_NB # с ноутбука\n",
    "\n",
    "headers = {\n",
    "    'authority': 'auto.ru',\n",
    "    'method': 'GET',\n",
    "    'path': '/cars/used/',\n",
    "    'scheme': 'https',\n",
    "    'accept': 'text/html,application/xhtml+xml,application/xml;q=0.9,image/avif,image/webp,image/apng,*/*;q=0.8,application/signed-exchange;v=b3;q=0.7',\n",
    "    'accept-encoding': 'gzip, deflate, br, zstd',\n",
    "    'accept-language': 'ru,en;q=0.9,en-GB;q=0.8,en-US;q=0.7',\n",
    "    'cache-control': 'max-age=0',\n",
    "    'cookie': cookie,\n",
    "    'priority': 'u=0, i',\n",
    "    'sec-ch-ua': '\"Chromium\";v=\"130\", \"Microsoft Edge\";v=\"130\", \"Not?A_Brand\";v=\"99\"',\n",
    "    'sec-ch-ua-mobile': '?0',\n",
    "    'sec-ch-ua-platform':'\"Windows\"',\n",
    "    'sec-fetch-dest': 'document',\n",
    "    'sec-fetch-mode': 'navigate',\n",
    "    'sec-fetch-site': 'same-origin',\n",
    "    'sec-fetch-user': '?1',\n",
    "    'upgrade-insecure-requests': '1',\n",
    "    'user-agent': 'Mozilla/5.0 (Windows NT 10.0; Win64; x64) AppleWebKit/537.36 (KHTML, like Gecko) Chrome/130.0.0.0 Safari/537.36 Edg/130.0.0.0'\n",
    "}"
   ]
  },
  {
   "cell_type": "markdown",
   "metadata": {},
   "source": [
    "## Функции для сбора данных"
   ]
  },
  {
   "cell_type": "code",
   "execution_count": 2,
   "metadata": {
    "ExecuteTime": {
     "end_time": "2024-11-17T08:41:31.959118Z",
     "start_time": "2024-11-17T08:41:31.949227Z"
    },
    "collapsed": false
   },
   "outputs": [],
   "source": [
    "# Определим функцию, которая делает паузу случайной длительности\n",
    "def sleep():\n",
    "    random_seconds = np.linspace(3, 10, 100)\n",
    "    time.sleep(random.choice(random_seconds))"
   ]
  },
  {
   "cell_type": "code",
   "execution_count": 3,
   "metadata": {
    "ExecuteTime": {
     "end_time": "2024-11-17T08:41:32.116674Z",
     "start_time": "2024-11-17T08:41:32.103178Z"
    },
    "collapsed": false
   },
   "outputs": [],
   "source": [
    "# Определим функцию, которая загружает справочник комплектаций\n",
    "def open_complectation(file_name):\n",
    "    complectations = []\n",
    "    with open(file_name) as data:\n",
    "        for record in data:\n",
    "            res = {}\n",
    "            for paars in record[1:-2].split(\", '\"):\n",
    "                key, value = paars.split(\"':\")\n",
    "                value = value.replace(\"'\",\"\").strip()\n",
    "                if value == 'None':\n",
    "                    value = None\n",
    "                res[key.replace(\"'\",\"\").strip()] = value\n",
    "            complectations.append(res)\n",
    "    return complectations"
   ]
  },
  {
   "cell_type": "code",
   "execution_count": 4,
   "metadata": {
    "ExecuteTime": {
     "end_time": "2024-11-17T08:41:32.317569Z",
     "start_time": "2024-11-17T08:41:32.283591Z"
    },
    "collapsed": false
   },
   "outputs": [],
   "source": [
    "# Определим функцию, которая загружает комплектацию модели\n",
    "# по адресу url_compl\n",
    "def get_complectation(url_compl):\n",
    "\n",
    "    # Немного подождали\n",
    "    sleep()\n",
    "    \n",
    "    # загрузили страницу с данными по автомобилю\n",
    "    page_compl = requests.get(url_compl, headers=headers)\n",
    "    \n",
    "    # получили иерархическое представление содержимого    \n",
    "    soup_compl = BeautifulSoup(page_compl.content, 'html.parser')\n",
    "\n",
    "    # Нашли нужный блок\n",
    "    card_info = soup_compl.find('div', {'class': 'ModificationInfo-GiDD1'})\n",
    "    \n",
    "    # создали словарь\n",
    "    row = {\n",
    "        'url_compl': url_compl,\n",
    "        'state_mark': None,\n",
    "        'class_auto': None,\n",
    "        'door_count': None,\n",
    "        'seat_count': None,\n",
    "        'long': None,\n",
    "        'width': None,\n",
    "        'height': None,\n",
    "        'clearence': None,\n",
    "        'v_bag': None,\n",
    "        'v_tank': None,\n",
    "        'curb_weight': None,\n",
    "        'gross_weight': None,\n",
    "        'front_brakes': None,\n",
    "        'rear_brakes': None,\n",
    "        'max_speed': None,\n",
    "        'acceleration': None,\n",
    "        'fuel_cons': None,\n",
    "        'fuel_brand': None,\n",
    "        'engine_loc1': None,\n",
    "        'engine_loc2': None,\n",
    "        'turbocharg': None,\n",
    "        'max_torq': None,\n",
    "        'cyl_count': None\n",
    "        }\n",
    "    \n",
    "    # извлекли сведения о комплектации\n",
    "    for li in card_info.find_all('li'): \n",
    "        li_span = li.find('span').text.strip()\n",
    "        match li_span:\n",
    "            case 'Страна марки':\n",
    "                try:\n",
    "                    row['state_mark'] = li.find_all('span')[1].text.strip().replace('\\xa0',' ')\n",
    "                except:\n",
    "                    pass\n",
    "            case 'Класс автомобиля':\n",
    "                try:\n",
    "                    row['class_auto'] = li.find_all('span')[1].text.strip().replace('\\xa0',' ')\n",
    "                except:\n",
    "                    pass\n",
    "            case 'Количество дверей':\n",
    "                try:\n",
    "                    row['door_count'] = li.find_all('span')[1].text.strip().strip()\n",
    "                except:\n",
    "                    pass\n",
    "            case 'Количество мест':\n",
    "                try:\n",
    "                    row['seat_count'] = li.find_all('span')[1].text.strip().strip()\n",
    "                except:\n",
    "                    pass\n",
    "            case 'Длина':\n",
    "                try:\n",
    "                    row['long'] = li.find_all('span')[1].text.strip().split()[0]\n",
    "                except:\n",
    "                    pass\n",
    "            case 'Ширина':\n",
    "                try:\n",
    "                    row['width'] = li.find_all('span')[1].text.strip().split()[0]\n",
    "                except:\n",
    "                    pass\n",
    "            case 'Высота':\n",
    "                try:\n",
    "                    row['height'] = li.find_all('span')[1].text.strip().split()[0]\n",
    "                except:\n",
    "                    pass\n",
    "            case 'Клиренс':\n",
    "                try:\n",
    "                    row['clearence'] = li.find_all('span')[1].text.strip().split()[0]\n",
    "                except:\n",
    "                    pass\n",
    "            case 'Объем багажника':\n",
    "                try:\n",
    "                    row['v_bag'] = li.find_all('span')[1].text.strip().split()[0]\n",
    "                except:\n",
    "                    pass\n",
    "            case 'Объём топливного':\n",
    "                try:\n",
    "                    row['v_tank'] = li.find_all('span')[1].text.strip().split()[0]\n",
    "                except:\n",
    "                    pass\n",
    "            case 'Снаряженная масса':\n",
    "                try:\n",
    "                    row['curb_weight'] = li.find_all('span')[1].text.strip().split()[0]\n",
    "                except:\n",
    "                    pass\n",
    "            case 'Полная масса':\n",
    "                try:\n",
    "                    row['gross_weight'] = li.find_all('span')[1].text.strip().split()[0]\n",
    "                except:\n",
    "                    pass\n",
    "            case 'Передние тормоза':\n",
    "                try:\n",
    "                    row['front_brakes'] = li.find_all('span')[1].text.strip().split()[0]\n",
    "                except:\n",
    "                    pass\n",
    "            case 'Задние тормоза':\n",
    "                try:\n",
    "                    row['rear_brakes'] = li.find_all('span')[1].text.strip().split()[0]\n",
    "                except:\n",
    "                    pass\n",
    "            case 'Максимальная скорость':\n",
    "                try:\n",
    "                    row['max_speed'] = li.find_all('span')[1].text.strip().split()[0]\n",
    "                except:\n",
    "                    pass\n",
    "            case 'Разгон':\n",
    "                try:\n",
    "                   row['acceleration'] = li.find_all('span')[1].text.strip().split()[0]\n",
    "                except:\n",
    "                    pass\n",
    "            case 'Расход топлива':\n",
    "                try:\n",
    "                    row['fuel_cons'] = li.find_all('span')[1].text.strip().split('/')[1]\n",
    "                except:\n",
    "                    pass\n",
    "            case 'Марка топлива':\n",
    "                try:\n",
    "                    row['fuel_brand'] = li.find_all('span')[1].text.strip()\n",
    "                except:\n",
    "                    pass\n",
    "            case 'Расположение двигателя':\n",
    "                try:\n",
    "                    row['engine_loc1'] = li.find_all('span')[1].text.strip().split(', ')[0]\n",
    "                except:\n",
    "                    pass\n",
    "                try:\n",
    "                    row['engine_loc2'] = li.find_all('span')[1].text.strip().split(', ')[1]\n",
    "                except:\n",
    "                    pass\n",
    "            case 'Тип наддува':\n",
    "                try:\n",
    "                    row['turbocharg'] = li.find_all('span')[1].text.strip()\n",
    "                except:\n",
    "                    pass\n",
    "            case 'Максимальный крутящий':\n",
    "                try:\n",
    "                    row['max_torq'] = li.find_all('span')[1].text.strip().split()[0]\n",
    "                except:\n",
    "                    pass\n",
    "            case 'Количество цилиндров':\n",
    "                try:\n",
    "                    row['cyl_count'] = li.find_all('span')[1].text.strip()\n",
    "                except:\n",
    "                    pass\n",
    "            case _:\n",
    "                pass\n",
    "    # передали словарь\n",
    "    return row"
   ]
  },
  {
   "cell_type": "code",
   "execution_count": 5,
   "metadata": {
    "ExecuteTime": {
     "end_time": "2024-11-17T08:41:32.416363Z",
     "start_time": "2024-11-17T08:41:32.383113Z"
    },
    "collapsed": false
   },
   "outputs": [],
   "source": [
    "# Определим функцию, которая загружает данные из объявления\n",
    "# по адресу url_car\n",
    "def get_car(url_car):    \n",
    "\n",
    "    # Немного подождали\n",
    "    sleep()\n",
    "    \n",
    "    # зададим год, в котором опубликованы объявления\n",
    "    year = 2024\n",
    "    \n",
    "    # Зададим количество л.с. в 1 кВт\n",
    "    HP_per_kW = 1.3596216173\n",
    "    \n",
    "    # подготовили словарь для месяцев\n",
    "    dict_month = {\n",
    "        'января': 1,\n",
    "        'февраля': 2,\n",
    "        'марта': 3,\n",
    "        'апреля': 4,\n",
    "        'мая': 5,\n",
    "        'июня': 6,\n",
    "        'июля': 7,\n",
    "        'августа': 8,\n",
    "        'сентября': 9,\n",
    "        'октября': 10,\n",
    "        'ноября': 11,\n",
    "        'декабря':12\n",
    "    }\n",
    "    \n",
    "    # создали словарь для объявления\n",
    "    row = {\n",
    "        'url_car': url_car,\n",
    "        'car_make': None,\n",
    "        'car_model': None,\n",
    "        'car_gen': None,\n",
    "        'car_type': None,\n",
    "        'car_compl': None,\n",
    "        'ann_date': None,\n",
    "        'ann_id': None,\n",
    "        'car_price': None,\n",
    "        'ann_city': None,\n",
    "        'link_cpl': None,\n",
    "        'avail': None,\n",
    "        'year': None,\n",
    "        'mileage': None,\n",
    "        'color': None,\n",
    "        'eng_size': None,\n",
    "        'eng_power': None,\n",
    "        'eng_power_kw': None,\n",
    "        'eng_type': None,\n",
    "        'pow_resrv': None,\n",
    "        'options': None,\n",
    "        'transmission': None,\n",
    "        'drive': None,\n",
    "        'st_wheel': None,\n",
    "        'condition': None,\n",
    "        'count_owner': None,\n",
    "        'original_pts': None,\n",
    "        'customs': None\n",
    "        }\n",
    "\n",
    "    # загрузили страницу с данными по автомобилю\n",
    "    page_auto = requests.get(url_car, headers=headers)\n",
    "        \n",
    "    # получили иерархическое представление содержимого\n",
    "    soup_auto = BeautifulSoup(page_auto.content, 'html.parser')\n",
    "\n",
    "    # извлекли данные из блока CardBreadcrumbs\n",
    "    CardBreadcrums = soup_auto.find('div', {'class': 'CardBreadcrumbs'})\n",
    "    row['car_make'] = CardBreadcrums.find_all('a')[2].text\n",
    "    row['car_model'] = CardBreadcrums.find_all('a')[3].text\n",
    "    row['car_gen'] = CardBreadcrums.find_all('a')[4].text\n",
    "    row['car_type'] = CardBreadcrums.find_all('a')[5].text\n",
    "    row['car_compl'] = CardBreadcrums.find_all('a')[6].text\n",
    "\n",
    "    # извлекли данные об объявлении\n",
    "    ann_date = soup_auto.find('div', {'class': 'CardHead__infoItem CardHead__creationDate'}).text.strip().split()\n",
    "    row['ann_date'] = str(date(year, dict_month[ann_date[1]], int(ann_date[0])))\n",
    "    row['ann_id'] = soup_auto.find('div', {'class': 'CardHead__infoItem CardHead__id'}).text.strip()[2:]\n",
    "    row['car_price'] = int(soup_auto.find('span', {'class': 'OfferPriceCaption__price'}).text.replace('\\xa0','')[:-1])\n",
    "    row['ann_city'] = soup_auto.find('span', {'class': 'MetroListPlace__regionName MetroListPlace_nbsp'}).text\n",
    "        \n",
    "\n",
    "    card_info = soup_auto.find('div', {'class': 'CardInfo-ateuv'})\n",
    "\n",
    "    # записали ссылку на комплектацию\n",
    "    for a in soup_auto.find_all('a'):\n",
    "        if 'Характеристики модели' in a.text:\n",
    "            row['link_cpl'] = a.get('href')\n",
    "        \n",
    "    # извлекли сведения об автомобиле\n",
    "    row['avail'] = card_info.find('li', {'class': 'CardInfoRow CardInfoRow_availability'}).find_all('div')[1].text.replace('\\xa0',' ')\n",
    "    row['year'] = int(card_info.find('li', {'class': 'CardInfoRow CardInfoRow_year'}).find_all('div')[1].text)\n",
    "    row['mileage'] = int(card_info.find('li', {'class': 'CardInfoRow CardInfoRow_kmAge'}).find_all('div')[1].text.replace('\\xa0','')[:-3])\n",
    "    row['color'] = card_info.find('li', {'class': 'CardInfoRow CardInfoRow_color'}).find_all('div')[1].text\n",
    "    if card_info.find('li', {'class': 'CardInfoRow CardInfoRow_engine'}).find_all('div')[1].text.split(' / ')[2] == 'Электро':\n",
    "        # eng_size остаётся None для электромобилей\n",
    "        eng_data = card_info.find('li', {'class': 'CardInfoRow CardInfoRow_engine'}).find_all('div')[1].text.split(' / ')\n",
    "        row['eng_power_kw'] = int(eng_data[1].split()[0])\n",
    "        row['eng_power'] = int(HP_per_kW * row['eng_power_kw'])        \n",
    "        row['pow_resrv'] = card_info.find('li', {'class': 'CardInfoRow CardInfoRow_electricRange'}).find_all('div')[1].text.split()[0]\n",
    "    else:\n",
    "        # pow_resrv остаётся None для авто с ДВС\n",
    "        eng_data = card_info.find('li', {'class': 'CardInfoRow CardInfoRow_engine'}).find_all('div')[1].text.split(' / ')\n",
    "        row['eng_size'] = float(eng_data[0].split()[0])\n",
    "        row['eng_power'] = int(eng_data[1].split()[0])\n",
    "        row['eng_power_kw'] = int(row['eng_power'] / HP_per_kW)\n",
    "    row['eng_type'] = eng_data[2]\n",
    "    row['options'] = card_info.find('li', {'class': 'CardInfoRow CardInfoRow_complectationOrEquipmentCount'}).find_all('div')[1].text.strip().replace('\\xa0',' ')\n",
    "    row['transmission'] = card_info.find('li', {'class': 'CardInfoRow CardInfoRow_transmission'}).find_all('div')[1].text\n",
    "    row['drive'] = card_info.find('li', {'class': 'CardInfoRow CardInfoRow_drive'}).find_all('div')[1].text\n",
    "    row['st_wheel'] = card_info.find('li', {'class': 'CardInfoRow CardInfoRow_wheel'}).find_all('div')[1].text\n",
    "    row['condition'] = card_info.find('li', {'class': 'CardInfoRow CardInfoRow_state'}).find_all('div')[1].text\n",
    "    try:\n",
    "        row['count_owner'] = card_info.find('li', {'class': 'CardInfoRow CardInfoRow_ownersCount'}).find_all('div')[1].text.replace('\\xa0',' ')\n",
    "    except:\n",
    "        pass\n",
    "    try:\n",
    "        row['original_pts'] = card_info.find('li', {'class': 'CardInfoRow CardInfoRow_pts'}).find_all('div')[1].text\n",
    "    except:\n",
    "        pass\n",
    "    try:\n",
    "        row['customs'] = card_info.find('li', {'class': 'CardInfoRow CardInfoRow_customs'}).find_all('div')[1].text\n",
    "    except:\n",
    "        pass\n",
    "\n",
    "    if row['link_cpl'] in list(map(lambda x: x['url_compl'], complectations)):\n",
    "\n",
    "        # добавили сведения из ранее загруженной комплектации\n",
    "        for record in complectations:\n",
    "            if row['link_cpl'] == record['url_compl']:\n",
    "                row = {**row, **record}\n",
    "    else:       \n",
    "        # добавили сведения из комплектации\n",
    "        record = get_complectation(row['link_cpl'])\n",
    "        complectations.append(record)\n",
    "        with open('data_comp_dmitrii.txt', 'a') as data_comp:\n",
    "            print(record, file=data_comp)\n",
    "        row = {**row, **record}\n",
    "    \n",
    "    # передаем словарь\n",
    "    return row"
   ]
  },
  {
   "cell_type": "code",
   "execution_count": 6,
   "metadata": {
    "ExecuteTime": {
     "end_time": "2024-11-17T08:41:32.560559Z",
     "start_time": "2024-11-17T08:41:32.547419Z"
    },
    "collapsed": false
   },
   "outputs": [],
   "source": [
    "# Определим функцию, которая создаёт и возвращает список марок автомобилей,\n",
    "# первая буква названия которых находится в диапазоне от a до b (параметры)\n",
    "def get_page_makes(a, b):\n",
    "\n",
    "    # изготовили ссылку на страницу списка с объявлениями\n",
    "    url = 'https://auto.ru/catalog/cars/'\n",
    "\n",
    "    # немного подождали\n",
    "    sleep()\n",
    "\n",
    "    # сходили по ней\n",
    "    page_list = requests.get(url, headers=headers)\n",
    "\n",
    "    # получили иерархическое представление содержимого\n",
    "    soup = BeautifulSoup(page_list.content, 'html.parser')\n",
    "\n",
    "    # ищем тут CatalogFilterSearchList__hidden-stSPU\n",
    "    card_info = soup.find('div', {'class': 'CatalogFilterSearchList__hidden-stSPU'})\n",
    "\n",
    "    # нашли в нём марки авто, записали в список\n",
    "    name_makes = []\n",
    "    for link in card_info.find_all('a'):\n",
    "        if link.get('href'):\n",
    "            name_makes.append(link.get('href').split('/')[-2])\n",
    "    \n",
    "    # убрали дубли\n",
    "    name_makes = list(set(name_makes))\n",
    "    \n",
    "    # отсортировали по афавиту\n",
    "    name_makes.sort()\n",
    "\n",
    "    # оставили марки из диапазона\n",
    "    name_makes = list(filter(lambda x: (ord(x[0]) >= ord(a) and ord(x[0]) <= ord(b)), name_makes))\n",
    "    \n",
    "    return name_makes"
   ]
  },
  {
   "cell_type": "code",
   "execution_count": 7,
   "metadata": {
    "ExecuteTime": {
     "end_time": "2024-11-17T08:41:32.671899Z",
     "start_time": "2024-11-17T08:41:32.657586Z"
    },
    "collapsed": false
   },
   "outputs": [],
   "source": [
    "# Определим функцию, которая загружает объявления с одной\n",
    "# из страниц выдачи объявлений определённой марки автомобилей\n",
    "def get_page(make, p):\n",
    "    # изготовили ссылку на страницу списка с объявлениями\n",
    "    url_base = f'https://auto.ru/cars/{make}/used/'\n",
    "    if p ==1:\n",
    "        url = f'{url_base}'\n",
    "    else:\n",
    "        url = f'{url_base}?page={p}'\n",
    "\n",
    "    # немного подождали\n",
    "    sleep()\n",
    "\n",
    "    # сходили по ней\n",
    "    page_list = requests.get(url, headers=headers)\n",
    "\n",
    "    # получили иерархическое представление содержимого\n",
    "    soup = BeautifulSoup(page_list.content, 'html.parser')\n",
    "\n",
    "    # нашли в нём ссылки на авто, записали в список\n",
    "    urls = []\n",
    "    for link in soup.find_all('a'):\n",
    "        if link.get('href') != None and 'cars/used/sale' in link.get('href') and link.get('href') not in urls:\n",
    "            urls.append(link.get('href'))\n",
    "\n",
    "    # прошли по ссылкам записали данные в список словарей\n",
    "    info = []\n",
    "    mistakes = []\n",
    "\n",
    "    # включаем счетчики\n",
    "    success = 0\n",
    "    failure = 0\n",
    "    t = tqdm(urls, desc=f'Загрузка {name_make}/{page}. Успешно: {success}. Ошибок: {failure}')\n",
    "    for link in t:\n",
    "        try:\n",
    "            info.append(get_car(link))\n",
    "            success += 1\n",
    "        except:\n",
    "            mistakes.append(link)\n",
    "            failure += 1\n",
    "        t.set_description(f'Загрузка {name_make}/{page}. Успешно: {success}. Ошибок: {failure}')\n",
    "        t.refresh()\n",
    "\n",
    "    return info, success, failure"
   ]
  },
  {
   "cell_type": "code",
   "execution_count": 8,
   "metadata": {
    "ExecuteTime": {
     "end_time": "2024-11-17T08:41:32.787381Z",
     "start_time": "2024-11-17T08:41:32.778130Z"
    },
    "collapsed": false
   },
   "outputs": [],
   "source": [
    "# Определим функцию, которая определяет количество объявлений\n",
    "# для определённой марки автомобиля\n",
    "def get_page_models(name_make):\n",
    "\n",
    "    # изготовили ссылку на страницу списка с объявлениями\n",
    "    url = f'https://auto.ru/cars/{name_make}/used/'\n",
    "    \n",
    "    # немного подождали\n",
    "    sleep()\n",
    "    \n",
    "    # сходили по ней\n",
    "    page_list = requests.get(url, headers=headers)\n",
    "\n",
    "    # получили иерархическое представление содержимого\n",
    "    soup = BeautifulSoup(page_list.content, 'html.parser')\n",
    "\n",
    "    # Ищем тут ButtonWithLoader__inner\n",
    "    model_info = soup.find('div', {'class': 'ButtonWithLoader__inner'})\n",
    "\n",
    "    # определили количество объявлений\n",
    "    summ = int(''.join(model_info.text.split()[1:-1]))\n",
    "        \n",
    "    return summ"
   ]
  },
  {
   "cell_type": "code",
   "execution_count": 9,
   "metadata": {
    "ExecuteTime": {
     "end_time": "2024-11-17T08:41:32.888320Z",
     "start_time": "2024-11-17T08:41:32.877644Z"
    },
    "collapsed": false
   },
   "outputs": [],
   "source": [
    "# Определим функцию, которая открывает и считывает данные\n",
    "# из текстового файла и возвращает датасет\n",
    "def open_data(file_name):\n",
    "    data_cars = []\n",
    "    with open(f'{file_name}', 'r') as data:\n",
    "        ann_ids = set()\n",
    "        for record in data:\n",
    "            res = {}\n",
    "            for paars in record[1:-2].split(\", '\"):\n",
    "                key, value = paars.split(\"':\")\n",
    "                value = value.replace(\"'\",\"\").strip()\n",
    "                if value == 'None':\n",
    "                    value = None\n",
    "                res[key.replace(\"'\",\"\").strip()] = value\n",
    "            if res['ann_id'] not in ann_ids:\n",
    "                data_cars.append(res)\n",
    "                ann_ids.add(res['ann_id'])\n",
    "    return pd.DataFrame(data_cars)"
   ]
  },
  {
   "cell_type": "markdown",
   "metadata": {},
   "source": [
    "## Сбор данных с сайта"
   ]
  },
  {
   "cell_type": "code",
   "execution_count": 23,
   "metadata": {
    "ExecuteTime": {
     "end_time": "2024-11-17T09:52:24.177204Z",
     "start_time": "2024-11-17T09:52:23.931450Z"
    },
    "collapsed": false
   },
   "outputs": [],
   "source": [
    "# Загрузим имеющиеся сведения о комплектациях\n",
    "data_comp = 'data_comp_dmitrii.txt'\n",
    "try:\n",
    "    with open('log_dmitrii.txt', 'a') as log:\n",
    "        complectations = open_complectation(data_comp)\n",
    "        print(f'{datetime.date.today().isoformat()} {datetime.datetime.now().time()} Загружен файл с комплектацией {data_comp}', file=log)\n",
    "except (FileNotFoundError, PermissionError):\n",
    "    complectations = []\n",
    "    with open('log_dmitrii.txt', 'a') as log:\n",
    "        print(f'{datetime.date.today().isoformat()} {datetime.datetime.now().time()} Не был загружен файл с комплектацией {data_comp}', file=log)"
   ]
  },
  {
   "cell_type": "code",
   "execution_count": 38,
   "metadata": {
    "ExecuteTime": {
     "end_time": "2024-11-17T22:42:48.588275Z",
     "start_time": "2024-11-17T09:52:39.538899Z"
    },
    "collapsed": false
   },
   "outputs": [
    {
     "data": {
      "application/vnd.jupyter.widget-view+json": {
       "model_id": "1daef4e861d14311b1ccb84d14bca00a",
       "version_major": 2,
       "version_minor": 0
      },
      "text/plain": [
       "Загрузка v - z. Успешно: 0. Ошибок: 0:   0%|          | 0/41 [00:00<?, ?it/s]"
      ]
     },
     "metadata": {},
     "output_type": "display_data"
    },
    {
     "data": {
      "application/vnd.jupyter.widget-view+json": {
       "model_id": "072521675e2f492298baf325d7413fdd",
       "version_major": 2,
       "version_minor": 0
      },
      "text/plain": [
       "Загрузка vauxhall. Успешно: 0. Ошибок: 0: 0it [00:00, ?it/s]"
      ]
     },
     "metadata": {},
     "output_type": "display_data"
    },
    {
     "data": {
      "application/vnd.jupyter.widget-view+json": {
       "model_id": "eef185fa4dcc40718b490742d8d7cbab",
       "version_major": 2,
       "version_minor": 0
      },
      "text/plain": [
       "Загрузка vaz. Успешно: 0. Ошибок: 0: 0it [00:00, ?it/s]"
      ]
     },
     "metadata": {},
     "output_type": "display_data"
    },
    {
     "data": {
      "application/vnd.jupyter.widget-view+json": {
       "model_id": "1bcab69c1201487da81460c047dbaab7",
       "version_major": 2,
       "version_minor": 0
      },
      "text/plain": [
       "Загрузка vector. Успешно: 0. Ошибок: 0: 0it [00:00, ?it/s]"
      ]
     },
     "metadata": {},
     "output_type": "display_data"
    },
    {
     "data": {
      "application/vnd.jupyter.widget-view+json": {
       "model_id": "9e5516c7485f48e0908a9bc64a50c3cc",
       "version_major": 2,
       "version_minor": 0
      },
      "text/plain": [
       "Загрузка venturi. Успешно: 0. Ошибок: 0: 0it [00:00, ?it/s]"
      ]
     },
     "metadata": {},
     "output_type": "display_data"
    },
    {
     "data": {
      "application/vnd.jupyter.widget-view+json": {
       "model_id": "f67c0649118b4edcadd2ab7025fbeb5c",
       "version_major": 2,
       "version_minor": 0
      },
      "text/plain": [
       "Загрузка venucia. Успешно: 0. Ошибок: 0: 0it [00:00, ?it/s]"
      ]
     },
     "metadata": {},
     "output_type": "display_data"
    },
    {
     "data": {
      "application/vnd.jupyter.widget-view+json": {
       "model_id": "fd2e9cd0021045ce99d213bf13e51e86",
       "version_major": 2,
       "version_minor": 0
      },
      "text/plain": [
       "Загрузка vgv. Успешно: 0. Ошибок: 0: 0it [00:00, ?it/s]"
      ]
     },
     "metadata": {},
     "output_type": "display_data"
    },
    {
     "data": {
      "application/vnd.jupyter.widget-view+json": {
       "model_id": "c015efcd1bb044edb69440ec1b20ed25",
       "version_major": 2,
       "version_minor": 0
      },
      "text/plain": [
       "Загрузка vinfast. Успешно: 0. Ошибок: 0: 0it [00:00, ?it/s]"
      ]
     },
     "metadata": {},
     "output_type": "display_data"
    },
    {
     "data": {
      "application/vnd.jupyter.widget-view+json": {
       "model_id": "fd370e92a300483ab31b901764087e6f",
       "version_major": 2,
       "version_minor": 0
      },
      "text/plain": [
       "Загрузка volga. Успешно: 0. Ошибок: 0: 0it [00:00, ?it/s]"
      ]
     },
     "metadata": {},
     "output_type": "display_data"
    },
    {
     "data": {
      "application/vnd.jupyter.widget-view+json": {
       "model_id": "d5c304710bd143ceb7b25b2db6fc2297",
       "version_major": 2,
       "version_minor": 0
      },
      "text/plain": [
       "Загрузка volkswagen. Успешно: 0. Ошибок: 0: 0it [00:00, ?it/s]"
      ]
     },
     "metadata": {},
     "output_type": "display_data"
    },
    {
     "data": {
      "application/vnd.jupyter.widget-view+json": {
       "model_id": "7ff55de338544849b97c3596bd031b96",
       "version_major": 2,
       "version_minor": 0
      },
      "text/plain": [
       "Загрузка volvo. Успешно: 0. Ошибок: 0:   0%|          | 0/95 [00:00<?, ?it/s]"
      ]
     },
     "metadata": {},
     "output_type": "display_data"
    },
    {
     "data": {
      "application/vnd.jupyter.widget-view+json": {
       "model_id": "884e897555354f51b710091b0be480ac",
       "version_major": 2,
       "version_minor": 0
      },
      "text/plain": [
       "Загрузка volvo/5. Успешно: 0. Ошибок: 0:   0%|          | 0/38 [00:00<?, ?it/s]"
      ]
     },
     "metadata": {},
     "output_type": "display_data"
    },
    {
     "data": {
      "application/vnd.jupyter.widget-view+json": {
       "model_id": "797f8aabde254d11954e801da206dce2",
       "version_major": 2,
       "version_minor": 0
      },
      "text/plain": [
       "Загрузка volvo/6. Успешно: 0. Ошибок: 0:   0%|          | 0/37 [00:00<?, ?it/s]"
      ]
     },
     "metadata": {},
     "output_type": "display_data"
    },
    {
     "data": {
      "application/vnd.jupyter.widget-view+json": {
       "model_id": "7c1a7622562849fb876241ae876f190e",
       "version_major": 2,
       "version_minor": 0
      },
      "text/plain": [
       "Загрузка volvo/8. Успешно: 0. Ошибок: 0:   0%|          | 0/38 [00:00<?, ?it/s]"
      ]
     },
     "metadata": {},
     "output_type": "display_data"
    },
    {
     "data": {
      "application/vnd.jupyter.widget-view+json": {
       "model_id": "9ca66066992b4638b43392e00e7d6545",
       "version_major": 2,
       "version_minor": 0
      },
      "text/plain": [
       "Загрузка volvo/9. Успешно: 0. Ошибок: 0:   0%|          | 0/38 [00:00<?, ?it/s]"
      ]
     },
     "metadata": {},
     "output_type": "display_data"
    },
    {
     "data": {
      "application/vnd.jupyter.widget-view+json": {
       "model_id": "6d34ca08e68e4f27ab71a0a425d39f97",
       "version_major": 2,
       "version_minor": 0
      },
      "text/plain": [
       "Загрузка volvo/11. Успешно: 0. Ошибок: 0: 0it [00:00, ?it/s]"
      ]
     },
     "metadata": {},
     "output_type": "display_data"
    },
    {
     "data": {
      "application/vnd.jupyter.widget-view+json": {
       "model_id": "bd07cb971b9d48578a240cf1c88fbe3b",
       "version_major": 2,
       "version_minor": 0
      },
      "text/plain": [
       "Загрузка volvo/12. Успешно: 0. Ошибок: 0: 0it [00:00, ?it/s]"
      ]
     },
     "metadata": {},
     "output_type": "display_data"
    },
    {
     "data": {
      "application/vnd.jupyter.widget-view+json": {
       "model_id": "bc0afa3e40a34af58031eff160d92b1d",
       "version_major": 2,
       "version_minor": 0
      },
      "text/plain": [
       "Загрузка volvo/13. Успешно: 0. Ошибок: 0: 0it [00:00, ?it/s]"
      ]
     },
     "metadata": {},
     "output_type": "display_data"
    },
    {
     "data": {
      "application/vnd.jupyter.widget-view+json": {
       "model_id": "fb9859da90c44b2690468535be044ac6",
       "version_major": 2,
       "version_minor": 0
      },
      "text/plain": [
       "Загрузка volvo/14. Успешно: 0. Ошибок: 0: 0it [00:00, ?it/s]"
      ]
     },
     "metadata": {},
     "output_type": "display_data"
    },
    {
     "data": {
      "application/vnd.jupyter.widget-view+json": {
       "model_id": "7e5ada08d1a347859d6b9ebe7bdc5d57",
       "version_major": 2,
       "version_minor": 0
      },
      "text/plain": [
       "Загрузка volvo/15. Успешно: 0. Ошибок: 0: 0it [00:00, ?it/s]"
      ]
     },
     "metadata": {},
     "output_type": "display_data"
    },
    {
     "data": {
      "application/vnd.jupyter.widget-view+json": {
       "model_id": "423f96d3850645ada86ff9beb3aaf79f",
       "version_major": 2,
       "version_minor": 0
      },
      "text/plain": [
       "Загрузка volvo/16. Успешно: 0. Ошибок: 0: 0it [00:00, ?it/s]"
      ]
     },
     "metadata": {},
     "output_type": "display_data"
    },
    {
     "data": {
      "application/vnd.jupyter.widget-view+json": {
       "model_id": "199de25028884237b77dc8a3d1aee427",
       "version_major": 2,
       "version_minor": 0
      },
      "text/plain": [
       "Загрузка volvo/17. Успешно: 0. Ошибок: 0: 0it [00:00, ?it/s]"
      ]
     },
     "metadata": {},
     "output_type": "display_data"
    },
    {
     "data": {
      "application/vnd.jupyter.widget-view+json": {
       "model_id": "e7e91206f25b4159924033e309f0d33e",
       "version_major": 2,
       "version_minor": 0
      },
      "text/plain": [
       "Загрузка volvo/18. Успешно: 0. Ошибок: 0: 0it [00:00, ?it/s]"
      ]
     },
     "metadata": {},
     "output_type": "display_data"
    },
    {
     "data": {
      "application/vnd.jupyter.widget-view+json": {
       "model_id": "1dfcad8dbc3a4da48a4d3a68e9773524",
       "version_major": 2,
       "version_minor": 0
      },
      "text/plain": [
       "Загрузка volvo/20. Успешно: 0. Ошибок: 0:   0%|          | 0/38 [00:00<?, ?it/s]"
      ]
     },
     "metadata": {},
     "output_type": "display_data"
    },
    {
     "data": {
      "application/vnd.jupyter.widget-view+json": {
       "model_id": "91897ee7ae8c4f0b96bec8cde6c2b80a",
       "version_major": 2,
       "version_minor": 0
      },
      "text/plain": [
       "Загрузка volvo/21. Успешно: 0. Ошибок: 0:   0%|          | 0/37 [00:00<?, ?it/s]"
      ]
     },
     "metadata": {},
     "output_type": "display_data"
    },
    {
     "data": {
      "application/vnd.jupyter.widget-view+json": {
       "model_id": "d6d78c9ae70e4653a6b1d05b414b8c99",
       "version_major": 2,
       "version_minor": 0
      },
      "text/plain": [
       "Загрузка volvo/22. Успешно: 0. Ошибок: 0:   0%|          | 0/38 [00:00<?, ?it/s]"
      ]
     },
     "metadata": {},
     "output_type": "display_data"
    },
    {
     "data": {
      "application/vnd.jupyter.widget-view+json": {
       "model_id": "949787f2627747d5897cfc6394471007",
       "version_major": 2,
       "version_minor": 0
      },
      "text/plain": [
       "Загрузка volvo/23. Успешно: 0. Ошибок: 0:   0%|          | 0/37 [00:00<?, ?it/s]"
      ]
     },
     "metadata": {},
     "output_type": "display_data"
    },
    {
     "data": {
      "application/vnd.jupyter.widget-view+json": {
       "model_id": "116d4b97a3c644a285bc90f8519e5333",
       "version_major": 2,
       "version_minor": 0
      },
      "text/plain": [
       "Загрузка volvo/24. Успешно: 0. Ошибок: 0:   0%|          | 0/38 [00:00<?, ?it/s]"
      ]
     },
     "metadata": {},
     "output_type": "display_data"
    },
    {
     "data": {
      "application/vnd.jupyter.widget-view+json": {
       "model_id": "6ab438d1f4fd47a689f0e2e82004092d",
       "version_major": 2,
       "version_minor": 0
      },
      "text/plain": [
       "Загрузка volvo/26. Успешно: 0. Ошибок: 0:   0%|          | 0/38 [00:00<?, ?it/s]"
      ]
     },
     "metadata": {},
     "output_type": "display_data"
    },
    {
     "data": {
      "application/vnd.jupyter.widget-view+json": {
       "model_id": "b3a6815741d0497e8ffb337117af70c1",
       "version_major": 2,
       "version_minor": 0
      },
      "text/plain": [
       "Загрузка volvo/28. Успешно: 0. Ошибок: 0:   0%|          | 0/38 [00:00<?, ?it/s]"
      ]
     },
     "metadata": {},
     "output_type": "display_data"
    },
    {
     "data": {
      "application/vnd.jupyter.widget-view+json": {
       "model_id": "9ae861b2c1f443dc9115b3df6a3c3b69",
       "version_major": 2,
       "version_minor": 0
      },
      "text/plain": [
       "Загрузка volvo/29. Успешно: 0. Ошибок: 0:   0%|          | 0/37 [00:00<?, ?it/s]"
      ]
     },
     "metadata": {},
     "output_type": "display_data"
    },
    {
     "data": {
      "application/vnd.jupyter.widget-view+json": {
       "model_id": "e9a3928a54b64aeba471397925594372",
       "version_major": 2,
       "version_minor": 0
      },
      "text/plain": [
       "Загрузка volvo/30. Успешно: 0. Ошибок: 0:   0%|          | 0/37 [00:00<?, ?it/s]"
      ]
     },
     "metadata": {},
     "output_type": "display_data"
    },
    {
     "data": {
      "application/vnd.jupyter.widget-view+json": {
       "model_id": "7c24f02101b547ff9ac3249f1d57e417",
       "version_major": 2,
       "version_minor": 0
      },
      "text/plain": [
       "Загрузка volvo/31. Успешно: 0. Ошибок: 0:   0%|          | 0/37 [00:00<?, ?it/s]"
      ]
     },
     "metadata": {},
     "output_type": "display_data"
    },
    {
     "data": {
      "application/vnd.jupyter.widget-view+json": {
       "model_id": "0feb67323c7b460eb9cae2c702cc47b5",
       "version_major": 2,
       "version_minor": 0
      },
      "text/plain": [
       "Загрузка volvo/32. Успешно: 0. Ошибок: 0:   0%|          | 0/38 [00:00<?, ?it/s]"
      ]
     },
     "metadata": {},
     "output_type": "display_data"
    },
    {
     "data": {
      "application/vnd.jupyter.widget-view+json": {
       "model_id": "c5e5e2af68c2411188848e31b8b8594a",
       "version_major": 2,
       "version_minor": 0
      },
      "text/plain": [
       "Загрузка volvo/33. Успешно: 0. Ошибок: 0:   0%|          | 0/38 [00:00<?, ?it/s]"
      ]
     },
     "metadata": {},
     "output_type": "display_data"
    },
    {
     "data": {
      "application/vnd.jupyter.widget-view+json": {
       "model_id": "6979516ed4be4b788846f596cb2d0c0d",
       "version_major": 2,
       "version_minor": 0
      },
      "text/plain": [
       "Загрузка volvo/35. Успешно: 0. Ошибок: 0:   0%|          | 0/38 [00:00<?, ?it/s]"
      ]
     },
     "metadata": {},
     "output_type": "display_data"
    },
    {
     "data": {
      "application/vnd.jupyter.widget-view+json": {
       "model_id": "938eb0d3204e4e0bae1f90c2b8e1bb1c",
       "version_major": 2,
       "version_minor": 0
      },
      "text/plain": [
       "Загрузка volvo/37. Успешно: 0. Ошибок: 0:   0%|          | 0/38 [00:00<?, ?it/s]"
      ]
     },
     "metadata": {},
     "output_type": "display_data"
    },
    {
     "data": {
      "application/vnd.jupyter.widget-view+json": {
       "model_id": "ede42b39697845ba8802a1d4cc26329c",
       "version_major": 2,
       "version_minor": 0
      },
      "text/plain": [
       "Загрузка volvo/38. Успешно: 0. Ошибок: 0:   0%|          | 0/38 [00:00<?, ?it/s]"
      ]
     },
     "metadata": {},
     "output_type": "display_data"
    },
    {
     "data": {
      "application/vnd.jupyter.widget-view+json": {
       "model_id": "0255c7f369664bafa204f6195859c187",
       "version_major": 2,
       "version_minor": 0
      },
      "text/plain": [
       "Загрузка volvo/39. Успешно: 0. Ошибок: 0:   0%|          | 0/38 [00:00<?, ?it/s]"
      ]
     },
     "metadata": {},
     "output_type": "display_data"
    },
    {
     "data": {
      "application/vnd.jupyter.widget-view+json": {
       "model_id": "a4a6cd2f3d464908b1a151cf249e5fa5",
       "version_major": 2,
       "version_minor": 0
      },
      "text/plain": [
       "Загрузка volvo/40. Успешно: 0. Ошибок: 0:   0%|          | 0/37 [00:00<?, ?it/s]"
      ]
     },
     "metadata": {},
     "output_type": "display_data"
    },
    {
     "data": {
      "application/vnd.jupyter.widget-view+json": {
       "model_id": "11d0e9aef65047c0908bbe502e2cb48e",
       "version_major": 2,
       "version_minor": 0
      },
      "text/plain": [
       "Загрузка volvo/41. Успешно: 0. Ошибок: 0:   0%|          | 0/38 [00:00<?, ?it/s]"
      ]
     },
     "metadata": {},
     "output_type": "display_data"
    },
    {
     "data": {
      "application/vnd.jupyter.widget-view+json": {
       "model_id": "bdfd71a18e1d48d9b978438a00564152",
       "version_major": 2,
       "version_minor": 0
      },
      "text/plain": [
       "Загрузка volvo/42. Успешно: 0. Ошибок: 0:   0%|          | 0/37 [00:00<?, ?it/s]"
      ]
     },
     "metadata": {},
     "output_type": "display_data"
    },
    {
     "data": {
      "application/vnd.jupyter.widget-view+json": {
       "model_id": "7c5d40114eb744df883b7cea2ec4e5a1",
       "version_major": 2,
       "version_minor": 0
      },
      "text/plain": [
       "Загрузка volvo/43. Успешно: 0. Ошибок: 0:   0%|          | 0/37 [00:00<?, ?it/s]"
      ]
     },
     "metadata": {},
     "output_type": "display_data"
    },
    {
     "data": {
      "application/vnd.jupyter.widget-view+json": {
       "model_id": "01ad44d02d414dfda9dbf2186b9ea789",
       "version_major": 2,
       "version_minor": 0
      },
      "text/plain": [
       "Загрузка volvo/44. Успешно: 0. Ошибок: 0:   0%|          | 0/38 [00:00<?, ?it/s]"
      ]
     },
     "metadata": {},
     "output_type": "display_data"
    },
    {
     "data": {
      "application/vnd.jupyter.widget-view+json": {
       "model_id": "f9884738c7ea437b8a1bcfb5ca4e5254",
       "version_major": 2,
       "version_minor": 0
      },
      "text/plain": [
       "Загрузка volvo/45. Успешно: 0. Ошибок: 0:   0%|          | 0/37 [00:00<?, ?it/s]"
      ]
     },
     "metadata": {},
     "output_type": "display_data"
    },
    {
     "data": {
      "application/vnd.jupyter.widget-view+json": {
       "model_id": "888a8e7b0f8f430f8f1fbb5ff3c136be",
       "version_major": 2,
       "version_minor": 0
      },
      "text/plain": [
       "Загрузка volvo/46. Успешно: 0. Ошибок: 0:   0%|          | 0/37 [00:00<?, ?it/s]"
      ]
     },
     "metadata": {},
     "output_type": "display_data"
    },
    {
     "data": {
      "application/vnd.jupyter.widget-view+json": {
       "model_id": "2db78d5dcd424c9d90222e59ac4b51d8",
       "version_major": 2,
       "version_minor": 0
      },
      "text/plain": [
       "Загрузка volvo/47. Успешно: 0. Ошибок: 0:   0%|          | 0/37 [00:00<?, ?it/s]"
      ]
     },
     "metadata": {},
     "output_type": "display_data"
    },
    {
     "data": {
      "application/vnd.jupyter.widget-view+json": {
       "model_id": "a944acfe53ef41499d41d22e79450cfd",
       "version_major": 2,
       "version_minor": 0
      },
      "text/plain": [
       "Загрузка volvo/48. Успешно: 0. Ошибок: 0:   0%|          | 0/38 [00:00<?, ?it/s]"
      ]
     },
     "metadata": {},
     "output_type": "display_data"
    },
    {
     "data": {
      "application/vnd.jupyter.widget-view+json": {
       "model_id": "fcf186fcbd064844bd28e2136009cb51",
       "version_major": 2,
       "version_minor": 0
      },
      "text/plain": [
       "Загрузка volvo/49. Успешно: 0. Ошибок: 0:   0%|          | 0/38 [00:00<?, ?it/s]"
      ]
     },
     "metadata": {},
     "output_type": "display_data"
    },
    {
     "data": {
      "application/vnd.jupyter.widget-view+json": {
       "model_id": "cc9f4e0ccf774a5293245ba8972986f7",
       "version_major": 2,
       "version_minor": 0
      },
      "text/plain": [
       "Загрузка volvo/51. Успешно: 0. Ошибок: 0:   0%|          | 0/38 [00:00<?, ?it/s]"
      ]
     },
     "metadata": {},
     "output_type": "display_data"
    },
    {
     "data": {
      "application/vnd.jupyter.widget-view+json": {
       "model_id": "64f85341c8f243de853efbc833b61b6f",
       "version_major": 2,
       "version_minor": 0
      },
      "text/plain": [
       "Загрузка volvo/52. Успешно: 0. Ошибок: 0:   0%|          | 0/37 [00:00<?, ?it/s]"
      ]
     },
     "metadata": {},
     "output_type": "display_data"
    },
    {
     "data": {
      "application/vnd.jupyter.widget-view+json": {
       "model_id": "30f758cd81ba413bb5f0516b9accc2a7",
       "version_major": 2,
       "version_minor": 0
      },
      "text/plain": [
       "Загрузка volvo/53. Успешно: 0. Ошибок: 0:   0%|          | 0/38 [00:00<?, ?it/s]"
      ]
     },
     "metadata": {},
     "output_type": "display_data"
    },
    {
     "data": {
      "application/vnd.jupyter.widget-view+json": {
       "model_id": "9df7a710a7e44e9693f6bf53ac998e28",
       "version_major": 2,
       "version_minor": 0
      },
      "text/plain": [
       "Загрузка volvo/54. Успешно: 0. Ошибок: 0:   0%|          | 0/38 [00:00<?, ?it/s]"
      ]
     },
     "metadata": {},
     "output_type": "display_data"
    },
    {
     "data": {
      "application/vnd.jupyter.widget-view+json": {
       "model_id": "2258bfcb458d404fbbb0428a8d15b9c6",
       "version_major": 2,
       "version_minor": 0
      },
      "text/plain": [
       "Загрузка volvo/56. Успешно: 0. Ошибок: 0:   0%|          | 0/38 [00:00<?, ?it/s]"
      ]
     },
     "metadata": {},
     "output_type": "display_data"
    },
    {
     "data": {
      "application/vnd.jupyter.widget-view+json": {
       "model_id": "477610fb45344e33a0e5a40a53d42147",
       "version_major": 2,
       "version_minor": 0
      },
      "text/plain": [
       "Загрузка volvo/57. Успешно: 0. Ошибок: 0:   0%|          | 0/37 [00:00<?, ?it/s]"
      ]
     },
     "metadata": {},
     "output_type": "display_data"
    },
    {
     "data": {
      "application/vnd.jupyter.widget-view+json": {
       "model_id": "f417191e9eec4713bc2371dec05d7720",
       "version_major": 2,
       "version_minor": 0
      },
      "text/plain": [
       "Загрузка volvo/58. Успешно: 0. Ошибок: 0:   0%|          | 0/37 [00:00<?, ?it/s]"
      ]
     },
     "metadata": {},
     "output_type": "display_data"
    },
    {
     "data": {
      "application/vnd.jupyter.widget-view+json": {
       "model_id": "60e48d25e66647379c127de3af04a566",
       "version_major": 2,
       "version_minor": 0
      },
      "text/plain": [
       "Загрузка volvo/59. Успешно: 0. Ошибок: 0:   0%|          | 0/38 [00:00<?, ?it/s]"
      ]
     },
     "metadata": {},
     "output_type": "display_data"
    },
    {
     "data": {
      "application/vnd.jupyter.widget-view+json": {
       "model_id": "64019d24e7274f3cbf5d0428e4644603",
       "version_major": 2,
       "version_minor": 0
      },
      "text/plain": [
       "Загрузка volvo/60. Успешно: 0. Ошибок: 0:   0%|          | 0/37 [00:00<?, ?it/s]"
      ]
     },
     "metadata": {},
     "output_type": "display_data"
    },
    {
     "data": {
      "application/vnd.jupyter.widget-view+json": {
       "model_id": "9357fd1bfa774c0c82e6ff1e4bcb4c9f",
       "version_major": 2,
       "version_minor": 0
      },
      "text/plain": [
       "Загрузка volvo/61. Успешно: 0. Ошибок: 0:   0%|          | 0/38 [00:00<?, ?it/s]"
      ]
     },
     "metadata": {},
     "output_type": "display_data"
    },
    {
     "data": {
      "application/vnd.jupyter.widget-view+json": {
       "model_id": "9f3c9224b2c641e5b9e0ba2a71ce1206",
       "version_major": 2,
       "version_minor": 0
      },
      "text/plain": [
       "Загрузка volvo/62. Успешно: 0. Ошибок: 0:   0%|          | 0/38 [00:00<?, ?it/s]"
      ]
     },
     "metadata": {},
     "output_type": "display_data"
    },
    {
     "data": {
      "application/vnd.jupyter.widget-view+json": {
       "model_id": "63c0204f3ccf4a49a2a497b0cbc675dd",
       "version_major": 2,
       "version_minor": 0
      },
      "text/plain": [
       "Загрузка volvo/63. Успешно: 0. Ошибок: 0:   0%|          | 0/38 [00:00<?, ?it/s]"
      ]
     },
     "metadata": {},
     "output_type": "display_data"
    },
    {
     "data": {
      "application/vnd.jupyter.widget-view+json": {
       "model_id": "3725bba3d7c448d4bea3ece830459409",
       "version_major": 2,
       "version_minor": 0
      },
      "text/plain": [
       "Загрузка volvo/64. Успешно: 0. Ошибок: 0:   0%|          | 0/38 [00:00<?, ?it/s]"
      ]
     },
     "metadata": {},
     "output_type": "display_data"
    },
    {
     "data": {
      "application/vnd.jupyter.widget-view+json": {
       "model_id": "927800e5916941709a2659e3d4f4f124",
       "version_major": 2,
       "version_minor": 0
      },
      "text/plain": [
       "Загрузка volvo/65. Успешно: 0. Ошибок: 0:   0%|          | 0/37 [00:00<?, ?it/s]"
      ]
     },
     "metadata": {},
     "output_type": "display_data"
    },
    {
     "data": {
      "application/vnd.jupyter.widget-view+json": {
       "model_id": "9c116d02469c4af5abaf4c580f1a348a",
       "version_major": 2,
       "version_minor": 0
      },
      "text/plain": [
       "Загрузка volvo/66. Успешно: 0. Ошибок: 0:   0%|          | 0/37 [00:00<?, ?it/s]"
      ]
     },
     "metadata": {},
     "output_type": "display_data"
    },
    {
     "data": {
      "application/vnd.jupyter.widget-view+json": {
       "model_id": "afed5fd3c4884c02bfece96eda0b0d6e",
       "version_major": 2,
       "version_minor": 0
      },
      "text/plain": [
       "Загрузка volvo/67. Успешно: 0. Ошибок: 0:   0%|          | 0/38 [00:00<?, ?it/s]"
      ]
     },
     "metadata": {},
     "output_type": "display_data"
    },
    {
     "data": {
      "application/vnd.jupyter.widget-view+json": {
       "model_id": "684e20f9c40c4a188d00dd11a7fbcb98",
       "version_major": 2,
       "version_minor": 0
      },
      "text/plain": [
       "Загрузка volvo/68. Успешно: 0. Ошибок: 0:   0%|          | 0/38 [00:00<?, ?it/s]"
      ]
     },
     "metadata": {},
     "output_type": "display_data"
    },
    {
     "data": {
      "application/vnd.jupyter.widget-view+json": {
       "model_id": "01803bce525047e38e870d05c83adcef",
       "version_major": 2,
       "version_minor": 0
      },
      "text/plain": [
       "Загрузка volvo/69. Успешно: 0. Ошибок: 0:   0%|          | 0/37 [00:00<?, ?it/s]"
      ]
     },
     "metadata": {},
     "output_type": "display_data"
    },
    {
     "data": {
      "application/vnd.jupyter.widget-view+json": {
       "model_id": "90081259a41f4ad08bf24592240f7b4b",
       "version_major": 2,
       "version_minor": 0
      },
      "text/plain": [
       "Загрузка volvo/70. Успешно: 0. Ошибок: 0:   0%|          | 0/37 [00:00<?, ?it/s]"
      ]
     },
     "metadata": {},
     "output_type": "display_data"
    },
    {
     "data": {
      "application/vnd.jupyter.widget-view+json": {
       "model_id": "c9a8721baef444ebb77f5cc3cf93b9f5",
       "version_major": 2,
       "version_minor": 0
      },
      "text/plain": [
       "Загрузка volvo/71. Успешно: 0. Ошибок: 0:   0%|          | 0/37 [00:00<?, ?it/s]"
      ]
     },
     "metadata": {},
     "output_type": "display_data"
    },
    {
     "data": {
      "application/vnd.jupyter.widget-view+json": {
       "model_id": "d5aa675f52e347cc80fc5556e7f7f600",
       "version_major": 2,
       "version_minor": 0
      },
      "text/plain": [
       "Загрузка volvo/73. Успешно: 0. Ошибок: 0:   0%|          | 0/37 [00:00<?, ?it/s]"
      ]
     },
     "metadata": {},
     "output_type": "display_data"
    },
    {
     "data": {
      "application/vnd.jupyter.widget-view+json": {
       "model_id": "835b8d2fd19847ceaaef23e5e34b59f1",
       "version_major": 2,
       "version_minor": 0
      },
      "text/plain": [
       "Загрузка volvo/74. Успешно: 0. Ошибок: 0:   0%|          | 0/38 [00:00<?, ?it/s]"
      ]
     },
     "metadata": {},
     "output_type": "display_data"
    },
    {
     "data": {
      "application/vnd.jupyter.widget-view+json": {
       "model_id": "cb5da19c256c4f40aa73703e5bafdd38",
       "version_major": 2,
       "version_minor": 0
      },
      "text/plain": [
       "Загрузка volvo/75. Успешно: 0. Ошибок: 0:   0%|          | 0/37 [00:00<?, ?it/s]"
      ]
     },
     "metadata": {},
     "output_type": "display_data"
    },
    {
     "data": {
      "application/vnd.jupyter.widget-view+json": {
       "model_id": "e9cb7ee76934408f931005afcc00eacb",
       "version_major": 2,
       "version_minor": 0
      },
      "text/plain": [
       "Загрузка volvo/76. Успешно: 0. Ошибок: 0:   0%|          | 0/38 [00:00<?, ?it/s]"
      ]
     },
     "metadata": {},
     "output_type": "display_data"
    },
    {
     "data": {
      "application/vnd.jupyter.widget-view+json": {
       "model_id": "9923ddcb47214fb484cb1f1d879107fd",
       "version_major": 2,
       "version_minor": 0
      },
      "text/plain": [
       "Загрузка volvo/77. Успешно: 0. Ошибок: 0:   0%|          | 0/37 [00:00<?, ?it/s]"
      ]
     },
     "metadata": {},
     "output_type": "display_data"
    },
    {
     "data": {
      "application/vnd.jupyter.widget-view+json": {
       "model_id": "4abf96955ed84eef85c01d2a3221816c",
       "version_major": 2,
       "version_minor": 0
      },
      "text/plain": [
       "Загрузка volvo/78. Успешно: 0. Ошибок: 0:   0%|          | 0/38 [00:00<?, ?it/s]"
      ]
     },
     "metadata": {},
     "output_type": "display_data"
    },
    {
     "data": {
      "application/vnd.jupyter.widget-view+json": {
       "model_id": "8792b10083634b70a16c04840f19b58b",
       "version_major": 2,
       "version_minor": 0
      },
      "text/plain": [
       "Загрузка volvo/79. Успешно: 0. Ошибок: 0:   0%|          | 0/38 [00:00<?, ?it/s]"
      ]
     },
     "metadata": {},
     "output_type": "display_data"
    },
    {
     "data": {
      "application/vnd.jupyter.widget-view+json": {
       "model_id": "7e2174caedfb48bc86453f80fce2504c",
       "version_major": 2,
       "version_minor": 0
      },
      "text/plain": [
       "Загрузка volvo/80. Успешно: 0. Ошибок: 0:   0%|          | 0/37 [00:00<?, ?it/s]"
      ]
     },
     "metadata": {},
     "output_type": "display_data"
    },
    {
     "data": {
      "application/vnd.jupyter.widget-view+json": {
       "model_id": "341b1291b7da48beb1905a05d0e2be45",
       "version_major": 2,
       "version_minor": 0
      },
      "text/plain": [
       "Загрузка volvo/81. Успешно: 0. Ошибок: 0:   0%|          | 0/37 [00:00<?, ?it/s]"
      ]
     },
     "metadata": {},
     "output_type": "display_data"
    },
    {
     "data": {
      "application/vnd.jupyter.widget-view+json": {
       "model_id": "27bf8b76415c46dfa162c8cdcb9ed659",
       "version_major": 2,
       "version_minor": 0
      },
      "text/plain": [
       "Загрузка volvo/82. Успешно: 0. Ошибок: 0:   0%|          | 0/37 [00:00<?, ?it/s]"
      ]
     },
     "metadata": {},
     "output_type": "display_data"
    },
    {
     "data": {
      "application/vnd.jupyter.widget-view+json": {
       "model_id": "5c56ef131e1d4e04b0029fa7b7e12c93",
       "version_major": 2,
       "version_minor": 0
      },
      "text/plain": [
       "Загрузка volvo/83. Успешно: 0. Ошибок: 0:   0%|          | 0/38 [00:00<?, ?it/s]"
      ]
     },
     "metadata": {},
     "output_type": "display_data"
    },
    {
     "data": {
      "application/vnd.jupyter.widget-view+json": {
       "model_id": "dbadff03b30b4d20bea9d6ec0475de5a",
       "version_major": 2,
       "version_minor": 0
      },
      "text/plain": [
       "Загрузка volvo/84. Успешно: 0. Ошибок: 0:   0%|          | 0/38 [00:00<?, ?it/s]"
      ]
     },
     "metadata": {},
     "output_type": "display_data"
    },
    {
     "data": {
      "application/vnd.jupyter.widget-view+json": {
       "model_id": "999137a8084e4d629c418ddb8cc9aaad",
       "version_major": 2,
       "version_minor": 0
      },
      "text/plain": [
       "Загрузка volvo/85. Успешно: 0. Ошибок: 0:   0%|          | 0/37 [00:00<?, ?it/s]"
      ]
     },
     "metadata": {},
     "output_type": "display_data"
    },
    {
     "data": {
      "application/vnd.jupyter.widget-view+json": {
       "model_id": "42de3219f31641008abcc45e62c552fb",
       "version_major": 2,
       "version_minor": 0
      },
      "text/plain": [
       "Загрузка volvo/86. Успешно: 0. Ошибок: 0:   0%|          | 0/37 [00:00<?, ?it/s]"
      ]
     },
     "metadata": {},
     "output_type": "display_data"
    },
    {
     "data": {
      "application/vnd.jupyter.widget-view+json": {
       "model_id": "9dafb4f5f7c741f082624cbcfe4a45b8",
       "version_major": 2,
       "version_minor": 0
      },
      "text/plain": [
       "Загрузка volvo/87. Успешно: 0. Ошибок: 0:   0%|          | 0/37 [00:00<?, ?it/s]"
      ]
     },
     "metadata": {},
     "output_type": "display_data"
    },
    {
     "data": {
      "application/vnd.jupyter.widget-view+json": {
       "model_id": "01bb1b6c0f6b4eb5a0a8dd2996b4d22f",
       "version_major": 2,
       "version_minor": 0
      },
      "text/plain": [
       "Загрузка volvo/88. Успешно: 0. Ошибок: 0:   0%|          | 0/38 [00:00<?, ?it/s]"
      ]
     },
     "metadata": {},
     "output_type": "display_data"
    },
    {
     "data": {
      "application/vnd.jupyter.widget-view+json": {
       "model_id": "72279422de2d41f38fd7a5ae7f5078af",
       "version_major": 2,
       "version_minor": 0
      },
      "text/plain": [
       "Загрузка volvo/89. Успешно: 0. Ошибок: 0:   0%|          | 0/38 [00:00<?, ?it/s]"
      ]
     },
     "metadata": {},
     "output_type": "display_data"
    },
    {
     "data": {
      "application/vnd.jupyter.widget-view+json": {
       "model_id": "5d0983af34a643048d995c79507e95be",
       "version_major": 2,
       "version_minor": 0
      },
      "text/plain": [
       "Загрузка volvo/90. Успешно: 0. Ошибок: 0:   0%|          | 0/37 [00:00<?, ?it/s]"
      ]
     },
     "metadata": {},
     "output_type": "display_data"
    },
    {
     "data": {
      "application/vnd.jupyter.widget-view+json": {
       "model_id": "753680294c6f40ad8d1e077389b83c98",
       "version_major": 2,
       "version_minor": 0
      },
      "text/plain": [
       "Загрузка volvo/91. Успешно: 0. Ошибок: 0:   0%|          | 0/38 [00:00<?, ?it/s]"
      ]
     },
     "metadata": {},
     "output_type": "display_data"
    },
    {
     "data": {
      "application/vnd.jupyter.widget-view+json": {
       "model_id": "4667414c7d7c403e85fd2a56fa1e0720",
       "version_major": 2,
       "version_minor": 0
      },
      "text/plain": [
       "Загрузка volvo/92. Успешно: 0. Ошибок: 0:   0%|          | 0/38 [00:00<?, ?it/s]"
      ]
     },
     "metadata": {},
     "output_type": "display_data"
    },
    {
     "data": {
      "application/vnd.jupyter.widget-view+json": {
       "model_id": "33edaa8f7f974910acae9e0fc06df9b3",
       "version_major": 2,
       "version_minor": 0
      },
      "text/plain": [
       "Загрузка volvo/93. Успешно: 0. Ошибок: 0:   0%|          | 0/37 [00:00<?, ?it/s]"
      ]
     },
     "metadata": {},
     "output_type": "display_data"
    },
    {
     "data": {
      "application/vnd.jupyter.widget-view+json": {
       "model_id": "fb47b0594e554cce8677ab5a541ee118",
       "version_major": 2,
       "version_minor": 0
      },
      "text/plain": [
       "Загрузка volvo/94. Успешно: 0. Ошибок: 0:   0%|          | 0/37 [00:00<?, ?it/s]"
      ]
     },
     "metadata": {},
     "output_type": "display_data"
    },
    {
     "data": {
      "application/vnd.jupyter.widget-view+json": {
       "model_id": "88d7b5988eab4d53a9f19950932b1a3b",
       "version_major": 2,
       "version_minor": 0
      },
      "text/plain": [
       "Загрузка volvo/96. Успешно: 0. Ошибок: 0:   0%|          | 0/37 [00:00<?, ?it/s]"
      ]
     },
     "metadata": {},
     "output_type": "display_data"
    },
    {
     "data": {
      "application/vnd.jupyter.widget-view+json": {
       "model_id": "75557bda026f4d13842d44f9e8932647",
       "version_major": 2,
       "version_minor": 0
      },
      "text/plain": [
       "Загрузка volvo/97. Успешно: 0. Ошибок: 0:   0%|          | 0/37 [00:00<?, ?it/s]"
      ]
     },
     "metadata": {},
     "output_type": "display_data"
    },
    {
     "data": {
      "application/vnd.jupyter.widget-view+json": {
       "model_id": "2a419b8907154850b37f475d83eb3711",
       "version_major": 2,
       "version_minor": 0
      },
      "text/plain": [
       "Загрузка vortex. Успешно: 0. Ошибок: 0:   0%|          | 0/8 [00:00<?, ?it/s]"
      ]
     },
     "metadata": {},
     "output_type": "display_data"
    },
    {
     "data": {
      "application/vnd.jupyter.widget-view+json": {
       "model_id": "03bd504ab50f4200bfbfd7a81511ec8b",
       "version_major": 2,
       "version_minor": 0
      },
      "text/plain": [
       "Загрузка vortex/1. Успешно: 0. Ошибок: 0:   0%|          | 0/37 [00:00<?, ?it/s]"
      ]
     },
     "metadata": {},
     "output_type": "display_data"
    },
    {
     "data": {
      "application/vnd.jupyter.widget-view+json": {
       "model_id": "c273a241cf2c4fbda1e8e1e38aa5abf2",
       "version_major": 2,
       "version_minor": 0
      },
      "text/plain": [
       "Загрузка vortex/2. Успешно: 0. Ошибок: 0:   0%|          | 0/37 [00:00<?, ?it/s]"
      ]
     },
     "metadata": {},
     "output_type": "display_data"
    },
    {
     "data": {
      "application/vnd.jupyter.widget-view+json": {
       "model_id": "9c9c16307a4e4bd7b8efcebeafcf1f00",
       "version_major": 2,
       "version_minor": 0
      },
      "text/plain": [
       "Загрузка vortex/3. Успешно: 0. Ошибок: 0:   0%|          | 0/37 [00:00<?, ?it/s]"
      ]
     },
     "metadata": {},
     "output_type": "display_data"
    },
    {
     "data": {
      "application/vnd.jupyter.widget-view+json": {
       "model_id": "f52791a7406945f28e6d0348d25e7db4",
       "version_major": 2,
       "version_minor": 0
      },
      "text/plain": [
       "Загрузка vortex/4. Успешно: 0. Ошибок: 0:   0%|          | 0/37 [00:00<?, ?it/s]"
      ]
     },
     "metadata": {},
     "output_type": "display_data"
    },
    {
     "data": {
      "application/vnd.jupyter.widget-view+json": {
       "model_id": "3ee20e5edd454f6c88e00dc4f5ee0195",
       "version_major": 2,
       "version_minor": 0
      },
      "text/plain": [
       "Загрузка vortex/5. Успешно: 0. Ошибок: 0:   0%|          | 0/38 [00:00<?, ?it/s]"
      ]
     },
     "metadata": {},
     "output_type": "display_data"
    },
    {
     "data": {
      "application/vnd.jupyter.widget-view+json": {
       "model_id": "536614a33e104d25a104f59e99c7f018",
       "version_major": 2,
       "version_minor": 0
      },
      "text/plain": [
       "Загрузка vortex/7. Успешно: 0. Ошибок: 0:   0%|          | 0/38 [00:00<?, ?it/s]"
      ]
     },
     "metadata": {},
     "output_type": "display_data"
    },
    {
     "data": {
      "application/vnd.jupyter.widget-view+json": {
       "model_id": "2619b19f89194db68d41dc1343539cb8",
       "version_major": 2,
       "version_minor": 0
      },
      "text/plain": [
       "Загрузка vortex/8. Успешно: 0. Ошибок: 0:   0%|          | 0/37 [00:00<?, ?it/s]"
      ]
     },
     "metadata": {},
     "output_type": "display_data"
    },
    {
     "data": {
      "application/vnd.jupyter.widget-view+json": {
       "model_id": "d6f3dddbd022450a9b93a2901179623f",
       "version_major": 2,
       "version_minor": 0
      },
      "text/plain": [
       "Загрузка voyah. Успешно: 0. Ошибок: 0:   0%|          | 0/12 [00:00<?, ?it/s]"
      ]
     },
     "metadata": {},
     "output_type": "display_data"
    },
    {
     "data": {
      "application/vnd.jupyter.widget-view+json": {
       "model_id": "3f924a7772cd4138903fe1645268053b",
       "version_major": 2,
       "version_minor": 0
      },
      "text/plain": [
       "Загрузка voyah/1. Успешно: 0. Ошибок: 0:   0%|          | 0/37 [00:00<?, ?it/s]"
      ]
     },
     "metadata": {},
     "output_type": "display_data"
    },
    {
     "data": {
      "application/vnd.jupyter.widget-view+json": {
       "model_id": "bfbceb437b864fa4ae499979fdee9d9c",
       "version_major": 2,
       "version_minor": 0
      },
      "text/plain": [
       "Загрузка voyah/2. Успешно: 0. Ошибок: 0:   0%|          | 0/38 [00:00<?, ?it/s]"
      ]
     },
     "metadata": {},
     "output_type": "display_data"
    },
    {
     "data": {
      "application/vnd.jupyter.widget-view+json": {
       "model_id": "ce5386a0aa5345d3a50cd393874110b7",
       "version_major": 2,
       "version_minor": 0
      },
      "text/plain": [
       "Загрузка voyah/3. Успешно: 0. Ошибок: 0:   0%|          | 0/38 [00:00<?, ?it/s]"
      ]
     },
     "metadata": {},
     "output_type": "display_data"
    },
    {
     "data": {
      "application/vnd.jupyter.widget-view+json": {
       "model_id": "e18b296b2ace4884be7b0fc02a7f6a5c",
       "version_major": 2,
       "version_minor": 0
      },
      "text/plain": [
       "Загрузка voyah/4. Успешно: 0. Ошибок: 0:   0%|          | 0/38 [00:00<?, ?it/s]"
      ]
     },
     "metadata": {},
     "output_type": "display_data"
    },
    {
     "data": {
      "application/vnd.jupyter.widget-view+json": {
       "model_id": "601f8b0a058b4451809e43b4c3f9cd64",
       "version_major": 2,
       "version_minor": 0
      },
      "text/plain": [
       "Загрузка voyah/5. Успешно: 0. Ошибок: 0:   0%|          | 0/38 [00:00<?, ?it/s]"
      ]
     },
     "metadata": {},
     "output_type": "display_data"
    },
    {
     "data": {
      "application/vnd.jupyter.widget-view+json": {
       "model_id": "70aca5ddfd894b91bf0562404a813e09",
       "version_major": 2,
       "version_minor": 0
      },
      "text/plain": [
       "Загрузка voyah/6. Успешно: 0. Ошибок: 0:   0%|          | 0/38 [00:00<?, ?it/s]"
      ]
     },
     "metadata": {},
     "output_type": "display_data"
    },
    {
     "data": {
      "application/vnd.jupyter.widget-view+json": {
       "model_id": "0f1b6a2c67ac4fadbf3e0a21685724da",
       "version_major": 2,
       "version_minor": 0
      },
      "text/plain": [
       "Загрузка voyah/7. Успешно: 0. Ошибок: 0:   0%|          | 0/37 [00:00<?, ?it/s]"
      ]
     },
     "metadata": {},
     "output_type": "display_data"
    },
    {
     "data": {
      "application/vnd.jupyter.widget-view+json": {
       "model_id": "e12b4d71c8884377bbed4f60092cfc3c",
       "version_major": 2,
       "version_minor": 0
      },
      "text/plain": [
       "Загрузка voyah/8. Успешно: 0. Ошибок: 0:   0%|          | 0/37 [00:00<?, ?it/s]"
      ]
     },
     "metadata": {},
     "output_type": "display_data"
    },
    {
     "data": {
      "application/vnd.jupyter.widget-view+json": {
       "model_id": "13a361878c584d1ba5c1577e64b03bdf",
       "version_major": 2,
       "version_minor": 0
      },
      "text/plain": [
       "Загрузка voyah/9. Успешно: 0. Ошибок: 0:   0%|          | 0/38 [00:00<?, ?it/s]"
      ]
     },
     "metadata": {},
     "output_type": "display_data"
    },
    {
     "data": {
      "application/vnd.jupyter.widget-view+json": {
       "model_id": "cee90636a3c74569aa1e7ad2ba899aa7",
       "version_major": 2,
       "version_minor": 0
      },
      "text/plain": [
       "Загрузка voyah/11. Успешно: 0. Ошибок: 0: 0it [00:00, ?it/s]"
      ]
     },
     "metadata": {},
     "output_type": "display_data"
    },
    {
     "data": {
      "application/vnd.jupyter.widget-view+json": {
       "model_id": "e22793011bca4b958b484cdd74421972",
       "version_major": 2,
       "version_minor": 0
      },
      "text/plain": [
       "Загрузка vuhl. Успешно: 0. Ошибок: 0: 0it [00:00, ?it/s]"
      ]
     },
     "metadata": {},
     "output_type": "display_data"
    },
    {
     "data": {
      "application/vnd.jupyter.widget-view+json": {
       "model_id": "38b7f25716284456a26211d4d95d354c",
       "version_major": 2,
       "version_minor": 0
      },
      "text/plain": [
       "Загрузка w_motors. Успешно: 0. Ошибок: 0: 0it [00:00, ?it/s]"
      ]
     },
     "metadata": {},
     "output_type": "display_data"
    },
    {
     "data": {
      "application/vnd.jupyter.widget-view+json": {
       "model_id": "caa95fbc2fa04a69980940d950a02077",
       "version_major": 2,
       "version_minor": 0
      },
      "text/plain": [
       "Загрузка wanderer. Успешно: 0. Ошибок: 0:   0%|          | 0/1 [00:00<?, ?it/s]"
      ]
     },
     "metadata": {},
     "output_type": "display_data"
    },
    {
     "data": {
      "application/vnd.jupyter.widget-view+json": {
       "model_id": "87dfefb55cfa42ce8d36286b06fac208",
       "version_major": 2,
       "version_minor": 0
      },
      "text/plain": [
       "Загрузка wanderer/1. Успешно: 0. Ошибок: 0:   0%|          | 0/4 [00:00<?, ?it/s]"
      ]
     },
     "metadata": {},
     "output_type": "display_data"
    },
    {
     "data": {
      "application/vnd.jupyter.widget-view+json": {
       "model_id": "9839b91032784552b17706a5e3bf119f",
       "version_major": 2,
       "version_minor": 0
      },
      "text/plain": [
       "Загрузка wartburg. Успешно: 0. Ошибок: 0:   0%|          | 0/1 [00:00<?, ?it/s]"
      ]
     },
     "metadata": {},
     "output_type": "display_data"
    },
    {
     "data": {
      "application/vnd.jupyter.widget-view+json": {
       "model_id": "93bade458e334892bea4b7d260b8624e",
       "version_major": 2,
       "version_minor": 0
      },
      "text/plain": [
       "Загрузка wartburg/1. Успешно: 0. Ошибок: 0:   0%|          | 0/5 [00:00<?, ?it/s]"
      ]
     },
     "metadata": {},
     "output_type": "display_data"
    },
    {
     "data": {
      "application/vnd.jupyter.widget-view+json": {
       "model_id": "81355aaa8aec4d52be02f81a128fe7f6",
       "version_major": 2,
       "version_minor": 0
      },
      "text/plain": [
       "Загрузка weltmeister. Успешно: 0. Ошибок: 0: 0it [00:00, ?it/s]"
      ]
     },
     "metadata": {},
     "output_type": "display_data"
    },
    {
     "data": {
      "application/vnd.jupyter.widget-view+json": {
       "model_id": "c3f33c36be5b45dc968d80a6a4ad8842",
       "version_major": 2,
       "version_minor": 0
      },
      "text/plain": [
       "Загрузка westfield. Успешно: 0. Ошибок: 0: 0it [00:00, ?it/s]"
      ]
     },
     "metadata": {},
     "output_type": "display_data"
    },
    {
     "data": {
      "application/vnd.jupyter.widget-view+json": {
       "model_id": "a35da540031d45c9b4b8e6759a8f1a97",
       "version_major": 2,
       "version_minor": 0
      },
      "text/plain": [
       "Загрузка wey. Успешно: 0. Ошибок: 0:   0%|          | 0/1 [00:00<?, ?it/s]"
      ]
     },
     "metadata": {},
     "output_type": "display_data"
    },
    {
     "data": {
      "application/vnd.jupyter.widget-view+json": {
       "model_id": "8d86abc2ceaa4750be6301c18d5ab718",
       "version_major": 2,
       "version_minor": 0
      },
      "text/plain": [
       "Загрузка wey/1. Успешно: 0. Ошибок: 0:   0%|          | 0/27 [00:00<?, ?it/s]"
      ]
     },
     "metadata": {},
     "output_type": "display_data"
    },
    {
     "data": {
      "application/vnd.jupyter.widget-view+json": {
       "model_id": "15d990a858d040a2a61462ca1071ce37",
       "version_major": 2,
       "version_minor": 0
      },
      "text/plain": [
       "Загрузка wiesmann. Успешно: 0. Ошибок: 0: 0it [00:00, ?it/s]"
      ]
     },
     "metadata": {},
     "output_type": "display_data"
    },
    {
     "data": {
      "application/vnd.jupyter.widget-view+json": {
       "model_id": "7c060c6873f64f6d9b8bdf3b2f811ca6",
       "version_major": 2,
       "version_minor": 0
      },
      "text/plain": [
       "Загрузка willis. Успешно: 0. Ошибок: 0:   0%|          | 0/1 [00:00<?, ?it/s]"
      ]
     },
     "metadata": {},
     "output_type": "display_data"
    },
    {
     "data": {
      "application/vnd.jupyter.widget-view+json": {
       "model_id": "283e4bb4b82a43899aa1320387ad41a6",
       "version_major": 2,
       "version_minor": 0
      },
      "text/plain": [
       "Загрузка willis/1. Успешно: 0. Ошибок: 0:   0%|          | 0/10 [00:00<?, ?it/s]"
      ]
     },
     "metadata": {},
     "output_type": "display_data"
    },
    {
     "data": {
      "application/vnd.jupyter.widget-view+json": {
       "model_id": "9563d7ca37d943e680bdf6d8df118121",
       "version_major": 2,
       "version_minor": 0
      },
      "text/plain": [
       "Загрузка wuling. Успешно: 0. Ошибок: 0:   0%|          | 0/1 [00:00<?, ?it/s]"
      ]
     },
     "metadata": {},
     "output_type": "display_data"
    },
    {
     "data": {
      "application/vnd.jupyter.widget-view+json": {
       "model_id": "88492efc4a0540f28eb5af7ef9f25c0d",
       "version_major": 2,
       "version_minor": 0
      },
      "text/plain": [
       "Загрузка wuling/1. Успешно: 0. Ошибок: 0:   0%|          | 0/6 [00:00<?, ?it/s]"
      ]
     },
     "metadata": {},
     "output_type": "display_data"
    },
    {
     "data": {
      "application/vnd.jupyter.widget-view+json": {
       "model_id": "98737f0521884b43acf0b8f03cfd9104",
       "version_major": 2,
       "version_minor": 0
      },
      "text/plain": [
       "Загрузка xcite. Успешно: 0. Ошибок: 0:   0%|          | 0/1 [00:00<?, ?it/s]"
      ]
     },
     "metadata": {},
     "output_type": "display_data"
    },
    {
     "data": {
      "application/vnd.jupyter.widget-view+json": {
       "model_id": "78b785a7e2bb4b0c9e4c04d525ccf824",
       "version_major": 2,
       "version_minor": 0
      },
      "text/plain": [
       "Загрузка xev. Успешно: 0. Ошибок: 0: 0it [00:00, ?it/s]"
      ]
     },
     "metadata": {},
     "output_type": "display_data"
    },
    {
     "data": {
      "application/vnd.jupyter.widget-view+json": {
       "model_id": "4821664e71ba43fb8484868a1b06bedd",
       "version_major": 2,
       "version_minor": 0
      },
      "text/plain": [
       "Загрузка xiaomi. Успешно: 0. Ошибок: 0:   0%|          | 0/2 [00:00<?, ?it/s]"
      ]
     },
     "metadata": {},
     "output_type": "display_data"
    },
    {
     "data": {
      "application/vnd.jupyter.widget-view+json": {
       "model_id": "03a68375efac40279cd20834ae15a332",
       "version_major": 2,
       "version_minor": 0
      },
      "text/plain": [
       "Загрузка xiaomi/2. Успешно: 0. Ошибок: 0:   0%|          | 0/22 [00:00<?, ?it/s]"
      ]
     },
     "metadata": {},
     "output_type": "display_data"
    },
    {
     "data": {
      "application/vnd.jupyter.widget-view+json": {
       "model_id": "a6074bda54af4bcab6dcfe5d4692e24a",
       "version_major": 2,
       "version_minor": 0
      },
      "text/plain": [
       "Загрузка xiaopaoche. Успешно: 0. Ошибок: 0: 0it [00:00, ?it/s]"
      ]
     },
     "metadata": {},
     "output_type": "display_data"
    },
    {
     "data": {
      "application/vnd.jupyter.widget-view+json": {
       "model_id": "97fb8e7d87514906839633ab664c0450",
       "version_major": 2,
       "version_minor": 0
      },
      "text/plain": [
       "Загрузка xinkai. Успешно: 0. Ошибок: 0:   0%|          | 0/1 [00:00<?, ?it/s]"
      ]
     },
     "metadata": {},
     "output_type": "display_data"
    },
    {
     "data": {
      "application/vnd.jupyter.widget-view+json": {
       "model_id": "13714b621ba242ffaee93d8ba3542020",
       "version_major": 2,
       "version_minor": 0
      },
      "text/plain": [
       "Загрузка xpeng. Успешно: 0. Ошибок: 0:   0%|          | 0/1 [00:00<?, ?it/s]"
      ]
     },
     "metadata": {},
     "output_type": "display_data"
    },
    {
     "data": {
      "application/vnd.jupyter.widget-view+json": {
       "model_id": "917b018b54ea42b5996ddd1500ec0143",
       "version_major": 2,
       "version_minor": 0
      },
      "text/plain": [
       "Загрузка xpeng/1. Успешно: 0. Ошибок: 0:   0%|          | 0/36 [00:00<?, ?it/s]"
      ]
     },
     "metadata": {},
     "output_type": "display_data"
    },
    {
     "data": {
      "application/vnd.jupyter.widget-view+json": {
       "model_id": "1eb92201928745e39997d7df854bf4f3",
       "version_major": 2,
       "version_minor": 0
      },
      "text/plain": [
       "Загрузка yema. Успешно: 0. Ошибок: 0:   0%|          | 0/1 [00:00<?, ?it/s]"
      ]
     },
     "metadata": {},
     "output_type": "display_data"
    },
    {
     "data": {
      "application/vnd.jupyter.widget-view+json": {
       "model_id": "ed9246b33b1242b093731f6d7752bc0c",
       "version_major": 2,
       "version_minor": 0
      },
      "text/plain": [
       "Загрузка yema/1. Успешно: 0. Ошибок: 0:   0%|          | 0/1 [00:00<?, ?it/s]"
      ]
     },
     "metadata": {},
     "output_type": "display_data"
    },
    {
     "data": {
      "application/vnd.jupyter.widget-view+json": {
       "model_id": "d3c6919aff004aac94287d844f5c87d3",
       "version_major": 2,
       "version_minor": 0
      },
      "text/plain": [
       "Загрузка yipai. Успешно: 0. Ошибок: 0:   0%|          | 0/1 [00:00<?, ?it/s]"
      ]
     },
     "metadata": {},
     "output_type": "display_data"
    },
    {
     "data": {
      "application/vnd.jupyter.widget-view+json": {
       "model_id": "be50144f6f384154a8eab7e2de823f65",
       "version_major": 2,
       "version_minor": 0
      },
      "text/plain": [
       "Загрузка yipai/1. Успешно: 0. Ошибок: 0:   0%|          | 0/3 [00:00<?, ?it/s]"
      ]
     },
     "metadata": {},
     "output_type": "display_data"
    },
    {
     "data": {
      "application/vnd.jupyter.widget-view+json": {
       "model_id": "e8f1686e7321464bac6e881fdb4f1324",
       "version_major": 2,
       "version_minor": 0
      },
      "text/plain": [
       "Загрузка yulon. Успешно: 0. Ошибок: 0:   0%|          | 0/1 [00:00<?, ?it/s]"
      ]
     },
     "metadata": {},
     "output_type": "display_data"
    },
    {
     "data": {
      "application/vnd.jupyter.widget-view+json": {
       "model_id": "5207d62d477246d18bbed924e57425b8",
       "version_major": 2,
       "version_minor": 0
      },
      "text/plain": [
       "Загрузка yulon/1. Успешно: 0. Ошибок: 0:   0%|          | 0/2 [00:00<?, ?it/s]"
      ]
     },
     "metadata": {},
     "output_type": "display_data"
    },
    {
     "data": {
      "application/vnd.jupyter.widget-view+json": {
       "model_id": "834334b3ba9445848a279626643938d3",
       "version_major": 2,
       "version_minor": 0
      },
      "text/plain": [
       "Загрузка zastava. Успешно: 0. Ошибок: 0: 0it [00:00, ?it/s]"
      ]
     },
     "metadata": {},
     "output_type": "display_data"
    },
    {
     "data": {
      "application/vnd.jupyter.widget-view+json": {
       "model_id": "f6a70b733e4e49f2a4060bf280658749",
       "version_major": 2,
       "version_minor": 0
      },
      "text/plain": [
       "Загрузка zaz. Успешно: 0. Ошибок: 0: 0it [00:00, ?it/s]"
      ]
     },
     "metadata": {},
     "output_type": "display_data"
    },
    {
     "data": {
      "application/vnd.jupyter.widget-view+json": {
       "model_id": "70ac839e42a24b69beabdd0dce97da80",
       "version_major": 2,
       "version_minor": 0
      },
      "text/plain": [
       "Загрузка zeekr. Успешно: 0. Ошибок: 0: 0it [00:00, ?it/s]"
      ]
     },
     "metadata": {},
     "output_type": "display_data"
    },
    {
     "data": {
      "application/vnd.jupyter.widget-view+json": {
       "model_id": "70d85527a4384a4da043b89874090e9f",
       "version_major": 2,
       "version_minor": 0
      },
      "text/plain": [
       "Загрузка zenos. Успешно: 0. Ошибок: 0: 0it [00:00, ?it/s]"
      ]
     },
     "metadata": {},
     "output_type": "display_data"
    },
    {
     "data": {
      "application/vnd.jupyter.widget-view+json": {
       "model_id": "de888703f45f41e88201e94dfe4a34cf",
       "version_major": 2,
       "version_minor": 0
      },
      "text/plain": [
       "Загрузка zenvo. Успешно: 0. Ошибок: 0: 0it [00:00, ?it/s]"
      ]
     },
     "metadata": {},
     "output_type": "display_data"
    },
    {
     "data": {
      "application/vnd.jupyter.widget-view+json": {
       "model_id": "fded434127444a29b5823e457b9f2d17",
       "version_major": 2,
       "version_minor": 0
      },
      "text/plain": [
       "Загрузка zibar. Успешно: 0. Ошибок: 0: 0it [00:00, ?it/s]"
      ]
     },
     "metadata": {},
     "output_type": "display_data"
    },
    {
     "data": {
      "application/vnd.jupyter.widget-view+json": {
       "model_id": "da1d736b2ed84c99a09934b83228442c",
       "version_major": 2,
       "version_minor": 0
      },
      "text/plain": [
       "Загрузка zil. Успешно: 0. Ошибок: 0:   0%|          | 0/1 [00:00<?, ?it/s]"
      ]
     },
     "metadata": {},
     "output_type": "display_data"
    },
    {
     "data": {
      "application/vnd.jupyter.widget-view+json": {
       "model_id": "9ebafa09b1284ed98457c1c6b609bf47",
       "version_major": 2,
       "version_minor": 0
      },
      "text/plain": [
       "Загрузка zis. Успешно: 0. Ошибок: 0: 0it [00:00, ?it/s]"
      ]
     },
     "metadata": {},
     "output_type": "display_data"
    },
    {
     "data": {
      "application/vnd.jupyter.widget-view+json": {
       "model_id": "fb08a3cebf8442339b3c98333443c56b",
       "version_major": 2,
       "version_minor": 0
      },
      "text/plain": [
       "Загрузка zotye. Успешно: 0. Ошибок: 0:   0%|          | 0/4 [00:00<?, ?it/s]"
      ]
     },
     "metadata": {},
     "output_type": "display_data"
    },
    {
     "data": {
      "application/vnd.jupyter.widget-view+json": {
       "model_id": "59b8effaab9842e28e7d78d77cd1d1f9",
       "version_major": 2,
       "version_minor": 0
      },
      "text/plain": [
       "Загрузка zotye/1. Успешно: 0. Ошибок: 0:   0%|          | 0/37 [00:00<?, ?it/s]"
      ]
     },
     "metadata": {},
     "output_type": "display_data"
    },
    {
     "data": {
      "application/vnd.jupyter.widget-view+json": {
       "model_id": "3536f27c632c4767a77e9d4879d08e99",
       "version_major": 2,
       "version_minor": 0
      },
      "text/plain": [
       "Загрузка zotye/2. Успешно: 0. Ошибок: 0:   0%|          | 0/38 [00:00<?, ?it/s]"
      ]
     },
     "metadata": {},
     "output_type": "display_data"
    },
    {
     "data": {
      "application/vnd.jupyter.widget-view+json": {
       "model_id": "2542246401344c019939024f72e7aab1",
       "version_major": 2,
       "version_minor": 0
      },
      "text/plain": [
       "Загрузка zotye/3. Успешно: 0. Ошибок: 0:   0%|          | 0/38 [00:00<?, ?it/s]"
      ]
     },
     "metadata": {},
     "output_type": "display_data"
    },
    {
     "data": {
      "application/vnd.jupyter.widget-view+json": {
       "model_id": "30d62781a9ad4fc9976a41c7b2c3a668",
       "version_major": 2,
       "version_minor": 0
      },
      "text/plain": [
       "Загрузка zotye/4. Успешно: 0. Ошибок: 0:   0%|          | 0/5 [00:00<?, ?it/s]"
      ]
     },
     "metadata": {},
     "output_type": "display_data"
    },
    {
     "data": {
      "application/vnd.jupyter.widget-view+json": {
       "model_id": "fc9ddf78674d4529b4e1d90051d1f323",
       "version_major": 2,
       "version_minor": 0
      },
      "text/plain": [
       "Загрузка zx. Успешно: 0. Ошибок: 0:   0%|          | 0/1 [00:00<?, ?it/s]"
      ]
     },
     "metadata": {},
     "output_type": "display_data"
    },
    {
     "data": {
      "application/vnd.jupyter.widget-view+json": {
       "model_id": "255d14b5e6a347e78a3b0b289ae11d76",
       "version_major": 2,
       "version_minor": 0
      },
      "text/plain": [
       "Загрузка zx/1. Успешно: 0. Ошибок: 0:   0%|          | 0/14 [00:00<?, ?it/s]"
      ]
     },
     "metadata": {},
     "output_type": "display_data"
    }
   ],
   "source": [
    "# Загружаем наименования марок автомобилей\n",
    "s_letter = 'v'\n",
    "f_letter = 'z'\n",
    "name_makes = get_page_makes(s_letter, f_letter)\n",
    "\n",
    "# включаем счетчики\n",
    "success_all = 0\n",
    "failure_all = 0\n",
    "\n",
    "# Запускаем цикл с перебором марок автомобилей\n",
    "t_make = tqdm(name_makes, desc=f'Загрузка {s_letter} - {f_letter}. Успешно: {success_all}. Ошибок: {failure_all}')\n",
    "for name_make in t_make:\n",
    "\n",
    "    # Вычисляем количество страниц для загрузки по марке (не более 100)\n",
    "    try:\n",
    "        count_page = get_page_models(name_make) // 38 + 2\n",
    "        count_page = min(count_page, 100)\n",
    "    except:\n",
    "        count_page = 1\n",
    "\n",
    "    # включаем счетчики\n",
    "    success_make = 0\n",
    "    failure_make = 0\n",
    "\n",
    "    # Запускаем цикл с перебором страниц марки\n",
    "    if name_make == 'volvo':\n",
    "        start_page = 5\n",
    "    elif name_make in ['vauxhall', 'vaz', 'venucia', 'vgv', 'volkswagen']:\n",
    "        start_page = count_page\n",
    "    else:\n",
    "        start_page = 1\n",
    "    t = tqdm(range(start_page, count_page), desc=f'Загрузка {name_make}. Успешно: {success_make}. Ошибок: {failure_make}')\n",
    "    for page in t:\n",
    "        try:\n",
    "            # Загружаем сведения об автомобиле\n",
    "            date_page = get_page(name_make, page)\n",
    "            success_make += date_page[1]\n",
    "            success_all += date_page[1]\n",
    "            failure_make += date_page[2]\n",
    "            failure_all += date_page[2]\n",
    "\n",
    "            # Обновляем информацию в прогресс-баре\n",
    "            t.set_description(f'Загрузка {name_make}. Успешно: {success_make}. Ошибок: {failure_make}')\n",
    "            t.refresh()\n",
    "            with open('data_dmitrii.txt', 'a') as data:\n",
    "                for record in date_page[0]:\n",
    "                    print(record, file=data)\n",
    "            with open('log_dmitrii.txt', 'a') as log:\n",
    "                print(f'{datetime.date.today().isoformat()} {datetime.datetime.now().time()} Успешно загружена страница {name_make}/{page}. Число добавленных записей {len(date_page[0])}', file=log)\n",
    "        except:\n",
    "            with open('log_dmitrii.txt', 'a') as log:\n",
    "                print(f'{datetime.date.today().isoformat()} {datetime.datetime.now().time()} Не была загружена страница {name_make}/{page}. Число добавленных записей {0}', file=log)\n",
    "\n",
    "    \n",
    "    # Обновляем информацию в прогресс-баре   \n",
    "    t_make.set_description(f'Загрузка {s_letter} - {f_letter}. Успешно: {success_all}. Ошибок: {failure_all}')\n",
    "    t_make.refresh()"
   ]
  },
  {
   "cell_type": "markdown",
   "metadata": {
    "collapsed": false
   },
   "source": [
    "## Разбор и сохранение загруженных данных"
   ]
  },
  {
   "cell_type": "code",
   "execution_count": 2,
   "metadata": {
    "collapsed": false,
    "ExecuteTime": {
     "end_time": "2024-12-11T20:54:22.291254Z",
     "start_time": "2024-12-11T20:54:20.346305Z"
    }
   },
   "outputs": [
    {
     "name": "stdout",
     "output_type": "stream",
     "text": [
      "(159508, 52)\n"
     ]
    },
    {
     "data": {
      "text/plain": "                                             url_car car_make car_model  \\\n0  https://auto.ru/cars/used/sale/abarth/500/1125...   Abarth       500   \n1  https://auto.ru/cars/used/sale/abarth/500/1118...   Abarth       500   \n2  https://auto.ru/cars/used/sale/abarth/500/1125...   Abarth       500   \n3  https://auto.ru/cars/used/sale/abarth/500/1124...   Abarth       500   \n4  https://auto.ru/cars/used/sale/abarth/500/1125...   Abarth       500   \n\n        car_gen       car_type           car_compl             ann_date  \\\n0  I Рестайлинг      Кабриолет   1.4 MT (180 л.с.)  2024-10-30 00:00:00   \n1             I      Кабриолет   1.4 MT (135 л.с.)  2024-03-17 00:00:00   \n2  I Рестайлинг      Кабриолет  1.4 AMT (180 л.с.)  2024-09-19 00:00:00   \n3             I  Хэтчбек 3 дв.   1.4 MT (135 л.с.)  2024-08-15 00:00:00   \n4  I Рестайлинг  Хэтчбек 3 дв.   1.4 AT (159 л.с.)  2024-10-14 00:00:00   \n\n       ann_id  car_price         ann_city  ... rear_brakes max_speed  \\\n0  1125082098  2700000.0          Обнинск  ...    дисковые     225.0   \n1  1118403975  1400000.0            Минск  ...    дисковые       NaN   \n2  1125077090  2990000.0  Санкт-Петербург  ...    дисковые     225.0   \n3  1124579446  2100000.0           Москва  ...    дисковые     205.0   \n4  1125453984  1650000.0           Москва  ...    дисковые     211.0   \n\n   acceleration  fuel_cons fuel_brand  engine_loc1  engine_loc2   turbocharg  \\\n0           6.7        4.9      АИ-95     переднее   поперечное  турбонаддув   \n1           6.9        7.1      АИ-95     переднее   поперечное  турбонаддув   \n2           6.9        4.7      АИ-95     переднее   поперечное  турбонаддув   \n3           7.9        5.4      АИ-98     переднее   поперечное  турбонаддув   \n4           7.8        7.3      АИ-95     переднее   поперечное  турбонаддув   \n\n  max_torq cyl_count  \n0    250.0       4.0  \n1    206.0       4.0  \n2    250.0       4.0  \n3    206.0       4.0  \n4    248.0       4.0  \n\n[5 rows x 52 columns]",
      "text/html": "<div>\n<style scoped>\n    .dataframe tbody tr th:only-of-type {\n        vertical-align: middle;\n    }\n\n    .dataframe tbody tr th {\n        vertical-align: top;\n    }\n\n    .dataframe thead th {\n        text-align: right;\n    }\n</style>\n<table border=\"1\" class=\"dataframe\">\n  <thead>\n    <tr style=\"text-align: right;\">\n      <th></th>\n      <th>url_car</th>\n      <th>car_make</th>\n      <th>car_model</th>\n      <th>car_gen</th>\n      <th>car_type</th>\n      <th>car_compl</th>\n      <th>ann_date</th>\n      <th>ann_id</th>\n      <th>car_price</th>\n      <th>ann_city</th>\n      <th>...</th>\n      <th>rear_brakes</th>\n      <th>max_speed</th>\n      <th>acceleration</th>\n      <th>fuel_cons</th>\n      <th>fuel_brand</th>\n      <th>engine_loc1</th>\n      <th>engine_loc2</th>\n      <th>turbocharg</th>\n      <th>max_torq</th>\n      <th>cyl_count</th>\n    </tr>\n  </thead>\n  <tbody>\n    <tr>\n      <th>0</th>\n      <td>https://auto.ru/cars/used/sale/abarth/500/1125...</td>\n      <td>Abarth</td>\n      <td>500</td>\n      <td>I Рестайлинг</td>\n      <td>Кабриолет</td>\n      <td>1.4 MT (180 л.с.)</td>\n      <td>2024-10-30 00:00:00</td>\n      <td>1125082098</td>\n      <td>2700000.0</td>\n      <td>Обнинск</td>\n      <td>...</td>\n      <td>дисковые</td>\n      <td>225.0</td>\n      <td>6.7</td>\n      <td>4.9</td>\n      <td>АИ-95</td>\n      <td>переднее</td>\n      <td>поперечное</td>\n      <td>турбонаддув</td>\n      <td>250.0</td>\n      <td>4.0</td>\n    </tr>\n    <tr>\n      <th>1</th>\n      <td>https://auto.ru/cars/used/sale/abarth/500/1118...</td>\n      <td>Abarth</td>\n      <td>500</td>\n      <td>I</td>\n      <td>Кабриолет</td>\n      <td>1.4 MT (135 л.с.)</td>\n      <td>2024-03-17 00:00:00</td>\n      <td>1118403975</td>\n      <td>1400000.0</td>\n      <td>Минск</td>\n      <td>...</td>\n      <td>дисковые</td>\n      <td>NaN</td>\n      <td>6.9</td>\n      <td>7.1</td>\n      <td>АИ-95</td>\n      <td>переднее</td>\n      <td>поперечное</td>\n      <td>турбонаддув</td>\n      <td>206.0</td>\n      <td>4.0</td>\n    </tr>\n    <tr>\n      <th>2</th>\n      <td>https://auto.ru/cars/used/sale/abarth/500/1125...</td>\n      <td>Abarth</td>\n      <td>500</td>\n      <td>I Рестайлинг</td>\n      <td>Кабриолет</td>\n      <td>1.4 AMT (180 л.с.)</td>\n      <td>2024-09-19 00:00:00</td>\n      <td>1125077090</td>\n      <td>2990000.0</td>\n      <td>Санкт-Петербург</td>\n      <td>...</td>\n      <td>дисковые</td>\n      <td>225.0</td>\n      <td>6.9</td>\n      <td>4.7</td>\n      <td>АИ-95</td>\n      <td>переднее</td>\n      <td>поперечное</td>\n      <td>турбонаддув</td>\n      <td>250.0</td>\n      <td>4.0</td>\n    </tr>\n    <tr>\n      <th>3</th>\n      <td>https://auto.ru/cars/used/sale/abarth/500/1124...</td>\n      <td>Abarth</td>\n      <td>500</td>\n      <td>I</td>\n      <td>Хэтчбек 3 дв.</td>\n      <td>1.4 MT (135 л.с.)</td>\n      <td>2024-08-15 00:00:00</td>\n      <td>1124579446</td>\n      <td>2100000.0</td>\n      <td>Москва</td>\n      <td>...</td>\n      <td>дисковые</td>\n      <td>205.0</td>\n      <td>7.9</td>\n      <td>5.4</td>\n      <td>АИ-98</td>\n      <td>переднее</td>\n      <td>поперечное</td>\n      <td>турбонаддув</td>\n      <td>206.0</td>\n      <td>4.0</td>\n    </tr>\n    <tr>\n      <th>4</th>\n      <td>https://auto.ru/cars/used/sale/abarth/500/1125...</td>\n      <td>Abarth</td>\n      <td>500</td>\n      <td>I Рестайлинг</td>\n      <td>Хэтчбек 3 дв.</td>\n      <td>1.4 AT (159 л.с.)</td>\n      <td>2024-10-14 00:00:00</td>\n      <td>1125453984</td>\n      <td>1650000.0</td>\n      <td>Москва</td>\n      <td>...</td>\n      <td>дисковые</td>\n      <td>211.0</td>\n      <td>7.8</td>\n      <td>7.3</td>\n      <td>АИ-95</td>\n      <td>переднее</td>\n      <td>поперечное</td>\n      <td>турбонаддув</td>\n      <td>248.0</td>\n      <td>4.0</td>\n    </tr>\n  </tbody>\n</table>\n<p>5 rows × 52 columns</p>\n</div>"
     },
     "execution_count": 2,
     "metadata": {},
     "output_type": "execute_result"
    }
   ],
   "source": [
    "# Откроем имеющийся датасет, полученный ранее\n",
    "# Зададим типы данных в колонках.\n",
    "dtypes_of_data = {\n",
    "            'url_car': str,\n",
    "            'car_make': str,\n",
    "            'car_model': str,\n",
    "            'car_gen': str,\n",
    "            'car_type': str,\n",
    "            'car_compl': str,\n",
    "            'ann_id': str,\n",
    "            'car_price': float,\n",
    "            'ann_city': str,\n",
    "            'link_cpl': str,\n",
    "            'avail': str,\n",
    "            'year': int,\n",
    "            'mileage': int,\n",
    "            'color': str,\n",
    "            'eng_size': float,\n",
    "            'eng_power': float,\n",
    "            'eng_power_kw': float,\n",
    "            'eng_type': str,\n",
    "            'pow_resrv': str,\n",
    "            'options': str,\n",
    "            'transmission': str,\n",
    "            'drive': str,\n",
    "            'st_wheel': str,\n",
    "            'condition': str,\n",
    "            'count_owner': str,\n",
    "            'original_pts': str,\n",
    "            'customs': str,\n",
    "            'url_compl': str,\n",
    "            'state_mark': str,\n",
    "            'class_auto': str,\n",
    "            'door_count': float, # могут быть пропуски\n",
    "            'seat_count': str, # могут быть значения с диапазоном, пропуски\n",
    "            'long': float,\n",
    "            'width': float,\n",
    "            'height': float,\n",
    "            'clearence': str, # могут быть значения с диапазоном\n",
    "            'v_bag': str, # могут быть значения с диапазоном, пропуски\n",
    "            'v_tank': float,\n",
    "            'curb_weight': float,\n",
    "            'gross_weight': float,\n",
    "            'front_brakes': str,\n",
    "            'rear_brakes': str,\n",
    "            'max_speed': float,\n",
    "            'acceleration': float,\n",
    "            'fuel_cons': str, # могут быть значения \"-\"\n",
    "            'fuel_brand': str,\n",
    "            'engine_loc1': str,\n",
    "            'engine_loc2': str,\n",
    "            'turbocharg': str,\n",
    "            'max_torq': float,\n",
    "             'cyl_count': float # Могут быть пропуски\n",
    "        }\n",
    "data = pd.read_csv(os.path.join(DATA_PATH, 'data_dmitrii.csv'),\n",
    "                   dtype=dtypes_of_data, low_memory=False)\n",
    "print(data.shape)\n",
    "data.head()"
   ]
  },
  {
   "cell_type": "code",
   "execution_count": 11,
   "metadata": {
    "ExecuteTime": {
     "end_time": "2024-11-17T09:44:59.929439Z",
     "start_time": "2024-11-17T09:44:57.797568Z"
    },
    "collapsed": false
   },
   "outputs": [
    {
     "name": "stdout",
     "output_type": "stream",
     "text": [
      "(9427, 52)\n"
     ]
    },
    {
     "data": {
      "text/html": [
       "<div>\n",
       "<style scoped>\n",
       "    .dataframe tbody tr th:only-of-type {\n",
       "        vertical-align: middle;\n",
       "    }\n",
       "\n",
       "    .dataframe tbody tr th {\n",
       "        vertical-align: top;\n",
       "    }\n",
       "\n",
       "    .dataframe thead th {\n",
       "        text-align: right;\n",
       "    }\n",
       "</style>\n",
       "<table border=\"1\" class=\"dataframe\">\n",
       "  <thead>\n",
       "    <tr style=\"text-align: right;\">\n",
       "      <th></th>\n",
       "      <th>url_car</th>\n",
       "      <th>car_make</th>\n",
       "      <th>car_model</th>\n",
       "      <th>car_gen</th>\n",
       "      <th>car_type</th>\n",
       "      <th>car_compl</th>\n",
       "      <th>ann_date</th>\n",
       "      <th>ann_id</th>\n",
       "      <th>car_price</th>\n",
       "      <th>ann_city</th>\n",
       "      <th>...</th>\n",
       "      <th>rear_brakes</th>\n",
       "      <th>max_speed</th>\n",
       "      <th>acceleration</th>\n",
       "      <th>fuel_cons</th>\n",
       "      <th>fuel_brand</th>\n",
       "      <th>engine_loc1</th>\n",
       "      <th>engine_loc2</th>\n",
       "      <th>turbocharg</th>\n",
       "      <th>max_torq</th>\n",
       "      <th>cyl_count</th>\n",
       "    </tr>\n",
       "  </thead>\n",
       "  <tbody>\n",
       "    <tr>\n",
       "      <th>0</th>\n",
       "      <td>https://auto.ru/cars/used/sale/uaz/hunter/1124...</td>\n",
       "      <td>УАЗ</td>\n",
       "      <td>Hunter</td>\n",
       "      <td>2003-2024</td>\n",
       "      <td>Внедорожник 5 дв.</td>\n",
       "      <td>315195 2.7 MT (128 л.с.) 4WD</td>\n",
       "      <td>2024-11-14</td>\n",
       "      <td>1124213448</td>\n",
       "      <td>899000.0</td>\n",
       "      <td>Таганрог</td>\n",
       "      <td>...</td>\n",
       "      <td>барабанные</td>\n",
       "      <td>130.0</td>\n",
       "      <td>NaN</td>\n",
       "      <td>NaN</td>\n",
       "      <td>АИ-92</td>\n",
       "      <td>переднее</td>\n",
       "      <td>продольное</td>\n",
       "      <td>нет</td>\n",
       "      <td>NaN</td>\n",
       "      <td>4.0</td>\n",
       "    </tr>\n",
       "    <tr>\n",
       "      <th>1</th>\n",
       "      <td>https://auto.ru/cars/used/sale/uaz/3151/112591...</td>\n",
       "      <td>УАЗ</td>\n",
       "      <td>3151</td>\n",
       "      <td>1985-2013</td>\n",
       "      <td>Внедорожник 5 дв.</td>\n",
       "      <td>31512 2.5 MT (78 л.с.) 4WD</td>\n",
       "      <td>2024-11-12</td>\n",
       "      <td>1125916067</td>\n",
       "      <td>300000.0</td>\n",
       "      <td>Нижний Новгород</td>\n",
       "      <td>...</td>\n",
       "      <td>барабанные</td>\n",
       "      <td>110.0</td>\n",
       "      <td>NaN</td>\n",
       "      <td>NaN</td>\n",
       "      <td>АИ-76</td>\n",
       "      <td>переднее</td>\n",
       "      <td>продольное</td>\n",
       "      <td>нет</td>\n",
       "      <td>NaN</td>\n",
       "      <td>4.0</td>\n",
       "    </tr>\n",
       "    <tr>\n",
       "      <th>2</th>\n",
       "      <td>https://auto.ru/cars/used/sale/uaz/patriot/112...</td>\n",
       "      <td>УАЗ</td>\n",
       "      <td>Patriot</td>\n",
       "      <td>I Рестайлинг 2</td>\n",
       "      <td>Внедорожник 5 дв.</td>\n",
       "      <td>2.7 MT (128 л.с.) 4WD</td>\n",
       "      <td>2024-11-14</td>\n",
       "      <td>1125872492</td>\n",
       "      <td>1100000.0</td>\n",
       "      <td>Санкт-Петербург</td>\n",
       "      <td>...</td>\n",
       "      <td>барабанные</td>\n",
       "      <td>150.0</td>\n",
       "      <td>NaN</td>\n",
       "      <td>NaN</td>\n",
       "      <td>АИ-92</td>\n",
       "      <td>переднее</td>\n",
       "      <td>продольное</td>\n",
       "      <td>нет</td>\n",
       "      <td>NaN</td>\n",
       "      <td>4.0</td>\n",
       "    </tr>\n",
       "    <tr>\n",
       "      <th>3</th>\n",
       "      <td>https://auto.ru/cars/used/sale/uaz/patriot/112...</td>\n",
       "      <td>УАЗ</td>\n",
       "      <td>Patriot</td>\n",
       "      <td>I Рестайлинг 2</td>\n",
       "      <td>Внедорожник 5 дв.</td>\n",
       "      <td>2.7 MT (135 л.с.) 4WD</td>\n",
       "      <td>2024-11-08</td>\n",
       "      <td>1125155071</td>\n",
       "      <td>814500.0</td>\n",
       "      <td>Ростов-на-Дону</td>\n",
       "      <td>...</td>\n",
       "      <td>барабанные</td>\n",
       "      <td>150.0</td>\n",
       "      <td>NaN</td>\n",
       "      <td>NaN</td>\n",
       "      <td>АИ-92</td>\n",
       "      <td>переднее</td>\n",
       "      <td>продольное</td>\n",
       "      <td>нет</td>\n",
       "      <td>NaN</td>\n",
       "      <td>4.0</td>\n",
       "    </tr>\n",
       "    <tr>\n",
       "      <th>4</th>\n",
       "      <td>https://auto.ru/cars/used/sale/uaz/patriot/112...</td>\n",
       "      <td>УАЗ</td>\n",
       "      <td>Patriot</td>\n",
       "      <td>I Рестайлинг 3</td>\n",
       "      <td>Внедорожник 5 дв.</td>\n",
       "      <td>2.7 MT (135 л.с.) 4WD</td>\n",
       "      <td>2024-11-10</td>\n",
       "      <td>1125885210</td>\n",
       "      <td>895000.0</td>\n",
       "      <td>Краснодар</td>\n",
       "      <td>...</td>\n",
       "      <td>барабанные</td>\n",
       "      <td>150.0</td>\n",
       "      <td>NaN</td>\n",
       "      <td>NaN</td>\n",
       "      <td>АИ-92</td>\n",
       "      <td>переднее</td>\n",
       "      <td>продольное</td>\n",
       "      <td>нет</td>\n",
       "      <td>NaN</td>\n",
       "      <td>4.0</td>\n",
       "    </tr>\n",
       "  </tbody>\n",
       "</table>\n",
       "<p>5 rows × 52 columns</p>\n",
       "</div>"
      ],
      "text/plain": [
       "                                             url_car car_make car_model  \\\n",
       "0  https://auto.ru/cars/used/sale/uaz/hunter/1124...      УАЗ    Hunter   \n",
       "1  https://auto.ru/cars/used/sale/uaz/3151/112591...      УАЗ      3151   \n",
       "2  https://auto.ru/cars/used/sale/uaz/patriot/112...      УАЗ   Patriot   \n",
       "3  https://auto.ru/cars/used/sale/uaz/patriot/112...      УАЗ   Patriot   \n",
       "4  https://auto.ru/cars/used/sale/uaz/patriot/112...      УАЗ   Patriot   \n",
       "\n",
       "          car_gen           car_type                     car_compl  \\\n",
       "0       2003-2024  Внедорожник 5 дв.  315195 2.7 MT (128 л.с.) 4WD   \n",
       "1       1985-2013  Внедорожник 5 дв.    31512 2.5 MT (78 л.с.) 4WD   \n",
       "2  I Рестайлинг 2  Внедорожник 5 дв.         2.7 MT (128 л.с.) 4WD   \n",
       "3  I Рестайлинг 2  Внедорожник 5 дв.         2.7 MT (135 л.с.) 4WD   \n",
       "4  I Рестайлинг 3  Внедорожник 5 дв.         2.7 MT (135 л.с.) 4WD   \n",
       "\n",
       "     ann_date      ann_id  car_price         ann_city  ... rear_brakes  \\\n",
       "0  2024-11-14  1124213448   899000.0         Таганрог  ...  барабанные   \n",
       "1  2024-11-12  1125916067   300000.0  Нижний Новгород  ...  барабанные   \n",
       "2  2024-11-14  1125872492  1100000.0  Санкт-Петербург  ...  барабанные   \n",
       "3  2024-11-08  1125155071   814500.0   Ростов-на-Дону  ...  барабанные   \n",
       "4  2024-11-10  1125885210   895000.0        Краснодар  ...  барабанные   \n",
       "\n",
       "  max_speed  acceleration  fuel_cons fuel_brand  engine_loc1  engine_loc2  \\\n",
       "0     130.0           NaN        NaN      АИ-92     переднее   продольное   \n",
       "1     110.0           NaN        NaN      АИ-76     переднее   продольное   \n",
       "2     150.0           NaN        NaN      АИ-92     переднее   продольное   \n",
       "3     150.0           NaN        NaN      АИ-92     переднее   продольное   \n",
       "4     150.0           NaN        NaN      АИ-92     переднее   продольное   \n",
       "\n",
       "   turbocharg max_torq cyl_count  \n",
       "0         нет      NaN       4.0  \n",
       "1         нет      NaN       4.0  \n",
       "2         нет      NaN       4.0  \n",
       "3         нет      NaN       4.0  \n",
       "4         нет      NaN       4.0  \n",
       "\n",
       "[5 rows x 52 columns]"
      ]
     },
     "execution_count": 11,
     "metadata": {},
     "output_type": "execute_result"
    }
   ],
   "source": [
    "# Получим датасет из новой порции данных\n",
    "new_data = open_data('data_dmitrii.txt')\n",
    "new_data = new_data.astype(dtype=dtypes_of_data)\n",
    "print(new_data.shape)\n",
    "new_data.head()"
   ]
  },
  {
   "cell_type": "code",
   "outputs": [
    {
     "name": "stdout",
     "output_type": "stream",
     "text": [
      "(25064, 52)\n"
     ]
    },
    {
     "data": {
      "text/plain": "                                             url_car car_make car_model  \\\n0  https://auto.ru/cars/used/sale/qoros/3/1125145...    Qoros         3   \n1  https://auto.ru/cars/used/sale/radar/rd6/11253...    Radar       RD6   \n2  https://auto.ru/cars/used/sale/ram/1500/112464...      Ram      1500   \n3  https://auto.ru/cars/used/sale/ram/1500/112479...      Ram      1500   \n4  https://auto.ru/cars/used/sale/ram/1500/112587...      Ram      1500   \n\n      car_gen                       car_type                        car_compl  \\\n0   2014-2022                          Седан               1.6 AMT (126 л.с.)   \n1   2022-н.в.           Пикап Двойная кабина       63kWh Electro AT (200 кВт)   \n2           V  Пикап Двойная кабина Crew Cab   Crew Cab 5.7 AT (395 л.с.) 4WD   \n3  IV (DS/DJ)  Пикап Двойная кабина Crew Cab  Crew Cab 3.0d AT (240 л.с.) 4WD   \n4           V  Пикап Двойная кабина Quad Cab   Quad Cab 3.6 AT (305 л.с.) 4WD   \n\n     ann_date      ann_id   car_price     ann_city  ... rear_brakes max_speed  \\\n0  2024-09-23  1125145948   1310000.0  Владивосток  ...    дисковые     197.0   \n1  2024-10-07  1125344393   2900000.0  Владивосток  ...    дисковые     185.0   \n2  2024-11-08  1124644054  11890000.0    Парголово  ...    дисковые     206.0   \n3  2024-11-08  1124790535   3940000.0       Москва  ...    дисковые       NaN   \n4  2024-11-08  1125872042   3990000.0       Москва  ...    дисковые     186.0   \n\n   acceleration  fuel_cons fuel_brand  engine_loc1  engine_loc2   turbocharg  \\\n0          12.6          -      АИ-95     переднее   поперечное          нет   \n1           7.3        NaN        NaN          NaN          NaN          NaN   \n2           6.7       12.4      АИ-95     переднее   продольное          нет   \n3           NaN        8.7         ДТ     переднее   продольное  турбонаддув   \n4           8.5       10.2      АИ-95     переднее   продольное          нет   \n\n  max_torq cyl_count  \n0    155.0       4.0  \n1    384.0       NaN  \n2    556.0       8.0  \n3    569.0       6.0  \n4    364.0       6.0  \n\n[5 rows x 52 columns]",
      "text/html": "<div>\n<style scoped>\n    .dataframe tbody tr th:only-of-type {\n        vertical-align: middle;\n    }\n\n    .dataframe tbody tr th {\n        vertical-align: top;\n    }\n\n    .dataframe thead th {\n        text-align: right;\n    }\n</style>\n<table border=\"1\" class=\"dataframe\">\n  <thead>\n    <tr style=\"text-align: right;\">\n      <th></th>\n      <th>url_car</th>\n      <th>car_make</th>\n      <th>car_model</th>\n      <th>car_gen</th>\n      <th>car_type</th>\n      <th>car_compl</th>\n      <th>ann_date</th>\n      <th>ann_id</th>\n      <th>car_price</th>\n      <th>ann_city</th>\n      <th>...</th>\n      <th>rear_brakes</th>\n      <th>max_speed</th>\n      <th>acceleration</th>\n      <th>fuel_cons</th>\n      <th>fuel_brand</th>\n      <th>engine_loc1</th>\n      <th>engine_loc2</th>\n      <th>turbocharg</th>\n      <th>max_torq</th>\n      <th>cyl_count</th>\n    </tr>\n  </thead>\n  <tbody>\n    <tr>\n      <th>0</th>\n      <td>https://auto.ru/cars/used/sale/qoros/3/1125145...</td>\n      <td>Qoros</td>\n      <td>3</td>\n      <td>2014-2022</td>\n      <td>Седан</td>\n      <td>1.6 AMT (126 л.с.)</td>\n      <td>2024-09-23</td>\n      <td>1125145948</td>\n      <td>1310000.0</td>\n      <td>Владивосток</td>\n      <td>...</td>\n      <td>дисковые</td>\n      <td>197.0</td>\n      <td>12.6</td>\n      <td>-</td>\n      <td>АИ-95</td>\n      <td>переднее</td>\n      <td>поперечное</td>\n      <td>нет</td>\n      <td>155.0</td>\n      <td>4.0</td>\n    </tr>\n    <tr>\n      <th>1</th>\n      <td>https://auto.ru/cars/used/sale/radar/rd6/11253...</td>\n      <td>Radar</td>\n      <td>RD6</td>\n      <td>2022-н.в.</td>\n      <td>Пикап Двойная кабина</td>\n      <td>63kWh Electro AT (200 кВт)</td>\n      <td>2024-10-07</td>\n      <td>1125344393</td>\n      <td>2900000.0</td>\n      <td>Владивосток</td>\n      <td>...</td>\n      <td>дисковые</td>\n      <td>185.0</td>\n      <td>7.3</td>\n      <td>NaN</td>\n      <td>NaN</td>\n      <td>NaN</td>\n      <td>NaN</td>\n      <td>NaN</td>\n      <td>384.0</td>\n      <td>NaN</td>\n    </tr>\n    <tr>\n      <th>2</th>\n      <td>https://auto.ru/cars/used/sale/ram/1500/112464...</td>\n      <td>Ram</td>\n      <td>1500</td>\n      <td>V</td>\n      <td>Пикап Двойная кабина Crew Cab</td>\n      <td>Crew Cab 5.7 AT (395 л.с.) 4WD</td>\n      <td>2024-11-08</td>\n      <td>1124644054</td>\n      <td>11890000.0</td>\n      <td>Парголово</td>\n      <td>...</td>\n      <td>дисковые</td>\n      <td>206.0</td>\n      <td>6.7</td>\n      <td>12.4</td>\n      <td>АИ-95</td>\n      <td>переднее</td>\n      <td>продольное</td>\n      <td>нет</td>\n      <td>556.0</td>\n      <td>8.0</td>\n    </tr>\n    <tr>\n      <th>3</th>\n      <td>https://auto.ru/cars/used/sale/ram/1500/112479...</td>\n      <td>Ram</td>\n      <td>1500</td>\n      <td>IV (DS/DJ)</td>\n      <td>Пикап Двойная кабина Crew Cab</td>\n      <td>Crew Cab 3.0d AT (240 л.с.) 4WD</td>\n      <td>2024-11-08</td>\n      <td>1124790535</td>\n      <td>3940000.0</td>\n      <td>Москва</td>\n      <td>...</td>\n      <td>дисковые</td>\n      <td>NaN</td>\n      <td>NaN</td>\n      <td>8.7</td>\n      <td>ДТ</td>\n      <td>переднее</td>\n      <td>продольное</td>\n      <td>турбонаддув</td>\n      <td>569.0</td>\n      <td>6.0</td>\n    </tr>\n    <tr>\n      <th>4</th>\n      <td>https://auto.ru/cars/used/sale/ram/1500/112587...</td>\n      <td>Ram</td>\n      <td>1500</td>\n      <td>V</td>\n      <td>Пикап Двойная кабина Quad Cab</td>\n      <td>Quad Cab 3.6 AT (305 л.с.) 4WD</td>\n      <td>2024-11-08</td>\n      <td>1125872042</td>\n      <td>3990000.0</td>\n      <td>Москва</td>\n      <td>...</td>\n      <td>дисковые</td>\n      <td>186.0</td>\n      <td>8.5</td>\n      <td>10.2</td>\n      <td>АИ-95</td>\n      <td>переднее</td>\n      <td>продольное</td>\n      <td>нет</td>\n      <td>364.0</td>\n      <td>6.0</td>\n    </tr>\n  </tbody>\n</table>\n<p>5 rows × 52 columns</p>\n</div>"
     },
     "execution_count": 3,
     "metadata": {},
     "output_type": "execute_result"
    }
   ],
   "source": [
    "# Датасет от коллеги\n",
    "data_1= pd.read_csv(os.path.join(DATA_PATH, 'data_vladislav.csv'),\n",
    "                   dtype=dtypes_of_data, low_memory=False)\n",
    "print(data_1.shape)\n",
    "data_1.head()"
   ],
   "metadata": {
    "collapsed": false,
    "ExecuteTime": {
     "end_time": "2024-12-11T20:54:56.957Z",
     "start_time": "2024-12-11T20:54:56.702186Z"
    }
   },
   "execution_count": 3
  },
  {
   "cell_type": "code",
   "outputs": [
    {
     "name": "stdout",
     "output_type": "stream",
     "text": [
      "(33473, 52)\n"
     ]
    },
    {
     "data": {
      "text/plain": "                                             url_car     car_make car_model  \\\n0  https://auto.ru/cars/used/sale/lamborghini/uru...  Lamborghini      Urus   \n1  https://auto.ru/cars/used/sale/lamborghini/hur...  Lamborghini   Huracán   \n2  https://auto.ru/cars/used/sale/lamborghini/cou...  Lamborghini  Countach   \n3  https://auto.ru/cars/used/sale/lamborghini/hur...  Lamborghini   Huracán   \n4  https://auto.ru/cars/used/sale/lamborghini/hur...  Lamborghini   Huracán   \n\n        car_gen              car_type                           car_compl  \\\n0  I Рестайлинг  Внедорожник 5 дв. SE         SE 4.0hyb AT (800 л.с.) 4WD   \n1  I Рестайлинг         Купе Sterrato     Sterrato 5.2 AMT (610 л.с.) 4WD   \n2     1974-1991                  Купе  S Quattrovalvole 5.2 MT (455 л.с.)   \n3             I                  Купе              5.2 AMT (610 л.с.) 4WD   \n4  I Рестайлинг                  Купе              5.2 AMT (640 л.с.) 4WD   \n\n     ann_date      ann_id   car_price  ann_city  ...   rear_brakes max_speed  \\\n0  2024-11-08  1123486824  52000000.0    Москва  ...  керамические     312.0   \n1  2024-11-12  1123411674  56300000.0  Балашиха  ...  керамические     260.0   \n2  2024-11-10  1125778471  99000000.0    Москва  ...      дисковые     295.0   \n3  2024-11-09  1125876275  17650000.0    Москва  ...  керамические     325.0   \n4  2024-11-15  1125968621  34990000.0    Москва  ...  керамические     325.0   \n\n   acceleration  fuel_cons fuel_brand  engine_loc1  engine_loc2   turbocharg  \\\n0           3.4        NaN      АИ-98     переднее   продольное  турбонаддув   \n1           3.4          -      АИ-98  центральное          NaN          нет   \n2           4.9          -      АИ-92  центральное          NaN          нет   \n3           3.2        9.4      АИ-98  центральное          NaN          нет   \n4           2.9       10.3      АИ-98  центральное          NaN          нет   \n\n  max_torq cyl_count  \n0    950.0       8.0  \n1    560.0      10.0  \n2    500.0      12.0  \n3    560.0      10.0  \n4    600.0      10.0  \n\n[5 rows x 52 columns]",
      "text/html": "<div>\n<style scoped>\n    .dataframe tbody tr th:only-of-type {\n        vertical-align: middle;\n    }\n\n    .dataframe tbody tr th {\n        vertical-align: top;\n    }\n\n    .dataframe thead th {\n        text-align: right;\n    }\n</style>\n<table border=\"1\" class=\"dataframe\">\n  <thead>\n    <tr style=\"text-align: right;\">\n      <th></th>\n      <th>url_car</th>\n      <th>car_make</th>\n      <th>car_model</th>\n      <th>car_gen</th>\n      <th>car_type</th>\n      <th>car_compl</th>\n      <th>ann_date</th>\n      <th>ann_id</th>\n      <th>car_price</th>\n      <th>ann_city</th>\n      <th>...</th>\n      <th>rear_brakes</th>\n      <th>max_speed</th>\n      <th>acceleration</th>\n      <th>fuel_cons</th>\n      <th>fuel_brand</th>\n      <th>engine_loc1</th>\n      <th>engine_loc2</th>\n      <th>turbocharg</th>\n      <th>max_torq</th>\n      <th>cyl_count</th>\n    </tr>\n  </thead>\n  <tbody>\n    <tr>\n      <th>0</th>\n      <td>https://auto.ru/cars/used/sale/lamborghini/uru...</td>\n      <td>Lamborghini</td>\n      <td>Urus</td>\n      <td>I Рестайлинг</td>\n      <td>Внедорожник 5 дв. SE</td>\n      <td>SE 4.0hyb AT (800 л.с.) 4WD</td>\n      <td>2024-11-08</td>\n      <td>1123486824</td>\n      <td>52000000.0</td>\n      <td>Москва</td>\n      <td>...</td>\n      <td>керамические</td>\n      <td>312.0</td>\n      <td>3.4</td>\n      <td>NaN</td>\n      <td>АИ-98</td>\n      <td>переднее</td>\n      <td>продольное</td>\n      <td>турбонаддув</td>\n      <td>950.0</td>\n      <td>8.0</td>\n    </tr>\n    <tr>\n      <th>1</th>\n      <td>https://auto.ru/cars/used/sale/lamborghini/hur...</td>\n      <td>Lamborghini</td>\n      <td>Huracán</td>\n      <td>I Рестайлинг</td>\n      <td>Купе Sterrato</td>\n      <td>Sterrato 5.2 AMT (610 л.с.) 4WD</td>\n      <td>2024-11-12</td>\n      <td>1123411674</td>\n      <td>56300000.0</td>\n      <td>Балашиха</td>\n      <td>...</td>\n      <td>керамические</td>\n      <td>260.0</td>\n      <td>3.4</td>\n      <td>-</td>\n      <td>АИ-98</td>\n      <td>центральное</td>\n      <td>NaN</td>\n      <td>нет</td>\n      <td>560.0</td>\n      <td>10.0</td>\n    </tr>\n    <tr>\n      <th>2</th>\n      <td>https://auto.ru/cars/used/sale/lamborghini/cou...</td>\n      <td>Lamborghini</td>\n      <td>Countach</td>\n      <td>1974-1991</td>\n      <td>Купе</td>\n      <td>S Quattrovalvole 5.2 MT (455 л.с.)</td>\n      <td>2024-11-10</td>\n      <td>1125778471</td>\n      <td>99000000.0</td>\n      <td>Москва</td>\n      <td>...</td>\n      <td>дисковые</td>\n      <td>295.0</td>\n      <td>4.9</td>\n      <td>-</td>\n      <td>АИ-92</td>\n      <td>центральное</td>\n      <td>NaN</td>\n      <td>нет</td>\n      <td>500.0</td>\n      <td>12.0</td>\n    </tr>\n    <tr>\n      <th>3</th>\n      <td>https://auto.ru/cars/used/sale/lamborghini/hur...</td>\n      <td>Lamborghini</td>\n      <td>Huracán</td>\n      <td>I</td>\n      <td>Купе</td>\n      <td>5.2 AMT (610 л.с.) 4WD</td>\n      <td>2024-11-09</td>\n      <td>1125876275</td>\n      <td>17650000.0</td>\n      <td>Москва</td>\n      <td>...</td>\n      <td>керамические</td>\n      <td>325.0</td>\n      <td>3.2</td>\n      <td>9.4</td>\n      <td>АИ-98</td>\n      <td>центральное</td>\n      <td>NaN</td>\n      <td>нет</td>\n      <td>560.0</td>\n      <td>10.0</td>\n    </tr>\n    <tr>\n      <th>4</th>\n      <td>https://auto.ru/cars/used/sale/lamborghini/hur...</td>\n      <td>Lamborghini</td>\n      <td>Huracán</td>\n      <td>I Рестайлинг</td>\n      <td>Купе</td>\n      <td>5.2 AMT (640 л.с.) 4WD</td>\n      <td>2024-11-15</td>\n      <td>1125968621</td>\n      <td>34990000.0</td>\n      <td>Москва</td>\n      <td>...</td>\n      <td>керамические</td>\n      <td>325.0</td>\n      <td>2.9</td>\n      <td>10.3</td>\n      <td>АИ-98</td>\n      <td>центральное</td>\n      <td>NaN</td>\n      <td>нет</td>\n      <td>600.0</td>\n      <td>10.0</td>\n    </tr>\n  </tbody>\n</table>\n<p>5 rows × 52 columns</p>\n</div>"
     },
     "execution_count": 4,
     "metadata": {},
     "output_type": "execute_result"
    }
   ],
   "source": [
    "# Датасет от другого коллеги\n",
    "data_2= pd.read_csv(os.path.join(DATA_PATH, 'data_nikita.csv'),\n",
    "                   dtype=dtypes_of_data, low_memory=False)\n",
    "print(data_2.shape)\n",
    "data_2.head()"
   ],
   "metadata": {
    "collapsed": false,
    "ExecuteTime": {
     "end_time": "2024-12-11T20:55:10.980726Z",
     "start_time": "2024-12-11T20:55:10.664507Z"
    }
   },
   "execution_count": 4
  },
  {
   "cell_type": "code",
   "outputs": [],
   "source": [
    "# Исправим название столбца width\n",
    "data_1.columns=data.columns\n",
    "data_2.columns=data.columns"
   ],
   "metadata": {
    "collapsed": false,
    "ExecuteTime": {
     "end_time": "2024-12-11T20:55:34.954551Z",
     "start_time": "2024-12-11T20:55:34.951833Z"
    }
   },
   "execution_count": 5
  },
  {
   "cell_type": "code",
   "execution_count": 6,
   "metadata": {
    "collapsed": false,
    "ExecuteTime": {
     "end_time": "2024-12-11T20:55:54.728183Z",
     "start_time": "2024-12-11T20:55:54.568576Z"
    }
   },
   "outputs": [
    {
     "name": "stdout",
     "output_type": "stream",
     "text": [
      "(218045, 52)\n"
     ]
    },
    {
     "data": {
      "text/plain": "                                             url_car car_make car_model  \\\n0  https://auto.ru/cars/used/sale/abarth/500/1125...   Abarth       500   \n1  https://auto.ru/cars/used/sale/abarth/500/1118...   Abarth       500   \n2  https://auto.ru/cars/used/sale/abarth/500/1125...   Abarth       500   \n3  https://auto.ru/cars/used/sale/abarth/500/1124...   Abarth       500   \n4  https://auto.ru/cars/used/sale/abarth/500/1125...   Abarth       500   \n\n        car_gen       car_type           car_compl             ann_date  \\\n0  I Рестайлинг      Кабриолет   1.4 MT (180 л.с.)  2024-10-30 00:00:00   \n1             I      Кабриолет   1.4 MT (135 л.с.)  2024-03-17 00:00:00   \n2  I Рестайлинг      Кабриолет  1.4 AMT (180 л.с.)  2024-09-19 00:00:00   \n3             I  Хэтчбек 3 дв.   1.4 MT (135 л.с.)  2024-08-15 00:00:00   \n4  I Рестайлинг  Хэтчбек 3 дв.   1.4 AT (159 л.с.)  2024-10-14 00:00:00   \n\n       ann_id  car_price         ann_city  ... rear_brakes max_speed  \\\n0  1125082098  2700000.0          Обнинск  ...    дисковые     225.0   \n1  1118403975  1400000.0            Минск  ...    дисковые       NaN   \n2  1125077090  2990000.0  Санкт-Петербург  ...    дисковые     225.0   \n3  1124579446  2100000.0           Москва  ...    дисковые     205.0   \n4  1125453984  1650000.0           Москва  ...    дисковые     211.0   \n\n   acceleration  fuel_cons fuel_brand  engine_loc1  engine_loc2   turbocharg  \\\n0           6.7        4.9      АИ-95     переднее   поперечное  турбонаддув   \n1           6.9        7.1      АИ-95     переднее   поперечное  турбонаддув   \n2           6.9        4.7      АИ-95     переднее   поперечное  турбонаддув   \n3           7.9        5.4      АИ-98     переднее   поперечное  турбонаддув   \n4           7.8        7.3      АИ-95     переднее   поперечное  турбонаддув   \n\n  max_torq cyl_count  \n0    250.0       4.0  \n1    206.0       4.0  \n2    250.0       4.0  \n3    206.0       4.0  \n4    248.0       4.0  \n\n[5 rows x 52 columns]",
      "text/html": "<div>\n<style scoped>\n    .dataframe tbody tr th:only-of-type {\n        vertical-align: middle;\n    }\n\n    .dataframe tbody tr th {\n        vertical-align: top;\n    }\n\n    .dataframe thead th {\n        text-align: right;\n    }\n</style>\n<table border=\"1\" class=\"dataframe\">\n  <thead>\n    <tr style=\"text-align: right;\">\n      <th></th>\n      <th>url_car</th>\n      <th>car_make</th>\n      <th>car_model</th>\n      <th>car_gen</th>\n      <th>car_type</th>\n      <th>car_compl</th>\n      <th>ann_date</th>\n      <th>ann_id</th>\n      <th>car_price</th>\n      <th>ann_city</th>\n      <th>...</th>\n      <th>rear_brakes</th>\n      <th>max_speed</th>\n      <th>acceleration</th>\n      <th>fuel_cons</th>\n      <th>fuel_brand</th>\n      <th>engine_loc1</th>\n      <th>engine_loc2</th>\n      <th>turbocharg</th>\n      <th>max_torq</th>\n      <th>cyl_count</th>\n    </tr>\n  </thead>\n  <tbody>\n    <tr>\n      <th>0</th>\n      <td>https://auto.ru/cars/used/sale/abarth/500/1125...</td>\n      <td>Abarth</td>\n      <td>500</td>\n      <td>I Рестайлинг</td>\n      <td>Кабриолет</td>\n      <td>1.4 MT (180 л.с.)</td>\n      <td>2024-10-30 00:00:00</td>\n      <td>1125082098</td>\n      <td>2700000.0</td>\n      <td>Обнинск</td>\n      <td>...</td>\n      <td>дисковые</td>\n      <td>225.0</td>\n      <td>6.7</td>\n      <td>4.9</td>\n      <td>АИ-95</td>\n      <td>переднее</td>\n      <td>поперечное</td>\n      <td>турбонаддув</td>\n      <td>250.0</td>\n      <td>4.0</td>\n    </tr>\n    <tr>\n      <th>1</th>\n      <td>https://auto.ru/cars/used/sale/abarth/500/1118...</td>\n      <td>Abarth</td>\n      <td>500</td>\n      <td>I</td>\n      <td>Кабриолет</td>\n      <td>1.4 MT (135 л.с.)</td>\n      <td>2024-03-17 00:00:00</td>\n      <td>1118403975</td>\n      <td>1400000.0</td>\n      <td>Минск</td>\n      <td>...</td>\n      <td>дисковые</td>\n      <td>NaN</td>\n      <td>6.9</td>\n      <td>7.1</td>\n      <td>АИ-95</td>\n      <td>переднее</td>\n      <td>поперечное</td>\n      <td>турбонаддув</td>\n      <td>206.0</td>\n      <td>4.0</td>\n    </tr>\n    <tr>\n      <th>2</th>\n      <td>https://auto.ru/cars/used/sale/abarth/500/1125...</td>\n      <td>Abarth</td>\n      <td>500</td>\n      <td>I Рестайлинг</td>\n      <td>Кабриолет</td>\n      <td>1.4 AMT (180 л.с.)</td>\n      <td>2024-09-19 00:00:00</td>\n      <td>1125077090</td>\n      <td>2990000.0</td>\n      <td>Санкт-Петербург</td>\n      <td>...</td>\n      <td>дисковые</td>\n      <td>225.0</td>\n      <td>6.9</td>\n      <td>4.7</td>\n      <td>АИ-95</td>\n      <td>переднее</td>\n      <td>поперечное</td>\n      <td>турбонаддув</td>\n      <td>250.0</td>\n      <td>4.0</td>\n    </tr>\n    <tr>\n      <th>3</th>\n      <td>https://auto.ru/cars/used/sale/abarth/500/1124...</td>\n      <td>Abarth</td>\n      <td>500</td>\n      <td>I</td>\n      <td>Хэтчбек 3 дв.</td>\n      <td>1.4 MT (135 л.с.)</td>\n      <td>2024-08-15 00:00:00</td>\n      <td>1124579446</td>\n      <td>2100000.0</td>\n      <td>Москва</td>\n      <td>...</td>\n      <td>дисковые</td>\n      <td>205.0</td>\n      <td>7.9</td>\n      <td>5.4</td>\n      <td>АИ-98</td>\n      <td>переднее</td>\n      <td>поперечное</td>\n      <td>турбонаддув</td>\n      <td>206.0</td>\n      <td>4.0</td>\n    </tr>\n    <tr>\n      <th>4</th>\n      <td>https://auto.ru/cars/used/sale/abarth/500/1125...</td>\n      <td>Abarth</td>\n      <td>500</td>\n      <td>I Рестайлинг</td>\n      <td>Хэтчбек 3 дв.</td>\n      <td>1.4 AT (159 л.с.)</td>\n      <td>2024-10-14 00:00:00</td>\n      <td>1125453984</td>\n      <td>1650000.0</td>\n      <td>Москва</td>\n      <td>...</td>\n      <td>дисковые</td>\n      <td>211.0</td>\n      <td>7.8</td>\n      <td>7.3</td>\n      <td>АИ-95</td>\n      <td>переднее</td>\n      <td>поперечное</td>\n      <td>турбонаддув</td>\n      <td>248.0</td>\n      <td>4.0</td>\n    </tr>\n  </tbody>\n</table>\n<p>5 rows × 52 columns</p>\n</div>"
     },
     "execution_count": 6,
     "metadata": {},
     "output_type": "execute_result"
    }
   ],
   "source": [
    "# Объединим имеющийся датасет с новыми\n",
    "data = pd.concat([data, data_1, data_2], axis=0).reset_index(drop=True)\n",
    "print(data.shape)\n",
    "data.head()"
   ]
  },
  {
   "cell_type": "code",
   "outputs": [
    {
     "name": "stdout",
     "output_type": "stream",
     "text": [
      "<class 'pandas.core.frame.DataFrame'>\n",
      "RangeIndex: 218045 entries, 0 to 218044\n",
      "Data columns (total 52 columns):\n",
      " #   Column        Non-Null Count   Dtype  \n",
      "---  ------        --------------   -----  \n",
      " 0   url_car       218045 non-null  object \n",
      " 1   car_make      218045 non-null  object \n",
      " 2   car_model     218045 non-null  object \n",
      " 3   car_gen       218045 non-null  object \n",
      " 4   car_type      218045 non-null  object \n",
      " 5   car_compl     218045 non-null  object \n",
      " 6   ann_date      218045 non-null  object \n",
      " 7   ann_id        218045 non-null  object \n",
      " 8   car_price     218045 non-null  float64\n",
      " 9   ann_city      218045 non-null  object \n",
      " 10  link_cpl      218045 non-null  object \n",
      " 11  avail         218045 non-null  object \n",
      " 12  year          218045 non-null  int64  \n",
      " 13  mileage       218045 non-null  int64  \n",
      " 14  color         218045 non-null  object \n",
      " 15  eng_size      215519 non-null  float64\n",
      " 16  eng_power     218045 non-null  float64\n",
      " 17  eng_power_kw  13756 non-null   float64\n",
      " 18  eng_type      218045 non-null  object \n",
      " 19  pow_resrv     2526 non-null    object \n",
      " 20  options       218027 non-null  object \n",
      " 21  transmission  218045 non-null  object \n",
      " 22  drive         218045 non-null  object \n",
      " 23  st_wheel      218045 non-null  object \n",
      " 24  condition     218045 non-null  object \n",
      " 25  count_owner   217998 non-null  object \n",
      " 26  original_pts  216959 non-null  object \n",
      " 27  customs       218045 non-null  object \n",
      " 28  url_compl     217987 non-null  object \n",
      " 29  state_mark    217987 non-null  object \n",
      " 30  class_auto    217393 non-null  object \n",
      " 31  door_count    217987 non-null  float64\n",
      " 32  seat_count    217987 non-null  object \n",
      " 33  long          217987 non-null  float64\n",
      " 34  width         217987 non-null  float64\n",
      " 35  height        217987 non-null  float64\n",
      " 36  clearence     213963 non-null  object \n",
      " 37  v_bag         148180 non-null  object \n",
      " 38  v_tank        154757 non-null  float64\n",
      " 39  curb_weight   212899 non-null  float64\n",
      " 40  gross_weight  196542 non-null  float64\n",
      " 41  front_brakes  217987 non-null  object \n",
      " 42  rear_brakes   215356 non-null  object \n",
      " 43  max_speed     209634 non-null  float64\n",
      " 44  acceleration  148538 non-null  float64\n",
      " 45  fuel_cons     144228 non-null  object \n",
      " 46  fuel_brand    214532 non-null  object \n",
      " 47  engine_loc1   215274 non-null  object \n",
      " 48  engine_loc2   213428 non-null  object \n",
      " 49  turbocharg    215353 non-null  object \n",
      " 50  max_torq      158421 non-null  float64\n",
      " 51  cyl_count     215461 non-null  float64\n",
      "dtypes: float64(15), int64(2), object(35)\n",
      "memory usage: 86.5+ MB\n"
     ]
    }
   ],
   "source": [
    "# Посмотрим общие сведения\n",
    "data.info()"
   ],
   "metadata": {
    "collapsed": false,
    "ExecuteTime": {
     "end_time": "2024-12-11T20:56:16.377990Z",
     "start_time": "2024-12-11T20:56:16.202222Z"
    }
   },
   "execution_count": 7
  },
  {
   "cell_type": "code",
   "outputs": [
    {
     "name": "stdout",
     "output_type": "stream",
     "text": [
      "<class 'pandas.core.series.Series'>\n",
      "RangeIndex: 218045 entries, 0 to 218044\n",
      "Series name: ann_date\n",
      "Non-Null Count   Dtype         \n",
      "--------------   -----         \n",
      "218045 non-null  datetime64[ns]\n",
      "dtypes: datetime64[ns](1)\n",
      "memory usage: 1.7 MB\n"
     ]
    }
   ],
   "source": [
    "# Приведём дату к типу datetime\n",
    "data['ann_date'] = pd.to_datetime(data['ann_date'].str[:10], format='%Y-%m-%d')\n",
    "data['ann_date'].info()"
   ],
   "metadata": {
    "collapsed": false,
    "ExecuteTime": {
     "end_time": "2024-12-11T20:56:21.904166Z",
     "start_time": "2024-12-11T20:56:21.854250Z"
    }
   },
   "execution_count": 8
  },
  {
   "cell_type": "code",
   "execution_count": 9,
   "metadata": {
    "ExecuteTime": {
     "end_time": "2024-12-11T20:56:27.886824Z",
     "start_time": "2024-12-11T20:56:27.207258Z"
    }
   },
   "outputs": [
    {
     "name": "stdout",
     "output_type": "stream",
     "text": [
      "Полных дубликатов 1275\n"
     ]
    }
   ],
   "source": [
    "# Убедимся в отсутствии полных дубликатов\n",
    "print(f'Полных дубликатов {data.duplicated(keep='first').sum()}')"
   ]
  },
  {
   "cell_type": "code",
   "outputs": [],
   "source": [
    "# Избавимся от полных дубликатов\n",
    "data.drop_duplicates(inplace=True)"
   ],
   "metadata": {
    "collapsed": false,
    "ExecuteTime": {
     "end_time": "2024-12-11T20:56:31.922915Z",
     "start_time": "2024-12-11T20:56:31.191123Z"
    }
   },
   "execution_count": 10
  },
  {
   "cell_type": "code",
   "outputs": [
    {
     "data": {
      "text/plain": "np.int64(0)"
     },
     "execution_count": 11,
     "metadata": {},
     "output_type": "execute_result"
    }
   ],
   "source": [
    "# Проверим\n",
    "data.duplicated(keep=\"first\").sum()"
   ],
   "metadata": {
    "collapsed": false,
    "ExecuteTime": {
     "end_time": "2024-12-11T20:56:33.409466Z",
     "start_time": "2024-12-11T20:56:32.734819Z"
    }
   },
   "execution_count": 11
  },
  {
   "cell_type": "code",
   "outputs": [
    {
     "data": {
      "text/plain": "np.int64(187)"
     },
     "execution_count": 12,
     "metadata": {},
     "output_type": "execute_result"
    }
   ],
   "source": [
    "# Проверим полные дубликаты без 'url_car', 'ann_id', 'ann_date', 'link_cpl', 'url_compl'\n",
    "# т.е автомобили с одинаковыми характеристиками и ценой\n",
    "data.drop(['url_car', 'ann_id', 'ann_date', 'link_cpl', 'url_compl'], axis=1).duplicated(keep='first').sum()"
   ],
   "metadata": {
    "collapsed": false,
    "ExecuteTime": {
     "end_time": "2024-12-11T20:56:38.361988Z",
     "start_time": "2024-12-11T20:56:37.847009Z"
    }
   },
   "execution_count": 12
  },
  {
   "cell_type": "code",
   "outputs": [
    {
     "data": {
      "text/plain": "                                                  url_car car_make  \\\n245     https://auto.ru/cars/used/sale/aito/m5/1125454...     Aito   \n159463  https://auto.ru/cars/used/sale/aito/m5/1124954...     Aito   \n159465  https://auto.ru/cars/used/sale/aito/m5/1124591...     Aito   \n159466  https://auto.ru/cars/used/sale/aito/m5/1124115...     Aito   \n6646    https://auto.ru/cars/used/sale/byd/yangwang_u8...      BYD   \n...                                                   ...      ...   \n100209  https://auto.ru/cars/used/sale/zeekr/001/11257...    Zeekr   \n29189   https://auto.ru/cars/used/sale/gaz/12/11210370...      ГАЗ   \n29445   https://auto.ru/cars/used/sale/gaz/12/11257138...      ГАЗ   \n203584  https://auto.ru/cars/used/sale/moscvich/3/1125...  Москвич   \n203585  https://auto.ru/cars/used/sale/moscvich/3/1125...  Москвич   \n\n          car_model       car_gen           car_type  \\\n245              M5     2022-н.в.  Внедорожник 5 дв.   \n159463           M5     2022-н.в.  Внедорожник 5 дв.   \n159465           M5     2022-н.в.  Внедорожник 5 дв.   \n159466           M5     2022-н.в.  Внедорожник 5 дв.   \n6646    Yangwang U8     2023-н.в.  Внедорожник 5 дв.   \n...             ...           ...                ...   \n100209          001  I Рестайлинг            Лифтбек   \n29189        12 ЗИМ     1948-1960              Седан   \n29445        12 ЗИМ     1948-1960              Седан   \n203584            3     2022-2024  Внедорожник 5 дв.   \n203585            3     2022-2024  Внедорожник 5 дв.   \n\n                               car_compl   ann_date      ann_id   car_price  \\\n245             1.5hyb AT (496 л.с.) 4WD 2024-11-03  1125454036   5250000.0   \n159463          1.5hyb AT (496 л.с.) 4WD 2024-11-04  1124954435   5250000.0   \n159465          1.5hyb AT (496 л.с.) 4WD 2024-11-04  1124591923   5250000.0   \n159466          1.5hyb AT (496 л.с.) 4WD 2024-11-04  1124115203   5250000.0   \n6646           2.0hyb AT (1197 л.с.) 4WD 2024-11-03  1125778335  19999999.0   \n...                                  ...        ...         ...         ...   \n100209  100 kWh Electro AT (580 кВт) 4WD 2024-11-22  1125743401   6588000.0   \n29189                   3.5 MT (90 л.с.) 2024-10-25  1121037096   3800000.0   \n29445                   3.5 MT (90 л.с.) 2024-10-31  1125713838   3800000.0   \n203584                1.5 CVT (136 л.с.) 2024-10-16  1125489141   1800000.0   \n203585                1.5 CVT (136 л.с.) 2024-10-16  1125489142   1800000.0   \n\n              ann_city  ... rear_brakes max_speed  acceleration  fuel_cons  \\\n245     Ростов-на-Дону  ...    дисковые     210.0           4.6        NaN   \n159463  Ростов-на-Дону  ...    дисковые     210.0           4.6        NaN   \n159465  Ростов-на-Дону  ...    дисковые     210.0           4.6        NaN   \n159466  Ростов-на-Дону  ...    дисковые     210.0           4.6        NaN   \n6646            Москва  ...    дисковые       NaN           3.6        NaN   \n...                ...  ...         ...       ...           ...        ...   \n100209          Москва  ...    дисковые     240.0           3.3        NaN   \n29189        Уссурийск  ...  барабанные     120.0          37.0        NaN   \n29445        Уссурийск  ...  барабанные     120.0          37.0        NaN   \n203584  Ростов-на-Дону  ...    дисковые     170.0           NaN        5.5   \n203585  Ростов-на-Дону  ...    дисковые     170.0           NaN        5.5   \n\n       fuel_brand  engine_loc1  engine_loc2   turbocharg max_torq cyl_count  \n245         АИ-95     переднее   поперечное  турбонаддув    675.0       4.0  \n159463      АИ-95     переднее   поперечное  турбонаддув    675.0       4.0  \n159465      АИ-95     переднее   поперечное  турбонаддув    675.0       4.0  \n159466      АИ-95     переднее   поперечное  турбонаддув    675.0       4.0  \n6646        АИ-95     переднее   поперечное  турбонаддув   1280.0       4.0  \n...           ...          ...          ...          ...      ...       ...  \n100209        NaN          NaN          NaN          NaN    810.0       NaN  \n29189       АИ-80     переднее   продольное          нет    215.0       6.0  \n29445       АИ-80     переднее   продольное          нет    215.0       6.0  \n203584      АИ-92     переднее   поперечное  турбонаддув    200.0       4.0  \n203585      АИ-92     переднее   поперечное  турбонаддув    200.0       4.0  \n\n[363 rows x 52 columns]",
      "text/html": "<div>\n<style scoped>\n    .dataframe tbody tr th:only-of-type {\n        vertical-align: middle;\n    }\n\n    .dataframe tbody tr th {\n        vertical-align: top;\n    }\n\n    .dataframe thead th {\n        text-align: right;\n    }\n</style>\n<table border=\"1\" class=\"dataframe\">\n  <thead>\n    <tr style=\"text-align: right;\">\n      <th></th>\n      <th>url_car</th>\n      <th>car_make</th>\n      <th>car_model</th>\n      <th>car_gen</th>\n      <th>car_type</th>\n      <th>car_compl</th>\n      <th>ann_date</th>\n      <th>ann_id</th>\n      <th>car_price</th>\n      <th>ann_city</th>\n      <th>...</th>\n      <th>rear_brakes</th>\n      <th>max_speed</th>\n      <th>acceleration</th>\n      <th>fuel_cons</th>\n      <th>fuel_brand</th>\n      <th>engine_loc1</th>\n      <th>engine_loc2</th>\n      <th>turbocharg</th>\n      <th>max_torq</th>\n      <th>cyl_count</th>\n    </tr>\n  </thead>\n  <tbody>\n    <tr>\n      <th>245</th>\n      <td>https://auto.ru/cars/used/sale/aito/m5/1125454...</td>\n      <td>Aito</td>\n      <td>M5</td>\n      <td>2022-н.в.</td>\n      <td>Внедорожник 5 дв.</td>\n      <td>1.5hyb AT (496 л.с.) 4WD</td>\n      <td>2024-11-03</td>\n      <td>1125454036</td>\n      <td>5250000.0</td>\n      <td>Ростов-на-Дону</td>\n      <td>...</td>\n      <td>дисковые</td>\n      <td>210.0</td>\n      <td>4.6</td>\n      <td>NaN</td>\n      <td>АИ-95</td>\n      <td>переднее</td>\n      <td>поперечное</td>\n      <td>турбонаддув</td>\n      <td>675.0</td>\n      <td>4.0</td>\n    </tr>\n    <tr>\n      <th>159463</th>\n      <td>https://auto.ru/cars/used/sale/aito/m5/1124954...</td>\n      <td>Aito</td>\n      <td>M5</td>\n      <td>2022-н.в.</td>\n      <td>Внедорожник 5 дв.</td>\n      <td>1.5hyb AT (496 л.с.) 4WD</td>\n      <td>2024-11-04</td>\n      <td>1124954435</td>\n      <td>5250000.0</td>\n      <td>Ростов-на-Дону</td>\n      <td>...</td>\n      <td>дисковые</td>\n      <td>210.0</td>\n      <td>4.6</td>\n      <td>NaN</td>\n      <td>АИ-95</td>\n      <td>переднее</td>\n      <td>поперечное</td>\n      <td>турбонаддув</td>\n      <td>675.0</td>\n      <td>4.0</td>\n    </tr>\n    <tr>\n      <th>159465</th>\n      <td>https://auto.ru/cars/used/sale/aito/m5/1124591...</td>\n      <td>Aito</td>\n      <td>M5</td>\n      <td>2022-н.в.</td>\n      <td>Внедорожник 5 дв.</td>\n      <td>1.5hyb AT (496 л.с.) 4WD</td>\n      <td>2024-11-04</td>\n      <td>1124591923</td>\n      <td>5250000.0</td>\n      <td>Ростов-на-Дону</td>\n      <td>...</td>\n      <td>дисковые</td>\n      <td>210.0</td>\n      <td>4.6</td>\n      <td>NaN</td>\n      <td>АИ-95</td>\n      <td>переднее</td>\n      <td>поперечное</td>\n      <td>турбонаддув</td>\n      <td>675.0</td>\n      <td>4.0</td>\n    </tr>\n    <tr>\n      <th>159466</th>\n      <td>https://auto.ru/cars/used/sale/aito/m5/1124115...</td>\n      <td>Aito</td>\n      <td>M5</td>\n      <td>2022-н.в.</td>\n      <td>Внедорожник 5 дв.</td>\n      <td>1.5hyb AT (496 л.с.) 4WD</td>\n      <td>2024-11-04</td>\n      <td>1124115203</td>\n      <td>5250000.0</td>\n      <td>Ростов-на-Дону</td>\n      <td>...</td>\n      <td>дисковые</td>\n      <td>210.0</td>\n      <td>4.6</td>\n      <td>NaN</td>\n      <td>АИ-95</td>\n      <td>переднее</td>\n      <td>поперечное</td>\n      <td>турбонаддув</td>\n      <td>675.0</td>\n      <td>4.0</td>\n    </tr>\n    <tr>\n      <th>6646</th>\n      <td>https://auto.ru/cars/used/sale/byd/yangwang_u8...</td>\n      <td>BYD</td>\n      <td>Yangwang U8</td>\n      <td>2023-н.в.</td>\n      <td>Внедорожник 5 дв.</td>\n      <td>2.0hyb AT (1197 л.с.) 4WD</td>\n      <td>2024-11-03</td>\n      <td>1125778335</td>\n      <td>19999999.0</td>\n      <td>Москва</td>\n      <td>...</td>\n      <td>дисковые</td>\n      <td>NaN</td>\n      <td>3.6</td>\n      <td>NaN</td>\n      <td>АИ-95</td>\n      <td>переднее</td>\n      <td>поперечное</td>\n      <td>турбонаддув</td>\n      <td>1280.0</td>\n      <td>4.0</td>\n    </tr>\n    <tr>\n      <th>...</th>\n      <td>...</td>\n      <td>...</td>\n      <td>...</td>\n      <td>...</td>\n      <td>...</td>\n      <td>...</td>\n      <td>...</td>\n      <td>...</td>\n      <td>...</td>\n      <td>...</td>\n      <td>...</td>\n      <td>...</td>\n      <td>...</td>\n      <td>...</td>\n      <td>...</td>\n      <td>...</td>\n      <td>...</td>\n      <td>...</td>\n      <td>...</td>\n      <td>...</td>\n      <td>...</td>\n    </tr>\n    <tr>\n      <th>100209</th>\n      <td>https://auto.ru/cars/used/sale/zeekr/001/11257...</td>\n      <td>Zeekr</td>\n      <td>001</td>\n      <td>I Рестайлинг</td>\n      <td>Лифтбек</td>\n      <td>100 kWh Electro AT (580 кВт) 4WD</td>\n      <td>2024-11-22</td>\n      <td>1125743401</td>\n      <td>6588000.0</td>\n      <td>Москва</td>\n      <td>...</td>\n      <td>дисковые</td>\n      <td>240.0</td>\n      <td>3.3</td>\n      <td>NaN</td>\n      <td>NaN</td>\n      <td>NaN</td>\n      <td>NaN</td>\n      <td>NaN</td>\n      <td>810.0</td>\n      <td>NaN</td>\n    </tr>\n    <tr>\n      <th>29189</th>\n      <td>https://auto.ru/cars/used/sale/gaz/12/11210370...</td>\n      <td>ГАЗ</td>\n      <td>12 ЗИМ</td>\n      <td>1948-1960</td>\n      <td>Седан</td>\n      <td>3.5 MT (90 л.с.)</td>\n      <td>2024-10-25</td>\n      <td>1121037096</td>\n      <td>3800000.0</td>\n      <td>Уссурийск</td>\n      <td>...</td>\n      <td>барабанные</td>\n      <td>120.0</td>\n      <td>37.0</td>\n      <td>NaN</td>\n      <td>АИ-80</td>\n      <td>переднее</td>\n      <td>продольное</td>\n      <td>нет</td>\n      <td>215.0</td>\n      <td>6.0</td>\n    </tr>\n    <tr>\n      <th>29445</th>\n      <td>https://auto.ru/cars/used/sale/gaz/12/11257138...</td>\n      <td>ГАЗ</td>\n      <td>12 ЗИМ</td>\n      <td>1948-1960</td>\n      <td>Седан</td>\n      <td>3.5 MT (90 л.с.)</td>\n      <td>2024-10-31</td>\n      <td>1125713838</td>\n      <td>3800000.0</td>\n      <td>Уссурийск</td>\n      <td>...</td>\n      <td>барабанные</td>\n      <td>120.0</td>\n      <td>37.0</td>\n      <td>NaN</td>\n      <td>АИ-80</td>\n      <td>переднее</td>\n      <td>продольное</td>\n      <td>нет</td>\n      <td>215.0</td>\n      <td>6.0</td>\n    </tr>\n    <tr>\n      <th>203584</th>\n      <td>https://auto.ru/cars/used/sale/moscvich/3/1125...</td>\n      <td>Москвич</td>\n      <td>3</td>\n      <td>2022-2024</td>\n      <td>Внедорожник 5 дв.</td>\n      <td>1.5 CVT (136 л.с.)</td>\n      <td>2024-10-16</td>\n      <td>1125489141</td>\n      <td>1800000.0</td>\n      <td>Ростов-на-Дону</td>\n      <td>...</td>\n      <td>дисковые</td>\n      <td>170.0</td>\n      <td>NaN</td>\n      <td>5.5</td>\n      <td>АИ-92</td>\n      <td>переднее</td>\n      <td>поперечное</td>\n      <td>турбонаддув</td>\n      <td>200.0</td>\n      <td>4.0</td>\n    </tr>\n    <tr>\n      <th>203585</th>\n      <td>https://auto.ru/cars/used/sale/moscvich/3/1125...</td>\n      <td>Москвич</td>\n      <td>3</td>\n      <td>2022-2024</td>\n      <td>Внедорожник 5 дв.</td>\n      <td>1.5 CVT (136 л.с.)</td>\n      <td>2024-10-16</td>\n      <td>1125489142</td>\n      <td>1800000.0</td>\n      <td>Ростов-на-Дону</td>\n      <td>...</td>\n      <td>дисковые</td>\n      <td>170.0</td>\n      <td>NaN</td>\n      <td>5.5</td>\n      <td>АИ-92</td>\n      <td>переднее</td>\n      <td>поперечное</td>\n      <td>турбонаддув</td>\n      <td>200.0</td>\n      <td>4.0</td>\n    </tr>\n  </tbody>\n</table>\n<p>363 rows × 52 columns</p>\n</div>"
     },
     "execution_count": 13,
     "metadata": {},
     "output_type": "execute_result"
    }
   ],
   "source": [
    "# Рассмотрим такие дубликаты\n",
    "data[data.drop(\n",
    "    ['url_car', 'ann_id', 'ann_date', 'link_cpl', 'url_compl'], axis=1\n",
    ").duplicated(keep=False)].sort_values(by=['car_make', 'ann_date'])"
   ],
   "metadata": {
    "collapsed": false,
    "ExecuteTime": {
     "end_time": "2024-12-11T20:56:42.261079Z",
     "start_time": "2024-12-11T20:56:41.681143Z"
    }
   },
   "execution_count": 13
  },
  {
   "cell_type": "code",
   "outputs": [],
   "source": [
    "# Удалим дубликаты, оставив последнее по времени объявление\n",
    "data = data.sort_values(by='ann_date')\n",
    "data = data[~data.drop(\n",
    "    ['url_car', 'ann_id', 'ann_date', 'link_cpl', 'url_compl'],\n",
    "    axis=1\n",
    ").duplicated(keep='last')]\n",
    "data.sort_index(inplace=True)"
   ],
   "metadata": {
    "collapsed": false,
    "ExecuteTime": {
     "end_time": "2024-12-11T20:56:54.970754Z",
     "start_time": "2024-12-11T20:56:54.212400Z"
    }
   },
   "execution_count": 14
  },
  {
   "cell_type": "code",
   "outputs": [
    {
     "data": {
      "text/plain": "np.int64(0)"
     },
     "execution_count": 15,
     "metadata": {},
     "output_type": "execute_result"
    }
   ],
   "source": [
    "# Проверим\n",
    "data.drop(['url_car', 'ann_id', 'ann_date', 'link_cpl', 'url_compl'], axis=1).duplicated(keep='first').sum()"
   ],
   "metadata": {
    "collapsed": false,
    "ExecuteTime": {
     "end_time": "2024-12-11T20:56:56.924927Z",
     "start_time": "2024-12-11T20:56:56.406236Z"
    }
   },
   "execution_count": 15
  },
  {
   "cell_type": "code",
   "outputs": [
    {
     "name": "stdout",
     "output_type": "stream",
     "text": [
      "Дубликаты по ann_id 52661\n"
     ]
    }
   ],
   "source": [
    "# Проверим дубликаты по ann_id\n",
    "print(f'Дубликаты по ann_id {data['ann_id'].duplicated(keep=\"first\").sum()}')"
   ],
   "metadata": {
    "collapsed": false,
    "ExecuteTime": {
     "end_time": "2024-12-11T20:56:58.532092Z",
     "start_time": "2024-12-11T20:56:58.509553Z"
    }
   },
   "execution_count": 16
  },
  {
   "cell_type": "code",
   "outputs": [],
   "source": [
    "# Создадим столбец с количеством пропусков по объекту\n",
    "data['isnasum'] = data.isna().sum(axis=1)"
   ],
   "metadata": {
    "collapsed": false,
    "ExecuteTime": {
     "end_time": "2024-12-11T20:57:22.541406Z",
     "start_time": "2024-12-11T20:57:22.352028Z"
    }
   },
   "execution_count": 17
  },
  {
   "cell_type": "code",
   "outputs": [
    {
     "data": {
      "text/plain": "                                                  url_car    car_make  \\\n49620   https://auto.ru/cars/used/sale/mazda/6_mps/100...       Mazda   \n196272  https://auto.ru/cars/used/sale/mazda/6_mps/100...       Mazda   \n55843   https://auto.ru/cars/used/sale/mitsubishi/paje...  Mitsubishi   \n202071  https://auto.ru/cars/used/sale/mitsubishi/paje...  Mitsubishi   \n56911   https://auto.ru/cars/used/sale/moscvich/svyato...     Москвич   \n...                                                   ...         ...   \n217923  https://auto.ru/cars/used/sale/porsche/panamer...     Porsche   \n213456  https://auto.ru/cars/used/sale/porsche/macan/1...     Porsche   \n217497  https://auto.ru/cars/used/sale/porsche/macan/1...     Porsche   \n56923   https://auto.ru/cars/used/sale/moscvich/svyato...     Москвич   \n203630  https://auto.ru/cars/used/sale/moscvich/svyato...     Москвич   \n\n           car_model       car_gen           car_type  \\\n49620          6 MPS     2005-2008              Седан   \n196272         6 MPS     2005-2008              Седан   \n55843   Pajero Sport  I Рестайлинг  Внедорожник 5 дв.   \n202071  Pajero Sport  I Рестайлинг  Внедорожник 5 дв.   \n56911       Святогор     1997-2002      Хэтчбек 5 дв.   \n...              ...           ...                ...   \n217923      Panamera           III  Лифтбек Executive   \n213456         Macan             I  Внедорожник 5 дв.   \n217497         Macan             I  Внедорожник 5 дв.   \n56923       Святогор     1997-2002      Хэтчбек 5 дв.   \n203630      Святогор     1997-2002      Хэтчбек 5 дв.   \n\n                                             car_compl   ann_date      ann_id  \\\n49620                            2.3 MT (260 л.с.) 4WD 2024-01-30  1000114784   \n196272                           2.3 MT (260 л.с.) 4WD 2024-01-30  1000114784   \n55843                           2.5d MT (133 л.с.) 4WD 2024-02-17  1008953341   \n202071                          2.5d MT (133 л.с.) 4WD 2024-02-17  1008953341   \n56911                          214100 1.6 MT (76 л.с.) 2024-11-25  1025488297   \n...                                                ...        ...         ...   \n217923  4 E-Hybrid Executive 2.9hyb AMT (470 л.с.) 4WD 2024-11-21  1126049324   \n213456                S Diesel 3.0d AMT (245 л.с.) 4WD 2024-11-21  1126053771   \n217497                S Diesel 3.0d AMT (245 л.с.) 4WD 2024-11-21  1126053771   \n56923                          214122 1.7 MT (85 л.с.) 2024-08-28    46182926   \n203630                         214122 1.7 MT (85 л.с.) 2024-08-28    46182926   \n\n         car_price         ann_city  ... max_speed acceleration  fuel_cons  \\\n49620     990000.0           Москва  ...     240.0          6.6        8.0   \n196272    990000.0           Москва  ...     240.0          6.6        8.0   \n55843     900000.0            Минск  ...     151.0         18.0        8.3   \n202071    900000.0            Минск  ...     151.0         18.0        8.3   \n56911     123000.0  Санкт-Петербург  ...     156.0         15.5        NaN   \n...            ...              ...  ...       ...          ...        ...   \n217923  20979000.0      Владивосток  ...     280.0          4.2        NaN   \n213456   3950000.0            Пермь  ...     230.0          6.3        5.9   \n217497   3950000.0            Пермь  ...     230.0          6.3        5.9   \n56923     380000.0           Москва  ...     160.0         14.0        7.1   \n203630    380000.0           Москва  ...     160.0         14.0        7.1   \n\n        fuel_brand engine_loc1  engine_loc2   turbocharg  max_torq cyl_count  \\\n49620        АИ-95    переднее   поперечное  турбонаддув     380.0       4.0   \n196272       АИ-95    переднее   поперечное  турбонаддув     380.0       4.0   \n55843           ДТ    переднее   продольное  турбонаддув     280.0       4.0   \n202071          ДТ    переднее   продольное  турбонаддув     280.0       4.0   \n56911        АИ-95    переднее   продольное          нет     121.0       4.0   \n...            ...         ...          ...          ...       ...       ...   \n217923       АИ-98    переднее   продольное  турбонаддув     650.0       6.0   \n213456          ДТ    переднее   продольное  турбонаддув     580.0       6.0   \n217497          ДТ    переднее   продольное  турбонаддув     580.0       6.0   \n56923        АИ-92    переднее   продольное          нет     133.0       4.0   \n203630       АИ-92    переднее   продольное          нет     133.0       4.0   \n\n       isnasum  \n49620        2  \n196272       2  \n55843        2  \n202071       2  \n56911        3  \n...        ...  \n217923       3  \n213456       2  \n217497       2  \n56923        2  \n203630       2  \n\n[103080 rows x 53 columns]",
      "text/html": "<div>\n<style scoped>\n    .dataframe tbody tr th:only-of-type {\n        vertical-align: middle;\n    }\n\n    .dataframe tbody tr th {\n        vertical-align: top;\n    }\n\n    .dataframe thead th {\n        text-align: right;\n    }\n</style>\n<table border=\"1\" class=\"dataframe\">\n  <thead>\n    <tr style=\"text-align: right;\">\n      <th></th>\n      <th>url_car</th>\n      <th>car_make</th>\n      <th>car_model</th>\n      <th>car_gen</th>\n      <th>car_type</th>\n      <th>car_compl</th>\n      <th>ann_date</th>\n      <th>ann_id</th>\n      <th>car_price</th>\n      <th>ann_city</th>\n      <th>...</th>\n      <th>max_speed</th>\n      <th>acceleration</th>\n      <th>fuel_cons</th>\n      <th>fuel_brand</th>\n      <th>engine_loc1</th>\n      <th>engine_loc2</th>\n      <th>turbocharg</th>\n      <th>max_torq</th>\n      <th>cyl_count</th>\n      <th>isnasum</th>\n    </tr>\n  </thead>\n  <tbody>\n    <tr>\n      <th>49620</th>\n      <td>https://auto.ru/cars/used/sale/mazda/6_mps/100...</td>\n      <td>Mazda</td>\n      <td>6 MPS</td>\n      <td>2005-2008</td>\n      <td>Седан</td>\n      <td>2.3 MT (260 л.с.) 4WD</td>\n      <td>2024-01-30</td>\n      <td>1000114784</td>\n      <td>990000.0</td>\n      <td>Москва</td>\n      <td>...</td>\n      <td>240.0</td>\n      <td>6.6</td>\n      <td>8.0</td>\n      <td>АИ-95</td>\n      <td>переднее</td>\n      <td>поперечное</td>\n      <td>турбонаддув</td>\n      <td>380.0</td>\n      <td>4.0</td>\n      <td>2</td>\n    </tr>\n    <tr>\n      <th>196272</th>\n      <td>https://auto.ru/cars/used/sale/mazda/6_mps/100...</td>\n      <td>Mazda</td>\n      <td>6 MPS</td>\n      <td>2005-2008</td>\n      <td>Седан</td>\n      <td>2.3 MT (260 л.с.) 4WD</td>\n      <td>2024-01-30</td>\n      <td>1000114784</td>\n      <td>990000.0</td>\n      <td>Москва</td>\n      <td>...</td>\n      <td>240.0</td>\n      <td>6.6</td>\n      <td>8.0</td>\n      <td>АИ-95</td>\n      <td>переднее</td>\n      <td>поперечное</td>\n      <td>турбонаддув</td>\n      <td>380.0</td>\n      <td>4.0</td>\n      <td>2</td>\n    </tr>\n    <tr>\n      <th>55843</th>\n      <td>https://auto.ru/cars/used/sale/mitsubishi/paje...</td>\n      <td>Mitsubishi</td>\n      <td>Pajero Sport</td>\n      <td>I Рестайлинг</td>\n      <td>Внедорожник 5 дв.</td>\n      <td>2.5d MT (133 л.с.) 4WD</td>\n      <td>2024-02-17</td>\n      <td>1008953341</td>\n      <td>900000.0</td>\n      <td>Минск</td>\n      <td>...</td>\n      <td>151.0</td>\n      <td>18.0</td>\n      <td>8.3</td>\n      <td>ДТ</td>\n      <td>переднее</td>\n      <td>продольное</td>\n      <td>турбонаддув</td>\n      <td>280.0</td>\n      <td>4.0</td>\n      <td>2</td>\n    </tr>\n    <tr>\n      <th>202071</th>\n      <td>https://auto.ru/cars/used/sale/mitsubishi/paje...</td>\n      <td>Mitsubishi</td>\n      <td>Pajero Sport</td>\n      <td>I Рестайлинг</td>\n      <td>Внедорожник 5 дв.</td>\n      <td>2.5d MT (133 л.с.) 4WD</td>\n      <td>2024-02-17</td>\n      <td>1008953341</td>\n      <td>900000.0</td>\n      <td>Минск</td>\n      <td>...</td>\n      <td>151.0</td>\n      <td>18.0</td>\n      <td>8.3</td>\n      <td>ДТ</td>\n      <td>переднее</td>\n      <td>продольное</td>\n      <td>турбонаддув</td>\n      <td>280.0</td>\n      <td>4.0</td>\n      <td>2</td>\n    </tr>\n    <tr>\n      <th>56911</th>\n      <td>https://auto.ru/cars/used/sale/moscvich/svyato...</td>\n      <td>Москвич</td>\n      <td>Святогор</td>\n      <td>1997-2002</td>\n      <td>Хэтчбек 5 дв.</td>\n      <td>214100 1.6 MT (76 л.с.)</td>\n      <td>2024-11-25</td>\n      <td>1025488297</td>\n      <td>123000.0</td>\n      <td>Санкт-Петербург</td>\n      <td>...</td>\n      <td>156.0</td>\n      <td>15.5</td>\n      <td>NaN</td>\n      <td>АИ-95</td>\n      <td>переднее</td>\n      <td>продольное</td>\n      <td>нет</td>\n      <td>121.0</td>\n      <td>4.0</td>\n      <td>3</td>\n    </tr>\n    <tr>\n      <th>...</th>\n      <td>...</td>\n      <td>...</td>\n      <td>...</td>\n      <td>...</td>\n      <td>...</td>\n      <td>...</td>\n      <td>...</td>\n      <td>...</td>\n      <td>...</td>\n      <td>...</td>\n      <td>...</td>\n      <td>...</td>\n      <td>...</td>\n      <td>...</td>\n      <td>...</td>\n      <td>...</td>\n      <td>...</td>\n      <td>...</td>\n      <td>...</td>\n      <td>...</td>\n      <td>...</td>\n    </tr>\n    <tr>\n      <th>217923</th>\n      <td>https://auto.ru/cars/used/sale/porsche/panamer...</td>\n      <td>Porsche</td>\n      <td>Panamera</td>\n      <td>III</td>\n      <td>Лифтбек Executive</td>\n      <td>4 E-Hybrid Executive 2.9hyb AMT (470 л.с.) 4WD</td>\n      <td>2024-11-21</td>\n      <td>1126049324</td>\n      <td>20979000.0</td>\n      <td>Владивосток</td>\n      <td>...</td>\n      <td>280.0</td>\n      <td>4.2</td>\n      <td>NaN</td>\n      <td>АИ-98</td>\n      <td>переднее</td>\n      <td>продольное</td>\n      <td>турбонаддув</td>\n      <td>650.0</td>\n      <td>6.0</td>\n      <td>3</td>\n    </tr>\n    <tr>\n      <th>213456</th>\n      <td>https://auto.ru/cars/used/sale/porsche/macan/1...</td>\n      <td>Porsche</td>\n      <td>Macan</td>\n      <td>I</td>\n      <td>Внедорожник 5 дв.</td>\n      <td>S Diesel 3.0d AMT (245 л.с.) 4WD</td>\n      <td>2024-11-21</td>\n      <td>1126053771</td>\n      <td>3950000.0</td>\n      <td>Пермь</td>\n      <td>...</td>\n      <td>230.0</td>\n      <td>6.3</td>\n      <td>5.9</td>\n      <td>ДТ</td>\n      <td>переднее</td>\n      <td>продольное</td>\n      <td>турбонаддув</td>\n      <td>580.0</td>\n      <td>6.0</td>\n      <td>2</td>\n    </tr>\n    <tr>\n      <th>217497</th>\n      <td>https://auto.ru/cars/used/sale/porsche/macan/1...</td>\n      <td>Porsche</td>\n      <td>Macan</td>\n      <td>I</td>\n      <td>Внедорожник 5 дв.</td>\n      <td>S Diesel 3.0d AMT (245 л.с.) 4WD</td>\n      <td>2024-11-21</td>\n      <td>1126053771</td>\n      <td>3950000.0</td>\n      <td>Пермь</td>\n      <td>...</td>\n      <td>230.0</td>\n      <td>6.3</td>\n      <td>5.9</td>\n      <td>ДТ</td>\n      <td>переднее</td>\n      <td>продольное</td>\n      <td>турбонаддув</td>\n      <td>580.0</td>\n      <td>6.0</td>\n      <td>2</td>\n    </tr>\n    <tr>\n      <th>56923</th>\n      <td>https://auto.ru/cars/used/sale/moscvich/svyato...</td>\n      <td>Москвич</td>\n      <td>Святогор</td>\n      <td>1997-2002</td>\n      <td>Хэтчбек 5 дв.</td>\n      <td>214122 1.7 MT (85 л.с.)</td>\n      <td>2024-08-28</td>\n      <td>46182926</td>\n      <td>380000.0</td>\n      <td>Москва</td>\n      <td>...</td>\n      <td>160.0</td>\n      <td>14.0</td>\n      <td>7.1</td>\n      <td>АИ-92</td>\n      <td>переднее</td>\n      <td>продольное</td>\n      <td>нет</td>\n      <td>133.0</td>\n      <td>4.0</td>\n      <td>2</td>\n    </tr>\n    <tr>\n      <th>203630</th>\n      <td>https://auto.ru/cars/used/sale/moscvich/svyato...</td>\n      <td>Москвич</td>\n      <td>Святогор</td>\n      <td>1997-2002</td>\n      <td>Хэтчбек 5 дв.</td>\n      <td>214122 1.7 MT (85 л.с.)</td>\n      <td>2024-08-28</td>\n      <td>46182926</td>\n      <td>380000.0</td>\n      <td>Москва</td>\n      <td>...</td>\n      <td>160.0</td>\n      <td>14.0</td>\n      <td>7.1</td>\n      <td>АИ-92</td>\n      <td>переднее</td>\n      <td>продольное</td>\n      <td>нет</td>\n      <td>133.0</td>\n      <td>4.0</td>\n      <td>2</td>\n    </tr>\n  </tbody>\n</table>\n<p>103080 rows × 53 columns</p>\n</div>"
     },
     "execution_count": 18,
     "metadata": {},
     "output_type": "execute_result"
    }
   ],
   "source": [
    "# Посмотрим дубликаты по ann_id\n",
    "data[data['ann_id'].duplicated(keep=False)].sort_values(by=['ann_id', 'isnasum'])"
   ],
   "metadata": {
    "collapsed": false,
    "ExecuteTime": {
     "end_time": "2024-12-11T20:57:39.147685Z",
     "start_time": "2024-12-11T20:57:38.928831Z"
    }
   },
   "execution_count": 18
  },
  {
   "cell_type": "code",
   "outputs": [
    {
     "name": "stdout",
     "output_type": "stream",
     "text": [
      "<class 'pandas.core.frame.DataFrame'>\n",
      "Index: 163922 entries, 0 to 218043\n",
      "Data columns (total 52 columns):\n",
      " #   Column        Non-Null Count   Dtype         \n",
      "---  ------        --------------   -----         \n",
      " 0   url_car       163922 non-null  object        \n",
      " 1   car_make      163922 non-null  object        \n",
      " 2   car_model     163922 non-null  object        \n",
      " 3   car_gen       163922 non-null  object        \n",
      " 4   car_type      163922 non-null  object        \n",
      " 5   car_compl     163922 non-null  object        \n",
      " 6   ann_date      163922 non-null  datetime64[ns]\n",
      " 7   ann_id        163922 non-null  object        \n",
      " 8   car_price     163922 non-null  float64       \n",
      " 9   ann_city      163922 non-null  object        \n",
      " 10  link_cpl      163922 non-null  object        \n",
      " 11  avail         163922 non-null  object        \n",
      " 12  year          163922 non-null  int64         \n",
      " 13  mileage       163922 non-null  int64         \n",
      " 14  color         163922 non-null  object        \n",
      " 15  eng_size      162104 non-null  float64       \n",
      " 16  eng_power     163922 non-null  float64       \n",
      " 17  eng_power_kw  7700 non-null    float64       \n",
      " 18  eng_type      163922 non-null  object        \n",
      " 19  pow_resrv     1818 non-null    object        \n",
      " 20  options       163912 non-null  object        \n",
      " 21  transmission  163922 non-null  object        \n",
      " 22  drive         163922 non-null  object        \n",
      " 23  st_wheel      163922 non-null  object        \n",
      " 24  condition     163922 non-null  object        \n",
      " 25  count_owner   163875 non-null  object        \n",
      " 26  original_pts  163080 non-null  object        \n",
      " 27  customs       163922 non-null  object        \n",
      " 28  url_compl     163864 non-null  object        \n",
      " 29  state_mark    163864 non-null  object        \n",
      " 30  class_auto    163425 non-null  object        \n",
      " 31  door_count    163864 non-null  float64       \n",
      " 32  seat_count    163864 non-null  object        \n",
      " 33  long          163864 non-null  float64       \n",
      " 34  width         163864 non-null  float64       \n",
      " 35  height        163864 non-null  float64       \n",
      " 36  clearence     160687 non-null  object        \n",
      " 37  v_bag         105300 non-null  object        \n",
      " 38  v_tank        110478 non-null  float64       \n",
      " 39  curb_weight   160192 non-null  float64       \n",
      " 40  gross_weight  148243 non-null  float64       \n",
      " 41  front_brakes  163864 non-null  object        \n",
      " 42  rear_brakes   161980 non-null  object        \n",
      " 43  max_speed     157666 non-null  float64       \n",
      " 44  acceleration  105514 non-null  float64       \n",
      " 45  fuel_cons     103734 non-null  object        \n",
      " 46  fuel_brand    161444 non-null  object        \n",
      " 47  engine_loc1   161925 non-null  object        \n",
      " 48  engine_loc2   160925 non-null  object        \n",
      " 49  turbocharg    161973 non-null  object        \n",
      " 50  max_torq      113045 non-null  float64       \n",
      " 51  cyl_count     162046 non-null  float64       \n",
      "dtypes: datetime64[ns](1), float64(15), int64(2), object(34)\n",
      "memory usage: 66.3+ MB\n"
     ]
    }
   ],
   "source": [
    "# Уберём дубликаты по ann_id, оставив объекты с наименьшим кол-вом пропусков\n",
    "data = data.sort_values(by=['ann_id', 'isnasum'])\n",
    "data.drop(['isnasum'], axis=1, inplace=True)\n",
    "data = data[~data['ann_id'].duplicated(keep='first')].copy()\n",
    "data.sort_index(inplace=True)\n",
    "data.info()"
   ],
   "metadata": {
    "collapsed": false,
    "ExecuteTime": {
     "end_time": "2024-12-11T20:58:25.935307Z",
     "start_time": "2024-12-11T20:58:25.094715Z"
    }
   },
   "execution_count": 19
  },
  {
   "cell_type": "code",
   "outputs": [
    {
     "name": "stdout",
     "output_type": "stream",
     "text": [
      "Дубликаты по ann_id 0\n"
     ]
    }
   ],
   "source": [
    "# Проверим дубликаты по ann_id\n",
    "print(f'Дубликаты по ann_id {data['ann_id'].duplicated(keep=\"first\").sum()}')"
   ],
   "metadata": {
    "collapsed": false,
    "ExecuteTime": {
     "end_time": "2024-12-11T20:59:20.691450Z",
     "start_time": "2024-12-11T20:59:20.678356Z"
    }
   },
   "execution_count": 20
  },
  {
   "cell_type": "code",
   "outputs": [],
   "source": [
    "# Сбросим индексацию\n",
    "data.reset_index(drop=True, inplace=True)"
   ],
   "metadata": {
    "collapsed": false,
    "ExecuteTime": {
     "end_time": "2024-12-11T20:59:25.682186Z",
     "start_time": "2024-12-11T20:59:25.679028Z"
    }
   },
   "execution_count": 21
  },
  {
   "cell_type": "code",
   "outputs": [],
   "source": [
    "# Заменим в колонке fuel_cons \"-\" на np.nan\n",
    "data.loc[data['fuel_cons'] == '-', 'fuel_cons'] = np.nan\n",
    "data['fuel_cons'] = data['fuel_cons'].astype(float)"
   ],
   "metadata": {
    "collapsed": false,
    "ExecuteTime": {
     "end_time": "2024-12-11T21:02:15.932602Z",
     "start_time": "2024-12-11T21:02:15.912118Z"
    }
   },
   "execution_count": 24
  },
  {
   "cell_type": "code",
   "outputs": [
    {
     "name": "stdout",
     "output_type": "stream",
     "text": [
      "<class 'pandas.core.frame.DataFrame'>\n",
      "RangeIndex: 163922 entries, 0 to 163921\n",
      "Data columns (total 52 columns):\n",
      " #   Column        Non-Null Count   Dtype         \n",
      "---  ------        --------------   -----         \n",
      " 0   url_car       163922 non-null  object        \n",
      " 1   car_make      163922 non-null  object        \n",
      " 2   car_model     163922 non-null  object        \n",
      " 3   car_gen       163922 non-null  object        \n",
      " 4   car_type      163922 non-null  object        \n",
      " 5   car_compl     163922 non-null  object        \n",
      " 6   ann_date      163922 non-null  datetime64[ns]\n",
      " 7   ann_id        163922 non-null  object        \n",
      " 8   car_price     163922 non-null  float64       \n",
      " 9   ann_city      163922 non-null  object        \n",
      " 10  link_cpl      163922 non-null  object        \n",
      " 11  avail         163922 non-null  object        \n",
      " 12  year          163922 non-null  int64         \n",
      " 13  mileage       163922 non-null  int64         \n",
      " 14  color         163922 non-null  object        \n",
      " 15  eng_size      162104 non-null  float64       \n",
      " 16  eng_power     163922 non-null  float64       \n",
      " 17  eng_power_kw  7700 non-null    float64       \n",
      " 18  eng_type      163922 non-null  object        \n",
      " 19  pow_resrv     1818 non-null    object        \n",
      " 20  options       163912 non-null  object        \n",
      " 21  transmission  163922 non-null  object        \n",
      " 22  drive         163922 non-null  object        \n",
      " 23  st_wheel      163922 non-null  object        \n",
      " 24  condition     163922 non-null  object        \n",
      " 25  count_owner   163875 non-null  object        \n",
      " 26  original_pts  163080 non-null  object        \n",
      " 27  customs       163922 non-null  object        \n",
      " 28  url_compl     163864 non-null  object        \n",
      " 29  state_mark    163864 non-null  object        \n",
      " 30  class_auto    163425 non-null  object        \n",
      " 31  door_count    163864 non-null  float64       \n",
      " 32  seat_count    163864 non-null  object        \n",
      " 33  long          163864 non-null  float64       \n",
      " 34  width         163864 non-null  float64       \n",
      " 35  height        163864 non-null  float64       \n",
      " 36  clearence     160687 non-null  object        \n",
      " 37  v_bag         105300 non-null  object        \n",
      " 38  v_tank        110478 non-null  float64       \n",
      " 39  curb_weight   160192 non-null  float64       \n",
      " 40  gross_weight  148243 non-null  float64       \n",
      " 41  front_brakes  163864 non-null  object        \n",
      " 42  rear_brakes   161980 non-null  object        \n",
      " 43  max_speed     157666 non-null  float64       \n",
      " 44  acceleration  105514 non-null  float64       \n",
      " 45  fuel_cons     98664 non-null   float64       \n",
      " 46  fuel_brand    161444 non-null  object        \n",
      " 47  engine_loc1   161925 non-null  object        \n",
      " 48  engine_loc2   160925 non-null  object        \n",
      " 49  turbocharg    161973 non-null  object        \n",
      " 50  max_torq      113045 non-null  float64       \n",
      " 51  cyl_count     162046 non-null  float64       \n",
      "dtypes: datetime64[ns](1), float64(16), int64(2), object(33)\n",
      "memory usage: 65.0+ MB\n"
     ]
    }
   ],
   "source": [
    "data.info()"
   ],
   "metadata": {
    "collapsed": false,
    "ExecuteTime": {
     "end_time": "2024-12-11T21:02:18.263691Z",
     "start_time": "2024-12-11T21:02:18.135450Z"
    }
   },
   "execution_count": 25
  },
  {
   "cell_type": "code",
   "execution_count": 27,
   "metadata": {
    "scrolled": true,
    "ExecuteTime": {
     "end_time": "2024-12-11T21:04:50.479801Z",
     "start_time": "2024-12-11T21:04:41.924604Z"
    }
   },
   "outputs": [],
   "source": [
    "# Сохраним расширенный датасет, возможно, поменяв имя файла\n",
    "data.to_csv(os.path.join(DATA_PATH, input('file_name?')), index=False)"
   ]
  },
  {
   "cell_type": "code",
   "execution_count": 24,
   "metadata": {
    "ExecuteTime": {
     "end_time": "2024-11-17T09:49:38.913397Z",
     "start_time": "2024-11-17T09:49:38.603819Z"
    },
    "collapsed": false
   },
   "outputs": [
    {
     "data": {
      "text/html": [
       "<div>\n",
       "<style scoped>\n",
       "    .dataframe tbody tr th:only-of-type {\n",
       "        vertical-align: middle;\n",
       "    }\n",
       "\n",
       "    .dataframe tbody tr th {\n",
       "        vertical-align: top;\n",
       "    }\n",
       "\n",
       "    .dataframe thead th {\n",
       "        text-align: right;\n",
       "    }\n",
       "</style>\n",
       "<table border=\"1\" class=\"dataframe\">\n",
       "  <thead>\n",
       "    <tr style=\"text-align: right;\">\n",
       "      <th></th>\n",
       "      <th>url_compl</th>\n",
       "      <th>state_mark</th>\n",
       "      <th>class_auto</th>\n",
       "      <th>door_count</th>\n",
       "      <th>seat_count</th>\n",
       "      <th>long</th>\n",
       "      <th>width</th>\n",
       "      <th>height</th>\n",
       "      <th>clearence</th>\n",
       "      <th>v_bag</th>\n",
       "      <th>...</th>\n",
       "      <th>rear_brakes</th>\n",
       "      <th>max_speed</th>\n",
       "      <th>acceleration</th>\n",
       "      <th>fuel_cons</th>\n",
       "      <th>fuel_brand</th>\n",
       "      <th>engine_loc1</th>\n",
       "      <th>engine_loc2</th>\n",
       "      <th>turbocharg</th>\n",
       "      <th>max_torq</th>\n",
       "      <th>cyl_count</th>\n",
       "    </tr>\n",
       "  </thead>\n",
       "  <tbody>\n",
       "    <tr>\n",
       "      <th>0</th>\n",
       "      <td>https://auto.ru/catalog/cars/vaz/2105/2307266/...</td>\n",
       "      <td>Россия</td>\n",
       "      <td>C</td>\n",
       "      <td>4</td>\n",
       "      <td>5</td>\n",
       "      <td>4130</td>\n",
       "      <td>1620</td>\n",
       "      <td>1446</td>\n",
       "      <td>154</td>\n",
       "      <td>None</td>\n",
       "      <td>...</td>\n",
       "      <td>барабанные</td>\n",
       "      <td>148</td>\n",
       "      <td>None</td>\n",
       "      <td>None</td>\n",
       "      <td>АИ-95</td>\n",
       "      <td>переднее</td>\n",
       "      <td>продольное</td>\n",
       "      <td>нет</td>\n",
       "      <td>None</td>\n",
       "      <td>4</td>\n",
       "    </tr>\n",
       "    <tr>\n",
       "      <th>1</th>\n",
       "      <td>https://auto.ru/catalog/cars/vaz/2101/6256978/...</td>\n",
       "      <td>Россия</td>\n",
       "      <td>B</td>\n",
       "      <td>4</td>\n",
       "      <td>5</td>\n",
       "      <td>4043</td>\n",
       "      <td>1611</td>\n",
       "      <td>1440</td>\n",
       "      <td>170</td>\n",
       "      <td>None</td>\n",
       "      <td>...</td>\n",
       "      <td>барабанные</td>\n",
       "      <td>140</td>\n",
       "      <td>None</td>\n",
       "      <td>None</td>\n",
       "      <td>АИ-92</td>\n",
       "      <td>переднее</td>\n",
       "      <td>продольное</td>\n",
       "      <td>нет</td>\n",
       "      <td>None</td>\n",
       "      <td>4</td>\n",
       "    </tr>\n",
       "    <tr>\n",
       "      <th>2</th>\n",
       "      <td>https://auto.ru/catalog/cars/vaz/2105/2307266/...</td>\n",
       "      <td>Россия</td>\n",
       "      <td>C</td>\n",
       "      <td>4</td>\n",
       "      <td>5</td>\n",
       "      <td>4130</td>\n",
       "      <td>1620</td>\n",
       "      <td>1446</td>\n",
       "      <td>170</td>\n",
       "      <td>None</td>\n",
       "      <td>...</td>\n",
       "      <td>барабанные</td>\n",
       "      <td>150</td>\n",
       "      <td>None</td>\n",
       "      <td>None</td>\n",
       "      <td>АИ-92</td>\n",
       "      <td>переднее</td>\n",
       "      <td>продольное</td>\n",
       "      <td>нет</td>\n",
       "      <td>None</td>\n",
       "      <td>4</td>\n",
       "    </tr>\n",
       "    <tr>\n",
       "      <th>3</th>\n",
       "      <td>https://auto.ru/catalog/cars/vaz/2105/2307266/...</td>\n",
       "      <td>Россия</td>\n",
       "      <td>C</td>\n",
       "      <td>4</td>\n",
       "      <td>5</td>\n",
       "      <td>4130</td>\n",
       "      <td>1620</td>\n",
       "      <td>1446</td>\n",
       "      <td>170</td>\n",
       "      <td>None</td>\n",
       "      <td>...</td>\n",
       "      <td>барабанные</td>\n",
       "      <td>145</td>\n",
       "      <td>None</td>\n",
       "      <td>None</td>\n",
       "      <td>АИ-92</td>\n",
       "      <td>переднее</td>\n",
       "      <td>продольное</td>\n",
       "      <td>нет</td>\n",
       "      <td>None</td>\n",
       "      <td>4</td>\n",
       "    </tr>\n",
       "    <tr>\n",
       "      <th>4</th>\n",
       "      <td>https://auto.ru/catalog/cars/vaz/2105/2307266/...</td>\n",
       "      <td>Россия</td>\n",
       "      <td>C</td>\n",
       "      <td>4</td>\n",
       "      <td>5</td>\n",
       "      <td>4130</td>\n",
       "      <td>1620</td>\n",
       "      <td>1446</td>\n",
       "      <td>170</td>\n",
       "      <td>None</td>\n",
       "      <td>...</td>\n",
       "      <td>барабанные</td>\n",
       "      <td>150</td>\n",
       "      <td>None</td>\n",
       "      <td>None</td>\n",
       "      <td>АИ-95</td>\n",
       "      <td>переднее</td>\n",
       "      <td>продольное</td>\n",
       "      <td>нет</td>\n",
       "      <td>None</td>\n",
       "      <td>4</td>\n",
       "    </tr>\n",
       "    <tr>\n",
       "      <th>...</th>\n",
       "      <td>...</td>\n",
       "      <td>...</td>\n",
       "      <td>...</td>\n",
       "      <td>...</td>\n",
       "      <td>...</td>\n",
       "      <td>...</td>\n",
       "      <td>...</td>\n",
       "      <td>...</td>\n",
       "      <td>...</td>\n",
       "      <td>...</td>\n",
       "      <td>...</td>\n",
       "      <td>...</td>\n",
       "      <td>...</td>\n",
       "      <td>...</td>\n",
       "      <td>...</td>\n",
       "      <td>...</td>\n",
       "      <td>...</td>\n",
       "      <td>...</td>\n",
       "      <td>...</td>\n",
       "      <td>...</td>\n",
       "      <td>...</td>\n",
       "    </tr>\n",
       "    <tr>\n",
       "      <th>5246</th>\n",
       "      <td>https://auto.ru/catalog/cars/zotye/sr9/2090977...</td>\n",
       "      <td>Китай</td>\n",
       "      <td>D</td>\n",
       "      <td>5</td>\n",
       "      <td>5</td>\n",
       "      <td>4744</td>\n",
       "      <td>1929</td>\n",
       "      <td>1647</td>\n",
       "      <td>161</td>\n",
       "      <td>None</td>\n",
       "      <td>...</td>\n",
       "      <td>дисковые</td>\n",
       "      <td>None</td>\n",
       "      <td>None</td>\n",
       "      <td>None</td>\n",
       "      <td>АИ-95</td>\n",
       "      <td>переднее</td>\n",
       "      <td>поперечное</td>\n",
       "      <td>турбонаддув</td>\n",
       "      <td>None</td>\n",
       "      <td>4</td>\n",
       "    </tr>\n",
       "    <tr>\n",
       "      <th>5247</th>\n",
       "      <td>https://auto.ru/catalog/cars/zx/grand_tiger/20...</td>\n",
       "      <td>Китай</td>\n",
       "      <td>J</td>\n",
       "      <td>4</td>\n",
       "      <td>5</td>\n",
       "      <td>5310</td>\n",
       "      <td>1812</td>\n",
       "      <td>1735</td>\n",
       "      <td>202</td>\n",
       "      <td>None</td>\n",
       "      <td>...</td>\n",
       "      <td>барабанные</td>\n",
       "      <td>140</td>\n",
       "      <td>None</td>\n",
       "      <td>None</td>\n",
       "      <td>АИ-95</td>\n",
       "      <td>переднее</td>\n",
       "      <td>продольное</td>\n",
       "      <td>нет</td>\n",
       "      <td>None</td>\n",
       "      <td>4</td>\n",
       "    </tr>\n",
       "    <tr>\n",
       "      <th>5248</th>\n",
       "      <td>https://auto.ru/catalog/cars/zx/landmark/20351...</td>\n",
       "      <td>Китай</td>\n",
       "      <td>J</td>\n",
       "      <td>5</td>\n",
       "      <td>5</td>\n",
       "      <td>4768</td>\n",
       "      <td>1780</td>\n",
       "      <td>1830</td>\n",
       "      <td>202</td>\n",
       "      <td>None</td>\n",
       "      <td>...</td>\n",
       "      <td>барабанные</td>\n",
       "      <td>140</td>\n",
       "      <td>None</td>\n",
       "      <td>None</td>\n",
       "      <td>АИ-95</td>\n",
       "      <td>переднее</td>\n",
       "      <td>продольное</td>\n",
       "      <td>нет</td>\n",
       "      <td>None</td>\n",
       "      <td>4</td>\n",
       "    </tr>\n",
       "    <tr>\n",
       "      <th>5249</th>\n",
       "      <td>https://auto.ru/catalog/cars/zx/landmark/20351...</td>\n",
       "      <td>Китай</td>\n",
       "      <td>J</td>\n",
       "      <td>5</td>\n",
       "      <td>5</td>\n",
       "      <td>4768</td>\n",
       "      <td>1780</td>\n",
       "      <td>1830</td>\n",
       "      <td>202</td>\n",
       "      <td>None</td>\n",
       "      <td>...</td>\n",
       "      <td>барабанные</td>\n",
       "      <td>140</td>\n",
       "      <td>None</td>\n",
       "      <td>None</td>\n",
       "      <td>АИ-95</td>\n",
       "      <td>переднее</td>\n",
       "      <td>продольное</td>\n",
       "      <td>нет</td>\n",
       "      <td>None</td>\n",
       "      <td>4</td>\n",
       "    </tr>\n",
       "    <tr>\n",
       "      <th>5250</th>\n",
       "      <td>https://auto.ru/catalog/cars/zx/admiral/203515...</td>\n",
       "      <td>Китай</td>\n",
       "      <td>J</td>\n",
       "      <td>4</td>\n",
       "      <td>5</td>\n",
       "      <td>4943</td>\n",
       "      <td>1696</td>\n",
       "      <td>1705</td>\n",
       "      <td>191</td>\n",
       "      <td>None</td>\n",
       "      <td>...</td>\n",
       "      <td>барабанные</td>\n",
       "      <td>140</td>\n",
       "      <td>None</td>\n",
       "      <td>None</td>\n",
       "      <td>АИ-92</td>\n",
       "      <td>переднее</td>\n",
       "      <td>продольное</td>\n",
       "      <td>нет</td>\n",
       "      <td>None</td>\n",
       "      <td>4</td>\n",
       "    </tr>\n",
       "  </tbody>\n",
       "</table>\n",
       "<p>5251 rows × 24 columns</p>\n",
       "</div>"
      ],
      "text/plain": [
       "                                              url_compl state_mark class_auto  \\\n",
       "0     https://auto.ru/catalog/cars/vaz/2105/2307266/...     Россия          C   \n",
       "1     https://auto.ru/catalog/cars/vaz/2101/6256978/...     Россия          B   \n",
       "2     https://auto.ru/catalog/cars/vaz/2105/2307266/...     Россия          C   \n",
       "3     https://auto.ru/catalog/cars/vaz/2105/2307266/...     Россия          C   \n",
       "4     https://auto.ru/catalog/cars/vaz/2105/2307266/...     Россия          C   \n",
       "...                                                 ...        ...        ...   \n",
       "5246  https://auto.ru/catalog/cars/zotye/sr9/2090977...      Китай          D   \n",
       "5247  https://auto.ru/catalog/cars/zx/grand_tiger/20...      Китай          J   \n",
       "5248  https://auto.ru/catalog/cars/zx/landmark/20351...      Китай          J   \n",
       "5249  https://auto.ru/catalog/cars/zx/landmark/20351...      Китай          J   \n",
       "5250  https://auto.ru/catalog/cars/zx/admiral/203515...      Китай          J   \n",
       "\n",
       "     door_count seat_count  long width height clearence v_bag  ...  \\\n",
       "0             4          5  4130  1620   1446       154  None  ...   \n",
       "1             4          5  4043  1611   1440       170  None  ...   \n",
       "2             4          5  4130  1620   1446       170  None  ...   \n",
       "3             4          5  4130  1620   1446       170  None  ...   \n",
       "4             4          5  4130  1620   1446       170  None  ...   \n",
       "...         ...        ...   ...   ...    ...       ...   ...  ...   \n",
       "5246          5          5  4744  1929   1647       161  None  ...   \n",
       "5247          4          5  5310  1812   1735       202  None  ...   \n",
       "5248          5          5  4768  1780   1830       202  None  ...   \n",
       "5249          5          5  4768  1780   1830       202  None  ...   \n",
       "5250          4          5  4943  1696   1705       191  None  ...   \n",
       "\n",
       "     rear_brakes max_speed acceleration fuel_cons fuel_brand engine_loc1  \\\n",
       "0     барабанные       148         None      None      АИ-95    переднее   \n",
       "1     барабанные       140         None      None      АИ-92    переднее   \n",
       "2     барабанные       150         None      None      АИ-92    переднее   \n",
       "3     барабанные       145         None      None      АИ-92    переднее   \n",
       "4     барабанные       150         None      None      АИ-95    переднее   \n",
       "...          ...       ...          ...       ...        ...         ...   \n",
       "5246    дисковые      None         None      None      АИ-95    переднее   \n",
       "5247  барабанные       140         None      None      АИ-95    переднее   \n",
       "5248  барабанные       140         None      None      АИ-95    переднее   \n",
       "5249  барабанные       140         None      None      АИ-95    переднее   \n",
       "5250  барабанные       140         None      None      АИ-92    переднее   \n",
       "\n",
       "     engine_loc2   turbocharg max_torq cyl_count  \n",
       "0     продольное          нет     None         4  \n",
       "1     продольное          нет     None         4  \n",
       "2     продольное          нет     None         4  \n",
       "3     продольное          нет     None         4  \n",
       "4     продольное          нет     None         4  \n",
       "...          ...          ...      ...       ...  \n",
       "5246  поперечное  турбонаддув     None         4  \n",
       "5247  продольное          нет     None         4  \n",
       "5248  продольное          нет     None         4  \n",
       "5249  продольное          нет     None         4  \n",
       "5250  продольное          нет     None         4  \n",
       "\n",
       "[5251 rows x 24 columns]"
      ]
     },
     "execution_count": 24,
     "metadata": {},
     "output_type": "execute_result"
    }
   ],
   "source": [
    "# Преобразуем данные о комплектациях в датасет\n",
    "complectations_df = pd.DataFrame(complectations)\n",
    "complectations_df"
   ]
  },
  {
   "cell_type": "code",
   "execution_count": 25,
   "metadata": {
    "ExecuteTime": {
     "end_time": "2024-11-17T09:51:48.712110Z",
     "start_time": "2024-11-17T09:51:48.402871Z"
    }
   },
   "outputs": [],
   "source": [
    "# Обновим файл с комплектациями\n",
    "complectations_df.to_csv(os.path.join(DATA_PATH, 'complectations_dmitrii.csv'), index=False)"
   ]
  }
 ],
 "metadata": {
  "kernelspec": {
   "display_name": "Python 3 (ipykernel)",
   "language": "python",
   "name": "python3"
  },
  "language_info": {
   "codemirror_mode": {
    "name": "ipython",
    "version": 3
   },
   "file_extension": ".py",
   "mimetype": "text/x-python",
   "name": "python",
   "nbconvert_exporter": "python",
   "pygments_lexer": "ipython3",
   "version": "3.13.0"
  }
 },
 "nbformat": 4,
 "nbformat_minor": 4
}
