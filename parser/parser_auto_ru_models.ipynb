{
 "cells": [
  {
   "cell_type": "code",
   "execution_count": 6,
   "metadata": {},
   "outputs": [],
   "source": [
    "import requests\n",
    "from bs4 import BeautifulSoup\n",
    "from tqdm.notebook import tqdm\n",
    "import numpy as np\n",
    "import random\n",
    "from datetime import date\n",
    "import time\n",
    "import datetime\n",
    "\n",
    "cookie = ''\n",
    "headers = {\n",
    "    'authority': 'auto.ru',\n",
    "    'method': 'GET',\n",
    "    'path': '/cars/used/',\n",
    "    'scheme': 'https',\n",
    "    'accept': 'text/html,application/xhtml+xml,application/xml;q=0.9,image/avif,image/webp,image/apng,*/*;q=0.8,application/signed-exchange;v=b3;q=0.7',\n",
    "    'accept-encoding': 'gzip, deflate, br, zstd',\n",
    "    'accept-language': 'ru-RU,ru;q=0.9,en-US;q=0.8,en;q=0.7',\n",
    "    'cookie': cookie,\n",
    "    'priority': 'u=0, i',\n",
    "    'referer': 'https://auto.ru/cars/new/',\n",
    "    'sec-ch-ua': '\"Google Chrome\";v=\"129\", \"Not=A?Brand\";v=\"8\", \"Chromium\";v=\"129\"',\n",
    "    'sec-ch-ua-mobile': '?0',\n",
    "    'sec-ch-ua-platform':'\"Linux\"',\n",
    "    'sec-fetch-dest': 'document',\n",
    "    'sec-fetch-mode': 'navigate',\n",
    "    'sec-fetch-site': 'same-origin',\n",
    "    'sec-fetch-user': '?1',\n",
    "    'upgrade-insecure-requests': '1',\n",
    "    'user-agent': 'Mozilla/5.0 (X11; Linux x86_64) AppleWebKit/537.36 (KHTML, like Gecko) Chrome/129.0.0.0 Safari/537.36'\n",
    "}"
   ]
  },
  {
   "cell_type": "code",
   "execution_count": 7,
   "metadata": {},
   "outputs": [],
   "source": [
    "def sleep():\n",
    "    random_seconds = [3, 5, 8, 10]\n",
    "    time.sleep(random.choice(random_seconds))"
   ]
  },
  {
   "cell_type": "code",
   "execution_count": 3,
   "metadata": {},
   "outputs": [],
   "source": [
    "def get_complectation(link):\n",
    "    url_compl = link # записали ссылку\n",
    "\n",
    "    # Немного подождали\n",
    "    sleep()\n",
    "    \n",
    "    # загрузили страницу с данными по автомобилю\n",
    "    page_compl = requests.get(link, headers=headers)\n",
    "        \n",
    "    # time.sleep(random.choice(random_seconds))\n",
    "    soup_compl = BeautifulSoup(page_compl.content, 'html.parser')\n",
    "\n",
    "    # Нашли нужный блок\n",
    "    card_info = soup_compl.find('div', {'class': 'ModificationInfo-GiDD1'})\n",
    "\n",
    "    # извлекли сведения о комплектации\n",
    "    for li in card_info.find_all('li'):\n",
    "        if 'Страна марки' in li.find('span').text:\n",
    "            state_mark = li.find_all('span')[1].text.replace('\\xa0',' ')\n",
    "        if 'Класс автомобиля' in li.find('span').text:\n",
    "            class_auto = li.find_all('span')[1].text.replace('\\xa0','')\n",
    "        if 'Количество дверей' in li.find('span').text:\n",
    "            door_count = li.find_all('span')[1].text.replace('\\xa0','')\n",
    "        if 'Количество мест' in li.find('span').text:\n",
    "            seat_count = li.find_all('span')[1].text.replace('\\xa0','')\n",
    "        if 'Длина' in li.find('span').text:\n",
    "            long = li.find_all('span')[1].text.replace('\\xa0',' ')\n",
    "        if 'Ширина' in li.find('span').text and 'Ширина ' not in li.find('span').text:\n",
    "            widht = li.find_all('span')[1].text.replace('\\xa0',' ')\n",
    "        if 'Высота' in li.find('span').text:\n",
    "            height = li.find_all('span')[1].text.replace('\\xa0',' ')\n",
    "        if 'Клиренс' in li.find('span').text:\n",
    "            clearence = li.find_all('span')[1].text.replace('\\xa0',' ')\n",
    "        if 'Объем багажника' in li.find('span').text:\n",
    "            v_bag = li.find_all('span')[1].text.replace('\\xa0',' ')\n",
    "        if 'Объём топливного' in li.find('span').text:\n",
    "            v_tank = li.find_all('span')[1].text.replace('\\xa0',' ')\n",
    "        if 'Снаряженная масса' in li.find('span').text:\n",
    "            curb_weight = li.find_all('span')[1].text.replace('\\xa0',' ')        \n",
    "        if 'Полная масса' in li.find('span').text:\n",
    "            gross_weight = li.find_all('span')[1].text.replace('\\xa0',' ')\n",
    "        if 'Передние тормоза' in li.find('span').text:\n",
    "            front_brakes = li.find_all('span')[1].text.replace('\\xa0',' ')\n",
    "        if 'Задние тормоза' in li.find('span').text:\n",
    "            rear_brakes = li.find_all('span')[1].text.replace('\\xa0',' ')\n",
    "        if 'Максимальная скорость' in li.find('span').text:\n",
    "            max_speed = li.find_all('span')[1].text.replace('\\xa0',' ')\n",
    "        if 'Разгон' in li.find('span').text:\n",
    "            acceleration = li.find_all('span')[1].text.replace('\\xa0',' ')\n",
    "        if 'Расход топлива' in li.find('span').text:\n",
    "            fuel_cons = li.find_all('span')[1].text.replace('\\xa0','')\n",
    "        if 'Марка топлива' in li.find('span').text:\n",
    "            fuel_brand = li.find_all('span')[1].text.replace('\\xa0','')\n",
    "        if 'Расположение двигателя' in li.find('span').text:\n",
    "            engine_loc = li.find_all('span')[1].text.replace('\\xa0','')\n",
    "        if 'Тип наддува' in li.find('span').text:\n",
    "            turbocharg = li.find_all('span')[1].text.replace('\\xa0','')\n",
    "        if 'Максимальный крутящий' in li.find('span').text:\n",
    "            max_torq = li.find_all('span')[1].text.replace('\\xa0','')\n",
    "        if 'Количество цилиндров' in li.find('span').text:\n",
    "            cyl_count = li.find_all('span')[1].text.replace('\\xa0','')\n",
    "        \n",
    "    # Проверили данные, при необходимости присвоили None\n",
    "    try:\n",
    "        state_mark = state_mark.replace('\\xa0','')\n",
    "    except:\n",
    "        state_mark = None\n",
    "    try:\n",
    "        class_auto = class_auto.replace('\\xa0','')\n",
    "    except:\n",
    "        class_auto = None\n",
    "    try:\n",
    "        door_count = door_count.replace('\\xa0','')\n",
    "    except:\n",
    "        door_count = None\n",
    "    try:\n",
    "        seat_count = seat_count.replace('\\xa0','')\n",
    "    except:\n",
    "        seat_count = None   \n",
    "    try:\n",
    "        long = long.split()[0]\n",
    "    except:\n",
    "        long = None   \n",
    "    try:\n",
    "        widht = widht.split()[0]\n",
    "    except:\n",
    "        widht = None \n",
    "    try:\n",
    "        height = height.split()[0]\n",
    "    except:\n",
    "        height = None \n",
    "    try:\n",
    "        clearence = clearence.split()[0]\n",
    "    except:\n",
    "        clearence = None \n",
    "    try:\n",
    "        v_bag = v_bag.split()[0]\n",
    "    except:\n",
    "        v_bag = None\n",
    "    try:\n",
    "        v_tank = v_tank.split()[0]\n",
    "    except:\n",
    "        v_tank = None\n",
    "    try:\n",
    "        curb_weight = curb_weight.split()[0]\n",
    "    except:\n",
    "        curb_weight = None\n",
    "    try:\n",
    "        gross_weight = gross_weight.split()[0]\n",
    "    except:\n",
    "        gross_weight = None\n",
    "    try:\n",
    "        front_brakes = front_brakes.split()[0].replace('\\xa0','')\n",
    "    except:\n",
    "        front_brakes = None\n",
    "    try:\n",
    "        rear_brakes = rear_brakes.split()[0].replace('\\xa0','')\n",
    "    except:\n",
    "        rear_brakes = None\n",
    "    try:\n",
    "        max_speed = max_speed.split()[0]\n",
    "    except:\n",
    "        max_speed = None\n",
    "    try:\n",
    "        acceleration = acceleration.split()[0]\n",
    "    except:\n",
    "        acceleration = None\n",
    "    try:\n",
    "        fuel_cons = fuel_cons.split('/')[1]\n",
    "    except:\n",
    "        fuel_cons = None\n",
    "    try:\n",
    "        fuel_brand = fuel_brand.replace('\\xa0','')\n",
    "    except:\n",
    "        fuel_brand = None\n",
    "    try:\n",
    "        engine_loc1 = engine_loc.split(', ')[0]\n",
    "    except:\n",
    "        engine_loc1 = None\n",
    "    try:\n",
    "        engine_loc2 = engine_loc.split(', ')[1]\n",
    "    except:\n",
    "        engine_loc2 = None\n",
    "    try:\n",
    "        turbocharg = turbocharg.replace('\\xa0','')\n",
    "    except:\n",
    "        turbocharg = None\n",
    "    try:\n",
    "        max_torq = max_torq.split()[0]\n",
    "    except:\n",
    "        max_torq = None\n",
    "    try:\n",
    "        cyl_count = cyl_count.replace('\\xa0','')\n",
    "    except:\n",
    "        cyl_count = None\n",
    "\n",
    "    # записали данные в словарь\n",
    "    row = {\n",
    "        'url_compl': url_compl,\n",
    "        'state_mark': state_mark,\n",
    "        'class_auto': class_auto,\n",
    "        'door_count': door_count,\n",
    "        'seat_count': seat_count,\n",
    "        'long': long,\n",
    "        'widht': widht,\n",
    "        'height': height,\n",
    "        'clearence': clearence,\n",
    "        'v_bag': v_bag,\n",
    "        'v_tank': v_tank,\n",
    "        'curb_weight': curb_weight,\n",
    "        'gross_weight': gross_weight,\n",
    "        'front_brakes': front_brakes,\n",
    "        'rear_brakes': rear_brakes,\n",
    "        'max_speed': max_speed,\n",
    "        'acceleration': acceleration,\n",
    "        'fuel_cons': fuel_cons,\n",
    "        'fuel_brand': fuel_brand,\n",
    "        'engine_loc1': engine_loc1,\n",
    "        'engine_loc2': engine_loc2,\n",
    "        'turbocharg': turbocharg,\n",
    "        'max_torq': max_torq,\n",
    "        'cyl_count': cyl_count\n",
    "        }\n",
    "\n",
    "    # передали словарь\n",
    "    return row"
   ]
  },
  {
   "cell_type": "code",
   "execution_count": 4,
   "metadata": {},
   "outputs": [],
   "source": [
    "def get_car(link):    \n",
    "    url_car = link # записали ссылку\n",
    "\n",
    "    # Немного подождали\n",
    "    sleep()\n",
    "\n",
    "    # загрузили страницу с данными по автомобилю\n",
    "    page_auto = requests.get(link, headers=headers)\n",
    "        \n",
    "    # time.sleep(random.choice(random_seconds))\n",
    "    soup_auto = BeautifulSoup(page_auto.content, 'html.parser')\n",
    "\n",
    "    # извлекли данные из блока CardBreadcrumbs\n",
    "    CardBreadcrums = soup_auto.find('div', {'class': 'CardBreadcrumbs'})\n",
    "    car_make = CardBreadcrums.find_all('a')[2].text\n",
    "    car_model = CardBreadcrums.find_all('a')[3].text\n",
    "    car_gen = CardBreadcrums.find_all('a')[4].text\n",
    "    car_type = CardBreadcrums.find_all('a')[5].text\n",
    "    car_compl = CardBreadcrums.find_all('a')[6].text\n",
    "\n",
    "    # извлекли данные об объявлении\n",
    "    ann_date = soup_auto.find('div', {'class': 'CardHead__infoItem CardHead__creationDate'}).text\n",
    "    ann_id = soup_auto.find('div', {'class': 'CardHead__infoItem CardHead__id'}).text\n",
    "    car_price = soup_auto.find('span', {'class': 'OfferPriceCaption__price'}).text.replace('\\xa0','')\n",
    "    ann_city = soup_auto.find('span', {'class': 'MetroListPlace__regionName MetroListPlace_nbsp'}).text\n",
    "        \n",
    "\n",
    "    card_info = soup_auto.find('div', {'class': 'CardInfo-ateuv'})\n",
    "\n",
    "    # записали ссылку на комплектацию\n",
    "    for a in soup_auto.find_all('a'):\n",
    "        if 'Характеристики модели' in a.text:\n",
    "            link_cpl = a.get('href')\n",
    "        \n",
    "    # извлекли сведения об автомобиле\n",
    "    avail = card_info.find('li', {'class': 'CardInfoRow CardInfoRow_availability'}).find_all('div')[1].text\n",
    "    year = card_info.find('li', {'class': 'CardInfoRow CardInfoRow_year'}).find_all('div')[1].text\n",
    "    mileage = card_info.find('li', {'class': 'CardInfoRow CardInfoRow_kmAge'}).find_all('div')[1].text\n",
    "    color = card_info.find('li', {'class': 'CardInfoRow CardInfoRow_color'}).find_all('div')[1].text\n",
    "    if card_info.find('li', {'class': 'CardInfoRow CardInfoRow_engine'}).find_all('div')[1].text.split(' / ')[2] == 'Электро':\n",
    "        eng_power, eng_power_kw, eng_type = card_info.find('li', {'class': 'CardInfoRow CardInfoRow_engine'}).find_all('div')[1].text.split(' / ')\n",
    "        eng_power_kw = int(eng_power_kw.replace('\\xa0',' ').split()[0])\n",
    "        eng_size = None\n",
    "        pow_resrv = card_info.find('li', {'class': 'CardInfoRow CardInfoRow_electricRange'}).find_all('div')[1].text.split()[0]\n",
    "    else:\n",
    "        eng_size, eng_power, eng_type = card_info.find('li', {'class': 'CardInfoRow CardInfoRow_engine'}).find_all('div')[1].text.split(' / ')\n",
    "        eng_size = float(eng_size.split()[0])\n",
    "        eng_power_kw = None\n",
    "        pow_resrv = None\n",
    "    options = card_info.find('li', {'class': 'CardInfoRow CardInfoRow_complectationOrEquipmentCount'}).find_all('div')[1].text\n",
    "    transmission = card_info.find('li', {'class': 'CardInfoRow CardInfoRow_transmission'}).find_all('div')[1].text\n",
    "    drive = card_info.find('li', {'class': 'CardInfoRow CardInfoRow_drive'}).find_all('div')[1].text\n",
    "    st_wheel= card_info.find('li', {'class': 'CardInfoRow CardInfoRow_wheel'}).find_all('div')[1].text\n",
    "    condition = card_info.find('li', {'class': 'CardInfoRow CardInfoRow_state'}).find_all('div')[1].text\n",
    "    try:\n",
    "        count_owner = card_info.find('li', {'class': 'CardInfoRow CardInfoRow_ownersCount'}).find_all('div')[1].text\n",
    "    except:\n",
    "        count_owner = None\n",
    "    try:\n",
    "        original_pts = card_info.find('li', {'class': 'CardInfoRow CardInfoRow_pts'}).find_all('div')[1].text\n",
    "    except:\n",
    "        original_pts = None\n",
    "    try:\n",
    "        customs = card_info.find('li', {'class': 'CardInfoRow CardInfoRow_customs'}).find_all('div')[1].text\n",
    "    except:\n",
    "        customs = None\n",
    "\n",
    "    # подготовили словарь для месяцев\n",
    "    dict_month = {\n",
    "        'января': 1,\n",
    "        'февраля': 2,\n",
    "        'марта': 3,\n",
    "        'апреля': 4,\n",
    "        'мая': 5,\n",
    "        'июня': 6,\n",
    "        'июля': 7,\n",
    "        'августа': 8,\n",
    "        'сентября': 9,\n",
    "        'октября': 10,\n",
    "        'ноября': 11,\n",
    "        'декабря':12\n",
    "    }\n",
    "\n",
    "    # записали данные в словарь\n",
    "    row = {\n",
    "        'url_car': url_car,\n",
    "        'car_make': car_make,\n",
    "        'car_model': car_model,\n",
    "        'car_gen': car_gen,\n",
    "        'car_type': car_type,\n",
    "        'car_compl': car_compl,\n",
    "        'ann_date': str(date(2024, dict_month[ann_date.split()[1]], int(ann_date.split()[0]))),\n",
    "        'ann_id': ann_id[2:],\n",
    "        'car_price': int(car_price[:-1]),\n",
    "        'ann_city': ann_city,\n",
    "        'link_cpl': link_cpl,\n",
    "        'avail': avail.replace('\\xa0',' '),\n",
    "        'year': int(year),\n",
    "        'mileage': int(mileage.replace('\\xa0','')[:-3]),\n",
    "        'color': color,\n",
    "        'eng_size': eng_size,\n",
    "        'eng_power': int(eng_power.replace('\\xa0',' ').split()[0]),\n",
    "        'eng_power_kw': eng_power_kw,\n",
    "        'eng_type': eng_type,\n",
    "        'pow_resrv': pow_resrv,\n",
    "        'options': options.replace('\\xa0',' '),\n",
    "        'transmission': transmission,\n",
    "        'drive': drive,\n",
    "        'st_wheel': st_wheel,\n",
    "        'condition': condition,\n",
    "        'count_owner': count_owner.replace('\\xa0',' '),\n",
    "        'original_pts': original_pts,\n",
    "        'customs': customs\n",
    "        }\n",
    "    \n",
    "    if row['link_cpl'] in list(map(lambda x: x['url_compl'], complectations)):\n",
    "\n",
    "        # добавили сведения из ранее загруженной комплектации\n",
    "        for record in complectations:\n",
    "            if row['link_cpl'] == record['url_compl']:\n",
    "                row = {**row, **record}\n",
    "    else:\n",
    "        # Немного подождали\n",
    "        sleep()\n",
    "\n",
    "        # добавили сведения из комплектации\n",
    "        record = get_complectation(row['link_cpl'])\n",
    "        complectations.append(record)\n",
    "        with open('data_comp.txt', 'a') as data_comp:\n",
    "            print(record, file=data_comp)\n",
    "        row = {**row, **record}\n",
    "    \n",
    "    # передаем словарь\n",
    "    return row"
   ]
  },
  {
   "cell_type": "code",
   "execution_count": 5,
   "metadata": {},
   "outputs": [],
   "source": [
    "def get_page_makes(a, b):\n",
    "\n",
    "    # изготовили ссылку на страницу списка с объявлениями\n",
    "    url = 'https://auto.ru/catalog/cars/'\n",
    "\n",
    "    # немного подождали\n",
    "    sleep()\n",
    "\n",
    "    # сходили по ней\n",
    "    page_list = requests.get(url, headers=headers)\n",
    "\n",
    "    # построили дерево\n",
    "    soup = BeautifulSoup(page_list.content, 'html.parser')\n",
    "\n",
    "    # ищем тут CatalogFilterSearchList__hidden-stSPU\n",
    "    card_info = soup.find('div', {'class': 'CatalogFilterSearchList__hidden-stSPU'})\n",
    "\n",
    "    # нашли в нём марки авто, записали в список\n",
    "    name_makes = []\n",
    "    for link in card_info.find_all('a'):\n",
    "        if link.get('href'):\n",
    "            name_makes.append(link.get('href').split('/')[-2])\n",
    "    \n",
    "    # убрали дубли\n",
    "    name_makes = list(set(name_makes))\n",
    "    \n",
    "    # отсортировали по афавиту\n",
    "    name_makes.sort()\n",
    "\n",
    "    # оставили марки из диапазона\n",
    "    name_makes = list(filter(lambda x: (ord(x[0]) >= ord(a) and ord(x[0]) <= ord(b)) , name_makes))\n",
    "    \n",
    "    return name_makes"
   ]
  },
  {
   "cell_type": "code",
   "execution_count": 6,
   "metadata": {},
   "outputs": [],
   "source": [
    "def get_page(make, p):\n",
    "    # изготовили ссылку на страницу списка с объявлениями\n",
    "    url_base = f'https://auto.ru/cars/{make}/used/'\n",
    "    if p ==1:\n",
    "        url = f'{url_base}'\n",
    "    else:\n",
    "        url = f'{url_base}?page={p}'\n",
    "\n",
    "    # немного подождали\n",
    "    sleep()\n",
    "\n",
    "    # сходили по ней\n",
    "    page_list = requests.get(url, headers=headers)\n",
    "\n",
    "    # построили дерево\n",
    "    soup = BeautifulSoup(page_list.content, 'html.parser')\n",
    "\n",
    "    # нашли в нём ссылки на авто, записали в список\n",
    "    urls = []\n",
    "    for link in soup.find_all('a'):\n",
    "        if link.get('href') != None and 'cars/used/sale' in link.get('href')  and link.get('href') not in urls:\n",
    "            urls.append(link.get('href'))\n",
    "\n",
    "    # прошли по ссылкам записали данные в список словарей\n",
    "    info = []\n",
    "    mistakes = []\n",
    "    for link in tqdm(urls):\n",
    "        # немного подождали\n",
    "        sleep()\n",
    "        try:\n",
    "            info.append(get_car(link))\n",
    "        except:\n",
    "            print(f'Ошибка при загрузке страницы: {link}')\n",
    "            mistakes.append(link)\n",
    "\n",
    "    return info"
   ]
  },
  {
   "cell_type": "code",
   "execution_count": 14,
   "metadata": {},
   "outputs": [],
   "source": [
    "def get_page_models(name_make):\n",
    "\n",
    "    # изготовили ссылку на страницу списка с объявлениями\n",
    "    url = f'https://auto.ru/cars/{name_make}/used/'\n",
    "    \n",
    "    # немного подождали\n",
    "    sleep()\n",
    "    \n",
    "    # сходили по ней\n",
    "    page_list = requests.get(url, headers=headers)\n",
    "\n",
    "    # построили дерево\n",
    "    soup = BeautifulSoup(page_list.content, 'html.parser')\n",
    "\n",
    "    # Ищем тут CatalogModelMosaic__mosaic-VDF2l\n",
    "    model_info = soup.find('div', {'class': 'ButtonWithLoader__inner'})\n",
    "\n",
    "    # нашли в нём ссылки на авто, записали в список\n",
    "    summ = int(''.join(model_info.text.replace('\\xa0',' ').split()[1:-1]))\n",
    "        \n",
    "    return summ"
   ]
  },
  {
   "cell_type": "code",
   "execution_count": 8,
   "metadata": {},
   "outputs": [],
   "source": [
    "def open_complectation(file_name):\n",
    "    complectations = []\n",
    "    with open(file_name) as data:\n",
    "        for record in data:\n",
    "            res = {}\n",
    "            for paars in record[1:-2].split(\", '\"):\n",
    "                key, value = paars.split(\"':\")\n",
    "                value = value.replace(\"'\",\"\").strip()\n",
    "                if value == 'None':\n",
    "                    value = None\n",
    "                res[key.replace(\"'\",\"\").strip()] = value\n",
    "                complectations.append(res)\n",
    "    data.close()\n",
    "    return complectations"
   ]
  },
  {
   "cell_type": "code",
   "execution_count": 9,
   "metadata": {},
   "outputs": [
    {
     "data": {
      "application/vnd.jupyter.widget-view+json": {
       "model_id": "b86be5fed8c4433db3c0d5719dcfc1d2",
       "version_major": 2,
       "version_minor": 0
      },
      "text/plain": [
       "  0%|          | 0/30 [00:00<?, ?it/s]"
      ]
     },
     "metadata": {},
     "output_type": "display_data"
    },
    {
     "data": {
      "application/vnd.jupyter.widget-view+json": {
       "model_id": "916916c9d9444c1dae56eaf8cec6b574",
       "version_major": 2,
       "version_minor": 0
      },
      "text/plain": [
       "  0%|          | 0/1 [00:00<?, ?it/s]"
      ]
     },
     "metadata": {},
     "output_type": "display_data"
    },
    {
     "data": {
      "application/vnd.jupyter.widget-view+json": {
       "model_id": "36be084e21f5420b9987a5b260834c9b",
       "version_major": 2,
       "version_minor": 0
      },
      "text/plain": [
       "  0%|          | 0/4 [00:00<?, ?it/s]"
      ]
     },
     "metadata": {},
     "output_type": "display_data"
    },
    {
     "data": {
      "application/vnd.jupyter.widget-view+json": {
       "model_id": "3eb9e7a99abb44099e665c02f9d52aba",
       "version_major": 2,
       "version_minor": 0
      },
      "text/plain": [
       "  0%|          | 0/1 [00:00<?, ?it/s]"
      ]
     },
     "metadata": {},
     "output_type": "display_data"
    },
    {
     "data": {
      "application/vnd.jupyter.widget-view+json": {
       "model_id": "c4b5cd8e81784732bfb8483962cf2eb6",
       "version_major": 2,
       "version_minor": 0
      },
      "text/plain": [
       "  0%|          | 0/2 [00:00<?, ?it/s]"
      ]
     },
     "metadata": {},
     "output_type": "display_data"
    },
    {
     "data": {
      "application/vnd.jupyter.widget-view+json": {
       "model_id": "6ac773355ac44b70be4039c973a68f37",
       "version_major": 2,
       "version_minor": 0
      },
      "text/plain": [
       "  0%|          | 0/1 [00:00<?, ?it/s]"
      ]
     },
     "metadata": {},
     "output_type": "display_data"
    },
    {
     "data": {
      "application/vnd.jupyter.widget-view+json": {
       "model_id": "bd6b85938ddf4af683cabee07ae350f5",
       "version_major": 2,
       "version_minor": 0
      },
      "text/plain": [
       "0it [00:00, ?it/s]"
      ]
     },
     "metadata": {},
     "output_type": "display_data"
    },
    {
     "data": {
      "application/vnd.jupyter.widget-view+json": {
       "model_id": "0a594053adce4848be78083ca2cf33f8",
       "version_major": 2,
       "version_minor": 0
      },
      "text/plain": [
       "  0%|          | 0/1 [00:00<?, ?it/s]"
      ]
     },
     "metadata": {},
     "output_type": "display_data"
    },
    {
     "data": {
      "application/vnd.jupyter.widget-view+json": {
       "model_id": "3153e8db02fc48c5b1c3ab572d713438",
       "version_major": 2,
       "version_minor": 0
      },
      "text/plain": [
       "0it [00:00, ?it/s]"
      ]
     },
     "metadata": {},
     "output_type": "display_data"
    },
    {
     "data": {
      "application/vnd.jupyter.widget-view+json": {
       "model_id": "40d70eea8103496b9a0f11f361e4684d",
       "version_major": 2,
       "version_minor": 0
      },
      "text/plain": [
       "  0%|          | 0/1 [00:00<?, ?it/s]"
      ]
     },
     "metadata": {},
     "output_type": "display_data"
    },
    {
     "data": {
      "application/vnd.jupyter.widget-view+json": {
       "model_id": "8d4bddcfd5b546f7843f0014bd19c469",
       "version_major": 2,
       "version_minor": 0
      },
      "text/plain": [
       "0it [00:00, ?it/s]"
      ]
     },
     "metadata": {},
     "output_type": "display_data"
    },
    {
     "data": {
      "application/vnd.jupyter.widget-view+json": {
       "model_id": "121997a82859436cb7f14bd57310cfb8",
       "version_major": 2,
       "version_minor": 0
      },
      "text/plain": [
       "  0%|          | 0/6 [00:00<?, ?it/s]"
      ]
     },
     "metadata": {},
     "output_type": "display_data"
    },
    {
     "data": {
      "application/vnd.jupyter.widget-view+json": {
       "model_id": "ee839e7b127640dc924c51add3d0386a",
       "version_major": 2,
       "version_minor": 0
      },
      "text/plain": [
       "  0%|          | 0/38 [00:00<?, ?it/s]"
      ]
     },
     "metadata": {},
     "output_type": "display_data"
    },
    {
     "name": "stdout",
     "output_type": "stream",
     "text": [
      "Ошибка при загрузке страницы: https://auto.ru/cars/used/sale/avatr/12/1123778376-324b096f/\n"
     ]
    },
    {
     "data": {
      "application/vnd.jupyter.widget-view+json": {
       "model_id": "d349299ef0a140d0a0fbd186419db946",
       "version_major": 2,
       "version_minor": 0
      },
      "text/plain": [
       "  0%|          | 0/37 [00:00<?, ?it/s]"
      ]
     },
     "metadata": {},
     "output_type": "display_data"
    },
    {
     "data": {
      "application/vnd.jupyter.widget-view+json": {
       "model_id": "8510b14b7ed443e195ae7ea46c7aa331",
       "version_major": 2,
       "version_minor": 0
      },
      "text/plain": [
       "  0%|          | 0/37 [00:00<?, ?it/s]"
      ]
     },
     "metadata": {},
     "output_type": "display_data"
    },
    {
     "data": {
      "application/vnd.jupyter.widget-view+json": {
       "model_id": "0fc5a85eb2d145699e1adae938be9f3c",
       "version_major": 2,
       "version_minor": 0
      },
      "text/plain": [
       "  0%|          | 0/6 [00:00<?, ?it/s]"
      ]
     },
     "metadata": {},
     "output_type": "display_data"
    },
    {
     "name": "stdout",
     "output_type": "stream",
     "text": [
      "Ошибка при загрузке страницы: https://auto.ru/cars/used/sale/avatr/11/1125537941-669aaa1b/\n",
      "Ошибка при загрузке страницы: https://auto.ru/cars/used/sale/avatr/07/1125244701-b941bdd2/\n",
      "Ошибка при загрузке страницы: https://auto.ru/cars/used/sale/avatr/07/1125403916-412a1fd3/\n",
      "Ошибка при загрузке страницы: https://auto.ru/cars/used/sale/avatr/12/1123834820-783800ff/\n",
      "Ошибка при загрузке страницы: https://auto.ru/cars/used/sale/avatr/11/1123834816-da5be9d7/\n",
      "Ошибка при загрузке страницы: https://auto.ru/cars/used/sale/avatr/11/1120647110-6e27ff59/\n"
     ]
    },
    {
     "data": {
      "application/vnd.jupyter.widget-view+json": {
       "model_id": "d4554cc230dd4eb7aa8027139b692627",
       "version_major": 2,
       "version_minor": 0
      },
      "text/plain": [
       "  0%|          | 0/8 [00:00<?, ?it/s]"
      ]
     },
     "metadata": {},
     "output_type": "display_data"
    },
    {
     "data": {
      "application/vnd.jupyter.widget-view+json": {
       "model_id": "2cc2779a498448979903688e972407fe",
       "version_major": 2,
       "version_minor": 0
      },
      "text/plain": [
       "  0%|          | 0/8 [00:00<?, ?it/s]"
      ]
     },
     "metadata": {},
     "output_type": "display_data"
    },
    {
     "data": {
      "application/vnd.jupyter.widget-view+json": {
       "model_id": "63f566907a7d4f90967650f5a1bbb25c",
       "version_major": 2,
       "version_minor": 0
      },
      "text/plain": [
       "  0%|          | 0/1 [00:00<?, ?it/s]"
      ]
     },
     "metadata": {},
     "output_type": "display_data"
    },
    {
     "data": {
      "application/vnd.jupyter.widget-view+json": {
       "model_id": "87150e3437ff4532ba3ca34775d5b28a",
       "version_major": 2,
       "version_minor": 0
      },
      "text/plain": [
       "0it [00:00, ?it/s]"
      ]
     },
     "metadata": {},
     "output_type": "display_data"
    },
    {
     "data": {
      "application/vnd.jupyter.widget-view+json": {
       "model_id": "ebca57333f124825a2645ab626c88279",
       "version_major": 2,
       "version_minor": 0
      },
      "text/plain": [
       "  0%|          | 0/21 [00:00<?, ?it/s]"
      ]
     },
     "metadata": {},
     "output_type": "display_data"
    },
    {
     "data": {
      "application/vnd.jupyter.widget-view+json": {
       "model_id": "df41ec200a964fd78c19f38d1a9c9413",
       "version_major": 2,
       "version_minor": 0
      },
      "text/plain": [
       "  0%|          | 0/38 [00:00<?, ?it/s]"
      ]
     },
     "metadata": {},
     "output_type": "display_data"
    },
    {
     "name": "stdout",
     "output_type": "stream",
     "text": [
      "Ошибка при загрузке страницы: https://auto.ru/cars/used/sale/baic/x75/1124414829-e69e9fe7/\n"
     ]
    },
    {
     "data": {
      "application/vnd.jupyter.widget-view+json": {
       "model_id": "a8f6b9397b184a768fc0e56f20de6e17",
       "version_major": 2,
       "version_minor": 0
      },
      "text/plain": [
       "  0%|          | 0/38 [00:00<?, ?it/s]"
      ]
     },
     "metadata": {},
     "output_type": "display_data"
    },
    {
     "name": "stdout",
     "output_type": "stream",
     "text": [
      "Ошибка при загрузке страницы: https://auto.ru/cars/used/sale/baic/u5_plus/1124916600-cab79ac8/\n"
     ]
    },
    {
     "data": {
      "application/vnd.jupyter.widget-view+json": {
       "model_id": "b959d7e4f3cc45e5b3c612e32921888f",
       "version_major": 2,
       "version_minor": 0
      },
      "text/plain": [
       "  0%|          | 0/37 [00:00<?, ?it/s]"
      ]
     },
     "metadata": {},
     "output_type": "display_data"
    },
    {
     "data": {
      "application/vnd.jupyter.widget-view+json": {
       "model_id": "5ee7ee4c08704fa8ab7a0cd7d092ca3c",
       "version_major": 2,
       "version_minor": 0
      },
      "text/plain": [
       "  0%|          | 0/38 [00:00<?, ?it/s]"
      ]
     },
     "metadata": {},
     "output_type": "display_data"
    },
    {
     "name": "stdout",
     "output_type": "stream",
     "text": [
      "Ошибка при загрузке страницы: https://auto.ru/cars/used/sale/baic/bj80/1125666717-a6a5098e/\n"
     ]
    },
    {
     "data": {
      "application/vnd.jupyter.widget-view+json": {
       "model_id": "2666fa9b827446a18b6410efb08bdc97",
       "version_major": 2,
       "version_minor": 0
      },
      "text/plain": [
       "  0%|          | 0/37 [00:00<?, ?it/s]"
      ]
     },
     "metadata": {},
     "output_type": "display_data"
    },
    {
     "data": {
      "application/vnd.jupyter.widget-view+json": {
       "model_id": "5aac236cc5504156b3379eb54ff85e94",
       "version_major": 2,
       "version_minor": 0
      },
      "text/plain": [
       "  0%|          | 0/38 [00:00<?, ?it/s]"
      ]
     },
     "metadata": {},
     "output_type": "display_data"
    },
    {
     "name": "stdout",
     "output_type": "stream",
     "text": [
      "Ошибка при загрузке страницы: https://auto.ru/cars/used/sale/baic/u5_plus/1124171528-0ad28d9c/\n"
     ]
    },
    {
     "data": {
      "application/vnd.jupyter.widget-view+json": {
       "model_id": "8b6e33399e034bfb87d3e27f72d1590d",
       "version_major": 2,
       "version_minor": 0
      },
      "text/plain": [
       "  0%|          | 0/12 [00:00<?, ?it/s]"
      ]
     },
     "metadata": {},
     "output_type": "display_data"
    },
    {
     "name": "stdout",
     "output_type": "stream",
     "text": [
      "Ошибка при загрузке страницы: https://auto.ru/cars/used/sale/baic/x7/1125753869-baf63e97/\n",
      "Ошибка при загрузке страницы: https://auto.ru/cars/used/sale/baic/bj40/1125683035-2696e6e5/\n",
      "Ошибка при загрузке страницы: https://auto.ru/cars/used/sale/baic/bj40/1125284633-895ec163/\n",
      "Ошибка при загрузке страницы: https://auto.ru/cars/used/sale/baic/bj40/1124529835-9e5be819/\n",
      "Ошибка при загрузке страницы: https://auto.ru/cars/used/sale/baic/bj60/1125553233-0640bd28/\n",
      "Ошибка при загрузке страницы: https://auto.ru/cars/used/sale/baic/bj40/1122038937-d19dbabe/\n",
      "Ошибка при загрузке страницы: https://auto.ru/cars/used/sale/baic/bj40/1124884283-fb49a05a/\n",
      "Ошибка при загрузке страницы: https://auto.ru/cars/used/sale/baic/bj40/1125332740-7c79f833/\n",
      "Ошибка при загрузке страницы: https://auto.ru/cars/used/sale/baic/x7/1123834830-b0490244/\n",
      "Ошибка при загрузке страницы: https://auto.ru/cars/used/sale/baic/bj40/1123834825-b94f1158/\n"
     ]
    },
    {
     "data": {
      "application/vnd.jupyter.widget-view+json": {
       "model_id": "377b56637505446ba1685d1bb67367cb",
       "version_major": 2,
       "version_minor": 0
      },
      "text/plain": [
       "  0%|          | 0/8 [00:00<?, ?it/s]"
      ]
     },
     "metadata": {},
     "output_type": "display_data"
    },
    {
     "data": {
      "application/vnd.jupyter.widget-view+json": {
       "model_id": "383431c451bc4806ba605caa9d593c63",
       "version_major": 2,
       "version_minor": 0
      },
      "text/plain": [
       "  0%|          | 0/8 [00:00<?, ?it/s]"
      ]
     },
     "metadata": {},
     "output_type": "display_data"
    },
    {
     "data": {
      "application/vnd.jupyter.widget-view+json": {
       "model_id": "3d91f630bc184646a0e5a2b383535789",
       "version_major": 2,
       "version_minor": 0
      },
      "text/plain": [
       "0it [00:00, ?it/s]"
      ]
     },
     "metadata": {},
     "output_type": "display_data"
    },
    {
     "data": {
      "application/vnd.jupyter.widget-view+json": {
       "model_id": "2f3e813c3a89478a9a09bbfd1ef20393",
       "version_major": 2,
       "version_minor": 0
      },
      "text/plain": [
       "0it [00:00, ?it/s]"
      ]
     },
     "metadata": {},
     "output_type": "display_data"
    },
    {
     "data": {
      "application/vnd.jupyter.widget-view+json": {
       "model_id": "1e35cccdfdda47c6aa7cd777ef04d505",
       "version_major": 2,
       "version_minor": 0
      },
      "text/plain": [
       "0it [00:00, ?it/s]"
      ]
     },
     "metadata": {},
     "output_type": "display_data"
    },
    {
     "data": {
      "application/vnd.jupyter.widget-view+json": {
       "model_id": "7ec0da0887ce4d3d8709c87b1efd32a6",
       "version_major": 2,
       "version_minor": 0
      },
      "text/plain": [
       "0it [00:00, ?it/s]"
      ]
     },
     "metadata": {},
     "output_type": "display_data"
    },
    {
     "data": {
      "application/vnd.jupyter.widget-view+json": {
       "model_id": "7478b78733704018ab896bab80c97cea",
       "version_major": 2,
       "version_minor": 0
      },
      "text/plain": [
       "0it [00:00, ?it/s]"
      ]
     },
     "metadata": {},
     "output_type": "display_data"
    },
    {
     "data": {
      "application/vnd.jupyter.widget-view+json": {
       "model_id": "43e1d4eddde149e099f1f745b757ee32",
       "version_major": 2,
       "version_minor": 0
      },
      "text/plain": [
       "0it [00:00, ?it/s]"
      ]
     },
     "metadata": {},
     "output_type": "display_data"
    },
    {
     "data": {
      "application/vnd.jupyter.widget-view+json": {
       "model_id": "c01e38d1c4c44675913793220642a378",
       "version_major": 2,
       "version_minor": 0
      },
      "text/plain": [
       "0it [00:00, ?it/s]"
      ]
     },
     "metadata": {},
     "output_type": "display_data"
    },
    {
     "data": {
      "application/vnd.jupyter.widget-view+json": {
       "model_id": "cf67fbdf141446aaa132d7c4691fcf31",
       "version_major": 2,
       "version_minor": 0
      },
      "text/plain": [
       "0it [00:00, ?it/s]"
      ]
     },
     "metadata": {},
     "output_type": "display_data"
    },
    {
     "data": {
      "application/vnd.jupyter.widget-view+json": {
       "model_id": "38111d8f994f494583f1cb0217e8702a",
       "version_major": 2,
       "version_minor": 0
      },
      "text/plain": [
       "0it [00:00, ?it/s]"
      ]
     },
     "metadata": {},
     "output_type": "display_data"
    },
    {
     "data": {
      "application/vnd.jupyter.widget-view+json": {
       "model_id": "9d0214d84870496db523ac46cdfd56c7",
       "version_major": 2,
       "version_minor": 0
      },
      "text/plain": [
       "0it [00:00, ?it/s]"
      ]
     },
     "metadata": {},
     "output_type": "display_data"
    },
    {
     "data": {
      "application/vnd.jupyter.widget-view+json": {
       "model_id": "58e16d8e5d15462990a59253374afb8c",
       "version_major": 2,
       "version_minor": 0
      },
      "text/plain": [
       "  0%|          | 0/8 [00:00<?, ?it/s]"
      ]
     },
     "metadata": {},
     "output_type": "display_data"
    },
    {
     "data": {
      "application/vnd.jupyter.widget-view+json": {
       "model_id": "347a9996134d4859b03d5290e2c1be7f",
       "version_major": 2,
       "version_minor": 0
      },
      "text/plain": [
       "  0%|          | 0/8 [00:00<?, ?it/s]"
      ]
     },
     "metadata": {},
     "output_type": "display_data"
    },
    {
     "data": {
      "application/vnd.jupyter.widget-view+json": {
       "model_id": "0f701853e36c4a5bb7fafcfc8b852000",
       "version_major": 2,
       "version_minor": 0
      },
      "text/plain": [
       "  0%|          | 0/1 [00:00<?, ?it/s]"
      ]
     },
     "metadata": {},
     "output_type": "display_data"
    },
    {
     "data": {
      "application/vnd.jupyter.widget-view+json": {
       "model_id": "245e06227b7f4905b2790a8e6c946ece",
       "version_major": 2,
       "version_minor": 0
      },
      "text/plain": [
       "  0%|          | 0/2 [00:00<?, ?it/s]"
      ]
     },
     "metadata": {},
     "output_type": "display_data"
    },
    {
     "data": {
      "application/vnd.jupyter.widget-view+json": {
       "model_id": "3868e6fb086240cb872e4bd689725c03",
       "version_major": 2,
       "version_minor": 0
      },
      "text/plain": [
       "  0%|          | 0/1 [00:00<?, ?it/s]"
      ]
     },
     "metadata": {},
     "output_type": "display_data"
    },
    {
     "data": {
      "application/vnd.jupyter.widget-view+json": {
       "model_id": "387c596929164b208c88f716e6e5a7b4",
       "version_major": 2,
       "version_minor": 0
      },
      "text/plain": [
       "  0%|          | 0/2 [00:00<?, ?it/s]"
      ]
     },
     "metadata": {},
     "output_type": "display_data"
    },
    {
     "data": {
      "application/vnd.jupyter.widget-view+json": {
       "model_id": "b1a03ca69054491b9881a46768a9c137",
       "version_major": 2,
       "version_minor": 0
      },
      "text/plain": [
       "  0%|          | 0/1 [00:00<?, ?it/s]"
      ]
     },
     "metadata": {},
     "output_type": "display_data"
    },
    {
     "data": {
      "application/vnd.jupyter.widget-view+json": {
       "model_id": "e1b3d94e66734d86a422cecea927ea9d",
       "version_major": 2,
       "version_minor": 0
      },
      "text/plain": [
       "  0%|          | 0/18 [00:00<?, ?it/s]"
      ]
     },
     "metadata": {},
     "output_type": "display_data"
    },
    {
     "name": "stdout",
     "output_type": "stream",
     "text": [
      "Ошибка при загрузке страницы: https://auto.ru/cars/used/sale/baojun/rs_3/1125361541-ae7d0c33/\n"
     ]
    },
    {
     "data": {
      "application/vnd.jupyter.widget-view+json": {
       "model_id": "9a1fef5e4b554336a2ae21adff32a8bf",
       "version_major": 2,
       "version_minor": 0
      },
      "text/plain": [
       "  0%|          | 0/1 [00:00<?, ?it/s]"
      ]
     },
     "metadata": {},
     "output_type": "display_data"
    },
    {
     "data": {
      "application/vnd.jupyter.widget-view+json": {
       "model_id": "d616fa06648e4b739bbd1fe5de1f2f57",
       "version_major": 2,
       "version_minor": 0
      },
      "text/plain": [
       "0it [00:00, ?it/s]"
      ]
     },
     "metadata": {},
     "output_type": "display_data"
    },
    {
     "data": {
      "application/vnd.jupyter.widget-view+json": {
       "model_id": "e529563d29444fb6a369d446afdfc990",
       "version_major": 2,
       "version_minor": 0
      },
      "text/plain": [
       "  0%|          | 0/1 [00:00<?, ?it/s]"
      ]
     },
     "metadata": {},
     "output_type": "display_data"
    },
    {
     "data": {
      "application/vnd.jupyter.widget-view+json": {
       "model_id": "a181cb60a4eb4e2ab85803ebf895e4ce",
       "version_major": 2,
       "version_minor": 0
      },
      "text/plain": [
       "  0%|          | 0/16 [00:00<?, ?it/s]"
      ]
     },
     "metadata": {},
     "output_type": "display_data"
    },
    {
     "name": "stdout",
     "output_type": "stream",
     "text": [
      "Ошибка при загрузке страницы: https://auto.ru/cars/used/sale/baw/212/1124444709-b83c252d/\n",
      "Ошибка при загрузке страницы: https://auto.ru/cars/used/sale/baw/212/1125652804-c3404388/\n",
      "Ошибка при загрузке страницы: https://auto.ru/cars/used/sale/baw/212/1125672852-073e1b6a/\n",
      "Ошибка при загрузке страницы: https://auto.ru/cars/used/sale/baw/212/1124444708-ddb34b6d/\n",
      "Ошибка при загрузке страницы: https://auto.ru/cars/used/sale/baw/ace_m7/1125598076-890b5541/\n"
     ]
    },
    {
     "data": {
      "application/vnd.jupyter.widget-view+json": {
       "model_id": "18e7fccc654c490f8f47784a15462429",
       "version_major": 2,
       "version_minor": 0
      },
      "text/plain": [
       "  0%|          | 0/99 [00:00<?, ?it/s]"
      ]
     },
     "metadata": {},
     "output_type": "display_data"
    },
    {
     "data": {
      "application/vnd.jupyter.widget-view+json": {
       "model_id": "ba7f8ea24b6544afa554cba72e297131",
       "version_major": 2,
       "version_minor": 0
      },
      "text/plain": [
       "  0%|          | 0/37 [00:00<?, ?it/s]"
      ]
     },
     "metadata": {},
     "output_type": "display_data"
    },
    {
     "data": {
      "application/vnd.jupyter.widget-view+json": {
       "model_id": "839cab965fd94e05bc910ccb4ffb0083",
       "version_major": 2,
       "version_minor": 0
      },
      "text/plain": [
       "  0%|          | 0/20 [00:00<?, ?it/s]"
      ]
     },
     "metadata": {},
     "output_type": "display_data"
    },
    {
     "name": "stdout",
     "output_type": "stream",
     "text": [
      "Ошибка при загрузке страницы: https://auto.ru/cars/used/sale/belgee/x50/1124590962-95ef8098/\n"
     ]
    },
    {
     "data": {
      "application/vnd.jupyter.widget-view+json": {
       "model_id": "20c5abeb6e9c457fa28de4ed86921499",
       "version_major": 2,
       "version_minor": 0
      },
      "text/plain": [
       "  0%|          | 0/8 [00:00<?, ?it/s]"
      ]
     },
     "metadata": {},
     "output_type": "display_data"
    },
    {
     "data": {
      "application/vnd.jupyter.widget-view+json": {
       "model_id": "27fb4d2291714b2ba9335406a9bcfe79",
       "version_major": 2,
       "version_minor": 0
      },
      "text/plain": [
       "  0%|          | 0/8 [00:00<?, ?it/s]"
      ]
     },
     "metadata": {},
     "output_type": "display_data"
    },
    {
     "data": {
      "application/vnd.jupyter.widget-view+json": {
       "model_id": "4be3a542b94843199d3523197e2e91f5",
       "version_major": 2,
       "version_minor": 0
      },
      "text/plain": [
       "  0%|          | 0/8 [00:00<?, ?it/s]"
      ]
     },
     "metadata": {},
     "output_type": "display_data"
    },
    {
     "data": {
      "application/vnd.jupyter.widget-view+json": {
       "model_id": "efb846efca2540e2a43d3c29ae502a03",
       "version_major": 2,
       "version_minor": 0
      },
      "text/plain": [
       "  0%|          | 0/8 [00:00<?, ?it/s]"
      ]
     },
     "metadata": {},
     "output_type": "display_data"
    },
    {
     "data": {
      "application/vnd.jupyter.widget-view+json": {
       "model_id": "df2ebf457d36404b977df050d62e1128",
       "version_major": 2,
       "version_minor": 0
      },
      "text/plain": [
       "  0%|          | 0/8 [00:00<?, ?it/s]"
      ]
     },
     "metadata": {},
     "output_type": "display_data"
    },
    {
     "data": {
      "application/vnd.jupyter.widget-view+json": {
       "model_id": "b972debccf3545968904c16476417c72",
       "version_major": 2,
       "version_minor": 0
      },
      "text/plain": [
       "  0%|          | 0/8 [00:00<?, ?it/s]"
      ]
     },
     "metadata": {},
     "output_type": "display_data"
    },
    {
     "data": {
      "application/vnd.jupyter.widget-view+json": {
       "model_id": "7c565a5b37894597a0b8d6f720deb1d3",
       "version_major": 2,
       "version_minor": 0
      },
      "text/plain": [
       "  0%|          | 0/8 [00:00<?, ?it/s]"
      ]
     },
     "metadata": {},
     "output_type": "display_data"
    },
    {
     "data": {
      "application/vnd.jupyter.widget-view+json": {
       "model_id": "01073d1e0bda408fac8a0967dfd127fa",
       "version_major": 2,
       "version_minor": 0
      },
      "text/plain": [
       "0it [00:00, ?it/s]"
      ]
     },
     "metadata": {},
     "output_type": "display_data"
    },
    {
     "data": {
      "application/vnd.jupyter.widget-view+json": {
       "model_id": "e91098ccb7654b37adbdf3d91d577619",
       "version_major": 2,
       "version_minor": 0
      },
      "text/plain": [
       "0it [00:00, ?it/s]"
      ]
     },
     "metadata": {},
     "output_type": "display_data"
    },
    {
     "data": {
      "application/vnd.jupyter.widget-view+json": {
       "model_id": "b633fbdc02be41bca9b935d6e09b6a85",
       "version_major": 2,
       "version_minor": 0
      },
      "text/plain": [
       "0it [00:00, ?it/s]"
      ]
     },
     "metadata": {},
     "output_type": "display_data"
    },
    {
     "data": {
      "application/vnd.jupyter.widget-view+json": {
       "model_id": "9cf785fb3a794d02a080e7f20d16a0d5",
       "version_major": 2,
       "version_minor": 0
      },
      "text/plain": [
       "0it [00:00, ?it/s]"
      ]
     },
     "metadata": {},
     "output_type": "display_data"
    },
    {
     "data": {
      "application/vnd.jupyter.widget-view+json": {
       "model_id": "fc8bd985d41b4d1eb7dde8754b5f7cda",
       "version_major": 2,
       "version_minor": 0
      },
      "text/plain": [
       "0it [00:00, ?it/s]"
      ]
     },
     "metadata": {},
     "output_type": "display_data"
    },
    {
     "data": {
      "application/vnd.jupyter.widget-view+json": {
       "model_id": "27b73f2e042a49729578188094eb8d06",
       "version_major": 2,
       "version_minor": 0
      },
      "text/plain": [
       "0it [00:00, ?it/s]"
      ]
     },
     "metadata": {},
     "output_type": "display_data"
    },
    {
     "data": {
      "application/vnd.jupyter.widget-view+json": {
       "model_id": "fa790d91c3424ac68bf1715fd3f092e0",
       "version_major": 2,
       "version_minor": 0
      },
      "text/plain": [
       "0it [00:00, ?it/s]"
      ]
     },
     "metadata": {},
     "output_type": "display_data"
    },
    {
     "data": {
      "application/vnd.jupyter.widget-view+json": {
       "model_id": "776fe367148247879dcce6fe882d5344",
       "version_major": 2,
       "version_minor": 0
      },
      "text/plain": [
       "0it [00:00, ?it/s]"
      ]
     },
     "metadata": {},
     "output_type": "display_data"
    },
    {
     "data": {
      "application/vnd.jupyter.widget-view+json": {
       "model_id": "9649ec217a0048e3a4395f15933c8e30",
       "version_major": 2,
       "version_minor": 0
      },
      "text/plain": [
       "0it [00:00, ?it/s]"
      ]
     },
     "metadata": {},
     "output_type": "display_data"
    },
    {
     "data": {
      "application/vnd.jupyter.widget-view+json": {
       "model_id": "309aa4773bdb4d57862fef9156a3ba40",
       "version_major": 2,
       "version_minor": 0
      },
      "text/plain": [
       "0it [00:00, ?it/s]"
      ]
     },
     "metadata": {},
     "output_type": "display_data"
    },
    {
     "data": {
      "application/vnd.jupyter.widget-view+json": {
       "model_id": "1bfc4f8ea47c45d1a9a76ca981b20159",
       "version_major": 2,
       "version_minor": 0
      },
      "text/plain": [
       "  0%|          | 0/8 [00:00<?, ?it/s]"
      ]
     },
     "metadata": {},
     "output_type": "display_data"
    },
    {
     "data": {
      "application/vnd.jupyter.widget-view+json": {
       "model_id": "52151069bd7f436e990588d913ff6497",
       "version_major": 2,
       "version_minor": 0
      },
      "text/plain": [
       "  0%|          | 0/8 [00:00<?, ?it/s]"
      ]
     },
     "metadata": {},
     "output_type": "display_data"
    },
    {
     "data": {
      "application/vnd.jupyter.widget-view+json": {
       "model_id": "2d56319b57874d15aa4e9f2c34c56121",
       "version_major": 2,
       "version_minor": 0
      },
      "text/plain": [
       "  0%|          | 0/8 [00:00<?, ?it/s]"
      ]
     },
     "metadata": {},
     "output_type": "display_data"
    },
    {
     "data": {
      "application/vnd.jupyter.widget-view+json": {
       "model_id": "4c5936aa2d8b4bf69ee45041c1ef3063",
       "version_major": 2,
       "version_minor": 0
      },
      "text/plain": [
       "  0%|          | 0/8 [00:00<?, ?it/s]"
      ]
     },
     "metadata": {},
     "output_type": "display_data"
    },
    {
     "data": {
      "application/vnd.jupyter.widget-view+json": {
       "model_id": "d1df32de6caf425481d1f677a595dfbf",
       "version_major": 2,
       "version_minor": 0
      },
      "text/plain": [
       "  0%|          | 0/8 [00:00<?, ?it/s]"
      ]
     },
     "metadata": {},
     "output_type": "display_data"
    },
    {
     "name": "stdout",
     "output_type": "stream",
     "text": [
      "Ошибка при загрузке страницы: https://auto.ru/cars/used/sale/belgee/x70/1125677802-8d34cdae/\n"
     ]
    }
   ],
   "source": [
    "\n",
    "# загружаем файл с комплектациями автомобилей\n",
    "data_comp = 'data_comp.txt'\n",
    "try:\n",
    "    with open('log.txt', 'a') as log:\n",
    "        complectations = open_complectation(data_comp)\n",
    "        print(f'{datetime.date.today().isoformat()} {datetime.datetime.now().time()} Загружен файл с комплектацией {data_comp}', file=log)\n",
    "except (FileNotFoundError, PermissionError):\n",
    "    complectations = []\n",
    "    with open('log.txt', 'a') as log:\n",
    "        print(f'{datetime.date.today().isoformat()} {datetime.datetime.now().time()} Не был загружен файл с комплектацией {data_comp}', file=log)\n",
    "\n",
    "# Загружаем наименования марок автомобилей\n",
    "s_letter = 'b'\n",
    "f_letter = 'f'\n",
    "name_makes = get_page_makes(s_letter, f_letter)\n",
    "# name_makes = name_makes[name_makes.index('bentley'):]\n",
    "\n",
    "# Запускаем цикл с перебором марок автомобилей\n",
    "for name_make in tqdm(name_makes):\n",
    "\n",
    "    # Вычисляем количество страниц для загрузки по марке (не более 100)\n",
    "    try:\n",
    "        count_page = get_page_models(name_make) // 38 + 2\n",
    "        count_page = min(count_page, 100)\n",
    "    except:\n",
    "        count_page = 1\n",
    "\n",
    "    # Запускаем цикл с перебором страниц марки\n",
    "    for page in tqdm(range(1, count_page)):\n",
    "        try:\n",
    "\n",
    "            # Загружаем сведения об автомобиле\n",
    "            date_page = get_page(name_make, page)\n",
    "            with open('data.txt', 'a') as data:\n",
    "                for record in date_page:\n",
    "                    print(record, file=data)\n",
    "            with open('log.txt', 'a') as log:\n",
    "                print(f'{datetime.date.today().isoformat()} {datetime.datetime.now().time()} Успешно загружена страница {name_make}/{page}. Число добавленных записей {len(date_page)}', file=log)\n",
    "        except:\n",
    "            with open('log.txt', 'a') as log:\n",
    "                print(f'{datetime.date.today().isoformat()} {datetime.datetime.now().time()} Не была загружена страница {name_make}/{page}. Число добавленных записей {0}', file=log)\n",
    "            \n",
    "        data.close()\n",
    "        log.close()"
   ]
  }
 ],
 "metadata": {
  "kernelspec": {
   "display_name": "Python 3",
   "language": "python",
   "name": "python3"
  },
  "language_info": {
   "codemirror_mode": {
    "name": "ipython",
    "version": 3
   },
   "file_extension": ".py",
   "mimetype": "text/x-python",
   "name": "python",
   "nbconvert_exporter": "python",
   "pygments_lexer": "ipython3",
   "version": "3.12.6"
  }
 },
 "nbformat": 4,
 "nbformat_minor": 2
}
