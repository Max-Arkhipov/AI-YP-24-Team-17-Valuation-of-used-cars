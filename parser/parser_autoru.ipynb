{
 "cells": [
  {
   "cell_type": "code",
   "execution_count": 5,
   "metadata": {},
   "outputs": [],
   "source": [
    "import requests\n",
    "from bs4 import BeautifulSoup\n",
    "from tqdm.notebook import tqdm\n",
    "import numpy as np\n",
    "import random\n",
    "from datetime import date\n",
    "import time\n",
    "\n",
    "cookie = 'suid=658a8fbbd4d62b52646569d9bd097904.43edb6f93dcf733e401fd573505fae33; yandexuid=6442247681727433546; _ym_uid=1727441690902878709; popups-group-popups-rk-new-shown-count=3; yandex_login=archipovma; L=SnR5B35wUnhZXnkFVA19WH1oSkBedmt8JxZUOT00CzxbEA==.1727848766.15906.375791.46559e905b4ac4a9e202ef3be2b4f5cb; autoru_sid=87804195%7C1727861837914.7776000.FeISZEMMuOB0RWRXQVD6-w.uKhHhSbOwm3q3gT_iJTO8Y-ocbTeNormPvTBNytBGBs; autoru-visits-count=5; fp=aea60bf3d6240d9ce83842d85d939686%7C1728364386979; i=GeBYe5RxnvyiQxUnp7zVFo15irxSAsjTMIs5wDlTnBOM7K+ibvDg6BmPrQzG5edJgj5D3TTWYYUZ5qA+a0gRsJB8n/4=; my=YwA=; gdpr=0; _csrf_token=ec0eaa3de01db2c5942b4ba4cad66009accf66975fdf72b6; autoruuid=g66f6ab0a2mjm7vghno04odnm0emvga4.9478b8f698702cea809903f2e486a958; from=google-search; autoru_sso_blocked=1; _yasc=L9eycavOPcH5oC0mDw/jpTm4amAk1ath7PM4Kv5Ku70mGbZlhxw9U/ki9ND2YGarYTxN7ws=; Session_id=3:1728904843.5.0.1727848766812:CF4quQ:ac57.1.2:1|653439336.-1.2.3:1727848766|61:10026628.853436.IC7iwe7fYdz1fVZX0KVMYVOeLPs; sessar=1.1194.CiCKE-3bpDdAbTIwBdB7VpVcfEXRRsufwppSSMHWXL8rcw.vlw4jo-kTya4nk3xbtxocr-zMGSULTBw76CQmOz9w8o; ys=udn.cDrQnNCw0LrRgdC40Lwg0JDQvdCw0YLQvtC70YzQtdCy0LjRhyDQkNGA0YXQuNC/0L7Qsg%3D%3D#c_chck.3618600067; mda2_beacon=1728904843129; sso_status=sso.passport.yandex.ru:synchronized; autoru_sso_redirect_blocked=1; _ym_d=1728904843; count-visits=1; yaPlusUserPlusBalance={%22id%22:%2287804195%22%2C%22plusPoints%22:240}; _ym_isad=2; yaPassportTryAutologin=1; layout-config={\"screen_height\":1440,\"screen_width\":2560,\"win_width\":1546,\"win_height\":1260}; from_lifetime=1728904867386; cycada=6GiRzZVDG7CoCAVoWBxFFI8yFMQuLFtFitC2v4m+yfw='\n",
    "headers = {\n",
    "    'authority': 'auto.ru',\n",
    "    'method': 'GET',\n",
    "    'path': '/cars/used/',\n",
    "    'scheme': 'https',\n",
    "    'accept': 'text/html,application/xhtml+xml,application/xml;q=0.9,image/avif,image/webp,image/apng,*/*;q=0.8,application/signed-exchange;v=b3;q=0.7',\n",
    "    'accept-encoding': 'gzip, deflate, br, zstd',\n",
    "    'accept-language': 'ru-RU,ru;q=0.9,en-US;q=0.8,en;q=0.7',\n",
    "    'cookie': cookie,\n",
    "    'priority': 'u=0, i',\n",
    "    'referer': 'https://auto.ru/cars/new/',\n",
    "    'sec-ch-ua': '\"Google Chrome\";v=\"129\", \"Not=A?Brand\";v=\"8\", \"Chromium\";v=\"129\"',\n",
    "    'sec-ch-ua-mobile': '?0',\n",
    "    'sec-ch-ua-platform':'\"Linux\"',\n",
    "    'sec-fetch-dest': 'document',\n",
    "    'sec-fetch-mode': 'navigate',\n",
    "    'sec-fetch-site': 'same-origin',\n",
    "    'sec-fetch-user': '?1',\n",
    "    'upgrade-insecure-requests': '1',\n",
    "    'user-agent': 'Mozilla/5.0 (X11; Linux x86_64) AppleWebKit/537.36 (KHTML, like Gecko) Chrome/129.0.0.0 Safari/537.36'\n",
    "}\n"
   ]
  },
  {
   "cell_type": "code",
   "execution_count": 6,
   "metadata": {},
   "outputs": [],
   "source": [
    "def get_car(link):    \n",
    "    url_car = link # записали ссылку\n",
    "\n",
    "    # загрузили страницу с данными по автомобилю\n",
    "    page_auto = requests.get(link, headers=headers)\n",
    "        \n",
    "    # time.sleep(random.choice(random_seconds))\n",
    "    soup_auto = BeautifulSoup(page_auto.content, 'html.parser')\n",
    "\n",
    "    # извлекли данные из блока CardBreadcrumbs\n",
    "    CardBreadcrums = soup_auto.find('div', {'class': 'CardBreadcrumbs'})\n",
    "    car_make = CardBreadcrums.find_all('a')[2].text\n",
    "    car_model = CardBreadcrums.find_all('a')[3].text\n",
    "    car_gen = CardBreadcrums.find_all('a')[4].text\n",
    "    car_type = CardBreadcrums.find_all('a')[5].text\n",
    "    car_compl = CardBreadcrums.find_all('a')[6].text\n",
    "\n",
    "    # извлекли данные об объявлении\n",
    "    ann_date = soup_auto.find('div', {'class': 'CardHead__infoItem CardHead__creationDate'}).text\n",
    "    ann_id = soup_auto.find('div', {'class': 'CardHead__infoItem CardHead__id'}).text\n",
    "    car_price = soup_auto.find('span', {'class': 'OfferPriceCaption__price'}).text.replace('\\xa0','')\n",
    "    ann_city = soup_auto.find('span', {'class': 'MetroListPlace__regionName MetroListPlace_nbsp'}).text\n",
    "        \n",
    "\n",
    "    card_info = soup_auto.find('div', {'class': 'CardInfo-ateuv'})\n",
    "    # записали ссылку на комплектацию\n",
    "    link_cpl = card_info.find('a').get('href')\n",
    "        \n",
    "    # извлекли сведения об автомобиле\n",
    "    avail = card_info.find('li', {'class': 'CardInfoRow CardInfoRow_availability'}).find_all('div')[1].text\n",
    "    year = card_info.find('li', {'class': 'CardInfoRow CardInfoRow_year'}).find_all('div')[1].text\n",
    "    mileage = card_info.find('li', {'class': 'CardInfoRow CardInfoRow_kmAge'}).find_all('div')[1].text\n",
    "    color = card_info.find('li', {'class': 'CardInfoRow CardInfoRow_color'}).find_all('div')[1].text\n",
    "    if card_info.find('li', {'class': 'CardInfoRow CardInfoRow_engine'}).find_all('div')[1].text.split(' / ')[2] == 'Электро':\n",
    "        eng_power, eng_power_kw, eng_type = card_info.find('li', {'class': 'CardInfoRow CardInfoRow_engine'}).find_all('div')[1].text.split(' / ')\n",
    "        eng_power_kw = int(eng_power_kw.replace('\\xa0',' ').split()[0])\n",
    "        eng_size = None\n",
    "        pow_resrv = card_info.find('li', {'class': 'CardInfoRow CardInfoRow_electricRange'}).find_all('div')[1].text.split()[0]\n",
    "    else:\n",
    "        eng_size, eng_power, eng_type = card_info.find('li', {'class': 'CardInfoRow CardInfoRow_engine'}).find_all('div')[1].text.split(' / ')\n",
    "        eng_size = float(eng_size.split()[0])\n",
    "        eng_power_kw = None\n",
    "        pow_resrv = None\n",
    "    options = card_info.find('li', {'class': 'CardInfoRow CardInfoRow_complectationOrEquipmentCount'}).find_all('div')[1].text\n",
    "    transmission = card_info.find('li', {'class': 'CardInfoRow CardInfoRow_transmission'}).find_all('div')[1].text\n",
    "    drive = card_info.find('li', {'class': 'CardInfoRow CardInfoRow_drive'}).find_all('div')[1].text\n",
    "    st_wheel= card_info.find('li', {'class': 'CardInfoRow CardInfoRow_wheel'}).find_all('div')[1].text\n",
    "    condition = card_info.find('li', {'class': 'CardInfoRow CardInfoRow_state'}).find_all('div')[1].text\n",
    "    try:\n",
    "        count_owner = card_info.find('li', {'class': 'CardInfoRow CardInfoRow_ownersCount'}).find_all('div')[1].text\n",
    "    except:\n",
    "        count_owner = None\n",
    "    try:\n",
    "        original_pts = card_info.find('li', {'class': 'CardInfoRow CardInfoRow_pts'}).find_all('div')[1].text\n",
    "    except:\n",
    "        original_pts = None\n",
    "    try:\n",
    "        customs = card_info.find('li', {'class': 'CardInfoRow CardInfoRow_customs'}).find_all('div')[1].text\n",
    "    except:\n",
    "        customs = None\n",
    "\n",
    "    # подготовили словарь для месяцев\n",
    "    dict_month = {\n",
    "        'января': 1,\n",
    "        'февраля': 2,\n",
    "        'марта': 3,\n",
    "        'апреля': 4,\n",
    "        'мая': 5,\n",
    "        'июня': 6,\n",
    "        'июля': 7,\n",
    "        'августа': 8,\n",
    "        'сентября': 9,\n",
    "        'октября': 10,\n",
    "        'ноября': 11,\n",
    "        'декабря':12\n",
    "    }\n",
    "\n",
    "    # записали данные в словарь\n",
    "    row = {\n",
    "        'url_car': url_car,\n",
    "        'car_make': car_make,\n",
    "        'car_model': car_model,\n",
    "        'car_gen': car_gen,\n",
    "        'car_type': car_type,\n",
    "        'car_compl': car_compl,\n",
    "        'ann_date': str(date(2024, dict_month[ann_date.split()[1]], int(ann_date.split()[0]))),\n",
    "        'ann_id': ann_id[2:],\n",
    "        'car_price': int(car_price[:-1]),\n",
    "        'ann_city': ann_city,\n",
    "        'link_cpl': link_cpl,\n",
    "        'avail': avail.replace('\\xa0',' '),\n",
    "        'year': int(year),\n",
    "        'mileage': int(mileage.replace('\\xa0','')[:-3]),\n",
    "        'color': color,\n",
    "        'eng_size': eng_size,\n",
    "        'eng_power': int(eng_power.replace('\\xa0',' ').split()[0]),\n",
    "        'eng_power_kw': eng_power_kw,\n",
    "        'eng_type': eng_type,\n",
    "        'pow_resrv': pow_resrv,\n",
    "        'options': options.replace('\\xa0',' '),\n",
    "        'transmission': transmission,\n",
    "        'drive': drive,\n",
    "        'st_wheel': st_wheel,\n",
    "        'condition': condition,\n",
    "        'count_owner': count_owner.replace('\\xa0',' '),\n",
    "        'original_pts': original_pts,\n",
    "        'customs': customs\n",
    "        }\n",
    "    \n",
    "    # передаем словарь\n",
    "    return row\n"
   ]
  },
  {
   "cell_type": "code",
   "execution_count": 7,
   "metadata": {},
   "outputs": [],
   "source": [
    "def get_page(p):\n",
    "    # изготовили ссылку на страницу списка с объявлениями\n",
    "    url = f'https://auto.ru/cars/used/?sort=cr_date-desc&page={p}'\n",
    "\n",
    "    # сходили по ней\n",
    "    page_list = requests.get(url, headers=headers)\n",
    "\n",
    "    # построили дерево\n",
    "    soup = BeautifulSoup(page_list.content, 'html.parser')\n",
    "\n",
    "    # нашли в нём ссылки на авто, записали в список\n",
    "    urls = []\n",
    "    for link in soup.find_all('a'):\n",
    "        if link.get('href') != None and 'cars/used/sale' in link.get('href')  and link.get('href') not in urls:\n",
    "            urls.append(link.get('href'))\n",
    "\n",
    "    # прошли по ссылкам записали данные в список словарей\n",
    "    info = []\n",
    "    mistakes = []\n",
    "    random_seconds = [3, 5, 7, 10, 12]\n",
    "    time.sleep(random.choice(random_seconds)) # немного подождали\n",
    "    for link in tqdm(urls):\n",
    "        time.sleep(random.choice(random_seconds)) # и еще немного подождали\n",
    "        try:\n",
    "            info.append(get_car(link))\n",
    "        except:\n",
    "            print(f'Ошибка при загрузке страницы: {link}')\n",
    "            mistakes.append(link)\n",
    "\n",
    "    return info"
   ]
  },
  {
   "cell_type": "code",
   "execution_count": 8,
   "metadata": {},
   "outputs": [
    {
     "data": {
      "application/vnd.jupyter.widget-view+json": {
       "model_id": "0cf82211d4c7492f9d9a5a3b5da2ca52",
       "version_major": 2,
       "version_minor": 0
      },
      "text/plain": [
       "  0%|          | 0/98 [00:00<?, ?it/s]"
      ]
     },
     "metadata": {},
     "output_type": "display_data"
    },
    {
     "data": {
      "application/vnd.jupyter.widget-view+json": {
       "model_id": "f47d26ad28914e69a59574c80f0f3c33",
       "version_major": 2,
       "version_minor": 0
      },
      "text/plain": [
       "  0%|          | 0/38 [00:00<?, ?it/s]"
      ]
     },
     "metadata": {},
     "output_type": "display_data"
    },
    {
     "name": "stdout",
     "output_type": "stream",
     "text": [
      "Ошибка при загрузке страницы: https://auto.ru/cars/used/sale/bmw/x5/1125049703-b0599e36/\n"
     ]
    },
    {
     "data": {
      "application/vnd.jupyter.widget-view+json": {
       "model_id": "dd96da707bbe40fd9ba9907f9a0a4ab4",
       "version_major": 2,
       "version_minor": 0
      },
      "text/plain": [
       "  0%|          | 0/38 [00:00<?, ?it/s]"
      ]
     },
     "metadata": {},
     "output_type": "display_data"
    },
    {
     "name": "stdout",
     "output_type": "stream",
     "text": [
      "Ошибка при загрузке страницы: https://auto.ru/cars/used/sale/bmw/3er/1123926260-99541272/\n",
      "Ошибка при загрузке страницы: https://auto.ru/cars/used/sale/land_rover/range_rover/1124874822-e01b93ad/\n",
      "Ошибка при загрузке страницы: https://auto.ru/cars/used/sale/mercedes/e_klasse/1125535737-05c440c7/\n",
      "Ошибка при загрузке страницы: https://auto.ru/cars/used/sale/ford/ranger/1124120065-d3a0d2d3/\n"
     ]
    },
    {
     "data": {
      "application/vnd.jupyter.widget-view+json": {
       "model_id": "47f313b1efaa46bba80c2f029f554115",
       "version_major": 2,
       "version_minor": 0
      },
      "text/plain": [
       "  0%|          | 0/38 [00:00<?, ?it/s]"
      ]
     },
     "metadata": {},
     "output_type": "display_data"
    },
    {
     "name": "stdout",
     "output_type": "stream",
     "text": [
      "Ошибка при загрузке страницы: https://auto.ru/cars/used/sale/honda/civic/1125461090-d4be7c62/\n",
      "Ошибка при загрузке страницы: https://auto.ru/cars/used/sale/porsche/cayenne/1125418319-2f8b757c/\n"
     ]
    },
    {
     "data": {
      "application/vnd.jupyter.widget-view+json": {
       "model_id": "23ce095870704846aa54ba7e84c22f3c",
       "version_major": 2,
       "version_minor": 0
      },
      "text/plain": [
       "  0%|          | 0/38 [00:00<?, ?it/s]"
      ]
     },
     "metadata": {},
     "output_type": "display_data"
    },
    {
     "name": "stdout",
     "output_type": "stream",
     "text": [
      "Ошибка при загрузке страницы: https://auto.ru/cars/used/sale/bmw/x7/1125430899-cdde1833/\n",
      "Ошибка при загрузке страницы: https://auto.ru/cars/used/sale/mercedes/gl_klasse/1106035420-12795268/\n"
     ]
    },
    {
     "data": {
      "application/vnd.jupyter.widget-view+json": {
       "model_id": "8b89bc50f7104b24bb0f85a1d0a38264",
       "version_major": 2,
       "version_minor": 0
      },
      "text/plain": [
       "  0%|          | 0/38 [00:00<?, ?it/s]"
      ]
     },
     "metadata": {},
     "output_type": "display_data"
    },
    {
     "name": "stdout",
     "output_type": "stream",
     "text": [
      "Ошибка при загрузке страницы: https://auto.ru/cars/used/sale/porsche/cayenne/1125418319-2f8b757c/\n",
      "Ошибка при загрузке страницы: https://auto.ru/cars/used/sale/porsche/panamera/1125668307-9a778a7d/\n",
      "Ошибка при загрузке страницы: https://auto.ru/cars/used/sale/bmw/x7/1125430899-cdde1833/\n"
     ]
    },
    {
     "data": {
      "application/vnd.jupyter.widget-view+json": {
       "model_id": "6b4b4b8a3b234281ac6efbeeee6f522f",
       "version_major": 2,
       "version_minor": 0
      },
      "text/plain": [
       "  0%|          | 0/38 [00:00<?, ?it/s]"
      ]
     },
     "metadata": {},
     "output_type": "display_data"
    },
    {
     "name": "stdout",
     "output_type": "stream",
     "text": [
      "Ошибка при загрузке страницы: https://auto.ru/cars/used/sale/porsche/cayenne/1125418319-2f8b757c/\n",
      "Ошибка при загрузке страницы: https://auto.ru/cars/used/sale/bmw/x7/1125430899-cdde1833/\n",
      "Ошибка при загрузке страницы: https://auto.ru/cars/used/sale/byd/fangchengbao_leopard_5/1125646845-9b4cfdb2/\n"
     ]
    },
    {
     "data": {
      "application/vnd.jupyter.widget-view+json": {
       "model_id": "3bb7d171a7594864a2a6659d050b0743",
       "version_major": 2,
       "version_minor": 0
      },
      "text/plain": [
       "  0%|          | 0/38 [00:00<?, ?it/s]"
      ]
     },
     "metadata": {},
     "output_type": "display_data"
    },
    {
     "name": "stdout",
     "output_type": "stream",
     "text": [
      "Ошибка при загрузке страницы: https://auto.ru/cars/used/sale/bmw/5er/1125108643-223ba837/\n",
      "Ошибка при загрузке страницы: https://auto.ru/cars/used/sale/toyota/vitz/1125538843-e0883d02/\n",
      "Ошибка при загрузке страницы: https://auto.ru/cars/used/sale/lixiang/l9/1125688232-e00d60fb/\n"
     ]
    },
    {
     "data": {
      "application/vnd.jupyter.widget-view+json": {
       "model_id": "cc29a9f03ba1478e9a07d0a0159df56a",
       "version_major": 2,
       "version_minor": 0
      },
      "text/plain": [
       "  0%|          | 0/37 [00:00<?, ?it/s]"
      ]
     },
     "metadata": {},
     "output_type": "display_data"
    },
    {
     "name": "stdout",
     "output_type": "stream",
     "text": [
      "Ошибка при загрузке страницы: https://auto.ru/cars/used/sale/bmw/x3/1125471980-bbc31237/\n"
     ]
    },
    {
     "data": {
      "application/vnd.jupyter.widget-view+json": {
       "model_id": "77796f2044a342e08897dfc7e2c4a529",
       "version_major": 2,
       "version_minor": 0
      },
      "text/plain": [
       "0it [00:00, ?it/s]"
      ]
     },
     "metadata": {},
     "output_type": "display_data"
    },
    {
     "data": {
      "application/vnd.jupyter.widget-view+json": {
       "model_id": "39722ea978c6472b99434fcf433f798a",
       "version_major": 2,
       "version_minor": 0
      },
      "text/plain": [
       "0it [00:00, ?it/s]"
      ]
     },
     "metadata": {},
     "output_type": "display_data"
    },
    {
     "data": {
      "application/vnd.jupyter.widget-view+json": {
       "model_id": "e54db2501e55418d80336cc767212929",
       "version_major": 2,
       "version_minor": 0
      },
      "text/plain": [
       "0it [00:00, ?it/s]"
      ]
     },
     "metadata": {},
     "output_type": "display_data"
    },
    {
     "data": {
      "application/vnd.jupyter.widget-view+json": {
       "model_id": "f4555981f9514cf8980c804998978624",
       "version_major": 2,
       "version_minor": 0
      },
      "text/plain": [
       "0it [00:00, ?it/s]"
      ]
     },
     "metadata": {},
     "output_type": "display_data"
    },
    {
     "data": {
      "application/vnd.jupyter.widget-view+json": {
       "model_id": "0b4ffadf263d4809812d2905cb1ef24a",
       "version_major": 2,
       "version_minor": 0
      },
      "text/plain": [
       "0it [00:00, ?it/s]"
      ]
     },
     "metadata": {},
     "output_type": "display_data"
    },
    {
     "data": {
      "application/vnd.jupyter.widget-view+json": {
       "model_id": "d48c82052d8f48268de4ada9d7db41e6",
       "version_major": 2,
       "version_minor": 0
      },
      "text/plain": [
       "0it [00:00, ?it/s]"
      ]
     },
     "metadata": {},
     "output_type": "display_data"
    },
    {
     "data": {
      "application/vnd.jupyter.widget-view+json": {
       "model_id": "7072ecbc09cf44fbbd21c1a018075828",
       "version_major": 2,
       "version_minor": 0
      },
      "text/plain": [
       "0it [00:00, ?it/s]"
      ]
     },
     "metadata": {},
     "output_type": "display_data"
    },
    {
     "data": {
      "application/vnd.jupyter.widget-view+json": {
       "model_id": "3316dbe7eccf4eff97c36babf851b4cf",
       "version_major": 2,
       "version_minor": 0
      },
      "text/plain": [
       "0it [00:00, ?it/s]"
      ]
     },
     "metadata": {},
     "output_type": "display_data"
    },
    {
     "data": {
      "application/vnd.jupyter.widget-view+json": {
       "model_id": "120a855f6914461db1d92ace2dcbaa8a",
       "version_major": 2,
       "version_minor": 0
      },
      "text/plain": [
       "0it [00:00, ?it/s]"
      ]
     },
     "metadata": {},
     "output_type": "display_data"
    },
    {
     "data": {
      "application/vnd.jupyter.widget-view+json": {
       "model_id": "e4456782a21b444da60e44c88ffd95de",
       "version_major": 2,
       "version_minor": 0
      },
      "text/plain": [
       "0it [00:00, ?it/s]"
      ]
     },
     "metadata": {},
     "output_type": "display_data"
    },
    {
     "data": {
      "application/vnd.jupyter.widget-view+json": {
       "model_id": "25b09ff597534d8596940593ec0e6fb9",
       "version_major": 2,
       "version_minor": 0
      },
      "text/plain": [
       "  0%|          | 0/38 [00:00<?, ?it/s]"
      ]
     },
     "metadata": {},
     "output_type": "display_data"
    },
    {
     "name": "stdout",
     "output_type": "stream",
     "text": [
      "Ошибка при загрузке страницы: https://auto.ru/cars/used/sale/cupra/formentor/1125218065-b5a0ce78/\n",
      "Ошибка при загрузке страницы: https://auto.ru/cars/used/sale/voyah/free/1124871789-0828b189/\n",
      "Ошибка при загрузке страницы: https://auto.ru/cars/used/sale/ford/mustang/1125365985-b28c0ee5/\n",
      "Ошибка при загрузке страницы: https://auto.ru/cars/used/sale/avatr/12/1125548799-bed826ad/\n"
     ]
    },
    {
     "data": {
      "application/vnd.jupyter.widget-view+json": {
       "model_id": "08963204f2944c668e6c82ec8cd814e5",
       "version_major": 2,
       "version_minor": 0
      },
      "text/plain": [
       "  0%|          | 0/38 [00:00<?, ?it/s]"
      ]
     },
     "metadata": {},
     "output_type": "display_data"
    },
    {
     "name": "stdout",
     "output_type": "stream",
     "text": [
      "Ошибка при загрузке страницы: https://auto.ru/cars/used/sale/zeekr/007/1124345288-062638c1/\n",
      "Ошибка при загрузке страницы: https://auto.ru/cars/used/sale/cupra/formentor/1125218065-b5a0ce78/\n",
      "Ошибка при загрузке страницы: https://auto.ru/cars/used/sale/voyah/free/1124871789-0828b189/\n",
      "Ошибка при загрузке страницы: https://auto.ru/cars/used/sale/ford/mustang/1125365985-b28c0ee5/\n"
     ]
    },
    {
     "data": {
      "application/vnd.jupyter.widget-view+json": {
       "model_id": "072aed2f3fa74010a96b77a08b362db7",
       "version_major": 2,
       "version_minor": 0
      },
      "text/plain": [
       "  0%|          | 0/38 [00:00<?, ?it/s]"
      ]
     },
     "metadata": {},
     "output_type": "display_data"
    },
    {
     "name": "stdout",
     "output_type": "stream",
     "text": [
      "Ошибка при загрузке страницы: https://auto.ru/cars/used/sale/cupra/formentor/1125218065-b5a0ce78/\n",
      "Ошибка при загрузке страницы: https://auto.ru/cars/used/sale/voyah/free/1124871789-0828b189/\n",
      "Ошибка при загрузке страницы: https://auto.ru/cars/used/sale/ford/mustang/1125365985-b28c0ee5/\n",
      "Ошибка при загрузке страницы: https://auto.ru/cars/used/sale/ford/mustang/1125365986-0cb7931b/\n"
     ]
    },
    {
     "data": {
      "application/vnd.jupyter.widget-view+json": {
       "model_id": "99b9e685d9b245ec979b617eff63bfda",
       "version_major": 2,
       "version_minor": 0
      },
      "text/plain": [
       "  0%|          | 0/37 [00:00<?, ?it/s]"
      ]
     },
     "metadata": {},
     "output_type": "display_data"
    },
    {
     "data": {
      "application/vnd.jupyter.widget-view+json": {
       "model_id": "4421e27e9534438794cd0aea6200b7fa",
       "version_major": 2,
       "version_minor": 0
      },
      "text/plain": [
       "  0%|          | 0/37 [00:00<?, ?it/s]"
      ]
     },
     "metadata": {},
     "output_type": "display_data"
    },
    {
     "data": {
      "application/vnd.jupyter.widget-view+json": {
       "model_id": "e10c44ad400f422faeeb8909a09fb253",
       "version_major": 2,
       "version_minor": 0
      },
      "text/plain": [
       "  0%|          | 0/38 [00:00<?, ?it/s]"
      ]
     },
     "metadata": {},
     "output_type": "display_data"
    },
    {
     "name": "stdout",
     "output_type": "stream",
     "text": [
      "Ошибка при загрузке страницы: https://auto.ru/cars/used/sale/bmw/2activetourer/1122658222-9faa035c/\n"
     ]
    },
    {
     "data": {
      "application/vnd.jupyter.widget-view+json": {
       "model_id": "034b9c9d0f694feaa76e66c738f8b719",
       "version_major": 2,
       "version_minor": 0
      },
      "text/plain": [
       "  0%|          | 0/37 [00:00<?, ?it/s]"
      ]
     },
     "metadata": {},
     "output_type": "display_data"
    },
    {
     "data": {
      "application/vnd.jupyter.widget-view+json": {
       "model_id": "ebc639eb2e0e43789e46a9a8180f31ce",
       "version_major": 2,
       "version_minor": 0
      },
      "text/plain": [
       "  0%|          | 0/37 [00:00<?, ?it/s]"
      ]
     },
     "metadata": {},
     "output_type": "display_data"
    },
    {
     "data": {
      "application/vnd.jupyter.widget-view+json": {
       "model_id": "e602f54bb81d404a97f3ffe7bc336063",
       "version_major": 2,
       "version_minor": 0
      },
      "text/plain": [
       "  0%|          | 0/38 [00:00<?, ?it/s]"
      ]
     },
     "metadata": {},
     "output_type": "display_data"
    },
    {
     "name": "stdout",
     "output_type": "stream",
     "text": [
      "Ошибка при загрузке страницы: https://auto.ru/cars/used/sale/audi/q3/1122641514-9499e1fd/\n"
     ]
    },
    {
     "data": {
      "application/vnd.jupyter.widget-view+json": {
       "model_id": "1efff52688304d15bdde1db41cef486d",
       "version_major": 2,
       "version_minor": 0
      },
      "text/plain": [
       "  0%|          | 0/38 [00:00<?, ?it/s]"
      ]
     },
     "metadata": {},
     "output_type": "display_data"
    },
    {
     "name": "stdout",
     "output_type": "stream",
     "text": [
      "Ошибка при загрузке страницы: https://auto.ru/cars/used/sale/volvo/v40/1123043305-a21e6fc1/\n"
     ]
    },
    {
     "data": {
      "application/vnd.jupyter.widget-view+json": {
       "model_id": "94b61823125c40259c0f4ef52f1586da",
       "version_major": 2,
       "version_minor": 0
      },
      "text/plain": [
       "  0%|          | 0/38 [00:00<?, ?it/s]"
      ]
     },
     "metadata": {},
     "output_type": "display_data"
    },
    {
     "name": "stdout",
     "output_type": "stream",
     "text": [
      "Ошибка при загрузке страницы: https://auto.ru/cars/used/sale/renault/logan/1125688981-6345440e/\n"
     ]
    },
    {
     "data": {
      "application/vnd.jupyter.widget-view+json": {
       "model_id": "c2ec46415757486ba7df151c9ff6bbc8",
       "version_major": 2,
       "version_minor": 0
      },
      "text/plain": [
       "  0%|          | 0/38 [00:00<?, ?it/s]"
      ]
     },
     "metadata": {},
     "output_type": "display_data"
    },
    {
     "name": "stdout",
     "output_type": "stream",
     "text": [
      "Ошибка при загрузке страницы: https://auto.ru/cars/used/sale/bmw/m5/1125085636-af1c619b/\n"
     ]
    },
    {
     "data": {
      "application/vnd.jupyter.widget-view+json": {
       "model_id": "dd881da619744cc983c6aca4c2bf10ff",
       "version_major": 2,
       "version_minor": 0
      },
      "text/plain": [
       "  0%|          | 0/38 [00:00<?, ?it/s]"
      ]
     },
     "metadata": {},
     "output_type": "display_data"
    },
    {
     "name": "stdout",
     "output_type": "stream",
     "text": [
      "Ошибка при загрузке страницы: https://auto.ru/cars/used/sale/chevrolet/cruze/1125690020-cd9f6fdf/\n"
     ]
    },
    {
     "data": {
      "application/vnd.jupyter.widget-view+json": {
       "model_id": "f5d96e9379bf463bb8e52a156c03cbf1",
       "version_major": 2,
       "version_minor": 0
      },
      "text/plain": [
       "  0%|          | 0/38 [00:00<?, ?it/s]"
      ]
     },
     "metadata": {},
     "output_type": "display_data"
    },
    {
     "name": "stdout",
     "output_type": "stream",
     "text": [
      "Ошибка при загрузке страницы: https://auto.ru/cars/used/sale/vaz/2114/1125689152-f2ea1252/\n",
      "Ошибка при загрузке страницы: https://auto.ru/cars/used/sale/vaz/kalina/1125689099-036ceabb/\n"
     ]
    },
    {
     "data": {
      "application/vnd.jupyter.widget-view+json": {
       "model_id": "10e65e6d911a493f876447eb18f118ce",
       "version_major": 2,
       "version_minor": 0
      },
      "text/plain": [
       "  0%|          | 0/38 [00:00<?, ?it/s]"
      ]
     },
     "metadata": {},
     "output_type": "display_data"
    },
    {
     "name": "stdout",
     "output_type": "stream",
     "text": [
      "Ошибка при загрузке страницы: https://auto.ru/cars/used/sale/vaz/2111/1125689021-39d50e02/\n"
     ]
    },
    {
     "data": {
      "application/vnd.jupyter.widget-view+json": {
       "model_id": "69a781d736eb4b02a7c9c9b40a991055",
       "version_major": 2,
       "version_minor": 0
      },
      "text/plain": [
       "  0%|          | 0/38 [00:00<?, ?it/s]"
      ]
     },
     "metadata": {},
     "output_type": "display_data"
    },
    {
     "name": "stdout",
     "output_type": "stream",
     "text": [
      "Ошибка при загрузке страницы: https://auto.ru/cars/used/sale/volvo/xc90/1124865949-5f167741/\n",
      "Ошибка при загрузке страницы: https://auto.ru/cars/used/sale/vaz/2107/1125689328-9324324e/\n"
     ]
    },
    {
     "data": {
      "application/vnd.jupyter.widget-view+json": {
       "model_id": "60f1dc1ed0aa487b97e849391dbc8e4c",
       "version_major": 2,
       "version_minor": 0
      },
      "text/plain": [
       "  0%|          | 0/37 [00:00<?, ?it/s]"
      ]
     },
     "metadata": {},
     "output_type": "display_data"
    },
    {
     "data": {
      "application/vnd.jupyter.widget-view+json": {
       "model_id": "c17f0cbe2ae24661825df9328d2268c0",
       "version_major": 2,
       "version_minor": 0
      },
      "text/plain": [
       "  0%|          | 0/38 [00:00<?, ?it/s]"
      ]
     },
     "metadata": {},
     "output_type": "display_data"
    },
    {
     "name": "stdout",
     "output_type": "stream",
     "text": [
      "Ошибка при загрузке страницы: https://auto.ru/cars/used/sale/kia/k5/1125689367-c8d9e76c/\n",
      "Ошибка при загрузке страницы: https://auto.ru/cars/used/sale/ram/1500/1125460124-21bbb970/\n",
      "Ошибка при загрузке страницы: https://auto.ru/cars/used/sale/bmw/x5/1125617000-c4107f54/\n"
     ]
    },
    {
     "data": {
      "application/vnd.jupyter.widget-view+json": {
       "model_id": "6c55c8564f554de1b9a73681e62d85ab",
       "version_major": 2,
       "version_minor": 0
      },
      "text/plain": [
       "  0%|          | 0/37 [00:00<?, ?it/s]"
      ]
     },
     "metadata": {},
     "output_type": "display_data"
    },
    {
     "name": "stdout",
     "output_type": "stream",
     "text": [
      "Ошибка при загрузке страницы: https://auto.ru/cars/used/sale/cadillac/escalade/1125457468-ccceecbd/\n"
     ]
    },
    {
     "data": {
      "application/vnd.jupyter.widget-view+json": {
       "model_id": "1de0eb0e42d2411a959c82739a7700b1",
       "version_major": 2,
       "version_minor": 0
      },
      "text/plain": [
       "  0%|          | 0/37 [00:00<?, ?it/s]"
      ]
     },
     "metadata": {},
     "output_type": "display_data"
    },
    {
     "data": {
      "application/vnd.jupyter.widget-view+json": {
       "model_id": "37a256774c7c459499fb83340815780e",
       "version_major": 2,
       "version_minor": 0
      },
      "text/plain": [
       "  0%|          | 0/37 [00:00<?, ?it/s]"
      ]
     },
     "metadata": {},
     "output_type": "display_data"
    },
    {
     "name": "stdout",
     "output_type": "stream",
     "text": [
      "Ошибка при загрузке страницы: https://auto.ru/cars/used/sale/ram/1500/1125460124-21bbb970/\n",
      "Ошибка при загрузке страницы: https://auto.ru/cars/used/sale/bmw/x5/1125617000-c4107f54/\n"
     ]
    },
    {
     "data": {
      "application/vnd.jupyter.widget-view+json": {
       "model_id": "863b1363bc614e48aa45b5fdf6496bfc",
       "version_major": 2,
       "version_minor": 0
      },
      "text/plain": [
       "  0%|          | 0/38 [00:00<?, ?it/s]"
      ]
     },
     "metadata": {},
     "output_type": "display_data"
    },
    {
     "name": "stdout",
     "output_type": "stream",
     "text": [
      "Ошибка при загрузке страницы: https://auto.ru/cars/used/sale/mercedes/gl_klasse/1125689378-4ce2c406/\n",
      "Ошибка при загрузке страницы: https://auto.ru/cars/used/sale/ram/1500/1125460124-21bbb970/\n"
     ]
    },
    {
     "data": {
      "application/vnd.jupyter.widget-view+json": {
       "model_id": "95182da311e14d5c90adde17a6dd9652",
       "version_major": 2,
       "version_minor": 0
      },
      "text/plain": [
       "  0%|          | 0/37 [00:00<?, ?it/s]"
      ]
     },
     "metadata": {},
     "output_type": "display_data"
    },
    {
     "data": {
      "application/vnd.jupyter.widget-view+json": {
       "model_id": "75a576d82a9d4cb2951adbbbcce2ef87",
       "version_major": 2,
       "version_minor": 0
      },
      "text/plain": [
       "  0%|          | 0/38 [00:00<?, ?it/s]"
      ]
     },
     "metadata": {},
     "output_type": "display_data"
    },
    {
     "name": "stdout",
     "output_type": "stream",
     "text": [
      "Ошибка при загрузке страницы: https://auto.ru/cars/used/sale/lixiang/l9/1124677092-dd923b04/\n",
      "Ошибка при загрузке страницы: https://auto.ru/cars/used/sale/ram/1500/1125460124-21bbb970/\n",
      "Ошибка при загрузке страницы: https://auto.ru/cars/used/sale/bmw/x5/1125617000-c4107f54/\n"
     ]
    },
    {
     "data": {
      "application/vnd.jupyter.widget-view+json": {
       "model_id": "e775fc23d3b1455eba02f1887a7fabe7",
       "version_major": 2,
       "version_minor": 0
      },
      "text/plain": [
       "  0%|          | 0/38 [00:00<?, ?it/s]"
      ]
     },
     "metadata": {},
     "output_type": "display_data"
    },
    {
     "name": "stdout",
     "output_type": "stream",
     "text": [
      "Ошибка при загрузке страницы: https://auto.ru/cars/used/sale/audi/q7/1124822567-8c09973b/\n",
      "Ошибка при загрузке страницы: https://auto.ru/cars/used/sale/genesis/g70/1125471938-03d3fc7d/\n"
     ]
    },
    {
     "data": {
      "application/vnd.jupyter.widget-view+json": {
       "model_id": "3809f03cc19a4d7d9250d3c1a6c5333e",
       "version_major": 2,
       "version_minor": 0
      },
      "text/plain": [
       "  0%|          | 0/38 [00:00<?, ?it/s]"
      ]
     },
     "metadata": {},
     "output_type": "display_data"
    },
    {
     "name": "stdout",
     "output_type": "stream",
     "text": [
      "Ошибка при загрузке страницы: https://auto.ru/cars/used/sale/daewoo/nexia/1125689462-28972160/\n"
     ]
    },
    {
     "data": {
      "application/vnd.jupyter.widget-view+json": {
       "model_id": "d36aa966678d424f9d311da3d664f1d9",
       "version_major": 2,
       "version_minor": 0
      },
      "text/plain": [
       "  0%|          | 0/37 [00:00<?, ?it/s]"
      ]
     },
     "metadata": {},
     "output_type": "display_data"
    },
    {
     "data": {
      "application/vnd.jupyter.widget-view+json": {
       "model_id": "2e2b6244192c46af8fa603ea8884beb3",
       "version_major": 2,
       "version_minor": 0
      },
      "text/plain": [
       "  0%|          | 0/37 [00:00<?, ?it/s]"
      ]
     },
     "metadata": {},
     "output_type": "display_data"
    },
    {
     "name": "stdout",
     "output_type": "stream",
     "text": [
      "Ошибка при загрузке страницы: https://auto.ru/cars/used/sale/land_rover/range_rover/1124772585-a17a43ed/\n",
      "Ошибка при загрузке страницы: https://auto.ru/cars/used/sale/hyundai/santa_fe/1125690042-b90c27ac/\n"
     ]
    },
    {
     "data": {
      "application/vnd.jupyter.widget-view+json": {
       "model_id": "6409964e70ca48ad8c130c6435246844",
       "version_major": 2,
       "version_minor": 0
      },
      "text/plain": [
       "  0%|          | 0/38 [00:00<?, ?it/s]"
      ]
     },
     "metadata": {},
     "output_type": "display_data"
    },
    {
     "name": "stdout",
     "output_type": "stream",
     "text": [
      "Ошибка при загрузке страницы: https://auto.ru/cars/used/sale/bmw/3er/1125557418-954fbdf9/\n",
      "Ошибка при загрузке страницы: https://auto.ru/cars/used/sale/infiniti/fx/1125540800-42d3eb9d/\n"
     ]
    },
    {
     "data": {
      "application/vnd.jupyter.widget-view+json": {
       "model_id": "2cf3f7e37d094972b83eb3fc1341b802",
       "version_major": 2,
       "version_minor": 0
      },
      "text/plain": [
       "  0%|          | 0/38 [00:00<?, ?it/s]"
      ]
     },
     "metadata": {},
     "output_type": "display_data"
    },
    {
     "name": "stdout",
     "output_type": "stream",
     "text": [
      "Ошибка при загрузке страницы: https://auto.ru/cars/used/sale/infiniti/fx/1125540800-42d3eb9d/\n",
      "Ошибка при загрузке страницы: https://auto.ru/cars/used/sale/vaz/2112/1125689971-e3277598/\n"
     ]
    },
    {
     "data": {
      "application/vnd.jupyter.widget-view+json": {
       "model_id": "5b547c278d4b47be82f892ca66981046",
       "version_major": 2,
       "version_minor": 0
      },
      "text/plain": [
       "  0%|          | 0/38 [00:00<?, ?it/s]"
      ]
     },
     "metadata": {},
     "output_type": "display_data"
    },
    {
     "name": "stdout",
     "output_type": "stream",
     "text": [
      "Ошибка при загрузке страницы: https://auto.ru/cars/used/sale/vaz/2110/1125689923-0b453990/\n",
      "Ошибка при загрузке страницы: https://auto.ru/cars/used/sale/chevrolet/spark/1125539894-15faa00f/\n"
     ]
    },
    {
     "data": {
      "application/vnd.jupyter.widget-view+json": {
       "model_id": "f739830868524d23bf584da648baa4d0",
       "version_major": 2,
       "version_minor": 0
      },
      "text/plain": [
       "  0%|          | 0/38 [00:00<?, ?it/s]"
      ]
     },
     "metadata": {},
     "output_type": "display_data"
    },
    {
     "name": "stdout",
     "output_type": "stream",
     "text": [
      "Ошибка при загрузке страницы: https://auto.ru/cars/used/sale/chevrolet/equinox/1125689787-cce10965/\n",
      "Ошибка при загрузке страницы: https://auto.ru/cars/used/sale/honda/accord/1125689806-03ee04bc/\n"
     ]
    },
    {
     "data": {
      "application/vnd.jupyter.widget-view+json": {
       "model_id": "4e79821f697d403fa73275873886aca1",
       "version_major": 2,
       "version_minor": 0
      },
      "text/plain": [
       "  0%|          | 0/37 [00:00<?, ?it/s]"
      ]
     },
     "metadata": {},
     "output_type": "display_data"
    },
    {
     "data": {
      "application/vnd.jupyter.widget-view+json": {
       "model_id": "3cd292f65167451d88429c8aaebbae4e",
       "version_major": 2,
       "version_minor": 0
      },
      "text/plain": [
       "  0%|          | 0/37 [00:00<?, ?it/s]"
      ]
     },
     "metadata": {},
     "output_type": "display_data"
    },
    {
     "name": "stdout",
     "output_type": "stream",
     "text": [
      "Ошибка при загрузке страницы: https://auto.ru/cars/used/sale/vaz/2110/1125689923-0b453990/\n"
     ]
    },
    {
     "data": {
      "application/vnd.jupyter.widget-view+json": {
       "model_id": "836085473cd84f81ba1fd5622c692448",
       "version_major": 2,
       "version_minor": 0
      },
      "text/plain": [
       "  0%|          | 0/37 [00:00<?, ?it/s]"
      ]
     },
     "metadata": {},
     "output_type": "display_data"
    },
    {
     "data": {
      "application/vnd.jupyter.widget-view+json": {
       "model_id": "25beab2b4fec4e9c8bfa72396cddab6e",
       "version_major": 2,
       "version_minor": 0
      },
      "text/plain": [
       "  0%|          | 0/38 [00:00<?, ?it/s]"
      ]
     },
     "metadata": {},
     "output_type": "display_data"
    },
    {
     "name": "stdout",
     "output_type": "stream",
     "text": [
      "Ошибка при загрузке страницы: https://auto.ru/cars/used/sale/chevrolet/equinox/1125689787-cce10965/\n",
      "Ошибка при загрузке страницы: https://auto.ru/cars/used/sale/chevrolet/equinox/1125689788-b9102955/\n"
     ]
    },
    {
     "data": {
      "application/vnd.jupyter.widget-view+json": {
       "model_id": "e5c4fa623735499aa5acca4a9ab8516d",
       "version_major": 2,
       "version_minor": 0
      },
      "text/plain": [
       "  0%|          | 0/38 [00:00<?, ?it/s]"
      ]
     },
     "metadata": {},
     "output_type": "display_data"
    },
    {
     "name": "stdout",
     "output_type": "stream",
     "text": [
      "Ошибка при загрузке страницы: https://auto.ru/cars/used/sale/chevrolet/equinox/1125689787-cce10965/\n",
      "Ошибка при загрузке страницы: https://auto.ru/cars/used/sale/mazda/6/1125365456-b4b381a9/\n"
     ]
    },
    {
     "data": {
      "application/vnd.jupyter.widget-view+json": {
       "model_id": "db5e2f3a3dc142b0b5b082c06f57c3b4",
       "version_major": 2,
       "version_minor": 0
      },
      "text/plain": [
       "  0%|          | 0/37 [00:00<?, ?it/s]"
      ]
     },
     "metadata": {},
     "output_type": "display_data"
    },
    {
     "name": "stdout",
     "output_type": "stream",
     "text": [
      "Ошибка при загрузке страницы: https://auto.ru/cars/used/sale/volkswagen/golf/1122219961-f4d5cddf/\n"
     ]
    },
    {
     "data": {
      "application/vnd.jupyter.widget-view+json": {
       "model_id": "d546c8c680e642b5aafddc35c91a58be",
       "version_major": 2,
       "version_minor": 0
      },
      "text/plain": [
       "  0%|          | 0/38 [00:00<?, ?it/s]"
      ]
     },
     "metadata": {},
     "output_type": "display_data"
    },
    {
     "name": "stdout",
     "output_type": "stream",
     "text": [
      "Ошибка при загрузке страницы: https://auto.ru/cars/used/sale/mitsubishi/montero/1125380071-78d9359a/\n"
     ]
    },
    {
     "data": {
      "application/vnd.jupyter.widget-view+json": {
       "model_id": "322b504748c441b98e2730c8ae6a162b",
       "version_major": 2,
       "version_minor": 0
      },
      "text/plain": [
       "  0%|          | 0/38 [00:00<?, ?it/s]"
      ]
     },
     "metadata": {},
     "output_type": "display_data"
    },
    {
     "name": "stdout",
     "output_type": "stream",
     "text": [
      "Ошибка при загрузке страницы: https://auto.ru/cars/used/sale/chevrolet/equinox/1125689787-cce10965/\n",
      "Ошибка при загрузке страницы: https://auto.ru/cars/used/sale/vaz/2110/1125689718-e4d143e6/\n"
     ]
    },
    {
     "data": {
      "application/vnd.jupyter.widget-view+json": {
       "model_id": "a764be571e884713a342137a7b58dd92",
       "version_major": 2,
       "version_minor": 0
      },
      "text/plain": [
       "  0%|          | 0/38 [00:00<?, ?it/s]"
      ]
     },
     "metadata": {},
     "output_type": "display_data"
    },
    {
     "name": "stdout",
     "output_type": "stream",
     "text": [
      "Ошибка при загрузке страницы: https://auto.ru/cars/used/sale/toyota/echo/1125384304-e3d27046/\n"
     ]
    },
    {
     "data": {
      "application/vnd.jupyter.widget-view+json": {
       "model_id": "5c8e66a6721b4989862598c55b40f983",
       "version_major": 2,
       "version_minor": 0
      },
      "text/plain": [
       "  0%|          | 0/37 [00:00<?, ?it/s]"
      ]
     },
     "metadata": {},
     "output_type": "display_data"
    },
    {
     "name": "stdout",
     "output_type": "stream",
     "text": [
      "Ошибка при загрузке страницы: https://auto.ru/cars/used/sale/chevrolet/equinox/1125689787-cce10965/\n"
     ]
    },
    {
     "data": {
      "application/vnd.jupyter.widget-view+json": {
       "model_id": "7a47e99330854bd59ac32347702a3f3b",
       "version_major": 2,
       "version_minor": 0
      },
      "text/plain": [
       "  0%|          | 0/37 [00:00<?, ?it/s]"
      ]
     },
     "metadata": {},
     "output_type": "display_data"
    },
    {
     "name": "stdout",
     "output_type": "stream",
     "text": [
      "Ошибка при загрузке страницы: https://auto.ru/cars/used/sale/chevrolet/equinox/1125689787-cce10965/\n"
     ]
    },
    {
     "data": {
      "application/vnd.jupyter.widget-view+json": {
       "model_id": "4787323c473f4f3088fbdfeb01592318",
       "version_major": 2,
       "version_minor": 0
      },
      "text/plain": [
       "  0%|          | 0/38 [00:00<?, ?it/s]"
      ]
     },
     "metadata": {},
     "output_type": "display_data"
    },
    {
     "name": "stdout",
     "output_type": "stream",
     "text": [
      "Ошибка при загрузке страницы: https://auto.ru/cars/used/sale/vaz/niva_legend/1125460789-40a9aadf/\n",
      "Ошибка при загрузке страницы: https://auto.ru/cars/used/sale/chevrolet/equinox/1125689787-cce10965/\n"
     ]
    },
    {
     "data": {
      "application/vnd.jupyter.widget-view+json": {
       "model_id": "abf396a9e5854a66ad97d53676fb6713",
       "version_major": 2,
       "version_minor": 0
      },
      "text/plain": [
       "  0%|          | 0/38 [00:00<?, ?it/s]"
      ]
     },
     "metadata": {},
     "output_type": "display_data"
    },
    {
     "name": "stdout",
     "output_type": "stream",
     "text": [
      "Ошибка при загрузке страницы: https://auto.ru/cars/used/sale/chevrolet/equinox/1125689787-cce10965/\n",
      "Ошибка при загрузке страницы: https://auto.ru/cars/used/sale/daewoo/nexia/1125689791-12f7c758/\n"
     ]
    },
    {
     "data": {
      "application/vnd.jupyter.widget-view+json": {
       "model_id": "75e96e1b8961496fb00aa5379d68c333",
       "version_major": 2,
       "version_minor": 0
      },
      "text/plain": [
       "  0%|          | 0/38 [00:00<?, ?it/s]"
      ]
     },
     "metadata": {},
     "output_type": "display_data"
    },
    {
     "name": "stdout",
     "output_type": "stream",
     "text": [
      "Ошибка при загрузке страницы: https://auto.ru/cars/used/sale/vaz/2111/1125689747-0c6cbc01/\n",
      "Ошибка при загрузке страницы: https://auto.ru/cars/used/sale/volkswagen/golf/1122219961-f4d5cddf/\n"
     ]
    },
    {
     "data": {
      "application/vnd.jupyter.widget-view+json": {
       "model_id": "e63522e148214d2fbe3230ee5de5c0fe",
       "version_major": 2,
       "version_minor": 0
      },
      "text/plain": [
       "  0%|          | 0/37 [00:00<?, ?it/s]"
      ]
     },
     "metadata": {},
     "output_type": "display_data"
    },
    {
     "data": {
      "application/vnd.jupyter.widget-view+json": {
       "model_id": "3119bdf5b2dd40629b4df25dee708214",
       "version_major": 2,
       "version_minor": 0
      },
      "text/plain": [
       "  0%|          | 0/37 [00:00<?, ?it/s]"
      ]
     },
     "metadata": {},
     "output_type": "display_data"
    },
    {
     "data": {
      "application/vnd.jupyter.widget-view+json": {
       "model_id": "9f4384454b334750bc04e30ee91c398c",
       "version_major": 2,
       "version_minor": 0
      },
      "text/plain": [
       "  0%|          | 0/38 [00:00<?, ?it/s]"
      ]
     },
     "metadata": {},
     "output_type": "display_data"
    },
    {
     "name": "stdout",
     "output_type": "stream",
     "text": [
      "Ошибка при загрузке страницы: https://auto.ru/cars/used/sale/volvo/s40/1125689650-c9f2e80d/\n"
     ]
    },
    {
     "data": {
      "application/vnd.jupyter.widget-view+json": {
       "model_id": "c932c293816e4d1d934054d9fa7d8132",
       "version_major": 2,
       "version_minor": 0
      },
      "text/plain": [
       "  0%|          | 0/38 [00:00<?, ?it/s]"
      ]
     },
     "metadata": {},
     "output_type": "display_data"
    },
    {
     "name": "stdout",
     "output_type": "stream",
     "text": [
      "Ошибка при загрузке страницы: https://auto.ru/cars/used/sale/nissan/terrano/1124799465-4a11f03e/\n"
     ]
    },
    {
     "data": {
      "application/vnd.jupyter.widget-view+json": {
       "model_id": "653c47c5c3b84110bdb9b6fd23184ea6",
       "version_major": 2,
       "version_minor": 0
      },
      "text/plain": [
       "  0%|          | 0/37 [00:00<?, ?it/s]"
      ]
     },
     "metadata": {},
     "output_type": "display_data"
    },
    {
     "name": "stdout",
     "output_type": "stream",
     "text": [
      "Ошибка при загрузке страницы: https://auto.ru/cars/used/sale/chevrolet/equinox/1125689787-cce10965/\n"
     ]
    },
    {
     "data": {
      "application/vnd.jupyter.widget-view+json": {
       "model_id": "2020752cfb17490d9cd07f6d46885610",
       "version_major": 2,
       "version_minor": 0
      },
      "text/plain": [
       "  0%|          | 0/38 [00:00<?, ?it/s]"
      ]
     },
     "metadata": {},
     "output_type": "display_data"
    },
    {
     "name": "stdout",
     "output_type": "stream",
     "text": [
      "Ошибка при загрузке страницы: https://auto.ru/cars/used/sale/hyundai/tucson/1125689771-9d613bad/\n"
     ]
    },
    {
     "data": {
      "application/vnd.jupyter.widget-view+json": {
       "model_id": "f6fd3ec048054fadb4dfb2a88d672b13",
       "version_major": 2,
       "version_minor": 0
      },
      "text/plain": [
       "  0%|          | 0/37 [00:00<?, ?it/s]"
      ]
     },
     "metadata": {},
     "output_type": "display_data"
    },
    {
     "name": "stdout",
     "output_type": "stream",
     "text": [
      "Ошибка при загрузке страницы: https://auto.ru/cars/used/sale/land_rover/range_rover/1124772585-a17a43ed/\n"
     ]
    },
    {
     "data": {
      "application/vnd.jupyter.widget-view+json": {
       "model_id": "1c2cb895842347e8b838a434346499b1",
       "version_major": 2,
       "version_minor": 0
      },
      "text/plain": [
       "  0%|          | 0/37 [00:00<?, ?it/s]"
      ]
     },
     "metadata": {},
     "output_type": "display_data"
    },
    {
     "data": {
      "application/vnd.jupyter.widget-view+json": {
       "model_id": "f89a9f612da84ced9e558e892889b6c9",
       "version_major": 2,
       "version_minor": 0
      },
      "text/plain": [
       "  0%|          | 0/37 [00:00<?, ?it/s]"
      ]
     },
     "metadata": {},
     "output_type": "display_data"
    },
    {
     "name": "stdout",
     "output_type": "stream",
     "text": [
      "Ошибка при загрузке страницы: https://auto.ru/cars/used/sale/byd/fangchengbao_leopard_5/1125155401-2aeeb0e2/\n"
     ]
    },
    {
     "data": {
      "application/vnd.jupyter.widget-view+json": {
       "model_id": "d782b4e804d7406f9d6e2de3f243556a",
       "version_major": 2,
       "version_minor": 0
      },
      "text/plain": [
       "  0%|          | 0/38 [00:00<?, ?it/s]"
      ]
     },
     "metadata": {},
     "output_type": "display_data"
    },
    {
     "name": "stdout",
     "output_type": "stream",
     "text": [
      "Ошибка при загрузке страницы: https://auto.ru/cars/used/sale/lixiang/l7/1125402261-d28ec833/\n",
      "Ошибка при загрузке страницы: https://auto.ru/cars/used/sale/mg/zt/1124223918-8ff6b38f/\n"
     ]
    },
    {
     "data": {
      "application/vnd.jupyter.widget-view+json": {
       "model_id": "fa61daaaac17419b87ffb9f82af5feba",
       "version_major": 2,
       "version_minor": 0
      },
      "text/plain": [
       "  0%|          | 0/37 [00:00<?, ?it/s]"
      ]
     },
     "metadata": {},
     "output_type": "display_data"
    },
    {
     "data": {
      "application/vnd.jupyter.widget-view+json": {
       "model_id": "ecaa41a8e3ec4c90b4ea9c585c6d1102",
       "version_major": 2,
       "version_minor": 0
      },
      "text/plain": [
       "  0%|          | 0/38 [00:00<?, ?it/s]"
      ]
     },
     "metadata": {},
     "output_type": "display_data"
    },
    {
     "name": "stdout",
     "output_type": "stream",
     "text": [
      "Ошибка при загрузке страницы: https://auto.ru/cars/used/sale/toyota/land_cruiser_prado/1125571808-098a669e/\n"
     ]
    },
    {
     "data": {
      "application/vnd.jupyter.widget-view+json": {
       "model_id": "ebc9a02bb81c4ad6befcc286c3043d7a",
       "version_major": 2,
       "version_minor": 0
      },
      "text/plain": [
       "  0%|          | 0/37 [00:00<?, ?it/s]"
      ]
     },
     "metadata": {},
     "output_type": "display_data"
    },
    {
     "data": {
      "application/vnd.jupyter.widget-view+json": {
       "model_id": "29223000035c401c90f8dd8ffce5d038",
       "version_major": 2,
       "version_minor": 0
      },
      "text/plain": [
       "  0%|          | 0/37 [00:00<?, ?it/s]"
      ]
     },
     "metadata": {},
     "output_type": "display_data"
    },
    {
     "name": "stdout",
     "output_type": "stream",
     "text": [
      "Ошибка при загрузке страницы: https://auto.ru/cars/used/sale/kia/sorento/1125602529-82c15438/\n"
     ]
    },
    {
     "data": {
      "application/vnd.jupyter.widget-view+json": {
       "model_id": "1bcc866988014220b554f46c6e959796",
       "version_major": 2,
       "version_minor": 0
      },
      "text/plain": [
       "  0%|          | 0/38 [00:00<?, ?it/s]"
      ]
     },
     "metadata": {},
     "output_type": "display_data"
    },
    {
     "name": "stdout",
     "output_type": "stream",
     "text": [
      "Ошибка при загрузке страницы: https://auto.ru/cars/used/sale/porsche/macan/1125690423-6ccb7e0f/\n",
      "Ошибка при загрузке страницы: https://auto.ru/cars/used/sale/mercedes/gls_klasse/1124713386-4936f9f8/\n"
     ]
    },
    {
     "data": {
      "application/vnd.jupyter.widget-view+json": {
       "model_id": "94dcdac3a631458282f723d6c75d2568",
       "version_major": 2,
       "version_minor": 0
      },
      "text/plain": [
       "  0%|          | 0/38 [00:00<?, ?it/s]"
      ]
     },
     "metadata": {},
     "output_type": "display_data"
    },
    {
     "name": "stdout",
     "output_type": "stream",
     "text": [
      "Ошибка при загрузке страницы: https://auto.ru/cars/used/sale/lexus/rx/1125241839-1740ee6a/\n",
      "Ошибка при загрузке страницы: https://auto.ru/cars/used/sale/toyota/rav_4/1125125968-7d0956a4/\n"
     ]
    },
    {
     "data": {
      "application/vnd.jupyter.widget-view+json": {
       "model_id": "ece956ed75a2427faba0f783e25fdcff",
       "version_major": 2,
       "version_minor": 0
      },
      "text/plain": [
       "  0%|          | 0/38 [00:00<?, ?it/s]"
      ]
     },
     "metadata": {},
     "output_type": "display_data"
    },
    {
     "name": "stdout",
     "output_type": "stream",
     "text": [
      "Ошибка при загрузке страницы: https://auto.ru/cars/used/sale/vaz/granta/1125690431-4b84bc3e/\n",
      "Ошибка при загрузке страницы: https://auto.ru/cars/used/sale/mercedes/gls_klasse/1124713386-4936f9f8/\n"
     ]
    },
    {
     "data": {
      "application/vnd.jupyter.widget-view+json": {
       "model_id": "66f21b7879394d39aec438f8d4cb579f",
       "version_major": 2,
       "version_minor": 0
      },
      "text/plain": [
       "  0%|          | 0/37 [00:00<?, ?it/s]"
      ]
     },
     "metadata": {},
     "output_type": "display_data"
    },
    {
     "name": "stdout",
     "output_type": "stream",
     "text": [
      "Ошибка при загрузке страницы: https://auto.ru/cars/used/sale/toyota/corolla/1125690723-68541a5b/\n",
      "Ошибка при загрузке страницы: https://auto.ru/cars/used/sale/vaz/2105/1125690720-e145f688/\n"
     ]
    },
    {
     "data": {
      "application/vnd.jupyter.widget-view+json": {
       "model_id": "bccaa51ba31840c8b22daf0de0d86e29",
       "version_major": 2,
       "version_minor": 0
      },
      "text/plain": [
       "  0%|          | 0/37 [00:00<?, ?it/s]"
      ]
     },
     "metadata": {},
     "output_type": "display_data"
    },
    {
     "name": "stdout",
     "output_type": "stream",
     "text": [
      "Ошибка при загрузке страницы: https://auto.ru/cars/used/sale/bugatti/eb_110/1124968483-7b073a7e/\n"
     ]
    },
    {
     "data": {
      "application/vnd.jupyter.widget-view+json": {
       "model_id": "9cb6474412f844d2b7d465d1babba670",
       "version_major": 2,
       "version_minor": 0
      },
      "text/plain": [
       "  0%|          | 0/37 [00:00<?, ?it/s]"
      ]
     },
     "metadata": {},
     "output_type": "display_data"
    },
    {
     "name": "stdout",
     "output_type": "stream",
     "text": [
      "Ошибка при загрузке страницы: https://auto.ru/cars/used/sale/toyota/corolla/1125690723-68541a5b/\n",
      "Ошибка при загрузке страницы: https://auto.ru/cars/used/sale/vaz/2105/1125690720-e145f688/\n"
     ]
    },
    {
     "data": {
      "application/vnd.jupyter.widget-view+json": {
       "model_id": "63fdcef358224aaebe78e5ddecedae28",
       "version_major": 2,
       "version_minor": 0
      },
      "text/plain": [
       "  0%|          | 0/38 [00:00<?, ?it/s]"
      ]
     },
     "metadata": {},
     "output_type": "display_data"
    },
    {
     "name": "stdout",
     "output_type": "stream",
     "text": [
      "Ошибка при загрузке страницы: https://auto.ru/cars/used/sale/vaz/2112/1125691052-733419e0/\n"
     ]
    },
    {
     "data": {
      "application/vnd.jupyter.widget-view+json": {
       "model_id": "41d4cbc4da254da58ebb9db5e247bb17",
       "version_major": 2,
       "version_minor": 0
      },
      "text/plain": [
       "  0%|          | 0/37 [00:00<?, ?it/s]"
      ]
     },
     "metadata": {},
     "output_type": "display_data"
    },
    {
     "name": "stdout",
     "output_type": "stream",
     "text": [
      "Ошибка при загрузке страницы: https://auto.ru/cars/used/sale/bmw/x7/1125270539-e0f75cfb/\n",
      "Ошибка при загрузке страницы: https://auto.ru/cars/used/sale/ssang_yong/kyron/1125692908-53fbc0d7/\n"
     ]
    },
    {
     "data": {
      "application/vnd.jupyter.widget-view+json": {
       "model_id": "d701e2ab9b564d339003794e1b96487a",
       "version_major": 2,
       "version_minor": 0
      },
      "text/plain": [
       "  0%|          | 0/38 [00:00<?, ?it/s]"
      ]
     },
     "metadata": {},
     "output_type": "display_data"
    },
    {
     "name": "stdout",
     "output_type": "stream",
     "text": [
      "Ошибка при загрузке страницы: https://auto.ru/cars/used/sale/bmw/m5/1125638957-8f4d02b8/\n",
      "Ошибка при загрузке страницы: https://auto.ru/cars/used/sale/honda/cr_v/1125433039-8410a59e/\n",
      "Ошибка при загрузке страницы: https://auto.ru/cars/used/sale/bmw/x7/1125270539-e0f75cfb/\n"
     ]
    },
    {
     "data": {
      "application/vnd.jupyter.widget-view+json": {
       "model_id": "465ab8b4030540aa85c43817c8b3b424",
       "version_major": 2,
       "version_minor": 0
      },
      "text/plain": [
       "  0%|          | 0/37 [00:00<?, ?it/s]"
      ]
     },
     "metadata": {},
     "output_type": "display_data"
    },
    {
     "name": "stdout",
     "output_type": "stream",
     "text": [
      "Ошибка при загрузке страницы: https://auto.ru/cars/used/sale/honda/cr_v/1125433039-8410a59e/\n",
      "Ошибка при загрузке страницы: https://auto.ru/cars/used/sale/bmw/x7/1125270539-e0f75cfb/\n"
     ]
    },
    {
     "data": {
      "application/vnd.jupyter.widget-view+json": {
       "model_id": "cfc7b7e67afa4aefa17aa585204e9a32",
       "version_major": 2,
       "version_minor": 0
      },
      "text/plain": [
       "  0%|          | 0/38 [00:00<?, ?it/s]"
      ]
     },
     "metadata": {},
     "output_type": "display_data"
    },
    {
     "name": "stdout",
     "output_type": "stream",
     "text": [
      "Ошибка при загрузке страницы: https://auto.ru/cars/used/sale/bmw/m4/1124952875-8df8528c/\n",
      "Ошибка при загрузке страницы: https://auto.ru/cars/used/sale/honda/cr_v/1125433039-8410a59e/\n",
      "Ошибка при загрузке страницы: https://auto.ru/cars/used/sale/bmw/x7/1125270539-e0f75cfb/\n"
     ]
    },
    {
     "data": {
      "application/vnd.jupyter.widget-view+json": {
       "model_id": "a97af6802f3540b9a88a7d20a5aa9f77",
       "version_major": 2,
       "version_minor": 0
      },
      "text/plain": [
       "  0%|          | 0/38 [00:00<?, ?it/s]"
      ]
     },
     "metadata": {},
     "output_type": "display_data"
    },
    {
     "name": "stdout",
     "output_type": "stream",
     "text": [
      "Ошибка при загрузке страницы: https://auto.ru/cars/used/sale/honda/cr_v/1125433039-8410a59e/\n",
      "Ошибка при загрузке страницы: https://auto.ru/cars/used/sale/bmw/x7/1125270539-e0f75cfb/\n",
      "Ошибка при загрузке страницы: https://auto.ru/cars/used/sale/mercedes/glk_klasse/1125223511-8d0d87db/\n"
     ]
    },
    {
     "data": {
      "application/vnd.jupyter.widget-view+json": {
       "model_id": "6ccdd6c7cc064e72af07cdbcb028f853",
       "version_major": 2,
       "version_minor": 0
      },
      "text/plain": [
       "  0%|          | 0/38 [00:00<?, ?it/s]"
      ]
     },
     "metadata": {},
     "output_type": "display_data"
    },
    {
     "name": "stdout",
     "output_type": "stream",
     "text": [
      "Ошибка при загрузке страницы: https://auto.ru/cars/used/sale/kia/sportage/1125691107-75474626/\n"
     ]
    },
    {
     "data": {
      "application/vnd.jupyter.widget-view+json": {
       "model_id": "53f36960256748cbb5977ab2c0d62664",
       "version_major": 2,
       "version_minor": 0
      },
      "text/plain": [
       "  0%|          | 0/37 [00:00<?, ?it/s]"
      ]
     },
     "metadata": {},
     "output_type": "display_data"
    },
    {
     "name": "stdout",
     "output_type": "stream",
     "text": [
      "Ошибка при загрузке страницы: https://auto.ru/cars/used/sale/honda/freed/1120663212-c8df5fe0/\n",
      "Ошибка при загрузке страницы: https://auto.ru/cars/used/sale/volvo/s80/1125691160-3aab3bf3/\n"
     ]
    },
    {
     "data": {
      "application/vnd.jupyter.widget-view+json": {
       "model_id": "7ecbf05179494491a1ce2e87071c1216",
       "version_major": 2,
       "version_minor": 0
      },
      "text/plain": [
       "  0%|          | 0/38 [00:00<?, ?it/s]"
      ]
     },
     "metadata": {},
     "output_type": "display_data"
    },
    {
     "name": "stdout",
     "output_type": "stream",
     "text": [
      "Ошибка при загрузке страницы: https://auto.ru/cars/used/sale/nissan/murano/1125567619-a7f62490/\n",
      "Ошибка при загрузке страницы: https://auto.ru/cars/used/sale/honda/freed/1120663212-c8df5fe0/\n"
     ]
    },
    {
     "data": {
      "application/vnd.jupyter.widget-view+json": {
       "model_id": "7ac26181dada4620bb6e6cb297b160f8",
       "version_major": 2,
       "version_minor": 0
      },
      "text/plain": [
       "  0%|          | 0/38 [00:00<?, ?it/s]"
      ]
     },
     "metadata": {},
     "output_type": "display_data"
    },
    {
     "name": "stdout",
     "output_type": "stream",
     "text": [
      "Ошибка при загрузке страницы: https://auto.ru/cars/used/sale/renault/megane/1124991759-54885409/\n",
      "Ошибка при загрузке страницы: https://auto.ru/cars/used/sale/bmw/x1/1123561395-c4b703e9/\n"
     ]
    },
    {
     "data": {
      "application/vnd.jupyter.widget-view+json": {
       "model_id": "7584b76954af45b88f8e7860dcf844ea",
       "version_major": 2,
       "version_minor": 0
      },
      "text/plain": [
       "  0%|          | 0/38 [00:00<?, ?it/s]"
      ]
     },
     "metadata": {},
     "output_type": "display_data"
    },
    {
     "name": "stdout",
     "output_type": "stream",
     "text": [
      "Ошибка при загрузке страницы: https://auto.ru/cars/used/sale/toyota/alphard/1125691260-7cf9c373/\n",
      "Ошибка при загрузке страницы: https://auto.ru/cars/used/sale/chevrolet/onix/1125621272-a3234b14/\n",
      "Ошибка при загрузке страницы: https://auto.ru/cars/used/sale/infiniti/q50/1125080254-2eab59ee/\n",
      "Ошибка при загрузке страницы: https://auto.ru/cars/used/sale/lexus/lx/1125546271-7896a434/\n"
     ]
    },
    {
     "data": {
      "application/vnd.jupyter.widget-view+json": {
       "model_id": "efbf78429f01408abe14528bae8de52b",
       "version_major": 2,
       "version_minor": 0
      },
      "text/plain": [
       "  0%|          | 0/37 [00:00<?, ?it/s]"
      ]
     },
     "metadata": {},
     "output_type": "display_data"
    },
    {
     "name": "stdout",
     "output_type": "stream",
     "text": [
      "Ошибка при загрузке страницы: https://auto.ru/cars/used/sale/avatr/07/1125403916-412a1fd3/\n",
      "Ошибка при загрузке страницы: https://auto.ru/cars/used/sale/lixiang/l9/1124323609-c6e9f421/\n",
      "Ошибка при загрузке страницы: https://auto.ru/cars/used/sale/vaz/2113/1125691237-c9bad716/\n",
      "Ошибка при загрузке страницы: https://auto.ru/cars/used/sale/land_rover/range_rover_sport/1125492783-be46ed44/\n",
      "Ошибка при загрузке страницы: https://auto.ru/cars/used/sale/honda/vezel/1120664508-f256bcb0/\n"
     ]
    },
    {
     "data": {
      "application/vnd.jupyter.widget-view+json": {
       "model_id": "714acfd33821419894b9ccb46ab20bef",
       "version_major": 2,
       "version_minor": 0
      },
      "text/plain": [
       "  0%|          | 0/38 [00:00<?, ?it/s]"
      ]
     },
     "metadata": {},
     "output_type": "display_data"
    },
    {
     "name": "stdout",
     "output_type": "stream",
     "text": [
      "Ошибка при загрузке страницы: https://auto.ru/cars/used/sale/lexus/lx/1125546271-7896a434/\n",
      "Ошибка при загрузке страницы: https://auto.ru/cars/used/sale/vaz/granta/1125691303-df397c4b/\n",
      "Ошибка при загрузке страницы: https://auto.ru/cars/used/sale/avatr/07/1125403916-412a1fd3/\n",
      "Ошибка при загрузке страницы: https://auto.ru/cars/used/sale/lixiang/l9/1124323609-c6e9f421/\n",
      "Ошибка при загрузке страницы: https://auto.ru/cars/used/sale/vaz/2113/1125691237-c9bad716/\n"
     ]
    },
    {
     "data": {
      "application/vnd.jupyter.widget-view+json": {
       "model_id": "f72969408d364dc089a840cfaea93bdd",
       "version_major": 2,
       "version_minor": 0
      },
      "text/plain": [
       "  0%|          | 0/37 [00:00<?, ?it/s]"
      ]
     },
     "metadata": {},
     "output_type": "display_data"
    },
    {
     "name": "stdout",
     "output_type": "stream",
     "text": [
      "Ошибка при загрузке страницы: https://auto.ru/cars/used/sale/avatr/07/1125403916-412a1fd3/\n",
      "Ошибка при загрузке страницы: https://auto.ru/cars/used/sale/lixiang/l9/1124323609-c6e9f421/\n",
      "Ошибка при загрузке страницы: https://auto.ru/cars/used/sale/vaz/2113/1125691237-c9bad716/\n",
      "Ошибка при загрузке страницы: https://auto.ru/cars/used/sale/land_rover/range_rover_sport/1125492783-be46ed44/\n",
      "Ошибка при загрузке страницы: https://auto.ru/cars/used/sale/honda/vezel/1120664508-f256bcb0/\n"
     ]
    }
   ],
   "source": [
    "for page in tqdm(range(2, 100)):\n",
    "    try:\n",
    "        date_page = get_page(page)\n",
    "        with open('data.txt', 'a') as data:\n",
    "            for record in date_page:\n",
    "                print(record, file=data)\n",
    "        with open('log.txt', 'a') as log:\n",
    "            print(f'Успешно загружена страница {page}. Число добавленных записей {len(date_page)}', file=log)\n",
    "    except:\n",
    "        with open('log.txt', 'a') as log:\n",
    "            print(f'Не была загружена страница {page}. Число добавленных записей {0}', file=log)\n",
    "    \n",
    "    data.close()\n",
    "    log.close()"
   ]
  },
  {
   "cell_type": "code",
   "execution_count": 9,
   "metadata": {},
   "outputs": [
    {
     "data": {
      "text/plain": [
       "{'url_car': 'https://auto.ru/cars/used/sale/avatr/12/1125403747-00b63726/',\n",
       " 'car_make': 'Avatr',\n",
       " 'car_model': '12',\n",
       " 'car_gen': '2023-н.в.',\n",
       " 'car_type': 'Фастбек',\n",
       " 'car_compl': 'Electro AT (425 кВт) 4WD',\n",
       " 'ann_date': '2024-10-24',\n",
       " 'ann_id': '1125403747',\n",
       " 'car_price': 7634000,\n",
       " 'ann_city': 'Котельники',\n",
       " 'link_cpl': 'https://auto.ru/mag/article/avto-na-zakaz/',\n",
       " 'avail': 'На заказ',\n",
       " 'year': 2024,\n",
       " 'mileage': 5,\n",
       " 'color': 'фиолетовый',\n",
       " 'eng_size': None,\n",
       " 'eng_power': 578,\n",
       " 'eng_power_kw': 425,\n",
       " 'eng_type': 'Электро',\n",
       " 'pow_resrv': '650',\n",
       " 'options': 'Performance',\n",
       " 'transmission': 'автоматическая',\n",
       " 'drive': 'полный',\n",
       " 'st_wheel': 'Левый',\n",
       " 'condition': 'Не требует ремонта',\n",
       " 'count_owner': '1 владелец',\n",
       " 'original_pts': 'Оригинал',\n",
       " 'customs': 'Растаможен'}"
      ]
     },
     "execution_count": 9,
     "metadata": {},
     "output_type": "execute_result"
    }
   ],
   "source": [
    "date_page[0]"
   ]
  }
 ],
 "metadata": {
  "kernelspec": {
   "display_name": "Python 3",
   "language": "python",
   "name": "python3"
  },
  "language_info": {
   "codemirror_mode": {
    "name": "ipython",
    "version": 3
   },
   "file_extension": ".py",
   "mimetype": "text/x-python",
   "name": "python",
   "nbconvert_exporter": "python",
   "pygments_lexer": "ipython3",
   "version": "3.12.6"
  }
 },
 "nbformat": 4,
 "nbformat_minor": 2
}
