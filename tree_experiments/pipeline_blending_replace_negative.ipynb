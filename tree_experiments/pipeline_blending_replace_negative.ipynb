{
 "cells": [
  {
   "cell_type": "code",
   "execution_count": 14,
   "metadata": {},
   "outputs": [],
   "source": [
    "import pandas as pd\n",
    "import numpy as np\n",
    "from sklearn.model_selection import train_test_split\n",
    "from sklearn.compose import ColumnTransformer\n",
    "from sklearn.pipeline import Pipeline, FeatureUnion\n",
    "from sklearn.impute import SimpleImputer\n",
    "from sklearn.preprocessing import OneHotEncoder, StandardScaler, PolynomialFeatures\n",
    "from sklearn.linear_model import Ridge\n",
    "from sklearn.metrics import r2_score, mean_squared_error as MSE, mean_absolute_error as MAE\n",
    "from joblib import dump, load\n",
    "\n",
    "import random\n",
    "from transformers import *\n"
   ]
  },
  {
   "cell_type": "code",
   "execution_count": 15,
   "metadata": {},
   "outputs": [
    {
     "name": "stderr",
     "output_type": "stream",
     "text": [
      "/var/folders/34/9lmn_1px5cs289tjl5rn7cs80000gn/T/ipykernel_7799/2594801504.py:6: DtypeWarning: Columns (33,37,38,46) have mixed types. Specify dtype option on import or set low_memory=False.\n",
      "  df = pd.read_csv('data.csv')\n"
     ]
    }
   ],
   "source": [
    "\n",
    "# Фиксируем датчики случайных чисел\n",
    "random.seed(42)\n",
    "np.random.seed(42)\n",
    "\n",
    "# Загружаем данные\n",
    "df = pd.read_csv('data.csv')\n",
    "\n",
    "# Разделяем ИСХОДНЫЕ ДАННЫЕ на тренировочную и тестовую выборки\n",
    "df_train, df_test = train_test_split(df, train_size=0.75, random_state=42)"
   ]
  },
  {
   "cell_type": "code",
   "execution_count": 16,
   "metadata": {},
   "outputs": [],
   "source": [
    "df_kladr = pd.read_csv('kladr-2.csv')\n",
    "df_kladr = df_kladr.sort_values(\"TYPE_NP\")\n",
    "df_kladr = df_kladr.drop_duplicates(keep='first', subset='NAME').sort_values('NAME')"
   ]
  },
  {
   "cell_type": "code",
   "execution_count": 17,
   "metadata": {},
   "outputs": [],
   "source": [
    "alphabet = {}\n",
    "for i, j in enumerate([\"A\", \"B\", \"C\", \"D\", \"E\", \"F\", \"G\", \"H\", \"I\", \"K\"]):\n",
    "    alphabet[i] = j"
   ]
  },
  {
   "cell_type": "code",
   "execution_count": 18,
   "metadata": {},
   "outputs": [],
   "source": [
    "df_kladr[\"OKRUG_CODE\"] = df_kladr[\"OKRUG_CODE\"].replace(alphabet)"
   ]
  },
  {
   "cell_type": "code",
   "execution_count": 19,
   "metadata": {},
   "outputs": [],
   "source": [
    "df_kladr.loc[39998, \"SOCR\"] = 'г'"
   ]
  },
  {
   "cell_type": "code",
   "execution_count": 20,
   "metadata": {},
   "outputs": [],
   "source": [
    "df_train = df_train.merge(df_kladr[['NAME', 'REGION', 'TYPE_NP', 'OKRUG_OCATD', 'OKRUG_CODE']], left_on='ann_city', right_on='NAME', how='left').drop(columns=['NAME'])\n",
    "df_train.rename(columns={'TYPE_NP': 'type_city',\n",
    "                   'REGION': 'region',\n",
    "                   'OKRUG_OCATD': 'okr_ocatd',\n",
    "                   'OKRUG_CODE': 'okr_code'\n",
    "                   }, inplace=True)"
   ]
  },
  {
   "cell_type": "code",
   "execution_count": 21,
   "metadata": {},
   "outputs": [],
   "source": [
    "df_test = df_test.merge(df_kladr[['NAME', 'REGION', 'TYPE_NP', 'OKRUG_OCATD', 'OKRUG_CODE']], left_on='ann_city', right_on='NAME', how='left').drop(columns=['NAME'])\n",
    "df_test.rename(columns={'TYPE_NP': 'type_city',\n",
    "                   'REGION': 'region',\n",
    "                   'OKRUG_OCATD': 'okr_ocatd',\n",
    "                   'OKRUG_CODE': 'okr_code'\n",
    "                   }, inplace=True)"
   ]
  },
  {
   "cell_type": "code",
   "execution_count": 22,
   "metadata": {},
   "outputs": [],
   "source": [
    "df_train[\"type_city\"] = df_train[\"type_city\"].fillna(\"Nan\")\n",
    "df_test[\"type_city\"] = df_test[\"type_city\"].fillna(\"Nan\")"
   ]
  },
  {
   "cell_type": "code",
   "execution_count": 23,
   "metadata": {},
   "outputs": [],
   "source": [
    "df_town = pd.read_excel('town.xlsx')"
   ]
  },
  {
   "cell_type": "code",
   "execution_count": 24,
   "metadata": {},
   "outputs": [],
   "source": [
    "import pandas as pd\n",
    "\n",
    "# Добавляем данные из df_3 по численности\n",
    "df_train = df_train.merge(df_town[['Town', 'Count']], left_on='ann_city', right_on='Town', how='left').drop(columns=['Town'])\n",
    "\n",
    "# Заменяем значения в type_city по условиям Count\n",
    "df_train.loc[(df_train['Count'] >= 50) & (df_train['Count'] < 100), 'type_city'] = 'gor_100'\n",
    "df_train.loc[(df_train['Count'] >= 100) & (df_train['Count'] < 250), 'type_city'] = 'gor_250'\n",
    "df_train.loc[(df_train['Count'] >= 250) & (df_train['Count'] < 500), 'type_city'] = 'gor_500'\n",
    "df_train.loc[(df_train['Count'] >= 500) & (df_train['Count'] < 1000), 'type_city'] = 'gor_1000'\n",
    "df_train.loc[(df_train['Count'] >= 1000) & (df_train['Count'] < 2500), 'type_city'] = 'gor_2500'\n",
    "df_train.loc[(df_train['Count'] >= 2500) & (df_train['Count'] < 5000), 'type_city'] = 'gor_5000'\n",
    "df_train.loc[df_train['Count'] > 5000, 'type_city'] = 'gor_10000'\n",
    "# df_train = df_train.drop(columns=['Count'])"
   ]
  },
  {
   "cell_type": "code",
   "execution_count": 25,
   "metadata": {},
   "outputs": [],
   "source": [
    "import pandas as pd\n",
    "\n",
    "# Добавляем данные из df_3 по численности\n",
    "df_test = df_test.merge(df_town[['Town', 'Count']], left_on='ann_city', right_on='Town', how='left').drop(columns=['Town'])\n",
    "\n",
    "# Заменяем значения в type_city по условиям Count\n",
    "df_test.loc[(df_test['Count'] >= 50) & (df_test['Count'] < 100), 'type_city'] = 'gor_100'\n",
    "df_test.loc[(df_test['Count'] >= 100) & (df_test['Count'] < 250), 'type_city'] = 'gor_250'\n",
    "df_test.loc[(df_test['Count'] >= 250) & (df_test['Count'] < 500), 'type_city'] = 'gor_500'\n",
    "df_test.loc[(df_test['Count'] >= 500) & (df_test['Count'] < 1000), 'type_city'] = 'gor_1000'\n",
    "df_test.loc[(df_test['Count'] >= 1000) & (df_test['Count'] < 2500), 'type_city'] = 'gor_2500'\n",
    "df_test.loc[(df_test['Count'] >= 2500) & (df_test['Count'] < 5000), 'type_city'] = 'gor_5000'\n",
    "df_test.loc[df_test['Count'] > 5000, 'type_city'] = 'gor_10000'\n",
    "# df_test = df_test.drop(columns=['Count'])"
   ]
  },
  {
   "cell_type": "code",
   "execution_count": 26,
   "metadata": {},
   "outputs": [],
   "source": [
    "import joblib\n",
    "# Загрузка (если нужно)\n",
    "rf_pipeline = load(\"rf_pipeline.joblib\")\n",
    "\n",
    "# Обучение Pipeline\n",
    "transformed_train = rf_pipeline.fit_transform(df_train)\n",
    "\n",
    "# Преобразование тестовых данных\n",
    "transformed_test = rf_pipeline.transform(df_test)"
   ]
  },
  {
   "cell_type": "code",
   "execution_count": 27,
   "metadata": {},
   "outputs": [],
   "source": [
    "# Преобразуем и разделяем признаки и таргет\n",
    "X_train = transformed_train.copy()\n",
    "y_train = transformed_train['car_price']\n",
    "X_test = transformed_test.copy()\n",
    "y_test = transformed_test['car_price']\n",
    "X_train = X_train.drop(['car_price'], axis=1)\n",
    "X_test = X_test.drop(['car_price'], axis=1)"
   ]
  },
  {
   "cell_type": "code",
   "execution_count": 28,
   "metadata": {},
   "outputs": [],
   "source": [
    "rf_model = joblib.load('random_forest_pipeline_without_log.pkl')"
   ]
  },
  {
   "cell_type": "code",
   "execution_count": 29,
   "metadata": {},
   "outputs": [],
   "source": [
    "def replace_negative_nonlog(y_pred, threshold=50000):\n",
    "    return np.maximum(y_pred, threshold)"
   ]
  },
  {
   "cell_type": "code",
   "execution_count": 30,
   "metadata": {},
   "outputs": [
    {
     "name": "stderr",
     "output_type": "stream",
     "text": [
      "/Library/Frameworks/Python.framework/Versions/3.12/lib/python3.12/site-packages/sklearn/preprocessing/_encoders.py:242: UserWarning: Found unknown categories in columns [0, 1, 12, 13, 14, 15, 17] during transform. These unknown categories will be encoded as all zeros\n",
      "  warnings.warn(\n",
      "/Library/Frameworks/Python.framework/Versions/3.12/lib/python3.12/site-packages/sklearn/preprocessing/_encoders.py:242: UserWarning: Found unknown categories in columns [0, 10, 12, 13, 14, 15, 17] during transform. These unknown categories will be encoded as all zeros\n",
      "  warnings.warn(\n"
     ]
    }
   ],
   "source": [
    "y_pred_rf = replace_negative_nonlog(rf_model.predict(X_test))\n",
    "y_pred_train_rf = replace_negative_nonlog(rf_model.predict(X_train))"
   ]
  },
  {
   "cell_type": "code",
   "execution_count": 31,
   "metadata": {},
   "outputs": [],
   "source": [
    "# Функция вывода основных характеристик модели (ориентируемся прежде всего на R^2)\n",
    "def print_r2_mse(y_train, y_pred_train, y_test, y_pred):\n",
    "    '''\n",
    "    Функция принимает на вход признаки и таргет для тренировочных\n",
    "    и тестовых данных, модель и выводит на экран \n",
    "    значения MSE, R^2 для трейна и теста для указанных параметров\n",
    "    '''\n",
    "    print('*'*20)\n",
    "    print(f'Значение MAE для трейна:  {MAE(y_train, y_pred_train)}')\n",
    "    print(f'Значение MAE для теста:   {MAE(y_test, y_pred)}')\n",
    "    print('*'*20)\n",
    "    print(f'Значение MSE для трейна:  {MSE(y_train, y_pred_train)}')\n",
    "    print(f'Значение MSE для теста:   {MSE(y_test, y_pred)}')\n",
    "    print('*'*20)\n",
    "    print(f'Значение R^2 для трейна:  {r2_score(y_train, y_pred_train)}')\n",
    "    print(f'Значение R^2 для теста:   {r2_score(y_test, y_pred)}')"
   ]
  },
  {
   "cell_type": "code",
   "execution_count": 32,
   "metadata": {},
   "outputs": [
    {
     "name": "stdout",
     "output_type": "stream",
     "text": [
      "********************\n",
      "Значение MAE для трейна:  318444.5331730101\n",
      "Значение MAE для теста:   342453.2955828191\n",
      "********************\n",
      "Значение MSE для трейна:  3754516996520.8765\n",
      "Значение MSE для теста:   1590771117878.0056\n",
      "********************\n",
      "Значение R^2 для трейна:  0.9069304226634172\n",
      "Значение R^2 для теста:   0.9570446456932187\n"
     ]
    }
   ],
   "source": [
    "print_r2_mse(y_train, y_pred_train_rf, y_test, y_pred_rf)"
   ]
  },
  {
   "cell_type": "code",
   "execution_count": 33,
   "metadata": {},
   "outputs": [],
   "source": [
    "# Загрузка (если нужно)\n",
    "loaded_pipeline = load(\"pipeline.joblib\")\n",
    "\n",
    "# Обучение Pipeline\n",
    "transformed_train = loaded_pipeline.fit_transform(df_train)\n",
    "\n",
    "# Преобразование тестовых данных\n",
    "transformed_test = loaded_pipeline.transform(df_test)"
   ]
  },
  {
   "cell_type": "code",
   "execution_count": 34,
   "metadata": {},
   "outputs": [],
   "source": [
    "# Преобразуем и разделяем признаки и таргет\n",
    "X_train = transformed_train.copy()\n",
    "y_train = transformed_train['car_price']\n",
    "X_test = transformed_test.copy()\n",
    "y_test = transformed_test['car_price']\n",
    "X_train = X_train.drop(['car_price'], axis=1)\n",
    "X_test = X_test.drop(['car_price'], axis=1)"
   ]
  },
  {
   "cell_type": "code",
   "execution_count": 35,
   "metadata": {},
   "outputs": [],
   "source": [
    "# Преобразование категориальных признаков в Pandas category\n",
    "for col in X_train.select_dtypes(include=['object']).columns:\n",
    "    X_train[col] = X_train[col].astype('category')\n",
    "    X_test[col] = X_test[col].astype('category')"
   ]
  },
  {
   "cell_type": "code",
   "execution_count": 36,
   "metadata": {},
   "outputs": [],
   "source": [
    "\n",
    "\n",
    "# Загрузка модели\n",
    "lgbm_model = joblib.load('lgbm_pipeline_.pkl')\n",
    "catboost_model = joblib.load('catboost_pipeline_.pkl')\n",
    "ridge_model = joblib.load('ridge_pipeline_.pkl')\n"
   ]
  },
  {
   "cell_type": "code",
   "execution_count": 38,
   "metadata": {},
   "outputs": [],
   "source": [
    "def replace_negative(y_pred, threshold=50000):\n",
    "    delta_y = 2900000\n",
    "    return np.log(np.maximum(np.exp(y_pred) - delta_y, threshold) + delta_y)"
   ]
  },
  {
   "cell_type": "code",
   "execution_count": 39,
   "metadata": {},
   "outputs": [
    {
     "name": "stderr",
     "output_type": "stream",
     "text": [
      "/Library/Frameworks/Python.framework/Versions/3.12/lib/python3.12/site-packages/sklearn/preprocessing/_encoders.py:242: UserWarning: Found unknown categories in columns [0, 1] during transform. These unknown categories will be encoded as all zeros\n",
      "  warnings.warn(\n"
     ]
    }
   ],
   "source": [
    "threshold = 50000\n",
    "y_pred_lgbm = replace_negative(lgbm_model.predict(X_test))\n",
    "y_pred_train_lgbm = replace_negative(lgbm_model.predict(X_train))\n",
    "\n",
    "y_pred_cb = replace_negative(catboost_model.predict(X_test))\n",
    "y_pred_train_cb = replace_negative(catboost_model.predict(X_train))\n",
    "\n",
    "y_pred_ridge = replace_negative(ridge_model.predict(X_test))\n",
    "y_pred_train_ridge = replace_negative(ridge_model.predict(X_train))"
   ]
  },
  {
   "cell_type": "code",
   "execution_count": 40,
   "metadata": {},
   "outputs": [],
   "source": [
    "y_pred = (y_pred_lgbm + y_pred_cb + np.log(y_pred_rf + 2900000) + y_pred_ridge) / 4\n",
    "y_pred_train = (y_pred_train_lgbm + y_pred_train_cb + np.log(y_pred_train_rf + 2900000) + y_pred_train_ridge) / 4"
   ]
  },
  {
   "cell_type": "code",
   "execution_count": 41,
   "metadata": {},
   "outputs": [],
   "source": [
    "# Функция вывода основных характеристик модели (ориентируемся прежде всего на R^2)\n",
    "def print_r2_mse_exp(y_train, y_pred_train, y_test, y_pred):\n",
    "    '''\n",
    "    Функция принимает на вход признаки и таргет для тренировочных\n",
    "    и тестовых данных, модель и выводит на экран \n",
    "    значения MSE, R^2 для трейна и теста для указанных параметров\n",
    "    '''\n",
    "\n",
    "    delta_y = 2900000\n",
    "    \n",
    "    print('*'*20)\n",
    "    print(f'Значение MAE для трейна:  {MAE(np.exp(y_train) - delta_y, np.exp(y_pred_train) - delta_y)}')\n",
    "    print(f'Значение MAE для теста:   {MAE(np.exp(y_test) - delta_y, np.exp(y_pred) - delta_y)}')\n",
    "    print('*'*20)\n",
    "    print(f'Значение MSE для трейна:  {MSE(np.exp(y_train) - delta_y, np.exp(y_pred_train) - delta_y)}')\n",
    "    print(f'Значение MSE для теста:   {MSE(np.exp(y_test) - delta_y, np.exp(y_pred) - delta_y)}')\n",
    "    print('*'*20)\n",
    "    print(f'Значение R^2 для трейна:  {r2_score(np.exp(y_train) - delta_y, np.exp(y_pred_train) - delta_y)}')\n",
    "    print(f'Значение R^2 для теста:   {r2_score(np.exp(y_test) - delta_y, np.exp(y_pred) - delta_y)}')"
   ]
  },
  {
   "cell_type": "code",
   "execution_count": 42,
   "metadata": {},
   "outputs": [
    {
     "name": "stdout",
     "output_type": "stream",
     "text": [
      "********************\n",
      "Значение MAE для трейна:  217883.5061278518\n",
      "Значение MAE для теста:   315296.57878201717\n",
      "********************\n",
      "Значение MSE для трейна:  522908559701.8059\n",
      "Значение MSE для теста:   1875553347889.8586\n",
      "********************\n",
      "Значение R^2 для трейна:  0.9870377791118736\n",
      "Значение R^2 для теста:   0.9493547137772103\n"
     ]
    }
   ],
   "source": [
    "print_r2_mse_exp(y_train, y_pred_train_lgbm, y_test, y_pred_lgbm) # Выводим результаты, довольны собой"
   ]
  },
  {
   "cell_type": "code",
   "execution_count": 43,
   "metadata": {},
   "outputs": [
    {
     "name": "stdout",
     "output_type": "stream",
     "text": [
      "********************\n",
      "Значение MAE для трейна:  284409.0440363049\n",
      "Значение MAE для теста:   329627.4264487732\n",
      "********************\n",
      "Значение MSE для трейна:  986581755521.0713\n",
      "Значение MSE для теста:   1488183431983.5361\n",
      "********************\n",
      "Значение R^2 для трейна:  0.9755439256023036\n",
      "Значение R^2 для теста:   0.9598148056147716\n"
     ]
    }
   ],
   "source": [
    "print_r2_mse_exp(y_train, y_pred_train_cb, y_test, y_pred_cb)"
   ]
  },
  {
   "cell_type": "code",
   "execution_count": 44,
   "metadata": {},
   "outputs": [
    {
     "name": "stdout",
     "output_type": "stream",
     "text": [
      "********************\n",
      "Значение MAE для трейна:  320237.2176858907\n",
      "Значение MAE для теста:   349570.44352475257\n",
      "********************\n",
      "Значение MSE для трейна:  1522427337678.8303\n",
      "Значение MSE для теста:   1606004172879.373\n",
      "********************\n",
      "Значение R^2 для трейна:  0.9622610128081118\n",
      "Значение R^2 для теста:   0.9566333097898919\n"
     ]
    }
   ],
   "source": [
    "print_r2_mse_exp(y_train, y_pred_train_ridge, y_test, y_pred_ridge)"
   ]
  },
  {
   "cell_type": "code",
   "execution_count": 45,
   "metadata": {},
   "outputs": [
    {
     "name": "stdout",
     "output_type": "stream",
     "text": [
      "********************\n",
      "Значение MAE для трейна:  260343.44703678312\n",
      "Значение MAE для теста:   304948.6057331881\n",
      "********************\n",
      "Значение MSE для трейна:  1289573884778.0269\n",
      "Значение MSE для теста:   1384649183522.8447\n",
      "********************\n",
      "Значение R^2 для трейна:  0.9680331460713049\n",
      "Значение R^2 для теста:   0.9626105254235696\n"
     ]
    }
   ],
   "source": [
    "print_r2_mse_exp(y_train, y_pred_train, y_test, y_pred) # Выводим результаты, довольны собой"
   ]
  }
 ],
 "metadata": {
  "kernelspec": {
   "display_name": "Python 3",
   "language": "python",
   "name": "python3"
  },
  "language_info": {
   "codemirror_mode": {
    "name": "ipython",
    "version": 3
   },
   "file_extension": ".py",
   "mimetype": "text/x-python",
   "name": "python",
   "nbconvert_exporter": "python",
   "pygments_lexer": "ipython3",
   "version": "3.12.1"
  }
 },
 "nbformat": 4,
 "nbformat_minor": 2
}
